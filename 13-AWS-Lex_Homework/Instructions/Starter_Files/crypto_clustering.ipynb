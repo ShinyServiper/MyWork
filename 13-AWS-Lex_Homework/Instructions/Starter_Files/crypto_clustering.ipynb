{
 "cells": [
  {
   "cell_type": "markdown",
   "metadata": {},
   "source": [
    "# Clustering Crypto"
   ]
  },
  {
   "cell_type": "code",
   "execution_count": 207,
   "metadata": {},
   "outputs": [],
   "source": [
    "# Initial imports\n",
    "import requests\n",
    "from pathlib import Path                                      #for writing paths to files\n",
    "import pandas as pd                                           #tools for DataFrames\n",
    "import matplotlib.pyplot as plt\n",
    "import hvplot.pandas\n",
    "import plotly.express as px\n",
    "from sklearn.preprocessing import StandardScaler, MinMaxScaler #for standardizing data \n",
    "from sklearn.decomposition import PCA                          #for PCA\n",
    "from sklearn.cluster import KMeans                            #for K-means\n",
    "import json                                                  #for extracting json content\n",
    "import numpy as np"
   ]
  },
  {
   "cell_type": "markdown",
   "metadata": {},
   "source": [
    "### Fetching Cryptocurrency Data"
   ]
  },
  {
   "cell_type": "code",
   "execution_count": 208,
   "metadata": {},
   "outputs": [],
   "source": [
    "# Use the following endpoint to fetch json data\n",
    "#url = \"https://min-api.cryptocompare.com/data/all/coinlist\"\n",
    "\n",
    "#Making Initial Lists for Dictionary\n",
    "#Symbol=[]\n",
    "#CoinName=[]\n",
    "#Algorithm=[]\n",
    "#ProofType=[]\n",
    "#IsTrading=[]\n",
    "#TotalCoinsMined=[]\n",
    "#TotalCoinSupply=[]"
   ]
  },
  {
   "cell_type": "code",
   "execution_count": 209,
   "metadata": {},
   "outputs": [
    {
     "data": {
      "text/html": [
       "<div>\n",
       "<style scoped>\n",
       "    .dataframe tbody tr th:only-of-type {\n",
       "        vertical-align: middle;\n",
       "    }\n",
       "\n",
       "    .dataframe tbody tr th {\n",
       "        vertical-align: top;\n",
       "    }\n",
       "\n",
       "    .dataframe thead th {\n",
       "        text-align: right;\n",
       "    }\n",
       "</style>\n",
       "<table border=\"1\" class=\"dataframe\">\n",
       "  <thead>\n",
       "    <tr style=\"text-align: right;\">\n",
       "      <th></th>\n",
       "      <th>CoinName</th>\n",
       "      <th>Algorithm</th>\n",
       "      <th>IsTrading</th>\n",
       "      <th>ProofType</th>\n",
       "      <th>TotalCoinsMined</th>\n",
       "      <th>TotalCoinSupply</th>\n",
       "    </tr>\n",
       "  </thead>\n",
       "  <tbody>\n",
       "    <tr>\n",
       "      <th>42</th>\n",
       "      <td>42 Coin</td>\n",
       "      <td>Scrypt</td>\n",
       "      <td>True</td>\n",
       "      <td>PoW/PoS</td>\n",
       "      <td>4.199995e+01</td>\n",
       "      <td>42</td>\n",
       "    </tr>\n",
       "    <tr>\n",
       "      <th>365</th>\n",
       "      <td>365Coin</td>\n",
       "      <td>X11</td>\n",
       "      <td>True</td>\n",
       "      <td>PoW/PoS</td>\n",
       "      <td>NaN</td>\n",
       "      <td>2300000000</td>\n",
       "    </tr>\n",
       "    <tr>\n",
       "      <th>404</th>\n",
       "      <td>404Coin</td>\n",
       "      <td>Scrypt</td>\n",
       "      <td>True</td>\n",
       "      <td>PoW/PoS</td>\n",
       "      <td>1.055185e+09</td>\n",
       "      <td>532000000</td>\n",
       "    </tr>\n",
       "    <tr>\n",
       "      <th>611</th>\n",
       "      <td>SixEleven</td>\n",
       "      <td>SHA-256</td>\n",
       "      <td>True</td>\n",
       "      <td>PoW</td>\n",
       "      <td>NaN</td>\n",
       "      <td>611000</td>\n",
       "    </tr>\n",
       "    <tr>\n",
       "      <th>808</th>\n",
       "      <td>808</td>\n",
       "      <td>SHA-256</td>\n",
       "      <td>True</td>\n",
       "      <td>PoW/PoS</td>\n",
       "      <td>0.000000e+00</td>\n",
       "      <td>0</td>\n",
       "    </tr>\n",
       "  </tbody>\n",
       "</table>\n",
       "</div>"
      ],
      "text/plain": [
       "      CoinName Algorithm  IsTrading ProofType  TotalCoinsMined TotalCoinSupply\n",
       "42     42 Coin    Scrypt       True   PoW/PoS     4.199995e+01              42\n",
       "365    365Coin       X11       True   PoW/PoS              NaN      2300000000\n",
       "404    404Coin    Scrypt       True   PoW/PoS     1.055185e+09       532000000\n",
       "611  SixEleven   SHA-256       True       PoW              NaN          611000\n",
       "808        808   SHA-256       True   PoW/PoS     0.000000e+00               0"
      ]
     },
     "execution_count": 209,
     "metadata": {},
     "output_type": "execute_result"
    }
   ],
   "source": [
    "# Alternatively, use the provided csv file:\n",
    "file_path = Path(\"Resources/crypto_data.csv\")\n",
    "coin_df=pd.read_csv(file_path,index_col=\"Unnamed: 0\")\n",
    "coin_df.head()\n",
    "\n"
   ]
  },
  {
   "cell_type": "markdown",
   "metadata": {},
   "source": [
    "### Data Preprocessing"
   ]
  },
  {
   "cell_type": "code",
   "execution_count": 210,
   "metadata": {},
   "outputs": [
    {
     "data": {
      "text/html": [
       "<div>\n",
       "<style scoped>\n",
       "    .dataframe tbody tr th:only-of-type {\n",
       "        vertical-align: middle;\n",
       "    }\n",
       "\n",
       "    .dataframe tbody tr th {\n",
       "        vertical-align: top;\n",
       "    }\n",
       "\n",
       "    .dataframe thead th {\n",
       "        text-align: right;\n",
       "    }\n",
       "</style>\n",
       "<table border=\"1\" class=\"dataframe\">\n",
       "  <thead>\n",
       "    <tr style=\"text-align: right;\">\n",
       "      <th></th>\n",
       "      <th>CoinName</th>\n",
       "      <th>Algorithm</th>\n",
       "      <th>IsTrading</th>\n",
       "      <th>ProofType</th>\n",
       "      <th>TotalCoinsMined</th>\n",
       "      <th>TotalCoinSupply</th>\n",
       "    </tr>\n",
       "  </thead>\n",
       "  <tbody>\n",
       "    <tr>\n",
       "      <th>42</th>\n",
       "      <td>42 Coin</td>\n",
       "      <td>Scrypt</td>\n",
       "      <td>True</td>\n",
       "      <td>PoW/PoS</td>\n",
       "      <td>4.199995e+01</td>\n",
       "      <td>42</td>\n",
       "    </tr>\n",
       "    <tr>\n",
       "      <th>365</th>\n",
       "      <td>365Coin</td>\n",
       "      <td>X11</td>\n",
       "      <td>True</td>\n",
       "      <td>PoW/PoS</td>\n",
       "      <td>NaN</td>\n",
       "      <td>2300000000</td>\n",
       "    </tr>\n",
       "    <tr>\n",
       "      <th>404</th>\n",
       "      <td>404Coin</td>\n",
       "      <td>Scrypt</td>\n",
       "      <td>True</td>\n",
       "      <td>PoW/PoS</td>\n",
       "      <td>1.055185e+09</td>\n",
       "      <td>532000000</td>\n",
       "    </tr>\n",
       "    <tr>\n",
       "      <th>611</th>\n",
       "      <td>SixEleven</td>\n",
       "      <td>SHA-256</td>\n",
       "      <td>True</td>\n",
       "      <td>PoW</td>\n",
       "      <td>NaN</td>\n",
       "      <td>611000</td>\n",
       "    </tr>\n",
       "    <tr>\n",
       "      <th>808</th>\n",
       "      <td>808</td>\n",
       "      <td>SHA-256</td>\n",
       "      <td>True</td>\n",
       "      <td>PoW/PoS</td>\n",
       "      <td>0.000000e+00</td>\n",
       "      <td>0</td>\n",
       "    </tr>\n",
       "  </tbody>\n",
       "</table>\n",
       "</div>"
      ],
      "text/plain": [
       "      CoinName Algorithm  IsTrading ProofType  TotalCoinsMined TotalCoinSupply\n",
       "42     42 Coin    Scrypt       True   PoW/PoS     4.199995e+01              42\n",
       "365    365Coin       X11       True   PoW/PoS              NaN      2300000000\n",
       "404    404Coin    Scrypt       True   PoW/PoS     1.055185e+09       532000000\n",
       "611  SixEleven   SHA-256       True       PoW              NaN          611000\n",
       "808        808   SHA-256       True   PoW/PoS     0.000000e+00               0"
      ]
     },
     "execution_count": 210,
     "metadata": {},
     "output_type": "execute_result"
    }
   ],
   "source": [
    "# Keep only cryptocurrencies that are trading\n",
    "coin_df=coin_df[coin_df['IsTrading']==True]\n",
    "coin_df.head()"
   ]
  },
  {
   "cell_type": "code",
   "execution_count": 186,
   "metadata": {},
   "outputs": [],
   "source": [
    "# Keep only cryptocurrencies with a working algorithm\n",
    "#np.unique(list(coin_df['Algorithm']))"
   ]
  },
  {
   "cell_type": "code",
   "execution_count": 211,
   "metadata": {},
   "outputs": [
    {
     "data": {
      "text/html": [
       "<div>\n",
       "<style scoped>\n",
       "    .dataframe tbody tr th:only-of-type {\n",
       "        vertical-align: middle;\n",
       "    }\n",
       "\n",
       "    .dataframe tbody tr th {\n",
       "        vertical-align: top;\n",
       "    }\n",
       "\n",
       "    .dataframe thead th {\n",
       "        text-align: right;\n",
       "    }\n",
       "</style>\n",
       "<table border=\"1\" class=\"dataframe\">\n",
       "  <thead>\n",
       "    <tr style=\"text-align: right;\">\n",
       "      <th></th>\n",
       "      <th>CoinName</th>\n",
       "      <th>Algorithm</th>\n",
       "      <th>ProofType</th>\n",
       "      <th>TotalCoinsMined</th>\n",
       "      <th>TotalCoinSupply</th>\n",
       "    </tr>\n",
       "  </thead>\n",
       "  <tbody>\n",
       "    <tr>\n",
       "      <th>42</th>\n",
       "      <td>42 Coin</td>\n",
       "      <td>Scrypt</td>\n",
       "      <td>PoW/PoS</td>\n",
       "      <td>4.199995e+01</td>\n",
       "      <td>42</td>\n",
       "    </tr>\n",
       "    <tr>\n",
       "      <th>365</th>\n",
       "      <td>365Coin</td>\n",
       "      <td>X11</td>\n",
       "      <td>PoW/PoS</td>\n",
       "      <td>NaN</td>\n",
       "      <td>2300000000</td>\n",
       "    </tr>\n",
       "    <tr>\n",
       "      <th>404</th>\n",
       "      <td>404Coin</td>\n",
       "      <td>Scrypt</td>\n",
       "      <td>PoW/PoS</td>\n",
       "      <td>1.055185e+09</td>\n",
       "      <td>532000000</td>\n",
       "    </tr>\n",
       "    <tr>\n",
       "      <th>611</th>\n",
       "      <td>SixEleven</td>\n",
       "      <td>SHA-256</td>\n",
       "      <td>PoW</td>\n",
       "      <td>NaN</td>\n",
       "      <td>611000</td>\n",
       "    </tr>\n",
       "    <tr>\n",
       "      <th>808</th>\n",
       "      <td>808</td>\n",
       "      <td>SHA-256</td>\n",
       "      <td>PoW/PoS</td>\n",
       "      <td>0.000000e+00</td>\n",
       "      <td>0</td>\n",
       "    </tr>\n",
       "  </tbody>\n",
       "</table>\n",
       "</div>"
      ],
      "text/plain": [
       "      CoinName Algorithm ProofType  TotalCoinsMined TotalCoinSupply\n",
       "42     42 Coin    Scrypt   PoW/PoS     4.199995e+01              42\n",
       "365    365Coin       X11   PoW/PoS              NaN      2300000000\n",
       "404    404Coin    Scrypt   PoW/PoS     1.055185e+09       532000000\n",
       "611  SixEleven   SHA-256       PoW              NaN          611000\n",
       "808        808   SHA-256   PoW/PoS     0.000000e+00               0"
      ]
     },
     "execution_count": 211,
     "metadata": {},
     "output_type": "execute_result"
    }
   ],
   "source": [
    "# Remove the \"IsTrading\" column\n",
    "coin_df.drop(columns=['IsTrading'],inplace=True)\n",
    "coin_df.head()\n"
   ]
  },
  {
   "cell_type": "code",
   "execution_count": 212,
   "metadata": {},
   "outputs": [
    {
     "data": {
      "text/html": [
       "<div>\n",
       "<style scoped>\n",
       "    .dataframe tbody tr th:only-of-type {\n",
       "        vertical-align: middle;\n",
       "    }\n",
       "\n",
       "    .dataframe tbody tr th {\n",
       "        vertical-align: top;\n",
       "    }\n",
       "\n",
       "    .dataframe thead th {\n",
       "        text-align: right;\n",
       "    }\n",
       "</style>\n",
       "<table border=\"1\" class=\"dataframe\">\n",
       "  <thead>\n",
       "    <tr style=\"text-align: right;\">\n",
       "      <th></th>\n",
       "      <th>CoinName</th>\n",
       "      <th>Algorithm</th>\n",
       "      <th>ProofType</th>\n",
       "      <th>TotalCoinsMined</th>\n",
       "      <th>TotalCoinSupply</th>\n",
       "    </tr>\n",
       "  </thead>\n",
       "  <tbody>\n",
       "    <tr>\n",
       "      <th>42</th>\n",
       "      <td>42 Coin</td>\n",
       "      <td>Scrypt</td>\n",
       "      <td>PoW/PoS</td>\n",
       "      <td>4.199995e+01</td>\n",
       "      <td>42</td>\n",
       "    </tr>\n",
       "    <tr>\n",
       "      <th>404</th>\n",
       "      <td>404Coin</td>\n",
       "      <td>Scrypt</td>\n",
       "      <td>PoW/PoS</td>\n",
       "      <td>1.055185e+09</td>\n",
       "      <td>532000000</td>\n",
       "    </tr>\n",
       "    <tr>\n",
       "      <th>808</th>\n",
       "      <td>808</td>\n",
       "      <td>SHA-256</td>\n",
       "      <td>PoW/PoS</td>\n",
       "      <td>0.000000e+00</td>\n",
       "      <td>0</td>\n",
       "    </tr>\n",
       "    <tr>\n",
       "      <th>1337</th>\n",
       "      <td>EliteCoin</td>\n",
       "      <td>X13</td>\n",
       "      <td>PoW/PoS</td>\n",
       "      <td>2.927942e+10</td>\n",
       "      <td>314159265359</td>\n",
       "    </tr>\n",
       "    <tr>\n",
       "      <th>BTC</th>\n",
       "      <td>Bitcoin</td>\n",
       "      <td>SHA-256</td>\n",
       "      <td>PoW</td>\n",
       "      <td>1.792718e+07</td>\n",
       "      <td>21000000</td>\n",
       "    </tr>\n",
       "  </tbody>\n",
       "</table>\n",
       "</div>"
      ],
      "text/plain": [
       "       CoinName Algorithm ProofType  TotalCoinsMined TotalCoinSupply\n",
       "42      42 Coin    Scrypt   PoW/PoS     4.199995e+01              42\n",
       "404     404Coin    Scrypt   PoW/PoS     1.055185e+09       532000000\n",
       "808         808   SHA-256   PoW/PoS     0.000000e+00               0\n",
       "1337  EliteCoin       X13   PoW/PoS     2.927942e+10    314159265359\n",
       "BTC     Bitcoin   SHA-256       PoW     1.792718e+07        21000000"
      ]
     },
     "execution_count": 212,
     "metadata": {},
     "output_type": "execute_result"
    }
   ],
   "source": [
    "# Remove rows with at least 1 null value\n",
    "coin_df.dropna(inplace=True)\n",
    "coin_df.head()"
   ]
  },
  {
   "cell_type": "code",
   "execution_count": 214,
   "metadata": {},
   "outputs": [
    {
     "data": {
      "text/html": [
       "<div>\n",
       "<style scoped>\n",
       "    .dataframe tbody tr th:only-of-type {\n",
       "        vertical-align: middle;\n",
       "    }\n",
       "\n",
       "    .dataframe tbody tr th {\n",
       "        vertical-align: top;\n",
       "    }\n",
       "\n",
       "    .dataframe thead th {\n",
       "        text-align: right;\n",
       "    }\n",
       "</style>\n",
       "<table border=\"1\" class=\"dataframe\">\n",
       "  <thead>\n",
       "    <tr style=\"text-align: right;\">\n",
       "      <th></th>\n",
       "      <th>CoinName</th>\n",
       "      <th>Algorithm</th>\n",
       "      <th>ProofType</th>\n",
       "      <th>TotalCoinsMined</th>\n",
       "      <th>TotalCoinSupply</th>\n",
       "    </tr>\n",
       "  </thead>\n",
       "  <tbody>\n",
       "    <tr>\n",
       "      <th>42</th>\n",
       "      <td>42 Coin</td>\n",
       "      <td>Scrypt</td>\n",
       "      <td>PoW/PoS</td>\n",
       "      <td>4.199995e+01</td>\n",
       "      <td>4.200000e+01</td>\n",
       "    </tr>\n",
       "    <tr>\n",
       "      <th>404</th>\n",
       "      <td>404Coin</td>\n",
       "      <td>Scrypt</td>\n",
       "      <td>PoW/PoS</td>\n",
       "      <td>1.055185e+09</td>\n",
       "      <td>5.320000e+08</td>\n",
       "    </tr>\n",
       "    <tr>\n",
       "      <th>1337</th>\n",
       "      <td>EliteCoin</td>\n",
       "      <td>X13</td>\n",
       "      <td>PoW/PoS</td>\n",
       "      <td>2.927942e+10</td>\n",
       "      <td>3.141593e+11</td>\n",
       "    </tr>\n",
       "    <tr>\n",
       "      <th>BTC</th>\n",
       "      <td>Bitcoin</td>\n",
       "      <td>SHA-256</td>\n",
       "      <td>PoW</td>\n",
       "      <td>1.792718e+07</td>\n",
       "      <td>2.100000e+07</td>\n",
       "    </tr>\n",
       "    <tr>\n",
       "      <th>LTC</th>\n",
       "      <td>Litecoin</td>\n",
       "      <td>Scrypt</td>\n",
       "      <td>PoW</td>\n",
       "      <td>6.303924e+07</td>\n",
       "      <td>8.400000e+07</td>\n",
       "    </tr>\n",
       "  </tbody>\n",
       "</table>\n",
       "</div>"
      ],
      "text/plain": [
       "       CoinName Algorithm ProofType  TotalCoinsMined  TotalCoinSupply\n",
       "42      42 Coin    Scrypt   PoW/PoS     4.199995e+01     4.200000e+01\n",
       "404     404Coin    Scrypt   PoW/PoS     1.055185e+09     5.320000e+08\n",
       "1337  EliteCoin       X13   PoW/PoS     2.927942e+10     3.141593e+11\n",
       "BTC     Bitcoin   SHA-256       PoW     1.792718e+07     2.100000e+07\n",
       "LTC    Litecoin    Scrypt       PoW     6.303924e+07     8.400000e+07"
      ]
     },
     "execution_count": 214,
     "metadata": {},
     "output_type": "execute_result"
    }
   ],
   "source": [
    "# Remove rows with cryptocurrencies having no coins mined\n",
    "coin_df['TotalCoinSupply']=coin_df['TotalCoinSupply'].values.astype(float) #converting \"Total Coin Supply\" column to floats\n",
    "coin_df=coin_df[coin_df[\"TotalCoinSupply\"]>0]\n",
    "coin_df.head()"
   ]
  },
  {
   "cell_type": "code",
   "execution_count": 215,
   "metadata": {},
   "outputs": [
    {
     "data": {
      "text/html": [
       "<div>\n",
       "<style scoped>\n",
       "    .dataframe tbody tr th:only-of-type {\n",
       "        vertical-align: middle;\n",
       "    }\n",
       "\n",
       "    .dataframe tbody tr th {\n",
       "        vertical-align: top;\n",
       "    }\n",
       "\n",
       "    .dataframe thead th {\n",
       "        text-align: right;\n",
       "    }\n",
       "</style>\n",
       "<table border=\"1\" class=\"dataframe\">\n",
       "  <thead>\n",
       "    <tr style=\"text-align: right;\">\n",
       "      <th></th>\n",
       "      <th>CoinName</th>\n",
       "      <th>Algorithm</th>\n",
       "      <th>ProofType</th>\n",
       "      <th>TotalCoinsMined</th>\n",
       "      <th>TotalCoinSupply</th>\n",
       "    </tr>\n",
       "  </thead>\n",
       "  <tbody>\n",
       "    <tr>\n",
       "      <th>42</th>\n",
       "      <td>42 Coin</td>\n",
       "      <td>Scrypt</td>\n",
       "      <td>PoW/PoS</td>\n",
       "      <td>4.199995e+01</td>\n",
       "      <td>4.200000e+01</td>\n",
       "    </tr>\n",
       "    <tr>\n",
       "      <th>404</th>\n",
       "      <td>404Coin</td>\n",
       "      <td>Scrypt</td>\n",
       "      <td>PoW/PoS</td>\n",
       "      <td>1.055185e+09</td>\n",
       "      <td>5.320000e+08</td>\n",
       "    </tr>\n",
       "    <tr>\n",
       "      <th>1337</th>\n",
       "      <td>EliteCoin</td>\n",
       "      <td>X13</td>\n",
       "      <td>PoW/PoS</td>\n",
       "      <td>2.927942e+10</td>\n",
       "      <td>3.141593e+11</td>\n",
       "    </tr>\n",
       "    <tr>\n",
       "      <th>BTC</th>\n",
       "      <td>Bitcoin</td>\n",
       "      <td>SHA-256</td>\n",
       "      <td>PoW</td>\n",
       "      <td>1.792718e+07</td>\n",
       "      <td>2.100000e+07</td>\n",
       "    </tr>\n",
       "    <tr>\n",
       "      <th>LTC</th>\n",
       "      <td>Litecoin</td>\n",
       "      <td>Scrypt</td>\n",
       "      <td>PoW</td>\n",
       "      <td>6.303924e+07</td>\n",
       "      <td>8.400000e+07</td>\n",
       "    </tr>\n",
       "  </tbody>\n",
       "</table>\n",
       "</div>"
      ],
      "text/plain": [
       "       CoinName Algorithm ProofType  TotalCoinsMined  TotalCoinSupply\n",
       "42      42 Coin    Scrypt   PoW/PoS     4.199995e+01     4.200000e+01\n",
       "404     404Coin    Scrypt   PoW/PoS     1.055185e+09     5.320000e+08\n",
       "1337  EliteCoin       X13   PoW/PoS     2.927942e+10     3.141593e+11\n",
       "BTC     Bitcoin   SHA-256       PoW     1.792718e+07     2.100000e+07\n",
       "LTC    Litecoin    Scrypt       PoW     6.303924e+07     8.400000e+07"
      ]
     },
     "execution_count": 215,
     "metadata": {},
     "output_type": "execute_result"
    }
   ],
   "source": [
    "# Drop rows where there are 'N/A' text values: for each row make a SET of its entries, then check if N/A is in set\n",
    "#'N/A' in list(coin_df.iloc[1].values)\n",
    "#for index, item in coin_df.iterrows():\n",
    "#    'N/A' in list(item.values)\n",
    "#    print(item.values)\n",
    "    \n",
    "    \n",
    "no_NAs=['N/A' not in list(item.values) for index,item in coin_df.iterrows()]  #finding rows that don't have NAs\n",
    "coin_df=coin_df[no_NAs]                                                       #refining the DataFrame\n",
    "coin_df.head()"
   ]
  },
  {
   "cell_type": "code",
   "execution_count": 216,
   "metadata": {},
   "outputs": [],
   "source": [
    "# Store the 'CoinName'column in its own DataFrame prior to dropping it from crypto_df\n",
    "coin_name_df=coin_df[\"CoinName\"]                        #storing the coin name for later\n",
    "coin_algo=coin_df['Algorithm']\n",
    "coin_proof=coin_df['ProofType']"
   ]
  },
  {
   "cell_type": "code",
   "execution_count": 217,
   "metadata": {},
   "outputs": [
    {
     "data": {
      "text/html": [
       "<div>\n",
       "<style scoped>\n",
       "    .dataframe tbody tr th:only-of-type {\n",
       "        vertical-align: middle;\n",
       "    }\n",
       "\n",
       "    .dataframe tbody tr th {\n",
       "        vertical-align: top;\n",
       "    }\n",
       "\n",
       "    .dataframe thead th {\n",
       "        text-align: right;\n",
       "    }\n",
       "</style>\n",
       "<table border=\"1\" class=\"dataframe\">\n",
       "  <thead>\n",
       "    <tr style=\"text-align: right;\">\n",
       "      <th></th>\n",
       "      <th>Algorithm</th>\n",
       "      <th>ProofType</th>\n",
       "      <th>TotalCoinsMined</th>\n",
       "      <th>TotalCoinSupply</th>\n",
       "    </tr>\n",
       "  </thead>\n",
       "  <tbody>\n",
       "    <tr>\n",
       "      <th>42</th>\n",
       "      <td>Scrypt</td>\n",
       "      <td>PoW/PoS</td>\n",
       "      <td>4.199995e+01</td>\n",
       "      <td>4.200000e+01</td>\n",
       "    </tr>\n",
       "    <tr>\n",
       "      <th>404</th>\n",
       "      <td>Scrypt</td>\n",
       "      <td>PoW/PoS</td>\n",
       "      <td>1.055185e+09</td>\n",
       "      <td>5.320000e+08</td>\n",
       "    </tr>\n",
       "    <tr>\n",
       "      <th>1337</th>\n",
       "      <td>X13</td>\n",
       "      <td>PoW/PoS</td>\n",
       "      <td>2.927942e+10</td>\n",
       "      <td>3.141593e+11</td>\n",
       "    </tr>\n",
       "    <tr>\n",
       "      <th>BTC</th>\n",
       "      <td>SHA-256</td>\n",
       "      <td>PoW</td>\n",
       "      <td>1.792718e+07</td>\n",
       "      <td>2.100000e+07</td>\n",
       "    </tr>\n",
       "    <tr>\n",
       "      <th>LTC</th>\n",
       "      <td>Scrypt</td>\n",
       "      <td>PoW</td>\n",
       "      <td>6.303924e+07</td>\n",
       "      <td>8.400000e+07</td>\n",
       "    </tr>\n",
       "  </tbody>\n",
       "</table>\n",
       "</div>"
      ],
      "text/plain": [
       "     Algorithm ProofType  TotalCoinsMined  TotalCoinSupply\n",
       "42      Scrypt   PoW/PoS     4.199995e+01     4.200000e+01\n",
       "404     Scrypt   PoW/PoS     1.055185e+09     5.320000e+08\n",
       "1337       X13   PoW/PoS     2.927942e+10     3.141593e+11\n",
       "BTC    SHA-256       PoW     1.792718e+07     2.100000e+07\n",
       "LTC     Scrypt       PoW     6.303924e+07     8.400000e+07"
      ]
     },
     "execution_count": 217,
     "metadata": {},
     "output_type": "execute_result"
    }
   ],
   "source": [
    "# Drop the 'CoinName' column since it's not going to be used on the clustering algorithm\n",
    "coin_df.drop(columns=['CoinName'],inplace=True)\n",
    "coin_df.head()"
   ]
  },
  {
   "cell_type": "code",
   "execution_count": 218,
   "metadata": {},
   "outputs": [
    {
     "data": {
      "text/html": [
       "<div>\n",
       "<style scoped>\n",
       "    .dataframe tbody tr th:only-of-type {\n",
       "        vertical-align: middle;\n",
       "    }\n",
       "\n",
       "    .dataframe tbody tr th {\n",
       "        vertical-align: top;\n",
       "    }\n",
       "\n",
       "    .dataframe thead th {\n",
       "        text-align: right;\n",
       "    }\n",
       "</style>\n",
       "<table border=\"1\" class=\"dataframe\">\n",
       "  <thead>\n",
       "    <tr style=\"text-align: right;\">\n",
       "      <th></th>\n",
       "      <th>TotalCoinsMined</th>\n",
       "      <th>TotalCoinSupply</th>\n",
       "      <th>Algorithm_1GB AES Pattern Search</th>\n",
       "      <th>Algorithm_536</th>\n",
       "      <th>Algorithm_Argon2</th>\n",
       "      <th>Algorithm_BLAKE256</th>\n",
       "      <th>Algorithm_Blake</th>\n",
       "      <th>Algorithm_Blake2S</th>\n",
       "      <th>Algorithm_Blake2b</th>\n",
       "      <th>Algorithm_C11</th>\n",
       "      <th>...</th>\n",
       "      <th>ProofType_PoW/PoS</th>\n",
       "      <th>ProofType_PoW/PoS</th>\n",
       "      <th>ProofType_PoW/PoW</th>\n",
       "      <th>ProofType_PoW/nPoS</th>\n",
       "      <th>ProofType_Pos</th>\n",
       "      <th>ProofType_Proof of Authority</th>\n",
       "      <th>ProofType_Proof of Trust</th>\n",
       "      <th>ProofType_TPoS</th>\n",
       "      <th>ProofType_Zero-Knowledge Proof</th>\n",
       "      <th>ProofType_dPoW/PoW</th>\n",
       "    </tr>\n",
       "  </thead>\n",
       "  <tbody>\n",
       "    <tr>\n",
       "      <th>42</th>\n",
       "      <td>4.199995e+01</td>\n",
       "      <td>4.200000e+01</td>\n",
       "      <td>0</td>\n",
       "      <td>0</td>\n",
       "      <td>0</td>\n",
       "      <td>0</td>\n",
       "      <td>0</td>\n",
       "      <td>0</td>\n",
       "      <td>0</td>\n",
       "      <td>0</td>\n",
       "      <td>...</td>\n",
       "      <td>1</td>\n",
       "      <td>0</td>\n",
       "      <td>0</td>\n",
       "      <td>0</td>\n",
       "      <td>0</td>\n",
       "      <td>0</td>\n",
       "      <td>0</td>\n",
       "      <td>0</td>\n",
       "      <td>0</td>\n",
       "      <td>0</td>\n",
       "    </tr>\n",
       "    <tr>\n",
       "      <th>404</th>\n",
       "      <td>1.055185e+09</td>\n",
       "      <td>5.320000e+08</td>\n",
       "      <td>0</td>\n",
       "      <td>0</td>\n",
       "      <td>0</td>\n",
       "      <td>0</td>\n",
       "      <td>0</td>\n",
       "      <td>0</td>\n",
       "      <td>0</td>\n",
       "      <td>0</td>\n",
       "      <td>...</td>\n",
       "      <td>1</td>\n",
       "      <td>0</td>\n",
       "      <td>0</td>\n",
       "      <td>0</td>\n",
       "      <td>0</td>\n",
       "      <td>0</td>\n",
       "      <td>0</td>\n",
       "      <td>0</td>\n",
       "      <td>0</td>\n",
       "      <td>0</td>\n",
       "    </tr>\n",
       "    <tr>\n",
       "      <th>1337</th>\n",
       "      <td>2.927942e+10</td>\n",
       "      <td>3.141593e+11</td>\n",
       "      <td>0</td>\n",
       "      <td>0</td>\n",
       "      <td>0</td>\n",
       "      <td>0</td>\n",
       "      <td>0</td>\n",
       "      <td>0</td>\n",
       "      <td>0</td>\n",
       "      <td>0</td>\n",
       "      <td>...</td>\n",
       "      <td>1</td>\n",
       "      <td>0</td>\n",
       "      <td>0</td>\n",
       "      <td>0</td>\n",
       "      <td>0</td>\n",
       "      <td>0</td>\n",
       "      <td>0</td>\n",
       "      <td>0</td>\n",
       "      <td>0</td>\n",
       "      <td>0</td>\n",
       "    </tr>\n",
       "    <tr>\n",
       "      <th>BTC</th>\n",
       "      <td>1.792718e+07</td>\n",
       "      <td>2.100000e+07</td>\n",
       "      <td>0</td>\n",
       "      <td>0</td>\n",
       "      <td>0</td>\n",
       "      <td>0</td>\n",
       "      <td>0</td>\n",
       "      <td>0</td>\n",
       "      <td>0</td>\n",
       "      <td>0</td>\n",
       "      <td>...</td>\n",
       "      <td>0</td>\n",
       "      <td>0</td>\n",
       "      <td>0</td>\n",
       "      <td>0</td>\n",
       "      <td>0</td>\n",
       "      <td>0</td>\n",
       "      <td>0</td>\n",
       "      <td>0</td>\n",
       "      <td>0</td>\n",
       "      <td>0</td>\n",
       "    </tr>\n",
       "    <tr>\n",
       "      <th>LTC</th>\n",
       "      <td>6.303924e+07</td>\n",
       "      <td>8.400000e+07</td>\n",
       "      <td>0</td>\n",
       "      <td>0</td>\n",
       "      <td>0</td>\n",
       "      <td>0</td>\n",
       "      <td>0</td>\n",
       "      <td>0</td>\n",
       "      <td>0</td>\n",
       "      <td>0</td>\n",
       "      <td>...</td>\n",
       "      <td>0</td>\n",
       "      <td>0</td>\n",
       "      <td>0</td>\n",
       "      <td>0</td>\n",
       "      <td>0</td>\n",
       "      <td>0</td>\n",
       "      <td>0</td>\n",
       "      <td>0</td>\n",
       "      <td>0</td>\n",
       "      <td>0</td>\n",
       "    </tr>\n",
       "  </tbody>\n",
       "</table>\n",
       "<p>5 rows × 105 columns</p>\n",
       "</div>"
      ],
      "text/plain": [
       "      TotalCoinsMined  TotalCoinSupply  Algorithm_1GB AES Pattern Search  \\\n",
       "42       4.199995e+01     4.200000e+01                                 0   \n",
       "404      1.055185e+09     5.320000e+08                                 0   \n",
       "1337     2.927942e+10     3.141593e+11                                 0   \n",
       "BTC      1.792718e+07     2.100000e+07                                 0   \n",
       "LTC      6.303924e+07     8.400000e+07                                 0   \n",
       "\n",
       "      Algorithm_536  Algorithm_Argon2  Algorithm_BLAKE256  Algorithm_Blake  \\\n",
       "42                0                 0                   0                0   \n",
       "404               0                 0                   0                0   \n",
       "1337              0                 0                   0                0   \n",
       "BTC               0                 0                   0                0   \n",
       "LTC               0                 0                   0                0   \n",
       "\n",
       "      Algorithm_Blake2S  Algorithm_Blake2b  Algorithm_C11  ...  \\\n",
       "42                    0                  0              0  ...   \n",
       "404                   0                  0              0  ...   \n",
       "1337                  0                  0              0  ...   \n",
       "BTC                   0                  0              0  ...   \n",
       "LTC                   0                  0              0  ...   \n",
       "\n",
       "      ProofType_PoW/PoS  ProofType_PoW/PoS   ProofType_PoW/PoW  \\\n",
       "42                    1                   0                  0   \n",
       "404                   1                   0                  0   \n",
       "1337                  1                   0                  0   \n",
       "BTC                   0                   0                  0   \n",
       "LTC                   0                   0                  0   \n",
       "\n",
       "      ProofType_PoW/nPoS  ProofType_Pos  ProofType_Proof of Authority  \\\n",
       "42                     0              0                             0   \n",
       "404                    0              0                             0   \n",
       "1337                   0              0                             0   \n",
       "BTC                    0              0                             0   \n",
       "LTC                    0              0                             0   \n",
       "\n",
       "      ProofType_Proof of Trust  ProofType_TPoS  \\\n",
       "42                           0               0   \n",
       "404                          0               0   \n",
       "1337                         0               0   \n",
       "BTC                          0               0   \n",
       "LTC                          0               0   \n",
       "\n",
       "      ProofType_Zero-Knowledge Proof  ProofType_dPoW/PoW  \n",
       "42                                 0                   0  \n",
       "404                                0                   0  \n",
       "1337                               0                   0  \n",
       "BTC                                0                   0  \n",
       "LTC                                0                   0  \n",
       "\n",
       "[5 rows x 105 columns]"
      ]
     },
     "execution_count": 218,
     "metadata": {},
     "output_type": "execute_result"
    }
   ],
   "source": [
    "# Create dummy variables for text features: create function that determines if there are alphabets, then select those columns\n",
    "coin_df = pd.get_dummies(coin_df, columns=[\"Algorithm\", \"ProofType\"])\n",
    "coin_df.head()"
   ]
  },
  {
   "cell_type": "code",
   "execution_count": 219,
   "metadata": {},
   "outputs": [],
   "source": [
    "# Standardize data\n",
    "data_scaler = StandardScaler()\n",
    "data_scaler.fit(coin_df) \n",
    "coin_data_scaled = data_scaler.transform(coin_df)\n"
   ]
  },
  {
   "cell_type": "markdown",
   "metadata": {},
   "source": [
    "### Reducing Dimensions Using PCA"
   ]
  },
  {
   "cell_type": "code",
   "execution_count": 220,
   "metadata": {},
   "outputs": [
    {
     "data": {
      "text/plain": [
       "array([[-1.23054366e-01,  1.18657219e+00, -5.04638516e-01],\n",
       "       [-1.08770966e-01,  1.18469794e+00, -5.04960453e-01],\n",
       "       [ 3.33340858e-01,  1.90869146e+00, -5.85853790e-01],\n",
       "       ...,\n",
       "       [-2.31119396e-01, -2.25771347e+00,  3.52842521e-01],\n",
       "       [-2.00040970e-01, -1.78895239e+00,  2.90976968e-01],\n",
       "       [ 7.53971819e-04,  8.72313465e-01, -2.55853900e-01]])"
      ]
     },
     "execution_count": 220,
     "metadata": {},
     "output_type": "execute_result"
    }
   ],
   "source": [
    "# Use PCA to reduce dimensions to 3 principal components\n",
    "pca = PCA(n_components=3,random_state=0)                                  #making PCA model object with 3 principal components\n",
    "coin_data_pca = pca.fit_transform(coin_data_scaled)         #getting principle components from standardized data\n",
    "coin_data_pca"
   ]
  },
  {
   "cell_type": "code",
   "execution_count": 221,
   "metadata": {},
   "outputs": [
    {
     "data": {
      "text/html": [
       "<div>\n",
       "<style scoped>\n",
       "    .dataframe tbody tr th:only-of-type {\n",
       "        vertical-align: middle;\n",
       "    }\n",
       "\n",
       "    .dataframe tbody tr th {\n",
       "        vertical-align: top;\n",
       "    }\n",
       "\n",
       "    .dataframe thead th {\n",
       "        text-align: right;\n",
       "    }\n",
       "</style>\n",
       "<table border=\"1\" class=\"dataframe\">\n",
       "  <thead>\n",
       "    <tr style=\"text-align: right;\">\n",
       "      <th></th>\n",
       "      <th>PC 1</th>\n",
       "      <th>PC 2</th>\n",
       "      <th>PC 3</th>\n",
       "    </tr>\n",
       "  </thead>\n",
       "  <tbody>\n",
       "    <tr>\n",
       "      <th>42</th>\n",
       "      <td>-0.123054</td>\n",
       "      <td>1.186572</td>\n",
       "      <td>-0.504639</td>\n",
       "    </tr>\n",
       "    <tr>\n",
       "      <th>404</th>\n",
       "      <td>-0.108771</td>\n",
       "      <td>1.184698</td>\n",
       "      <td>-0.504960</td>\n",
       "    </tr>\n",
       "    <tr>\n",
       "      <th>1337</th>\n",
       "      <td>0.333341</td>\n",
       "      <td>1.908691</td>\n",
       "      <td>-0.585854</td>\n",
       "    </tr>\n",
       "    <tr>\n",
       "      <th>BTC</th>\n",
       "      <td>-0.249831</td>\n",
       "      <td>-1.410456</td>\n",
       "      <td>0.172146</td>\n",
       "    </tr>\n",
       "    <tr>\n",
       "      <th>LTC</th>\n",
       "      <td>-0.243440</td>\n",
       "      <td>-1.041747</td>\n",
       "      <td>0.003085</td>\n",
       "    </tr>\n",
       "  </tbody>\n",
       "</table>\n",
       "</div>"
      ],
      "text/plain": [
       "          PC 1      PC 2      PC 3\n",
       "42   -0.123054  1.186572 -0.504639\n",
       "404  -0.108771  1.184698 -0.504960\n",
       "1337  0.333341  1.908691 -0.585854\n",
       "BTC  -0.249831 -1.410456  0.172146\n",
       "LTC  -0.243440 -1.041747  0.003085"
      ]
     },
     "execution_count": 221,
     "metadata": {},
     "output_type": "execute_result"
    }
   ],
   "source": [
    "# Create a DataFrame with the principal components data\n",
    "df_coin_data_pca = pd.DataFrame(index=coin_df.index,\n",
    "    data=coin_data_pca, columns=[\"PC 1\", \"PC 2\",\"PC 3\"]\n",
    ")\n",
    "df_coin_data_pca.head()"
   ]
  },
  {
   "cell_type": "markdown",
   "metadata": {},
   "source": [
    "### Clustering Crytocurrencies Using K-Means\n",
    "\n",
    "#### Find the Best Value for `k` Using the Elbow Curve"
   ]
  },
  {
   "cell_type": "code",
   "execution_count": 222,
   "metadata": {},
   "outputs": [
    {
     "data": {
      "application/vnd.holoviews_exec.v0+json": "",
      "text/html": [
       "<div id='2544'>\n",
       "\n",
       "\n",
       "\n",
       "\n",
       "\n",
       "  <div class=\"bk-root\" id=\"53ab459f-2d89-48a9-b25f-c4e038146043\" data-root-id=\"2544\"></div>\n",
       "</div>\n",
       "<script type=\"application/javascript\">(function(root) {\n",
       "  function embed_document(root) {\n",
       "  var docs_json = {\"c1c05db9-aecc-4c37-a638-c1ffd6fa1a5f\":{\"roots\":{\"references\":[{\"attributes\":{},\"id\":\"2593\",\"type\":\"BasicTickFormatter\"},{\"attributes\":{\"text\":\"Elbow Curve\",\"text_color\":{\"value\":\"black\"},\"text_font_size\":{\"value\":\"12pt\"}},\"id\":\"2550\",\"type\":\"Title\"},{\"attributes\":{\"end\":10.0,\"reset_end\":10.0,\"reset_start\":1.0,\"start\":1.0,\"tags\":[[[\"k\",\"k\",null]]]},\"id\":\"2546\",\"type\":\"Range1d\"},{\"attributes\":{\"data_source\":{\"id\":\"2579\"},\"glyph\":{\"id\":\"2582\"},\"hover_glyph\":null,\"muted_glyph\":{\"id\":\"2584\"},\"nonselection_glyph\":{\"id\":\"2583\"},\"selection_glyph\":null,\"view\":{\"id\":\"2586\"}},\"id\":\"2585\",\"type\":\"GlyphRenderer\"},{\"attributes\":{\"bottom_units\":\"screen\",\"fill_alpha\":0.5,\"fill_color\":\"lightgrey\",\"left_units\":\"screen\",\"level\":\"overlay\",\"line_alpha\":1.0,\"line_color\":\"black\",\"line_dash\":[4,4],\"line_width\":2,\"right_units\":\"screen\",\"top_units\":\"screen\"},\"id\":\"2571\",\"type\":\"BoxAnnotation\"},{\"attributes\":{\"active_drag\":\"auto\",\"active_inspect\":\"auto\",\"active_multi\":null,\"active_scroll\":\"auto\",\"active_tap\":\"auto\",\"tools\":[{\"id\":\"2548\"},{\"id\":\"2566\"},{\"id\":\"2567\"},{\"id\":\"2568\"},{\"id\":\"2569\"},{\"id\":\"2570\"}]},\"id\":\"2572\",\"type\":\"Toolbar\"},{\"attributes\":{\"line_color\":\"#1f77b3\",\"line_width\":2,\"x\":{\"field\":\"k\"},\"y\":{\"field\":\"inertia\"}},\"id\":\"2582\",\"type\":\"Line\"},{\"attributes\":{\"margin\":[5,5,5,5],\"name\":\"HSpacer05029\",\"sizing_mode\":\"stretch_width\"},\"id\":\"2608\",\"type\":\"Spacer\"},{\"attributes\":{\"line_alpha\":0.1,\"line_color\":\"#1f77b3\",\"line_width\":2,\"x\":{\"field\":\"k\"},\"y\":{\"field\":\"inertia\"}},\"id\":\"2583\",\"type\":\"Line\"},{\"attributes\":{\"axis\":{\"id\":\"2558\"},\"grid_line_color\":null,\"ticker\":null},\"id\":\"2561\",\"type\":\"Grid\"},{\"attributes\":{\"axis_label\":\"inertia\",\"bounds\":\"auto\",\"formatter\":{\"id\":\"2593\"},\"major_label_orientation\":\"horizontal\",\"ticker\":{\"id\":\"2563\"}},\"id\":\"2562\",\"type\":\"LinearAxis\"},{\"attributes\":{\"end\":4453.753703882796,\"reset_end\":4453.753703882796,\"reset_start\":-283.4557243381326,\"start\":-283.4557243381326,\"tags\":[[[\"inertia\",\"inertia\",null]]]},\"id\":\"2547\",\"type\":\"Range1d\"},{\"attributes\":{\"align\":null,\"below\":[{\"id\":\"2558\"}],\"center\":[{\"id\":\"2561\"},{\"id\":\"2565\"}],\"left\":[{\"id\":\"2562\"}],\"margin\":null,\"min_border_bottom\":10,\"min_border_left\":10,\"min_border_right\":10,\"min_border_top\":10,\"plot_height\":300,\"plot_width\":700,\"renderers\":[{\"id\":\"2585\"}],\"sizing_mode\":\"fixed\",\"title\":{\"id\":\"2550\"},\"toolbar\":{\"id\":\"2572\"},\"x_range\":{\"id\":\"2546\"},\"x_scale\":{\"id\":\"2554\"},\"y_range\":{\"id\":\"2547\"},\"y_scale\":{\"id\":\"2556\"}},\"id\":\"2549\",\"subtype\":\"Figure\",\"type\":\"Plot\"},{\"attributes\":{\"callback\":null,\"renderers\":[{\"id\":\"2585\"}],\"tags\":[\"hv_created\"],\"tooltips\":[[\"k\",\"@{k}\"],[\"inertia\",\"@{inertia}\"]]},\"id\":\"2548\",\"type\":\"HoverTool\"},{\"attributes\":{},\"id\":\"2566\",\"type\":\"SaveTool\"},{\"attributes\":{},\"id\":\"2567\",\"type\":\"PanTool\"},{\"attributes\":{\"line_alpha\":0.2,\"line_color\":\"#1f77b3\",\"line_width\":2,\"x\":{\"field\":\"k\"},\"y\":{\"field\":\"inertia\"}},\"id\":\"2584\",\"type\":\"Line\"},{\"attributes\":{},\"id\":\"2568\",\"type\":\"WheelZoomTool\"},{\"attributes\":{\"children\":[{\"id\":\"2545\"},{\"id\":\"2549\"},{\"id\":\"2608\"}],\"margin\":[0,0,0,0],\"name\":\"Row05024\",\"tags\":[\"embedded\"]},\"id\":\"2544\",\"type\":\"Row\"},{\"attributes\":{},\"id\":\"2570\",\"type\":\"ResetTool\"},{\"attributes\":{\"axis\":{\"id\":\"2562\"},\"dimension\":1,\"grid_line_color\":null,\"ticker\":null},\"id\":\"2565\",\"type\":\"Grid\"},{\"attributes\":{\"data\":{\"inertia\":{\"__ndarray__\":\"/+719fi1r0CRooZghmOmQCNF5BpkOptABtwBMXSKhkCSDc9Rf792QLa9ShY0eXBAKckuEf48aEDyl9ciFAJkQKqRTwU8vF9AVe0NWvPTW0A=\",\"dtype\":\"float64\",\"order\":\"little\",\"shape\":[10]},\"k\":[1,2,3,4,5,6,7,8,9,10]},\"selected\":{\"id\":\"2580\"},\"selection_policy\":{\"id\":\"2599\"}},\"id\":\"2579\",\"type\":\"ColumnDataSource\"},{\"attributes\":{\"source\":{\"id\":\"2579\"}},\"id\":\"2586\",\"type\":\"CDSView\"},{\"attributes\":{},\"id\":\"2580\",\"type\":\"Selection\"},{\"attributes\":{},\"id\":\"2589\",\"type\":\"BasicTickFormatter\"},{\"attributes\":{\"axis_label\":\"k\",\"bounds\":\"auto\",\"formatter\":{\"id\":\"2589\"},\"major_label_orientation\":\"horizontal\",\"ticker\":{\"id\":\"2587\"}},\"id\":\"2558\",\"type\":\"LinearAxis\"},{\"attributes\":{},\"id\":\"2554\",\"type\":\"LinearScale\"},{\"attributes\":{\"ticks\":[1,2,3,4,5,6,7,8,9,10]},\"id\":\"2587\",\"type\":\"FixedTicker\"},{\"attributes\":{},\"id\":\"2556\",\"type\":\"LinearScale\"},{\"attributes\":{\"overlay\":{\"id\":\"2571\"}},\"id\":\"2569\",\"type\":\"BoxZoomTool\"},{\"attributes\":{},\"id\":\"2563\",\"type\":\"BasicTicker\"},{\"attributes\":{},\"id\":\"2599\",\"type\":\"UnionRenderers\"},{\"attributes\":{\"margin\":[5,5,5,5],\"name\":\"HSpacer05028\",\"sizing_mode\":\"stretch_width\"},\"id\":\"2545\",\"type\":\"Spacer\"}],\"root_ids\":[\"2544\"]},\"title\":\"Bokeh Application\",\"version\":\"2.1.1\"}};\n",
       "  var render_items = [{\"docid\":\"c1c05db9-aecc-4c37-a638-c1ffd6fa1a5f\",\"root_ids\":[\"2544\"],\"roots\":{\"2544\":\"53ab459f-2d89-48a9-b25f-c4e038146043\"}}];\n",
       "  root.Bokeh.embed.embed_items_notebook(docs_json, render_items);\n",
       "  }\n",
       "if (root.Bokeh !== undefined) {\n",
       "    embed_document(root);\n",
       "  } else {\n",
       "    var attempts = 0;\n",
       "    var timer = setInterval(function(root) {\n",
       "      if (root.Bokeh !== undefined) {\n",
       "        clearInterval(timer);\n",
       "        embed_document(root);\n",
       "      } else if (document.readyState == \"complete\") {\n",
       "        attempts++;\n",
       "        if (attempts > 100) {\n",
       "          clearInterval(timer);\n",
       "          console.log(\"Bokeh: ERROR: Unable to run BokehJS code because BokehJS library is missing\");\n",
       "        }\n",
       "      }\n",
       "    }, 10, root)\n",
       "  }\n",
       "})(window);</script>"
      ],
      "text/plain": [
       ":Curve   [k]   (inertia)"
      ]
     },
     "execution_count": 222,
     "metadata": {
      "application/vnd.holoviews_exec.v0+json": {
       "id": "2544"
      }
     },
     "output_type": "execute_result"
    }
   ],
   "source": [
    "inertia = []\n",
    "k = list(range(1, 11))\n",
    "\n",
    "# Calculate the inertia for the range of k values\n",
    "inertia = []                                     #initialization of inertia list; storing inertia values\n",
    "k = list(range(1, 11))                           #making list of values for k\n",
    "\n",
    "# Calculate the inertia for the range of k values\n",
    "for i in k:\n",
    "    km = KMeans(n_clusters=i, random_state=0)    #creating instance of K-means algorithm with value k\n",
    "    km.fit(df_coin_data_pca)                          #running K-means algorithm for value of k         \n",
    "    inertia.append(km.inertia_)                  #computing the inertia value for K-means model\n",
    "\n",
    "# Create the Elbow Curve using hvPlot\n",
    "elbow_data = {\"k\": k, \"inertia\": inertia}       #creating dictionary from K-mean resutls\n",
    "df_elbow = pd.DataFrame(elbow_data)             #making DataFrame from K-means dictionary\n",
    "df_elbow.hvplot.line(x=\"k\", y=\"inertia\", xticks=k,title=\"Elbow Curve\")     #plotting the results\n"
   ]
  },
  {
   "cell_type": "markdown",
   "metadata": {},
   "source": [
    "Running K-Means with `k=<your best value for k here>`"
   ]
  },
  {
   "cell_type": "code",
   "execution_count": 223,
   "metadata": {},
   "outputs": [],
   "source": [
    "# Initialize the K-Means model\n",
    "# Fit the model\n",
    "km = KMeans(n_clusters=5, random_state=0)\n",
    "km.fit(df_coin_data_pca)                                     #fitting K-means model to data\n",
    "\n",
    "# Predict clusters\n",
    "predictions = pd.DataFrame(km.labels_,columns=['Class'],index=coin_df.index)          #making predictions with the model\n",
    "\n",
    "# Create a new DataFrame including predicted clusters and cryptocurrencies features\n",
    "coin_df=pd.concat([coin_df,df_coin_data_pca,predictions,coin_name_df,coin_algo,coin_proof],axis=1,join='inner')\n",
    "reorder_columns=['Algorithm','ProofType','TotalCoinsMined','TotalCoinSupply','PC 1','PC 2','PC 3','CoinName','Class']\n",
    "coin_df=coin_df[reorder_columns]\n",
    "#coin_df.head(10)"
   ]
  },
  {
   "cell_type": "markdown",
   "metadata": {},
   "source": [
    "### Visualizing Results\n",
    "\n",
    "#### 3D-Scatter with Clusters"
   ]
  },
  {
   "cell_type": "code",
   "execution_count": 224,
   "metadata": {},
   "outputs": [
    {
     "data": {
      "application/vnd.plotly.v1+json": {
       "config": {
        "plotlyServerURL": "https://plot.ly"
       },
       "data": [
        {
         "customdata": [
          [
           "Scrypt"
          ],
          [
           "Scrypt"
          ],
          [
           "X13"
          ],
          [
           "X11"
          ],
          [
           "SHA-512"
          ],
          [
           "SHA-256"
          ],
          [
           "X11"
          ],
          [
           "SHA-256"
          ],
          [
           "X15"
          ],
          [
           "X13"
          ],
          [
           "X13"
          ],
          [
           "Scrypt"
          ],
          [
           "Scrypt"
          ],
          [
           "Scrypt"
          ],
          [
           "Scrypt"
          ],
          [
           "Scrypt"
          ],
          [
           "Multiple"
          ],
          [
           "Scrypt"
          ],
          [
           "Scrypt"
          ],
          [
           "Groestl"
          ],
          [
           "X11"
          ],
          [
           "X11"
          ],
          [
           "NIST5"
          ],
          [
           "X11"
          ],
          [
           "Scrypt"
          ],
          [
           "X11"
          ],
          [
           "X11"
          ],
          [
           "X13"
          ],
          [
           "X11"
          ],
          [
           "SHA3"
          ],
          [
           "SHA-256"
          ],
          [
           "Scrypt"
          ],
          [
           "NeoScrypt"
          ],
          [
           "Scrypt"
          ],
          [
           "Scrypt"
          ],
          [
           "X15"
          ],
          [
           "Scrypt"
          ],
          [
           "X11"
          ],
          [
           "Multiple"
          ],
          [
           "PHI1612"
          ],
          [
           "X11"
          ],
          [
           "Scrypt"
          ],
          [
           "Scrypt"
          ],
          [
           "Scrypt"
          ],
          [
           "X11"
          ],
          [
           "Scrypt"
          ],
          [
           "Scrypt"
          ],
          [
           "Shabal256"
          ],
          [
           "Counterparty"
          ],
          [
           "SHA-256"
          ],
          [
           "Scrypt"
          ],
          [
           "X13"
          ],
          [
           "Scrypt"
          ],
          [
           "SHA-256"
          ],
          [
           "X13"
          ],
          [
           "X13"
          ],
          [
           "X11"
          ],
          [
           "X11"
          ],
          [
           "Scrypt"
          ],
          [
           "SHA3"
          ],
          [
           "QUAIT"
          ],
          [
           "Scrypt"
          ],
          [
           "X11"
          ],
          [
           "X13"
          ],
          [
           "SHA-256"
          ],
          [
           "X13"
          ],
          [
           "X15"
          ],
          [
           "BLAKE256"
          ],
          [
           "SHA-256"
          ],
          [
           "X11"
          ],
          [
           "SHA-256"
          ],
          [
           "Quark"
          ],
          [
           "Blake"
          ],
          [
           "Scrypt"
          ],
          [
           "Scrypt"
          ],
          [
           "Scrypt"
          ],
          [
           "SHA-256"
          ],
          [
           "X11"
          ],
          [
           "Scrypt"
          ],
          [
           "SHA-256"
          ],
          [
           "Scrypt"
          ],
          [
           "PoS"
          ],
          [
           "X11"
          ],
          [
           "X11"
          ],
          [
           "X11"
          ],
          [
           "PoS"
          ],
          [
           "SHA-256"
          ],
          [
           "SHA-256"
          ],
          [
           "NIST5"
          ],
          [
           "X15"
          ],
          [
           "X11"
          ],
          [
           "NIST5"
          ],
          [
           "Scrypt"
          ],
          [
           "Scrypt"
          ],
          [
           "POS 3.0"
          ],
          [
           "Scrypt"
          ],
          [
           "Scrypt"
          ],
          [
           "Scrypt"
          ],
          [
           "X13"
          ],
          [
           "X11"
          ],
          [
           "X11"
          ],
          [
           "X11"
          ],
          [
           "Scrypt"
          ],
          [
           "SHA-256"
          ],
          [
           "X11"
          ],
          [
           "Scrypt"
          ],
          [
           "X11"
          ],
          [
           "Scrypt"
          ],
          [
           "SHA-256D"
          ],
          [
           "PoS"
          ],
          [
           "X11"
          ],
          [
           "PoS"
          ],
          [
           "X13"
          ],
          [
           "X14"
          ],
          [
           "PoS"
          ],
          [
           "SHA-256D"
          ],
          [
           "X11"
          ],
          [
           "Scrypt"
          ],
          [
           "X13"
          ],
          [
           "X11"
          ],
          [
           "PoS"
          ],
          [
           "SHA-256D"
          ],
          [
           "Scrypt"
          ],
          [
           "Scrypt"
          ],
          [
           "Scrypt"
          ],
          [
           "PoS"
          ],
          [
           "X11"
          ],
          [
           "SHA-256"
          ],
          [
           "Scrypt"
          ],
          [
           "X11"
          ],
          [
           "Scrypt"
          ],
          [
           "Scrypt"
          ],
          [
           "X11"
          ],
          [
           "Scrypt"
          ],
          [
           "Scrypt"
          ],
          [
           "Scrypt"
          ],
          [
           "Scrypt"
          ],
          [
           "Quark"
          ],
          [
           "QuBit"
          ],
          [
           "X11"
          ],
          [
           "X13"
          ],
          [
           "PoS"
          ],
          [
           "Scrypt"
          ],
          [
           "SHA-256"
          ],
          [
           "X11"
          ],
          [
           "X11"
          ],
          [
           "Scrypt"
          ],
          [
           "Scrypt"
          ],
          [
           "Scrypt"
          ],
          [
           "Scrypt"
          ],
          [
           "X13"
          ],
          [
           "Scrypt"
          ],
          [
           "Scrypt"
          ],
          [
           "X11"
          ],
          [
           "Blake2S"
          ],
          [
           "X11"
          ],
          [
           "Scrypt"
          ],
          [
           "PoS"
          ],
          [
           "X11"
          ],
          [
           "PoS"
          ],
          [
           "X11"
          ],
          [
           "Scrypt"
          ],
          [
           "Scrypt"
          ],
          [
           "Scrypt"
          ],
          [
           "SHA-256"
          ],
          [
           "X11"
          ],
          [
           "Scrypt"
          ],
          [
           "PoS"
          ],
          [
           "Scrypt"
          ],
          [
           "X11"
          ],
          [
           "X15"
          ],
          [
           "SHA-256"
          ],
          [
           "POS 3.0"
          ],
          [
           "536"
          ],
          [
           "NIST5"
          ],
          [
           "NIST5"
          ],
          [
           "Skein"
          ],
          [
           "X13"
          ],
          [
           "X11"
          ],
          [
           "Scrypt"
          ],
          [
           "X13"
          ],
          [
           "SkunkHash v2 Raptor"
          ],
          [
           "Skein"
          ],
          [
           "X11"
          ],
          [
           "Scrypt"
          ],
          [
           "PoS"
          ],
          [
           "Scrypt"
          ],
          [
           "Scrypt"
          ],
          [
           "SHA-512"
          ],
          [
           "Ouroboros"
          ],
          [
           "X11"
          ],
          [
           "NeoScrypt"
          ],
          [
           "Scrypt"
          ],
          [
           "Lyra2REv2"
          ],
          [
           "Scrypt"
          ],
          [
           "SHA-256"
          ],
          [
           "NIST5"
          ],
          [
           "PHI1612"
          ],
          [
           "Scrypt"
          ],
          [
           "Quark"
          ],
          [
           "POS 2.0"
          ],
          [
           "Scrypt"
          ],
          [
           "SkunkHash"
          ],
          [
           "X11"
          ],
          [
           "Quark"
          ],
          [
           "SHA-256"
          ],
          [
           "X11"
          ],
          [
           "NIST5"
          ],
          [
           "X13"
          ],
          [
           "Scrypt"
          ],
          [
           "NIST5"
          ],
          [
           "Quark"
          ],
          [
           "Scrypt"
          ],
          [
           "Scrypt"
          ],
          [
           "X11"
          ],
          [
           "SHA-256"
          ],
          [
           "Scrypt"
          ],
          [
           "Quark"
          ],
          [
           "Scrypt"
          ],
          [
           "Scrypt"
          ],
          [
           "X11"
          ],
          [
           "Scrypt"
          ],
          [
           "Scrypt"
          ],
          [
           "POS 3.0"
          ],
          [
           "Scrypt"
          ],
          [
           "Scrypt"
          ],
          [
           "X13"
          ],
          [
           "Proof-of-BibleHash"
          ],
          [
           "C11"
          ],
          [
           "Proof-of-Authority"
          ],
          [
           "X11"
          ],
          [
           "XEVAN"
          ],
          [
           "Scrypt"
          ],
          [
           "VBFT"
          ],
          [
           "NIST5"
          ],
          [
           "Scrypt"
          ],
          [
           "Scrypt"
          ],
          [
           "Scrypt"
          ],
          [
           "Equihash"
          ],
          [
           "Green Protocol"
          ],
          [
           "PoS"
          ],
          [
           "Scrypt"
          ],
          [
           "Scrypt"
          ],
          [
           "Scrypt"
          ],
          [
           "Quark"
          ],
          [
           "PoS"
          ],
          [
           "X16R"
          ],
          [
           "Scrypt"
          ],
          [
           "XEVAN"
          ],
          [
           "Scrypt"
          ],
          [
           "Scrypt"
          ],
          [
           "Scrypt"
          ],
          [
           "SHA-256D"
          ],
          [
           "Scrypt"
          ],
          [
           "X15"
          ],
          [
           "Scrypt"
          ],
          [
           "Quark"
          ],
          [
           "SHA-256"
          ],
          [
           "DPoS"
          ],
          [
           "X16R"
          ],
          [
           "Quark"
          ],
          [
           "Quark"
          ],
          [
           "Scrypt"
          ],
          [
           "Zhash"
          ],
          [
           "Lyra2REv2"
          ],
          [
           "Quark"
          ],
          [
           "Scrypt"
          ],
          [
           "Scrypt"
          ],
          [
           "X11"
          ],
          [
           "X11"
          ],
          [
           "Scrypt"
          ],
          [
           "PoS"
          ],
          [
           "Scrypt"
          ],
          [
           "Scrypt"
          ],
          [
           "Keccak"
          ],
          [
           "X11"
          ],
          [
           "Quark"
          ],
          [
           "Scrypt"
          ],
          [
           "SHA-512"
          ],
          [
           "NeoScrypt"
          ],
          [
           "XEVAN"
          ],
          [
           "XEVAN"
          ],
          [
           "Quark"
          ],
          [
           "Quark"
          ],
          [
           "Equihash"
          ],
          [
           "Scrypt"
          ],
          [
           "Quark"
          ],
          [
           "Quark"
          ],
          [
           "Scrypt"
          ],
          [
           "X11"
          ],
          [
           "Scrypt"
          ],
          [
           "XEVAN"
          ],
          [
           "SHA-256D"
          ],
          [
           "X11"
          ],
          [
           "X11"
          ],
          [
           "X11"
          ],
          [
           "Scrypt"
          ],
          [
           "Scrypt"
          ],
          [
           "Scrypt"
          ],
          [
           "SHA-256"
          ],
          [
           "X11"
          ],
          [
           "Scrypt"
          ],
          [
           "SHA-256"
          ],
          [
           "X11"
          ],
          [
           "Scrypt"
          ],
          [
           "SHA-256"
          ],
          [
           "Scrypt"
          ],
          [
           "X11"
          ],
          [
           "Scrypt"
          ],
          [
           "PoS"
          ],
          [
           "X11"
          ],
          [
           "SHA-256"
          ],
          [
           "Scrypt"
          ],
          [
           "Scrypt"
          ],
          [
           "NeoScrypt"
          ],
          [
           "Scrypt"
          ],
          [
           "X13"
          ],
          [
           "SHA-256"
          ],
          [
           "PoS"
          ],
          [
           "PoS"
          ],
          [
           "Scrypt"
          ],
          [
           "Scrypt"
          ]
         ],
         "hovertemplate": "<b>%{hovertext}</b><br><br>Class=%{marker.color}<br>PC 1=%{x}<br>PC 2=%{y}<br>PC 3=%{z}<br>Algorithm=%{customdata[0]}<extra></extra>",
         "hovertext": [
          "42 Coin",
          "404Coin",
          "EliteCoin",
          "Dash",
          "Bitshares",
          "BitcoinDark",
          "Bitstake",
          "PayCoin",
          "KoboCoin",
          "Aero Coin",
          "ApexCoin",
          "ArchCoin",
          "Aurora Coin",
          "BitBar",
          "CashCoin",
          "CryptoBullion",
          "CinderCoin",
          "CoolCoin",
          "CasinoCoin",
          "Diamond",
          "DarkCash",
          "Fuel2Coin",
          "FIBRE",
          "GlyphCoin",
          "HoboNickels",
          "IOCoin",
          "JumBucks Coin",
          "JudgeCoin",
          "LibrexCoin",
          "MaxCoin",
          "MazaCoin",
          "Nautilus Coin",
          "Orbitcoin",
          "PotCoin",
          "PhoenixCoin",
          "ShieldCoin",
          "SilkCoin",
          "SyncCoin",
          "TeslaCoin",
          "TittieCoin",
          "TorCoin",
          "UnitaryStatus Dollar",
          "UltraCoin",
          "SocialXbotCoin",
          "X11 Coin",
          "XXXCoin",
          "ZCC Coin",
          "BurstCoin",
          "StorjCoin",
          "Neutron",
          "KryptCoin",
          "Kore",
          "Dnotes",
          "MaieutiCoin",
          "Sativa Coin",
          "AeroMe",
          "MasterTraderCoin",
          "Ucoin",
          "Vtorrent",
          "Nexus",
          "Droidz",
          "Diggits",
          "MapCoin",
          "Paycon",
          "Emercoin",
          "BlitzCoin",
          "EverGreenCoin",
          "Decred",
          "EDRCoin",
          "Hitcoin",
          "DubaiCoin",
          "BiosCrypto",
          "TrumpCoin",
          "BillaryCoin",
          "EthereumScrypt",
          "GPU Coin",
          "Universal Currency",
          "EuropeCoin",
          "ZeitCoin",
          "SwingCoin",
          "SafeExchangeCoin",
          "Nebuchadnezzar",
          "GIZMOcoin",
          "SecretCoin",
          "Ratecoin",
          "Digital Bullion Gold",
          "Revenu",
          "Clockcoin",
          "VIP Tokens",
          "OrlyCoin",
          "BitSend",
          "16BitCoin",
          "ChessCoin",
          "ReeCoin",
          "Let it Ride",
          "PutinCoin",
          "iBankCoin",
          "Frankywillcoin",
          "MudraCoin",
          "Lutetium Coin",
          "GoldBlocks",
          "WayCoin",
          "CarterCoin",
          "BitTokens",
          "MustangCoin",
          "ZoneCoin",
          "PROUD Money",
          "Swiscoin",
          "BuzzCoin",
          "Opair",
          "Halloween Coin",
          "CoffeeCoin",
          "RoyalCoin",
          "GanjaCoin V2",
          "TeamUP",
          "LanaCoin",
          "InsaneCoin",
          "LuckChain",
          "EmberCoin",
          "XenixCoin",
          "FreeCoin",
          "NPCcoin",
          "PLNCoin",
          "Icobid",
          "AquariusCoin",
          "Creatio",
          "Eternity",
          "Eurocoin",
          "BitcoinFast",
          "Stakenet",
          "BitConnect Coin",
          "MoneyCoin",
          "Enigma",
          "Russiacoin",
          "PandaCoin",
          "GameUnits",
          "GAKHcoin",
          "Allsafe",
          "LiteCreed",
          "NeptuneClassic",
          "GoldenBird",
          "Ride My Car",
          "Klingon Empire Darsek",
          "Internet of People",
          "KushCoin",
          "Eryllium",
          "Printerium",
          "Impeach",
          "Zilbercoin",
          "FirstCoin",
          "FindCoin",
          "OpenChat",
          "RenosCoin",
          "VirtacoinPlus",
          "TajCoin",
          "Impact",
          "Universe",
          "Atmos",
          "HappyCoin",
          "MacronCoin",
          "Condensate",
          "Independent Money System",
          "ArgusCoin",
          "LomoCoin",
          "ProCurrency",
          "GoldReserve",
          "GrowthCoin",
          "Phreak",
          "Degas Coin",
          "ZSEcoin",
          "HTML5 Coin",
          "Ultimate Secure Cash",
          "QTUM",
          "Espers",
          "Denarius",
          "Virta Unique Coin",
          "Bitcoin Planet",
          "BritCoin",
          "Octanox",
          "Linda",
          "DeepOnion",
          "Signatum",
          "Cream",
          "Monoeci",
          "Draftcoin",
          "Stakecoin",
          "CoinonatX",
          "Ethereum Dark",
          "Obsidian",
          "Cardano",
          "Regalcoin",
          "TrezarCoin",
          "TerraNovaCoin",
          "Rupee",
          "WomenCoin",
          "Theresa May Coin",
          "NamoCoin",
          "LUXCoin",
          "Xios",
          "Bitcloud 2.0",
          "KekCoin",
          "BlackholeCoin",
          "AltCommunity Coin",
          "Pure",
          "Rupaya",
          "Infinity Economics",
          "Magnet",
          "Electra",
          "Bitcoin Diamond",
          "Cash & Back Coin",
          "Bulwark",
          "Kalkulus",
          "GermanCoin",
          "LiteCoin Ultra",
          "PhantomX",
          "HTML Coin",
          "Fantasy Cash",
          "Digiwage",
          "Trollcoin",
          "Litecoin Plus",
          "Monkey Project",
          "OP Coin",
          "Valorbit",
          "TokenPay",
          "My Big Coin",
          "Unified Society USDEX",
          "Tokyo Coin",
          "BiblePay",
          "Stipend",
          "Poa Network",
          "Pushi",
          "Ellerium",
          "Velox",
          "Ontology",
          "Bitspace",
          "Briacoin",
          "Ignition",
          "MedicCoin",
          "Zelcash",
          "Bitcoin Green",
          "Deviant Coin",
          "Abjcoin",
          "Profit Hunters Coin",
          "BitBlocks",
          "Carebit",
          "Zealium",
          "Proton",
          "iDealCash",
          "Bitcoin Incognito",
          "HollyWoodCoin",
          "Swisscoin",
          "Xt3ch",
          "TheVig",
          "EmaratCoin",
          "Dekado",
          "Lynx",
          "Poseidon Quark",
          "BitcoinWSpectrum",
          "Muse",
          "Trivechain",
          "Dystem",
          "Giant",
          "Peony Coin",
          "SafeCoin",
          "Absolute Coin",
          "Vitae",
          "TPCash",
          "MUSDcoin",
          "ARENON",
          "EUNO",
          "MMOCoin",
          "Ketan",
          "Safe Trade Coin",
          "Mont Blanc",
          "XDNA",
          "PAXEX",
          "Apollon",
          "ThunderStake",
          "Kcash",
          "Traid",
          "Bettex coin",
          "BitMoney",
          "Zenad",
          "HerbCoin",
          "PirateCash",
          "Oduwa",
          "Galilel",
          "Crypto Sports",
          "Credit",
          "Dash Platinum",
          "Nasdacoin",
          "Beetle Coin",
          "Titan Coin",
          "Award",
          "Insane Coin",
          "The Freedom Coin",
          "LiteDoge",
          "OrangeCoin",
          "BitstarCoin",
          "NeosCoin",
          "PinkCoin",
          "AudioCoin",
          "IncaKoin",
          "Piggy Coin",
          "Genstake",
          "ParkByte",
          "XiaoMiCoin",
          "CapriCoin",
          " ClubCoin",
          "Radium",
          "Creditbit ",
          "OKCash",
          "HiCoin",
          "WhiteCoin",
          "FriendshipCoin",
          "The Hempcoin",
          "Triangles Coin",
          "TigerCash",
          "Particl",
          "Nxt",
          "Gapcoin",
          "BitcoinPlus"
         ],
         "legendgroup": "1",
         "marker": {
          "color": [
           1,
           1,
           1,
           1,
           1,
           1,
           1,
           1,
           1,
           1,
           1,
           1,
           1,
           1,
           1,
           1,
           1,
           1,
           1,
           1,
           1,
           1,
           1,
           1,
           1,
           1,
           1,
           1,
           1,
           1,
           1,
           1,
           1,
           1,
           1,
           1,
           1,
           1,
           1,
           1,
           1,
           1,
           1,
           1,
           1,
           1,
           1,
           1,
           1,
           1,
           1,
           1,
           1,
           1,
           1,
           1,
           1,
           1,
           1,
           1,
           1,
           1,
           1,
           1,
           1,
           1,
           1,
           1,
           1,
           1,
           1,
           1,
           1,
           1,
           1,
           1,
           1,
           1,
           1,
           1,
           1,
           1,
           1,
           1,
           1,
           1,
           1,
           1,
           1,
           1,
           1,
           1,
           1,
           1,
           1,
           1,
           1,
           1,
           1,
           1,
           1,
           1,
           1,
           1,
           1,
           1,
           1,
           1,
           1,
           1,
           1,
           1,
           1,
           1,
           1,
           1,
           1,
           1,
           1,
           1,
           1,
           1,
           1,
           1,
           1,
           1,
           1,
           1,
           1,
           1,
           1,
           1,
           1,
           1,
           1,
           1,
           1,
           1,
           1,
           1,
           1,
           1,
           1,
           1,
           1,
           1,
           1,
           1,
           1,
           1,
           1,
           1,
           1,
           1,
           1,
           1,
           1,
           1,
           1,
           1,
           1,
           1,
           1,
           1,
           1,
           1,
           1,
           1,
           1,
           1,
           1,
           1,
           1,
           1,
           1,
           1,
           1,
           1,
           1,
           1,
           1,
           1,
           1,
           1,
           1,
           1,
           1,
           1,
           1,
           1,
           1,
           1,
           1,
           1,
           1,
           1,
           1,
           1,
           1,
           1,
           1,
           1,
           1,
           1,
           1,
           1,
           1,
           1,
           1,
           1,
           1,
           1,
           1,
           1,
           1,
           1,
           1,
           1,
           1,
           1,
           1,
           1,
           1,
           1,
           1,
           1,
           1,
           1,
           1,
           1,
           1,
           1,
           1,
           1,
           1,
           1,
           1,
           1,
           1,
           1,
           1,
           1,
           1,
           1,
           1,
           1,
           1,
           1,
           1,
           1,
           1,
           1,
           1,
           1,
           1,
           1,
           1,
           1,
           1,
           1,
           1,
           1,
           1,
           1,
           1,
           1,
           1,
           1,
           1,
           1,
           1,
           1,
           1,
           1,
           1,
           1,
           1,
           1,
           1,
           1,
           1,
           1,
           1,
           1,
           1,
           1,
           1,
           1,
           1,
           1,
           1,
           1,
           1,
           1,
           1,
           1,
           1,
           1,
           1,
           1,
           1,
           1,
           1,
           1,
           1,
           1,
           1,
           1,
           1,
           1,
           1,
           1,
           1,
           1,
           1,
           1,
           1,
           1,
           1,
           1,
           1,
           1
          ],
          "coloraxis": "coloraxis",
          "symbol": "circle"
         },
         "mode": "markers",
         "name": "1",
         "scene": "scene",
         "showlegend": true,
         "type": "scatter3d",
         "x": [
          -0.12305436638240921,
          -0.1087709657939288,
          0.33334085773491173,
          -0.21121875913516114,
          -0.21480866602702992,
          -0.12881697572522569,
          -0.21134101032925973,
          -0.004865446991657809,
          -0.07537470618667219,
          0.060809318739331986,
          -0.0629972829455515,
          0.0007522347463617565,
          -0.1228088830417125,
          -0.1230537905778709,
          -0.12305436691270581,
          -0.12304030105560579,
          -0.21469871220584516,
          0.000752234813738946,
          0.7821051110474903,
          -0.16534311473462202,
          -0.21134101032730937,
          -0.08753440856563245,
          -0.12195426503400002,
          -0.21134101032466568,
          -0.12184601428668933,
          -0.21110208055057167,
          -0.21134101032765348,
          -0.06299728293297811,
          -0.2113410103295015,
          -0.23819514524396468,
          -0.10698889574821721,
          0.0009712536340904051,
          -0.2496865570158356,
          -0.12004011949226531,
          -0.12205322483988054,
          -0.07572046034551631,
          -0.12305436695013028,
          -0.21134099439796872,
          -0.08980567310969814,
          0.022665859921024604,
          -0.21132162822004275,
          -0.10817850814001972,
          -0.12237436315722608,
          -0.12305436694932433,
          -0.21124692112334564,
          -0.12305436691063747,
          -0.12105111167380016,
          0.6419169474800567,
          0.14747964217451284,
          -0.12830485549092716,
          0.0007522347468428322,
          -0.06296990605503074,
          0.003116314100995477,
          -0.005027820605349128,
          -0.06290121738668142,
          -0.06299728294071559,
          -0.21134101032215902,
          -0.08749799826960866,
          -0.12289728082190401,
          -0.37086781121658186,
          -0.23419123789543053,
          0.002105874417623676,
          -0.0875344086444337,
          -0.06268536909657804,
          -0.128251547047621,
          0.06080931873679498,
          -0.07553730535482575,
          -0.1133408182242071,
          -0.12878474786954291,
          -0.06249047217437849,
          -0.12876499391617266,
          0.11126099529923472,
          -0.006616904838884751,
          -0.1229325563647207,
          -0.12305436694755115,
          0.0013001481822978644,
          -0.12883442212017268,
          -0.21120013309527585,
          0.5012096077002722,
          -0.1287751723470279,
          0.2697184646682468,
          0.07248836298818433,
          -0.21134101033022681,
          -0.21134101031338196,
          -0.20951962129745297,
          0.07221763506337762,
          -0.12881823901004236,
          -0.1286088673356456,
          -0.12082464725735562,
          -0.07572046031730705,
          -0.21101088832094367,
          -0.12195426502160732,
          -0.12305436689075674,
          -0.123054366668844,
          0.15901628540324025,
          -0.11204802542786714,
          -0.12299309680094055,
          -0.12170072726645384,
          0.06087700087508006,
          -0.07864099591918004,
          -0.21113033154118221,
          -0.08753440856563245,
          -0.12247006157518338,
          -0.12882636230974567,
          -0.21133210830186738,
          -0.12301941636553038,
          -0.21134100227052527,
          0.08684734286109125,
          0.16633858875217872,
          0.07321978603997056,
          -0.20775821668699399,
          0.07423072480253938,
          0.06084316140431545,
          -0.10318095284265459,
          0.07245883603256863,
          -0.0840255212067647,
          -0.21109271472489366,
          -0.12305436614495806,
          1.184961278052452,
          -0.2112888501698802,
          0.0728944548935291,
          -0.09867410362765872,
          -0.12282303532612841,
          -0.12305436678974079,
          -0.1230212084670635,
          0.07248836298818433,
          -0.21125885136880096,
          -0.1286663468809269,
          -0.12278033580291851,
          -0.39723161094520476,
          -0.12290437388187789,
          -0.12290662454193707,
          -0.2113299826169803,
          -0.12294096062798433,
          0.45846036703029597,
          -0.12300735526713451,
          -0.12300948311517865,
          0.23520996971637265,
          -0.2662590996307587,
          -0.21134101012881287,
          -0.062997282587697,
          0.07221763513188556,
          -0.1227299617813369,
          -0.1288002282738365,
          -0.21126440654513234,
          -0.21134101024970967,
          -0.1228943433427452,
          -0.12305019530026373,
          0.0007917964375588379,
          -0.13136327322076802,
          0.06100593288747219,
          -0.10951797010611103,
          0.0012402267788731657,
          -0.21116283406512423,
          -0.1819009732906465,
          -0.20984347349777477,
          0.0007522348234107152,
          0.07372201384241756,
          -0.21104968911170402,
          0.07765143443608401,
          -0.20969409818962179,
          -0.12298169091690946,
          -0.12303882275944056,
          -0.12304759794693874,
          -0.0036667331326427216,
          -0.21110857167078215,
          0.004747306902881916,
          0.07237181768522692,
          -0.12276524617790434,
          -0.21134100864299216,
          0.4746562094631264,
          -0.004887811970244697,
          0.15984755812755883,
          0.3300934665863043,
          -0.12189779954766193,
          -0.12110225608307887,
          -0.10705078832877703,
          -0.06270938960990526,
          -0.2113410103239359,
          -0.00061855926027174,
          -0.06270060549885018,
          0.14619613244616803,
          -0.10650219284403382,
          -0.21117086780704244,
          0.001004868531476529,
          0.07227178068509138,
          -0.12278987131044246,
          -0.12299751408418808,
          -0.2515812362426046,
          0.9104807597445519,
          -0.21124270355830352,
          -0.24725788651962616,
          -0.12303892549864635,
          0.011107329045492513,
          0.5329122641694694,
          -0.12758838612433768,
          -0.11436625831659794,
          -0.12298876718355799,
          -0.12302526790588285,
          0.11167671915509025,
          0.12700422190294508,
          -0.12283287704980224,
          -0.16525530515917122,
          -0.2113410103273361,
          0.2350675970274874,
          0.1167997508627139,
          -0.21082393890644346,
          0.2624679035270413,
          -0.06051289353361971,
          -0.12155213846584365,
          0.0020316557316400786,
          0.23529711693201455,
          -0.05657031386038666,
          -0.1229403984658122,
          -0.210729514237101,
          -0.12883434975138763,
          -0.12305436694722889,
          0.23543713634397018,
          -0.11505404824066018,
          -0.12302046523026017,
          -0.08747475032078965,
          -0.1230543653389798,
          -0.048715996733503186,
          0.158770681742311,
          0.016777731560643522,
          -0.11987539470207775,
          0.06392673683459349,
          1.2853266503919192,
          -0.1659016018691716,
          0.5727644731294337,
          -0.21131166574398869,
          -0.4601667330754694,
          0.001098360657593657,
          -0.008390950757307516,
          -0.12176762713343645,
          -0.12304292006016983,
          -0.1230383648489518,
          0.004370482342959865,
          -0.07890075415142242,
          0.27770589750977676,
          0.07251376526583495,
          -0.12292062053358968,
          -0.12305436687033845,
          -0.12305436654794731,
          0.11315256596478081,
          0.07236755414140014,
          -0.03127008282131666,
          -0.1040471304030519,
          -1.0537260963716022,
          0.001276185456435917,
          0.015016880866282929,
          0.0008555174705890819,
          -0.09822418397042751,
          -0.12276198966724548,
          0.0484960802860638,
          1.9303319910203696,
          0.23510436592907547,
          -0.004245267919591365,
          2.8765768374328573,
          -0.15463649007229774,
          0.2351634670503284,
          0.11134112384496266,
          0.000766353431285123,
          0.005039079987223934,
          -0.11284367052385799,
          0.2359617284950787,
          -0.12298121813425776,
          -0.12305436687033845,
          -0.08727356888387909,
          -0.210924480142235,
          0.00221096933750725,
          0.07234389096774792,
          0.0007522354101629741,
          0.0007522347895596016,
          -0.1308872665564388,
          -0.08747343198811644,
          0.11126099548445634,
          -0.10870639422757623,
          -0.8596210998229938,
          -0.2497301523532124,
          -0.33627392987245097,
          -0.9517073425454085,
          0.41843175667971483,
          0.111738995057709,
          0.04508826283813521,
          -0.12285433217292892,
          0.1115082377242193,
          0.23509378586590807,
          0.29421471207528765,
          -0.08752472118071156,
          -0.12277624094021442,
          -0.45747950268909593,
          -0.08654060547572352,
          -0.21113227559006567,
          -0.21101916949102262,
          -0.08753440862608074,
          0.08430818366129496,
          -0.12300648652649193,
          -0.12277583482094905,
          -0.004968365241295912,
          -0.20543435445323113,
          -0.10977877456771501,
          0.11400480090537439,
          -0.20465077213046304,
          -0.12224218317651579,
          -0.12883442226927877,
          -0.11758137869053081,
          -0.2086152628785092,
          -0.12165170006789428,
          0.07226936095426033,
          -0.31579766007020055,
          -0.12782357741503006,
          0.13611951524276833,
          -0.11964311958823906,
          -0.24971498653268073,
          -0.12305436670914292,
          -0.06299537732686755,
          0.008508576239474618,
          0.07234329528468608,
          -0.05420976915655831,
          -0.12285225419541795,
          0.0007539718189921919
         ],
         "y": [
          1.1865721880225173,
          1.1846979420898125,
          1.908691459458762,
          1.4284395872870013,
          1.328544147223348,
          0.8177803622043024,
          1.4284556286879238,
          0.5035028495849909,
          2.033768211967374,
          1.6464358906756837,
          1.9606943859796901,
          0.8723136929950487,
          1.1865399761755804,
          1.1865721124726467,
          1.186572188718989,
          1.1865703423981786,
          0.41897641921870826,
          0.8723136940910424,
          0.5533131903858883,
          0.7826617601531928,
          1.4284556287196506,
          1.1141971346648096,
          1.7201838873465876,
          1.4284556287626529,
          1.1864136309037157,
          1.4284242768445403,
          1.4284556287140524,
          1.9606943861842139,
          1.4284556286839902,
          2.182679502698896,
          0.8149161359431805,
          0.8722849535615355,
          0.649647404883985,
          1.1861766672326428,
          1.1864408205661507,
          2.033813576855887,
          1.1865721881102227,
          1.4284556265802681,
          0.10457536252976173,
          1.6256084251269183,
          1.4284530855026998,
          1.184620214527832,
          1.1864829600284497,
          1.1865721881233335,
          1.4284432824557292,
          1.1865721887526355,
          1.1863093362402037,
          1.1128201207482853,
          1.5577370600735039,
          0.8177131629279522,
          0.8723136930028738,
          1.960690793691898,
          0.8720034873532189,
          0.5035241559164582,
          1.9606817804098737,
          1.9606943860583528,
          1.4284556288034265,
          1.1141923558863511,
          1.1865515756830294,
          2.337385047564068,
          2.013283681819042,
          0.8721360709106459,
          1.1141971333829852,
          1.9606534575504797,
          0.8177061801670088,
          1.646435890634414,
          2.0337895437829214,
          0.993081523871763,
          0.8177761332986129,
          1.4089239668197775,
          0.8177735410534183,
          1.737287376244997,
          0.1987962752532832,
          1.1865562047938116,
          1.1865721881521765,
          0.872241799068768,
          0.8177826539867459,
          1.4284371479817082,
          0.8066455054178306,
          0.8177748770464035,
          0.6205475327319678,
          1.5251881398851685,
          1.4284556286721912,
          1.4284556289461998,
          1.4282166288883111,
          1.525223664455696,
          0.8177805306240494,
          0.8177530610857147,
          1.720035661258486,
          2.033813577314753,
          1.42841231224135,
          1.7201838875481739,
          1.186572189076027,
          1.186572192685775,
          1.550311590199679,
          1.185127973846705,
          1.186564148877699,
          1.1863945662277628,
          1.646427012046984,
          1.1130301576721344,
          1.4284279842801875,
          1.1141971346648096,
          1.18649551734312,
          0.8177815938889411,
          1.428454460595619,
          1.1865676021952012,
          1.4284557597755272,
          0.6511723775749648,
          2.0468706395698653,
          1.5250921640270154,
          1.4279855180411405,
          1.5249595092450927,
          1.6464314498169252,
          2.123721351006366,
          1.5251920180953222,
          2.079722992458081,
          1.4284230479763689,
          1.1865722012075777,
          1.7969385732271772,
          1.4284487843198264,
          1.525134853324364,
          2.081645157514487,
          1.186541833511353,
          1.1865721907192053,
          1.186567837630441,
          1.5251881398851685,
          1.4284448486504093,
          0.817760596817647,
          1.186536230451127,
          0.8548187308713934,
          1.1865525065327087,
          1.186552810091192,
          1.428454181691893,
          1.186557308940547,
          0.8122541376173407,
          1.1865660194446894,
          1.186566298530707,
          1.423010198857385,
          1.03861110086481,
          1.4284556319484962,
          1.9606943918007367,
          1.5252236655700853,
          1.186529626596405,
          0.8177781646079408,
          1.4284455769255178,
          1.4284556299819264,
          1.1865511902300703,
          1.1865716409873277,
          0.8723085022611977,
          0.3466444770440498,
          1.6464100912711865,
          1.184795969403614,
          0.8722496594264847,
          1.4284322498883724,
          2.0329403448583347,
          1.428259124899646,
          0.872313694248368,
          1.52502626269695,
          1.4284174031253094,
          1.524510652043977,
          1.4282395291814591,
          1.1865626519038885,
          1.1865701487824616,
          1.186571313091675,
          0.503346546651265,
          1.428425128840472,
          0.8717894899990962,
          1.5252034329707234,
          1.1865342513578012,
          1.4284556561176374,
          1.9615949123426224,
          0.5035057867733662,
          1.5502025123365906,
          1.940020871438101,
          1.7201764781281357,
          1.7200720891962398,
          1.4316258031765956,
          1.9606566092329214,
          1.4284556287745265,
          1.1705069496143101,
          1.9606554564442837,
          1.4585964444923216,
          1.4315538170478859,
          1.4284333028716558,
          0.872280542665877,
          1.5252165601394274,
          1.1865374818920764,
          1.1865647279785996,
          1.3333693592480411,
          1.5826924111918925,
          1.4284427293153814,
          0.6493287225051031,
          1.1865701620937448,
          0.5631879496946702,
          1.1004972596826517,
          0.8176191489860543,
          1.7191882128514682,
          1.9427337660030917,
          1.1865683700282381,
          1.737232827769585,
          1.5685683686747174,
          1.1865431246181855,
          0.8124510268400573,
          1.4284556287192167,
          1.423028881646459,
          0.4875381876927068,
          1.4283877809997756,
          1.6697408068473678,
          1.960368389682106,
          1.186375070013734,
          1.4059018623242205,
          1.4229987635565036,
          1.1778488806366487,
          1.1865572352535094,
          1.4283753894505855,
          0.8177838311753748,
          1.1865721881574205,
          1.422980391676576,
          1.1855224064946674,
          1.1865677396014638,
          1.114189305327912,
          1.1865722143180422,
          2.3957991218759784,
          1.5503438179441849,
          0.443621124970309,
          1.186155049732416,
          1.6460268367972788,
          4.462569917933835,
          1.2046427999904672,
          3.9422022135990433,
          1.4284517784352009,
          1.5379817446314898,
          0.8722682761351358,
          1.4596172230563975,
          1.7201593975680323,
          1.1865706860876652,
          1.186570088384021,
          0.8718389167014363,
          0.43926770024133643,
          1.5808401942578696,
          1.525184807523429,
          1.1865546384278745,
          1.186572189408159,
          1.1865721946523444,
          1.7370391686867956,
          1.5252039930893193,
          0.7202094037797727,
          1.1840781459866712,
          0.987344096608034,
          0.8722449408548637,
          1.1684547574234265,
          0.8723001407081649,
          2.0815860283332466,
          1.1865338237643206,
          1.719501290952854,
          0.1907197775233906,
          1.4230240644687788,
          0.503421471492319,
          1.0050141205576395,
          1.0344101377376131,
          1.4230163009681358,
          1.7372768616618337,
          0.8723120632289829,
          2.179819184381263,
          0.8774653931287125,
          1.422911554976007,
          1.1865626028017218,
          1.186572189408159,
          1.1141629069584364,
          1.4284009726738003,
          0.8721222825792031,
          1.5252070998644538,
          0.8723137037927866,
          0.8723136936977284,
          0.7420400404718862,
          1.114189133381752,
          1.7372873792579075,
          1.1846896999370695,
          1.1089995852887606,
          0.6496531286994595,
          1.2237119379085852,
          1.0784430651088497,
          1.6861972319974303,
          1.7372246540608705,
          0.12498526718992939,
          1.1865459400192138,
          1.737254933335983,
          1.4230254443598143,
          1.1318195622780718,
          1.114195862434977,
          1.186535693801531,
          1.5376291348713191,
          2.0800529860791186,
          1.428428244266262,
          1.4284133974473026,
          1.1141971336815248,
          1.1593627525287569,
          1.1865659079208801,
          1.186535640117882,
          0.5035163545229628,
          1.4276805700405184,
          1.1848303174478372,
          0.7859175435446571,
          1.4275777557915323,
          1.186465614385532,
          0.8177826515613098,
          1.1858540335585683,
          1.4280979616752962,
          1.1863881337227522,
          1.5252168769588161,
          0.8601442888299766,
          0.8176500106085899,
          0.8545510713565365,
          1.1861245717323572,
          0.6496511361209761,
          1.1865721920302519,
          1.9606941358486778,
          0.5017479372229331,
          1.5252071753680692,
          1.539599981047733,
          1.1865456703756818,
          0.8723134648546145
         ],
         "z": [
          -0.50463851622969,
          -0.5049604527125325,
          -0.5858537901548218,
          -0.4875617375064472,
          -0.09496367779897143,
          -0.3355924541382016,
          -0.4875589819695081,
          -0.08681106481868008,
          -0.6100604794478296,
          -0.3281342766621792,
          -0.57691893243117,
          -0.2558538605362162,
          -0.5046440492724288,
          -0.5046385292106027,
          -0.5046385164888866,
          -0.5046388332536861,
          -0.22444155501824317,
          -0.25585386101560503,
          -0.38210055566158585,
          -0.31932560415037403,
          -0.4875589819833854,
          -0.23877432676078095,
          -0.5729200831873955,
          -0.4875589820021947,
          -0.5046657519530393,
          -0.487564367324042,
          -0.487558981980937,
          -0.5769189325206288,
          -0.48755898196778763,
          -0.5941885807334039,
          -0.33608445074638166,
          -0.2558587969997478,
          -0.28021170481015834,
          -0.5047064567150267,
          -0.5046610815104215,
          -0.610052684502837,
          -0.5046385162226117,
          -0.4875589823211577,
          0.024318613633122137,
          -0.24096460826394608,
          -0.48755941887243154,
          -0.5049738122155246,
          -0.5046538433881104,
          -0.5046385162283461,
          -0.48756110266931113,
          -0.5046385165036037,
          -0.5046836732865257,
          -0.4848722888678487,
          -0.054308421587688165,
          -0.33560399707466504,
          -0.2558538605396391,
          -0.5769195495129655,
          -0.2559071472646623,
          -0.08680740500976934,
          -0.5769210976748317,
          -0.5769189324655771,
          -0.4875589820200292,
          -0.23877514695481744,
          -0.5046420568941014,
          -0.4582158446051061,
          -0.6036878835842375,
          -0.25588437068687336,
          -0.23877432620010963,
          -0.5769259629062212,
          -0.3356052039208592,
          -0.32813427664412775,
          -0.6100568127761932,
          -0.39644510344568107,
          -0.33559318052156106,
          -0.49091407471750104,
          -0.33559362569000617,
          -0.48679552655417496,
          0.01650498159302347,
          -0.5046412619447086,
          -0.5046385162409622,
          -0.2558662111222387,
          -0.3355920619887348,
          -0.48756215938791386,
          -0.2671342307425399,
          -0.33559339644707464,
          -0.37055166111286264,
          -0.12410811900590099,
          -0.48755898196262665,
          -0.48755898208247833,
          -0.4876000346623633,
          -0.12410201704297473,
          -0.3355924268124542,
          -0.3355971475667186,
          -0.5729455441435523,
          -0.6100526847035453,
          -0.4875664233737281,
          -0.5729200832755698,
          -0.5046385166450553,
          -0.5046385182239632,
          -0.260334108504025,
          -0.5048865994855483,
          -0.5046398974376809,
          -0.5046690264615985,
          -0.32813580325250735,
          -0.2389747784951476,
          -0.4875637307352685,
          -0.23877432676078095,
          -0.5046516863851361,
          -0.3355922425683387,
          -0.4875591826219439,
          -0.5046393040878612,
          -0.48755903930737754,
          -0.13940250071827337,
          -0.6722698725848913,
          -0.1241246048523928,
          -0.48763974309139335,
          -0.12414739019801976,
          -0.32813503941598826,
          -0.7169986024352959,
          -0.124107455104404,
          -0.6666268466660227,
          -0.4875645784660365,
          -0.5046385219514093,
          -0.605046664416782,
          -0.48756015762148275,
          -0.12411727207931737,
          -0.6662966795016596,
          -0.5046437304186671,
          -0.5046385173637834,
          -0.5046392638157443,
          -0.12410811900590099,
          -0.4875608340851542,
          -0.33559584914898194,
          -0.504644692791181,
          -0.07566222835144061,
          -0.5046418970694153,
          -0.5046418499011595,
          -0.4875592305441699,
          -0.5046410731041611,
          -0.26617032592548573,
          -0.5046395758871223,
          -0.5046395278722151,
          -0.23801407968757224,
          -0.3007599653494108,
          -0.4875589833956861,
          -0.5769189349773024,
          -0.12410201753040982,
          -0.5046458308403587,
          -0.3355928316031469,
          -0.48756070858757233,
          -0.4875589825355064,
          -0.5046421231019186,
          -0.5046386103670542,
          -0.2558547524374643,
          -0.24499644131347964,
          -0.32813870818977037,
          -0.5049436186640914,
          -0.2558648594874239,
          -0.4875629984469822,
          -0.5775627748204818,
          -0.4875927355605074,
          -0.2558538610844195,
          -0.12413592476791474,
          -0.48756554862010393,
          -0.12422449160061506,
          -0.4875961045586628,
          -0.5046401543826327,
          -0.504638866730762,
          -0.5046386744997657,
          -0.0868385112759669,
          -0.4875642211236346,
          -0.25594391677179973,
          -0.124105492249494,
          -0.5046450333076863,
          -0.48755899396729685,
          -0.622458133947899,
          -0.08681056180692244,
          -0.26035284493287264,
          -0.5911777926583492,
          -0.5729213559160982,
          -0.5729392872921331,
          -0.5220031924229899,
          -0.5769254213937529,
          -0.4875589820073882,
          -0.5073983816407199,
          -0.5769256193152936,
          -0.1541581273188537,
          -0.5220155572118531,
          -0.4875628168572533,
          -0.25585955465263555,
          -0.12410323769705432,
          -0.5046444779576456,
          -0.5046397976471554,
          -0.09413484109868546,
          -0.3174964637101748,
          -0.48756119785187474,
          -0.280266446858362,
          -0.5046388643415736,
          -0.11562762446924846,
          -0.5194234853242112,
          -0.33562014575441595,
          -0.5730911160609286,
          -0.48925681877892707,
          -0.5046391722000442,
          -0.4868048975784064,
          -0.28968083958867186,
          -0.5046435084603691,
          -0.3390112834565939,
          -0.48755898198319547,
          -0.23801087109375688,
          -0.08955332703163757,
          -0.4875706370535386,
          -0.5815847425912163,
          -0.5769749292286738,
          -0.5046723761320845,
          -0.3241394692387599,
          -0.23801604392649006,
          -0.5061372855300346,
          -0.5046410858090278,
          -0.487572764753002,
          -0.33559257689240546,
          -0.5046385162432558,
          -0.238019200394436,
          -0.5048188404754913,
          -0.50463928035033,
          -0.23877567094585003,
          -0.504638527685942,
          -1.033555778502474,
          -0.2603285727966567,
          -0.25473617400532766,
          -0.5047101683709644,
          -0.32820454465461524,
          6.59403396055837,
          -0.41272955034791625,
          4.249974918290981,
          -0.48755964350233827,
          -0.35014930851642506,
          -0.25586166248018455,
          -0.10165426257203371,
          -0.5729242900996655,
          -0.5046387742353976,
          -0.5046388769166965,
          -0.2559354149517685,
          -0.21676399219273484,
          -0.24905961979066824,
          -0.12410869193632935,
          -0.5046415308977062,
          -0.5046385167903304,
          -0.504638519084143,
          -0.4868381616768242,
          -0.12410539643933534,
          -0.09676692461699792,
          -0.5050669494351988,
          0.14064497131686565,
          -0.25586566991157644,
          -0.5077505611784653,
          -0.2558561885823938,
          -0.6663067807939752,
          -0.504645106586108,
          -0.36127726884724337,
          -0.37458992195645374,
          -0.2380117031146208,
          -0.08682504353107699,
          -0.2518700743667275,
          -0.345561502144855,
          -0.23801303159868462,
          -0.4867973324847998,
          -0.25585427515563375,
          -0.78609413489654,
          -0.36440902582420853,
          -0.23803102405804352,
          -0.5046401706337869,
          -0.5046385167903304,
          -0.23878020556686474,
          -0.48756837041816053,
          -0.25588674033497805,
          -0.12410486383839761,
          -0.2558538652591591,
          -0.2558538608435692,
          -0.38810639310517464,
          -0.2387757011113316,
          -0.48679552787202535,
          -0.5049620079439959,
          0.0740696348181003,
          -0.2802107236342018,
          -0.10136659557982215,
          0.04985484902517689,
          -0.27761156704753426,
          -0.48680630037984507,
          0.032016552725223836,
          -0.5046430249190438,
          -0.4868010991424438,
          -0.23801146101145876,
          -0.5140437679470053,
          -0.2387745446456413,
          -0.5046447853767904,
          -0.35020987849395147,
          -0.6665701448783276,
          -0.48756368903342334,
          -0.48756623610142374,
          -0.2387743263306911,
          -0.5093124590158786,
          -0.5046395965366207,
          -0.5046447943602821,
          -0.08680874519373522,
          -0.48769211488571806,
          -0.50493779470008,
          -0.3410654130117956,
          -0.4877097788990646,
          -0.504656822105656,
          -0.3355920609278464,
          -0.5047618741382621,
          -0.4876204187491854,
          -0.5046701318281828,
          -0.12410318285808158,
          -0.25141424532590534,
          -0.33561484480854076,
          -0.2589049596153273,
          -0.5047154040064494,
          -0.28021106435991766,
          -0.5046385179372367,
          -0.5769189753482805,
          -0.08711250745697227,
          -0.12410484926122127,
          0.13315721513085613,
          -0.5046430730636087,
          -0.25585389960003124
         ]
        },
        {
         "customdata": [
          [
           "SHA-256"
          ],
          [
           "Scrypt"
          ],
          [
           "Ethash"
          ],
          [
           "Equihash"
          ],
          [
           "Multiple"
          ],
          [
           "Scrypt"
          ],
          [
           "X11"
          ],
          [
           "SHA-256"
          ],
          [
           "Scrypt"
          ],
          [
           "SHA-256"
          ],
          [
           "Multiple"
          ],
          [
           "Scrypt"
          ],
          [
           "SHA-256"
          ],
          [
           "Scrypt"
          ],
          [
           "Scrypt"
          ],
          [
           "Quark"
          ],
          [
           "Groestl"
          ],
          [
           "Scrypt"
          ],
          [
           "X11"
          ],
          [
           "Scrypt"
          ],
          [
           "Scrypt"
          ],
          [
           "Scrypt"
          ],
          [
           "X11"
          ],
          [
           "Multiple"
          ],
          [
           "Scrypt"
          ],
          [
           "SHA-256"
          ],
          [
           "Scrypt"
          ],
          [
           "Scrypt"
          ],
          [
           "Scrypt"
          ],
          [
           "Scrypt"
          ],
          [
           "Scrypt"
          ],
          [
           "Scrypt"
          ],
          [
           "SHA-256"
          ],
          [
           "Scrypt"
          ],
          [
           "NeoScrypt"
          ],
          [
           "Scrypt"
          ],
          [
           "Scrypt"
          ],
          [
           "Scrypt"
          ],
          [
           "Multiple"
          ],
          [
           "Scrypt"
          ],
          [
           "SHA-256"
          ],
          [
           "Scrypt"
          ],
          [
           "Scrypt"
          ],
          [
           "Scrypt"
          ],
          [
           "Scrypt"
          ],
          [
           "Scrypt"
          ],
          [
           "HybridScryptHash256"
          ],
          [
           "Scrypt"
          ],
          [
           "SHA-256"
          ],
          [
           "Scrypt"
          ],
          [
           "SHA-256"
          ],
          [
           "Scrypt"
          ],
          [
           "Scrypt"
          ],
          [
           "Scrypt"
          ],
          [
           "Scrypt"
          ],
          [
           "Scrypt"
          ],
          [
           "Scrypt-n"
          ],
          [
           "Scrypt"
          ],
          [
           "SHA-256"
          ],
          [
           "SHA-256"
          ],
          [
           "SHA-256"
          ],
          [
           "SHA-256"
          ],
          [
           "SHA-256"
          ],
          [
           "SHA-256"
          ],
          [
           "Scrypt"
          ],
          [
           "Lyra2REv2"
          ],
          [
           "Scrypt"
          ],
          [
           "SHA-256"
          ],
          [
           "CryptoNight"
          ],
          [
           "CryptoNight"
          ],
          [
           "Scrypt"
          ],
          [
           "SHA-256"
          ],
          [
           "Scrypt"
          ],
          [
           "Scrypt"
          ],
          [
           "Scrypt"
          ],
          [
           "Scrypt"
          ],
          [
           "Scrypt"
          ],
          [
           "Momentum"
          ],
          [
           "Stanford Folding"
          ],
          [
           "Scrypt"
          ],
          [
           "Scrypt"
          ],
          [
           "M7 POW"
          ],
          [
           "Scrypt"
          ],
          [
           "X11"
          ],
          [
           "Scrypt"
          ],
          [
           "SHA-256"
          ],
          [
           "Scrypt"
          ],
          [
           "X11"
          ],
          [
           "X11"
          ],
          [
           "Lyra2RE"
          ],
          [
           "SHA-256"
          ],
          [
           "X11"
          ],
          [
           "Scrypt"
          ],
          [
           "Scrypt"
          ],
          [
           "Ethash"
          ],
          [
           "X11"
          ],
          [
           "SHA-256"
          ],
          [
           "Scrypt"
          ],
          [
           "Scrypt"
          ],
          [
           "1GB AES Pattern Search"
          ],
          [
           "Scrypt"
          ],
          [
           "CryptoNight"
          ],
          [
           "SHA-256"
          ],
          [
           "SHA-256"
          ],
          [
           "X11"
          ],
          [
           "Scrypt-n"
          ],
          [
           "X11"
          ],
          [
           "Scrypt"
          ],
          [
           "Dagger"
          ],
          [
           "Scrypt"
          ],
          [
           "CryptoNight-Lite"
          ],
          [
           "X11GOST"
          ],
          [
           "SHA-256"
          ],
          [
           "Scrypt"
          ],
          [
           "X11"
          ],
          [
           "SHA-256"
          ],
          [
           "Scrypt"
          ],
          [
           "X11"
          ],
          [
           "Equihash"
          ],
          [
           "CryptoNight"
          ],
          [
           "SHA-256"
          ],
          [
           "Multiple"
          ],
          [
           "Scrypt"
          ],
          [
           "SHA-256"
          ],
          [
           "Scrypt"
          ],
          [
           "Scrypt"
          ],
          [
           "Scrypt-n"
          ],
          [
           "Lyra2Z"
          ],
          [
           "SHA-256"
          ],
          [
           "Quark"
          ],
          [
           "Ethash"
          ],
          [
           "SHA-256"
          ],
          [
           "Equihash"
          ],
          [
           "Scrypt"
          ],
          [
           "Equihash"
          ],
          [
           "X11"
          ],
          [
           "X11"
          ],
          [
           "CryptoNight"
          ],
          [
           "Scrypt"
          ],
          [
           "CryptoNight"
          ],
          [
           "Lyra2RE"
          ],
          [
           "X11"
          ],
          [
           "X11"
          ],
          [
           "Scrypt"
          ],
          [
           "CryptoNight-V7"
          ],
          [
           "Keccak"
          ],
          [
           "Scrypt"
          ],
          [
           "X11"
          ],
          [
           "Equihash"
          ],
          [
           "Scrypt"
          ],
          [
           "Lyra2RE"
          ],
          [
           "Ethash"
          ],
          [
           "X11"
          ],
          [
           "Dagger-Hashimoto"
          ],
          [
           "Scrypt"
          ],
          [
           "NIST5"
          ],
          [
           "Scrypt"
          ],
          [
           "Scrypt"
          ],
          [
           "Scrypt"
          ],
          [
           "SHA-256"
          ],
          [
           "Scrypt"
          ],
          [
           "CryptoNight-V7"
          ],
          [
           "Blake2b"
          ],
          [
           "Cloverhash"
          ],
          [
           "CryptoNight"
          ],
          [
           "X11"
          ],
          [
           "Scrypt"
          ],
          [
           "Scrypt"
          ],
          [
           "X11"
          ],
          [
           "X11"
          ],
          [
           "CryptoNight"
          ],
          [
           "Time Travel"
          ],
          [
           "Scrypt"
          ],
          [
           "Keccak"
          ],
          [
           "X11"
          ],
          [
           "SHA-256"
          ],
          [
           "Scrypt"
          ],
          [
           "Scrypt"
          ],
          [
           "Scrypt"
          ],
          [
           "Scrypt"
          ],
          [
           "Scrypt"
          ],
          [
           "Scrypt"
          ],
          [
           "Scrypt"
          ],
          [
           "CryptoNight"
          ],
          [
           "Equihash"
          ],
          [
           "X11"
          ],
          [
           "NeoScrypt"
          ],
          [
           "Equihash"
          ],
          [
           "Dagger"
          ],
          [
           "Scrypt"
          ],
          [
           "X11"
          ],
          [
           "NeoScrypt"
          ],
          [
           "Scrypt"
          ],
          [
           "Ethash"
          ],
          [
           "Scrypt"
          ],
          [
           "NeoScrypt"
          ],
          [
           "Multiple"
          ],
          [
           "CryptoNight"
          ],
          [
           "CryptoNight"
          ],
          [
           "Ethash"
          ],
          [
           "X11"
          ],
          [
           "SHA-256"
          ],
          [
           "CryptoNight-V7"
          ],
          [
           "Scrypt"
          ],
          [
           "BLAKE256"
          ],
          [
           "X11"
          ],
          [
           "NeoScrypt"
          ],
          [
           "NeoScrypt"
          ],
          [
           "Scrypt"
          ],
          [
           "X11"
          ],
          [
           "SHA-256"
          ],
          [
           "C11"
          ],
          [
           "Ethash"
          ],
          [
           "CryptoNight"
          ],
          [
           "SkunkHash"
          ],
          [
           "CryptoNight"
          ],
          [
           "Equihash"
          ],
          [
           "Skein"
          ],
          [
           "Scrypt"
          ],
          [
           "Dagger"
          ],
          [
           "Lyra2REv2"
          ],
          [
           "Scrypt"
          ],
          [
           "Scrypt"
          ],
          [
           "Scrypt"
          ],
          [
           "NeoScrypt"
          ],
          [
           "Equihash"
          ],
          [
           "X11"
          ],
          [
           "Ethash"
          ],
          [
           "X11"
          ],
          [
           "CryptoNight"
          ],
          [
           "NeoScrypt"
          ],
          [
           "Scrypt"
          ],
          [
           "IMesh"
          ],
          [
           "Equihash"
          ],
          [
           "Equihash"
          ],
          [
           "Equihash"
          ],
          [
           "Lyra2Z"
          ],
          [
           "X11"
          ],
          [
           "CryptoNight"
          ],
          [
           "NIST5"
          ],
          [
           "Lyra2RE"
          ],
          [
           "Tribus"
          ],
          [
           "Lyra2Z"
          ],
          [
           "CryptoNight"
          ],
          [
           "CryptoNight Heavy"
          ],
          [
           "CryptoNight"
          ],
          [
           "Jump Consistent Hash"
          ],
          [
           "CryptoNight"
          ],
          [
           "X16R"
          ],
          [
           "HMQ1725"
          ],
          [
           "X11"
          ],
          [
           "Scrypt"
          ],
          [
           "CryptoNight-V7"
          ],
          [
           "Cryptonight-GPU"
          ],
          [
           "XEVAN"
          ],
          [
           "CryptoNight Heavy"
          ],
          [
           "Lyra2REv2"
          ],
          [
           "SHA-256"
          ],
          [
           "X11"
          ],
          [
           "X16R"
          ],
          [
           "Equihash"
          ],
          [
           "Quark"
          ],
          [
           "CryptoNight Heavy X"
          ],
          [
           "Lyra2Z"
          ],
          [
           "Ethash"
          ],
          [
           "SHA-256"
          ],
          [
           "Ethash"
          ],
          [
           "CryptoNight"
          ],
          [
           "SkunkHash"
          ],
          [
           "Argon2"
          ],
          [
           "Blake"
          ],
          [
           "Blake"
          ],
          [
           "SHA-256"
          ],
          [
           "Exosis"
          ],
          [
           "Scrypt"
          ],
          [
           "Equihash"
          ],
          [
           "Equihash"
          ],
          [
           "QuBit"
          ],
          [
           "Equihash1927"
          ],
          [
           "SHA-256"
          ],
          [
           "SHA-256"
          ],
          [
           "X13"
          ],
          [
           "SHA-256"
          ],
          [
           "X11"
          ],
          [
           "Scrypt"
          ],
          [
           "NeoScrypt"
          ],
          [
           "Blake"
          ],
          [
           "CryptoNight"
          ],
          [
           "Scrypt"
          ],
          [
           "SHA-256"
          ],
          [
           "CryptoNight"
          ],
          [
           "Scrypt"
          ],
          [
           "Groestl"
          ],
          [
           "Scrypt"
          ],
          [
           "Scrypt"
          ],
          [
           "Scrypt"
          ],
          [
           "Multiple"
          ],
          [
           "Equihash+Scrypt"
          ],
          [
           "Ethash"
          ],
          [
           "Ethash"
          ],
          [
           "CryptoNight"
          ],
          [
           "Equihash"
          ]
         ],
         "hovertemplate": "<b>%{hovertext}</b><br><br>Class=%{marker.color}<br>PC 1=%{x}<br>PC 2=%{y}<br>PC 3=%{z}<br>Algorithm=%{customdata[0]}<extra></extra>",
         "hovertext": [
          "Bitcoin",
          "Litecoin",
          "Ethereum Classic",
          "ZCash",
          "DigiByte",
          "ProsperCoin",
          "Spreadcoin",
          "ACoin",
          "Argentum",
          "BetaCoin",
          "MyriadCoin",
          "MoonCoin",
          "ZetaCoin",
          "SexCoin",
          "Quatloo",
          "QuarkCoin",
          "Riecoin",
          "Digitalcoin ",
          "LimeCoinX",
          "BitMark",
          "Catcoin",
          "CannaCoin",
          "CryptCoin",
          "Verge",
          "DarkShibe",
          "DevCoin",
          "EarthCoin",
          "E-Gulden",
          "Elacoin",
          "Einsteinium",
          "Emerald",
          "Flappy Coin",
          "FireRoosterCoin",
          "Franko",
          "FeatherCoin",
          "GrandCoin",
          "GlobalCoin",
          "GoldCoin",
          "HunterCoin",
          "Infinite Coin",
          "IXcoin",
          "KrugerCoin",
          "LuckyCoin",
          "Litebar ",
          "LitecoinDark",
          "MegaCoin",
          "MediterraneanCoin",
          "MinCoin",
          "NoirBits",
          "NobleCoin",
          "Namecoin",
          "NyanCoin",
          "RipOffCoin",
          "RonPaulCoin",
          "StableCoin",
          "SmartCoin",
          "SpainCoin",
          "SecureCoin",
          "SysCoin",
          "TigerCoin",
          "TerraCoin",
          "Umbrella",
          "UnbreakableCoin",
          "Unobtanium",
          "ViaCoin",
          "Vertcoin",
          "WorldCoin",
          "JouleCoin",
          "ByteCoin",
          "DigitalNote ",
          "MonaCoin",
          "Sling Coin",
          "Gulden",
          "PesetaCoin",
          "Wild Beast Coin",
          "Flo",
          "ArtByte",
          "BitCredit",
          "Folding Coin",
          "OmniCron",
          "GreenCoin",
          "Cryptonite",
          "Gridmaster",
          "ConSpiracy Coin ",
          "MasterCoin",
          "SoonCoin",
          "1Credit",
          "Quicksilver coin",
          "MarsCoin ",
          "Crypto",
          "Anarchists Prime",
          "BowsCoin",
          "Song Coin",
          "BitZeny",
          "Expanse",
          "MindCoin",
          "I0coin",
          "DogeCoinDark",
          "Revolution VR",
          "HOdlcoin",
          "Gamecredits",
          "Dashcoin",
          "CarpeDiemCoin",
          "Phalanx",
          "SunShotCoin",
          "HempCoin",
          "Adzcoin",
          "VirtaCoin",
          "SoilCoin",
          "YoCoin",
          "AEON",
          "SibCoin",
          "Anti Bitcoin",
          "Francs",
          "BolivarCoin",
          "Clinton",
          "Omni",
          "PizzaCoin",
          "Komodo",
          "Karbo",
          "ZayedCoin",
          "Circuits of Value",
          "DopeCoin",
          "DollarCoin",
          "Shilling",
          "GBR Coin",
          "FujiCoin",
          "ZCoin",
          "LeaCoin",
          "Zurcoin",
          "Elementrem",
          "CashOut",
          "ZClassic",
          "KiloCoin",
          "Hush",
          "ArtexCoin",
          "Kurrent",
          "Cannabis Industry Coin",
          "OsmiumCoin",
          "Bikercoins",
          "HexxCoin",
          "MarxCoin",
          "PacCoin",
          "Solarflarecoin",
          "Citadel",
          "CreativeChain",
          "BeaverCoin",
          "VaultCoin",
          "Zero",
          "Canada eCoin",
          "Zoin",
          "Musicoin",
          "BnrtxCoin",
          "DubaiCoin",
          "EB3coin",
          "Coinonat",
          "Bitcoin Scrypt",
          "BenjiRolls",
          "ParallelCoin",
          "ILCoin",
          "EquiTrader",
          "Quantum Resistant Ledger",
          "Nano",
          "ChanCoin",
          "Dinastycoin",
          "DigitalPrice",
          "Unify",
          "SocialCoin",
          "ArcticCoin",
          "DAS",
          "LeviarCoin",
          "Bitcore",
          "gCn Coin",
          "SmartCash",
          "Onix",
          "Bitcoin Cash",
          "CampusCoin",
          "Sojourn Coin",
          "LiteBitcoin",
          "FrazCoin",
          "Kronecoin",
          "AdCoin",
          "Linx",
          "Sumokoin",
          "BitcoinZ",
          "Elements",
          "VIVO Coin",
          "Bitcoin Gold",
          "Pirl",
          "eBoost",
          "Pura",
          "Innova",
          "Bitdeal",
          "Ellaism",
          "Sakuracoin",
          "GoByte",
          "SHIELD",
          "UltraNote",
          "BitCoal",
          "DaxxCoin",
          "AC3",
          "CHIPS",
          "Lethean",
          "PopularCoin",
          "Photon",
          "Sucre",
          "SparksPay",
          "GunCoin",
          "IrishCoin",
          "Pioneer Coin",
          "UnitedBitcoin",
          "Interzone",
          "1717 Masonic Commemorative Token",
          "TurtleCoin",
          "MUNcoin",
          "Niobio Cash",
          "Bitcoin Private",
          "Skeincoin",
          "ShareChain",
          "Travelflex",
          "KREDS",
          "BitFlip",
          "LottoCoin",
          "LeafCoin",
          "Cerberus",
          "Bitcoin Hush",
          "Crypto Improvement Fund",
          "Callisto Network",
          "Curium",
          "BitTube",
          "Dinero",
          "Poseidon",
          "Aidos Kuneen",
          "Snowgem",
          "Bitrolium",
          "Bitcoin Interest",
          "Alpenschillling",
          "FuturoCoin",
          "Monero Classic",
          "Jumpcoin",
          "Infinex",
          "KEYCO",
          "GINcoin",
          "PlatinCoin",
          "Loki",
          "Newton Coin",
          "MassGrid",
          "PluraCoin",
          "Motion",
          "PlusOneCoin",
          "Axe",
          "HexCoin",
          "Webchain",
          "Ryo",
          "Urals Coin",
          "Qwertycoin",
          "NIX",
          "Project Pai",
          "Azart",
          "Xchange",
          "CrypticCoin",
          "ZestCoin",
          "X-CASH",
          "Actinium",
          "ETHER-1",
          "Bitcoin SV",
          "Bitcoiin2Gen",
          "FREDEnergy",
          "C25 Coin",
          "Aquachain",
          "Universal Molecule",
          "Lithium",
          "Smart Bitcoin",
          "Exosis",
          "Block-Logic",
          "Beam",
          "Bithereum",
          "SLICE",
          "Vidulum",
          "BlockStamp",
          "BLAST",
          "Bitcoin Rhodium",
          "GlobalToken",
          "Boolberry",
          "SolarCoin",
          "UFO Coin",
          "BlakeCoin",
          "FantomCoin ",
          "Crypto Escudo",
          "Crown Coin",
          "Quazar Coin",
          "SmileyCoin",
          "Groestlcoin",
          "Bata",
          "Pakcoin",
          "Dotcoin",
          "JoinCoin",
          "Vollar",
          "Reality Clash",
          "iOlite",
          "Beldex",
          "Horizen"
         ],
         "legendgroup": "0",
         "marker": {
          "color": [
           0,
           0,
           0,
           0,
           0,
           0,
           0,
           0,
           0,
           0,
           0,
           0,
           0,
           0,
           0,
           0,
           0,
           0,
           0,
           0,
           0,
           0,
           0,
           0,
           0,
           0,
           0,
           0,
           0,
           0,
           0,
           0,
           0,
           0,
           0,
           0,
           0,
           0,
           0,
           0,
           0,
           0,
           0,
           0,
           0,
           0,
           0,
           0,
           0,
           0,
           0,
           0,
           0,
           0,
           0,
           0,
           0,
           0,
           0,
           0,
           0,
           0,
           0,
           0,
           0,
           0,
           0,
           0,
           0,
           0,
           0,
           0,
           0,
           0,
           0,
           0,
           0,
           0,
           0,
           0,
           0,
           0,
           0,
           0,
           0,
           0,
           0,
           0,
           0,
           0,
           0,
           0,
           0,
           0,
           0,
           0,
           0,
           0,
           0,
           0,
           0,
           0,
           0,
           0,
           0,
           0,
           0,
           0,
           0,
           0,
           0,
           0,
           0,
           0,
           0,
           0,
           0,
           0,
           0,
           0,
           0,
           0,
           0,
           0,
           0,
           0,
           0,
           0,
           0,
           0,
           0,
           0,
           0,
           0,
           0,
           0,
           0,
           0,
           0,
           0,
           0,
           0,
           0,
           0,
           0,
           0,
           0,
           0,
           0,
           0,
           0,
           0,
           0,
           0,
           0,
           0,
           0,
           0,
           0,
           0,
           0,
           0,
           0,
           0,
           0,
           0,
           0,
           0,
           0,
           0,
           0,
           0,
           0,
           0,
           0,
           0,
           0,
           0,
           0,
           0,
           0,
           0,
           0,
           0,
           0,
           0,
           0,
           0,
           0,
           0,
           0,
           0,
           0,
           0,
           0,
           0,
           0,
           0,
           0,
           0,
           0,
           0,
           0,
           0,
           0,
           0,
           0,
           0,
           0,
           0,
           0,
           0,
           0,
           0,
           0,
           0,
           0,
           0,
           0,
           0,
           0,
           0,
           0,
           0,
           0,
           0,
           0,
           0,
           0,
           0,
           0,
           0,
           0,
           0,
           0,
           0,
           0,
           0,
           0,
           0,
           0,
           0,
           0,
           0,
           0,
           0,
           0,
           0,
           0,
           0,
           0,
           0,
           0,
           0,
           0,
           0,
           0,
           0,
           0,
           0,
           0,
           0,
           0,
           0,
           0,
           0,
           0,
           0,
           0,
           0,
           0,
           0,
           0,
           0,
           0,
           0,
           0,
           0,
           0,
           0,
           0,
           0,
           0,
           0,
           0,
           0,
           0,
           0,
           0,
           0,
           0,
           0,
           0,
           0,
           0,
           0,
           0,
           0,
           0,
           0,
           0,
           0
          ],
          "coloraxis": "coloraxis",
          "symbol": "diamond"
         },
         "mode": "markers",
         "name": "0",
         "scene": "scene",
         "showlegend": true,
         "type": "scatter3d",
         "x": [
          -0.24983073786036514,
          -0.2434400276484646,
          -0.3900374988733476,
          -0.20003979925890011,
          -0.18153858070225412,
          -0.24421526973390242,
          -0.33242906802759487,
          -0.25007340721666504,
          -0.24412812934676809,
          -0.2500734071921635,
          -0.3130848174720298,
          -0.24429304119262032,
          -0.24776945305383116,
          -0.2425479558971289,
          -0.2441937537745812,
          -0.006464520867481499,
          -0.2859561211821932,
          -0.24384065430569465,
          -0.3325799952419083,
          -0.24429335185723386,
          -0.24419561966999007,
          -0.24422967829279427,
          -0.3325123540600448,
          -0.12030924803310476,
          -0.24429335187781542,
          0.004056980004469663,
          -0.07456026549281476,
          -0.2440102993400539,
          -0.2442933518190144,
          -0.24133061496503908,
          -0.24402943563269128,
          -0.24429327128164,
          -0.2500734072158572,
          -0.24427788339547007,
          -0.36814450973001717,
          -0.23232547373044699,
          -0.24340437986980207,
          -0.2437294438634638,
          -0.3359376971924022,
          0.9820467134399442,
          -0.2497879334207772,
          -0.242243296298694,
          -0.24403174315344028,
          -0.24427840303752266,
          -0.24429335181337,
          -0.24377691126403095,
          -0.3383699917508449,
          -0.2442147838553491,
          -0.2500734071776558,
          -0.21226532922078475,
          -0.24987392945444223,
          -0.2397625950009254,
          -0.24429335186979095,
          -0.24427840555038793,
          -0.24396556538798594,
          -0.2439469048762164,
          -0.4575417482314469,
          -0.24429335186253728,
          -0.24244785997605525,
          -0.24948407581299994,
          -0.24976294458053988,
          -0.25007340721583915,
          -0.25004256921284046,
          -0.2500706875961743,
          -0.24397997221588713,
          -0.23357042323132074,
          -0.2426743047431684,
          -0.249542838130645,
          2.2472135631470813,
          -0.15089776473973068,
          -0.24337024166794177,
          -0.2500734072171487,
          -0.23867530731933828,
          -0.24243185831287856,
          -0.2442908893464163,
          -0.24223215572585402,
          -0.23356525298194566,
          -0.22342469979771756,
          -0.3747051299233643,
          -0.24415609221931323,
          -0.181885947030601,
          -0.3433090932636633,
          -0.24429335181176054,
          -0.3325799952322367,
          -0.24428496637941813,
          -0.24990470824102742,
          -0.2442920836433619,
          -0.3325799952322367,
          -0.3321438312344643,
          -0.3054517205121024,
          -0.2498737832349586,
          -0.33236525605481254,
          -0.24385253491209005,
          -0.24326980385968883,
          -0.3914299126240846,
          -0.33236520384219476,
          -0.24978917703836773,
          -0.244293338580822,
          -0.24145070854204945,
          -0.29352678488981776,
          -0.2433480227043521,
          -0.2443880779557836,
          0.04420748011672085,
          -0.250073407205865,
          -0.33257999344538297,
          -0.4575417442418546,
          -0.331969363980027,
          -0.24429333495391997,
          -0.3515818083265941,
          -0.24428473633450157,
          -0.2632194839231874,
          -0.32674319197684776,
          -0.2500734071841036,
          -0.24420440680860597,
          -0.33239516817043374,
          -0.2500734072160033,
          -0.2442850073947007,
          -0.33256134320846387,
          0.40530404246987023,
          -0.24428219041524693,
          -0.24998888811906445,
          -0.322401300220232,
          -0.2427116884368098,
          -0.24995013512206393,
          -0.24414283796044822,
          -0.2442933518089397,
          -0.457541748263686,
          -0.37581718357131544,
          -0.2500734056059983,
          -0.00997798954401151,
          -0.39121725230182003,
          -0.25007340713735693,
          -0.20006375199629509,
          -0.2416361767426024,
          -0.20013973923227887,
          -0.3214260045198349,
          -0.33174933666345313,
          -0.2443748373956224,
          -0.2442812499872702,
          -0.24426141670156354,
          -0.30561235144000587,
          -0.33257999517772036,
          -0.3253111126415857,
          -0.24429335186334328,
          -0.3040371411640067,
          -0.25218950068515955,
          -0.2442511825107036,
          -0.3321686837495615,
          -0.2000460449870712,
          -0.24294183188203328,
          -0.3053867049740671,
          -0.3915719805106186,
          -0.3325799950895786,
          -0.2877038735465806,
          -0.24342571911115132,
          -0.24305621827975893,
          -0.24429335186253728,
          -0.24401888654266385,
          -0.24429335187865683,
          -0.23223585316380832,
          -0.24410826317676157,
          -0.3032511274034782,
          -0.45036757963249935,
          -0.3822308793607381,
          -0.21989441249176553,
          -0.33210434009623707,
          -0.24404789375495647,
          -0.24422339876997476,
          -0.33222747545252695,
          -0.33254449081994025,
          -0.24419637815309644,
          -0.34369196756116904,
          1.9628851852290228,
          -0.22185430937739914,
          -0.3309221156259037,
          -0.24982981177261593,
          -0.24429335106542474,
          -0.24428677536782387,
          -0.2442933510734846,
          -0.24416199410765355,
          -0.24405709094746175,
          -0.243851432717822,
          -0.24383695154987495,
          -0.24426697246077872,
          -0.1295940734456244,
          -0.2959930690386374,
          -0.37091274527610396,
          -0.19990688125977507,
          -0.35119893218330966,
          -0.24293984753872458,
          -0.33020820371703086,
          -0.37088283941736083,
          -0.24429335163766944,
          -0.39139930541585405,
          -0.24429335179475453,
          -0.3708901890435353,
          -0.3294168009612496,
          0.016618361540854963,
          -0.24432716417840186,
          -0.3845209753900143,
          -0.3314928028292559,
          -0.2500734072010292,
          -0.29821268763613057,
          -0.1906323497671578,
          0.172585674504182,
          -0.3325227492757501,
          -0.37086291171901087,
          -0.3669109532584127,
          -0.24367767525896206,
          -0.33246523226229574,
          -0.2498004322391819,
          -0.28713158176269094,
          -0.1465044919278567,
          0.4749345829002449,
          -0.28642906713353716,
          -0.24257511477359212,
          -0.20013973923227887,
          -0.22838187986302325,
          -0.10892938343120871,
          -0.35020619614420934,
          -0.22554845377801402,
          -0.2441248765084469,
          -0.04813722683653602,
          -0.24429333495391997,
          -0.3709691374594571,
          -0.20013973923227887,
          -0.3297197863390292,
          -0.3882201954104398,
          -0.33257999524110243,
          -0.24330450107591484,
          -0.37096913740424775,
          -0.2442382558589221,
          -0.32917716515183093,
          -0.20013973918142475,
          -0.1991738431965732,
          -0.20013973923123113,
          -0.3755495387408423,
          -0.3321495180049979,
          -0.24417126734141706,
          -0.24290804693095375,
          -0.30556874334136397,
          -0.3083075519348112,
          -0.37582506015914496,
          -0.24438693636887793,
          0.21812542716788044,
          0.31459104751355693,
          -0.2633068645233052,
          -0.23680653189712897,
          -0.27626528610619083,
          -0.4369002119218432,
          -0.33251240760095474,
          -0.24427417534933146,
          -0.3039747251942465,
          -0.48030295587449573,
          -0.5812117835923317,
          1.5654566355944464,
          -0.23426313095034104,
          -0.2216469738438212,
          -0.3325120982819337,
          -0.27624325029866764,
          -0.14281158653694825,
          -0.00997798962194959,
          -0.43917449729936514,
          -0.3757350640436583,
          -0.391571980866242,
          -0.2498298533970336,
          -0.391571980796659,
          -0.2191148772673158,
          -0.2864942900868111,
          -0.3762253118052165,
          -0.25164112713551695,
          -0.25144798394609275,
          -0.25007340720102944,
          -0.2604055130009518,
          -0.24381572387696018,
          -0.19965665863302906,
          -0.19979928820402199,
          -0.3877322907193134,
          -0.33099265294137076,
          -0.2500734071333271,
          -0.24936553708338755,
          -0.18422042633445984,
          -0.24892805065087595,
          -0.33257999524396376,
          -0.24354112193310415,
          -0.3191966832146576,
          -0.2513463190576542,
          -0.24438807795582146,
          -0.23373211004453837,
          -0.24976224700828642,
          -0.2443880779557836,
          0.15616728430353766,
          -0.28563463692014923,
          -0.24422495847749387,
          -0.24335007534620512,
          -0.24429335116214218,
          -0.3358925814650698,
          -0.44257067809282624,
          -0.3912405023480617,
          -0.39157198007127847,
          -0.23111939558995595,
          -0.2000409704109664
         ],
         "y": [
          -1.4104563197647235,
          -1.0417469115656592,
          -2.0252678841362894,
          -1.7889525447110648,
          -1.8294905246125461,
          -1.041645185938447,
          -0.7997713040342451,
          -1.4104244772006773,
          -1.0416566198410822,
          -1.4104244768021197,
          -1.8122294154021839,
          -1.0416299060959384,
          -1.4107267974458122,
          -1.0418639660987983,
          -1.041648008196161,
          -0.4913807829278946,
          -1.4456275074946918,
          -1.0416943422261276,
          -0.7997514995090024,
          -1.0416349399965035,
          -1.0416477643993884,
          -1.041643295366221,
          -0.7997603753541567,
          -1.8375250326840444,
          -1.0416349403312926,
          -1.4437709246764703,
          -1.0639069609320284,
          -1.0416720819402618,
          -1.041634939374805,
          -1.0420237036512285,
          -1.0416695707504744,
          -1.041633629311616,
          -1.410424477187535,
          -1.0416369699679697,
          -1.578924643333969,
          -1.0432053341014549,
          -1.0417515894151104,
          -1.041708934826403,
          -1.809230710180448,
          -1.2025528103656853,
          -1.4104619365187514,
          -1.04190394301051,
          -1.0416692681185975,
          -1.0416369019117335,
          -1.0416349392829898,
          -1.0417027066032227,
          -2.218306168283467,
          -1.0416452498403037,
          -1.4104244765661313,
          -1.0458374259237044,
          -1.4104506522086901,
          -1.0422294571076942,
          -1.0416349402007643,
          -1.0416369013222992,
          -1.0416779488563925,
          -1.0416804000967164,
          -2.1763279643003464,
          -1.0416349400827702,
          -1.4114250818605534,
          -1.4105018080541085,
          -1.4104652152508268,
          -1.4104244771872396,
          -1.4104285226953015,
          -1.4104248340842902,
          -1.0416760614075082,
          -1.3508089494892632,
          -1.0418473865308788,
          -1.4104940973505184,
          -2.58291531863013,
          -2.2682399511556817,
          -1.0417560685302851,
          -1.4104244772085441,
          -1.0423721121165888,
          -1.0418792014080684,
          -1.041635263454382,
          -1.0419054062581519,
          -1.0430426571169011,
          -2.1375483565422013,
          -2.1308650287241653,
          -1.0416529513833235,
          -1.049823842926896,
          -2.1570685625928694,
          -1.0416349392568107,
          -0.7997514993516769,
          -1.0416360406864937,
          -1.4104466134483393,
          -1.04163389088207,
          -0.7997514993516769,
          -0.7998087323376477,
          -2.1376550060901827,
          -1.4104506709624955,
          -0.799779677361703,
          -1.0416927811233112,
          -1.0417692459602146,
          -2.025085175604657,
          -0.7997796842790692,
          -1.4104617733325455,
          -1.0416347240354218,
          -1.0420079462837248,
          -2.0151310970485268,
          -1.0417589843586958,
          -2.255972381448063,
          -1.4490394232486328,
          -1.4104244770249974,
          -0.7997514702857765,
          -2.1763278994035464,
          -0.7998316250752193,
          -1.0416346650383301,
          -2.1997596795904832,
          -1.0416360686559671,
          -2.13724588194592,
          -2.216695105979046,
          -1.4104244766710146,
          -1.0416466113734182,
          -0.799775752272149,
          -1.4104244771899108,
          -1.0416360353045508,
          -0.7997539469565592,
          -0.5522597491448569,
          -2.2559862760125933,
          -1.4104355676011977,
          -1.8110069268024929,
          -1.0418424819461116,
          -1.410440652717218,
          -1.0416546902414507,
          -1.0416349392109243,
          -2.176327964824766,
          -2.1261949736109362,
          -1.4104244510007247,
          -0.4909197508229927,
          -2.0251130805479773,
          -1.4104244759106082,
          -1.7889494016577872,
          -1.0419834799525862,
          -1.7889394306917443,
          -0.8012151082355556,
          -0.7998604949276313,
          -2.2559741188268463,
          -1.041636528319919,
          -2.2559890017194446,
          -2.1376339290042763,
          -0.799751498464885,
          -0.8007039933758453,
          -1.0416349400958809,
          -2.105385823639846,
          -1.4861587918063484,
          -1.0416404737343758,
          -0.7998054584363861,
          -1.7889517252059794,
          -1.0418122840843103,
          -2.137663537953379,
          -2.0250665278158024,
          -0.7997514970311247,
          -2.145678112439098,
          -1.0417487373623018,
          -0.5080412216339875,
          -1.0416349400827702,
          -1.0416709549445653,
          -1.0416349403449796,
          -1.4127650694645861,
          -1.0416592265535105,
          -2.105488964604974,
          -2.117342335023347,
          -2.1041443934903112,
          -2.2591863885566026,
          -0.7998139134382293,
          -1.0416671488630287,
          -1.0416441185411158,
          -0.7997977562735452,
          -0.7997561583900659,
          -2.255997535626833,
          -2.160588616434329,
          -1.3312559682429859,
          -1.4901392794855504,
          -0.7999690304869297,
          -1.4104564412849963,
          -1.0416349271165206,
          -1.0416356645507485,
          -1.041634927247625,
          -1.041652176723908,
          -1.0416659411616012,
          -1.0416929272090532,
          -1.0416948274128437,
          -2.2559882718541306,
          -1.7981960822922403,
          -0.8045523743860248,
          -1.578561402429699,
          -1.7889699860726138,
          -2.1998099185303337,
          -1.0418125444677746,
          -0.8000627191769741,
          -1.5785653264074748,
          -1.0416349364249506,
          -2.025089188373571,
          -1.04163493898018,
          -1.5785643621716294,
          -1.8100863672314567,
          -2.2902202517333934,
          -2.2559803745691447,
          -2.025991627221144,
          -0.7998941527748138,
          -1.4104244769463345,
          -2.1061500916072173,
          -1.0486762151413227,
          -1.2885522457342535,
          -0.7997590112809783,
          -1.5785679416165073,
          -1.5790865071632303,
          -1.041715727957799,
          -0.7997665585613473,
          -1.4104602964478274,
          -1.023565510047696,
          -0.11112077462210694,
          -2.3503479365892397,
          -1.4157646599500193,
          -2.2562102723936355,
          -1.7889394306917443,
          -0.7965692402425852,
          -1.059397127293076,
          -2.1999401850646314,
          -1.3518615705465997,
          -1.0416570469923316,
          -1.0673740997203016,
          -1.0416346650383301,
          -1.5785540026466005,
          -1.7889394306917443,
          -0.8001268068146968,
          -2.0255062656757867,
          -0.7997514994958921,
          -2.2561145543063787,
          -1.5785540017485344,
          -1.0416421697230387,
          -2.1371822471057382,
          -1.7889394298645265,
          -1.7890661739169667,
          -1.7889394306747002,
          -2.126230090005074,
          -0.7998079852400485,
          -2.2560008311119124,
          -0.5080606648843778,
          -2.1376396509984468,
          -2.0186229649690737,
          -2.1261939401973335,
          -2.2559725235599637,
          -2.1631688775212927,
          -2.329318609147993,
          -2.120974585044602,
          -2.256967211061058,
          -1.193745840909128,
          -2.2057523455348,
          -0.7997603682889252,
          -1.041637456390273,
          -2.105393993115065,
          -2.1659440472842477,
          -0.6902508297129942,
          -2.339961840814847,
          -1.3507180519004403,
          -1.4141545364780017,
          -0.7997604088245807,
          -1.1937487313949986,
          -1.7964618710742677,
          -0.49091975209077454,
          -2.272587410905436,
          -2.1262057484225765,
          -2.025066533600561,
          -1.4104564358230836,
          -2.0250665324686854,
          -2.259288598003025,
          -1.4157561016007236,
          -2.203612069609172,
          -1.7151551600574209,
          -1.7151805051616367,
          -1.4104244769463374,
          -2.031885056203941,
          -1.0416976126216722,
          -1.7890028168296623,
          -1.7889841041907864,
          -1.18956529502204,
          -2.128412251656643,
          -1.410424475845056,
          -1.4105173623583542,
          -0.26751482123740133,
          -1.4105747674983484,
          -0.7997514995424343,
          -1.041732350677366,
          -1.585347477776178,
          -1.715193753342377,
          -2.255972381448675,
          -1.0430207623067578,
          -1.4104653067855317,
          -2.255972381448063,
          -1.0941823075583375,
          -1.4456696920475205,
          -1.0416439148030536,
          -1.0417587137179773,
          -1.0416349286897761,
          -1.8092366307373222,
          -2.171100493362885,
          -2.0251100297238005,
          -2.0250665206692675,
          -2.2577134658805416,
          -1.7889523910337104
         ],
         "z": [
          0.1721456553184025,
          0.0030854359810006584,
          0.389179958249036,
          0.29097694209037833,
          0.27982151099173924,
          0.0031029095157577686,
          0.02018080192154501,
          0.17215112495182053,
          0.0031009452135256272,
          0.17215112477749078,
          0.28278653909006096,
          0.0031024674412842,
          0.17209919518749914,
          0.003065328634632489,
          0.003102424116144642,
          0.02086846785288857,
          0.18840347221642542,
          0.0030944659065862343,
          0.020184203663000406,
          0.0031046693704432737,
          0.0031024666231379543,
          0.00310323431507199,
          0.020182679116139482,
          0.2784414890040706,
          0.003104669516880461,
          0.1664231623282025,
          -0.0007210202013563825,
          0.0030982896898321213,
          0.003104669098511656,
          0.0030378907133114448,
          0.0030987209396854723,
          0.0031040960753545696,
          0.1721511249460722,
          0.003104320820347387,
          0.22746879737526135,
          0.0028349175062822047,
          0.003084632596055847,
          0.003091959197746748,
          0.283301631140122,
          -0.02453631644897988,
          0.1721446905495184,
          0.0030584618264401023,
          0.0030987730174719774,
          0.0031043325890659354,
          0.0031046690583516542,
          0.0030930292379711993,
          0.3415834011450649,
          0.003102898627425279,
          0.17215112467426924,
          0.002382704458737887,
          0.1721466288133738,
          0.0030025489122752097,
          0.003104669459787301,
          0.003104332533376946,
          0.003097280122627224,
          0.0030968606699283132,
          0.42999282384354415,
          0.0031046694081765815,
          0.17197924774184667,
          0.17213784175684343,
          0.1721441272062218,
          0.17215112494594262,
          0.1721504294461572,
          0.17215106366203492,
          0.0030976061356113756,
          0.14332261454362574,
          0.0030681763220244593,
          0.1721391662117114,
          0.2969823493832774,
          0.35103435708166425,
          0.00308386295466211,
          0.17215112495526116,
          0.002978034867588722,
          0.0030627123901582507,
          0.0031046140105681565,
          0.0030582113317896365,
          0.0028628632844161297,
          0.37602803648143185,
          0.43949525862820443,
          0.0031015758150426307,
          0.001698012409396881,
          0.31787979726575055,
          0.0031046690469009454,
          0.020184203594186035,
          0.0031044805243479706,
          0.17214732253617712,
          0.0031041150381179907,
          0.020184203594186035,
          0.02017437289763067,
          0.2826096027660751,
          0.17214662533046604,
          0.020179363658328692,
          0.003094732756996078,
          0.0030815983595874424,
          0.38921134295425625,
          0.02017936251009074,
          0.17214471857940447,
          0.0031045749088158673,
          0.0030405980146866046,
          0.367293081973389,
          0.00308336228236442,
          0.35314159149698365,
          0.16551820697505282,
          0.1721511248749778,
          0.020184190880727534,
          0.4299927954576085,
          0.020170440290164453,
          0.003104549103419683,
          0.31524815410411505,
          0.003104474380550923,
          0.37468094201243274,
          0.28821969394926555,
          0.17215112472014543,
          0.003102664682095237,
          0.020180037824377245,
          0.1721511249471112,
          0.0031044814488082988,
          0.020183783242115252,
          0.22065472133070643,
          0.35313920494691264,
          0.17214921993010587,
          0.28299652778685114,
          0.003069019286739783,
          0.17214834647148544,
          0.003101276925198055,
          0.0031046690268301817,
          0.4299928240729255,
          0.3212720223048929,
          0.17215111349193085,
          0.020947658584535473,
          0.38920654975194346,
          0.1721511243875424,
          0.29097748196091927,
          0.003044722317618802,
          0.2909791946365708,
          0.019932801224909376,
          0.020165480273231576,
          0.35314129305351794,
          0.0031043967486428627,
          0.353138736642615,
          0.28261322354407403,
          0.0201842032063023,
          0.02001979886463189,
          0.0031046694139110743,
          0.34221304210761966,
          0.11963821964828542,
          0.0031037190543588785,
          0.02017492752052611,
          0.2909770828856578,
          0.0030742070594882757,
          0.28260813763745946,
          0.3892145425173934,
          0.02018420257917372,
          0.21051101003647968,
          0.0030850910957106663,
          -0.06517998627008303,
          0.0031046694081765815,
          0.0030984831537132396,
          0.0031046695228671333,
          0.17174907019426952,
          0.0031004974043616117,
          0.3421953266076111,
          0.4099217197821415,
          0.34512275637276413,
          0.35258951765666696,
          0.020173482424212855,
          0.003099137039873338,
          0.0031030924273474842,
          0.020176257999592787,
          0.020183403441146584,
          0.35313727057356153,
          0.4151126946784301,
          -0.04664405161119386,
          0.11895446711057586,
          0.02014683056078349,
          0.17214563444532657,
          0.0031046637367239667,
          0.003104461278814405,
          0.003104663794069304,
          0.003101708742597079,
          0.0030993439653336946,
          0.00309470854482134,
          0.0030943821539027674,
          0.35313886149861135,
          0.28938904656482634,
          0.019359561081846173,
          0.22753119237853478,
          0.2909739462527522,
          0.31523952374003356,
          0.003074162334391809,
          0.02013074399374855,
          0.22753051822774972,
          0.003104667808241942,
          0.38921065159471635,
          0.003104668925902311,
          0.2275306839563663,
          0.2831546531839231,
          0.3472582838397286,
          0.35314021859587885,
          0.389055565410957,
          0.0201596964187019,
          0.17215112484057057,
          0.34208176014429703,
          0.0018951760864985925,
          0.10212046878440006,
          0.02018291340352634,
          0.2275300692147227,
          0.22744099331918397,
          0.0030907924327551826,
          0.02018161700976754,
          0.17214497226504516,
          0.09501343241223825,
          0.13025552148944133,
          0.3369230680341091,
          0.16873043216297795,
          0.353100727320325,
          0.2909791946365708,
          -0.014257930213067165,
          5.364505645656371e-05,
          0.31521714879294555,
          0.14314180163600365,
          0.003100872035023812,
          -0.0013165968900971622,
          0.003104549103419683,
          0.22753246337574146,
          0.2909791946365708,
          0.02011973470125549,
          0.38913896210613247,
          0.02018420365726585,
          0.35311716315618713,
          0.2275324629829261,
          0.0031034275998298383,
          0.38425449002394246,
          0.2909791942747446,
          0.2909574240341141,
          0.29097919462911587,
          0.321265988267805,
          0.020174500688705844,
          0.353136704804698,
          -0.06518332574704362,
          0.2826122405684552,
          0.3483267184747281,
          0.32127219989754585,
          0.3531415624423919,
          0.34171888941674955,
          0.34054171413982287,
          0.3167270330890676,
          0.352970705485337,
          0.16219046989541352,
          0.5075987476977933,
          0.020182680305748293,
          0.0031042371825938837,
          0.34221162636850583,
          0.45310519390361004,
          0.15758950528557975,
          0.31135034937827305,
          0.14333822695669515,
          0.17151040982184526,
          0.020182673311144178,
          0.16218997278509542,
          0.289687032576837,
          0.020947659139064764,
          0.3315428775281184,
          0.32127017105572814,
          0.38921454504765346,
          0.1721456353834989,
          0.3892145445525696,
          0.35257191296350904,
          0.16873190228257676,
          0.333265920621948,
          0.27546302950133705,
          0.2754586767053565,
          0.1721511248405721,
          0.34330944055076257,
          0.003093903589240103,
          0.29096830510492516,
          0.29097152115729163,
          0.2069884990456877,
          0.30037567683944194,
          0.1721511243588699,
          0.17213516991633704,
          -0.06917610371572125,
          0.17212530881893445,
          0.02018420367762353,
          0.0030871542488208363,
          0.2263655417940438,
          0.27545634541097086,
          0.353141591497252,
          0.002866624074299858,
          0.17214411148364686,
          0.35314159149698365,
          -0.005921595088466231,
          0.1883962261653933,
          0.0031031279817272076,
          0.0030834079866373606,
          0.0031046644248678254,
          0.2833006145012173,
          0.41449652197934556,
          0.38920707379435204,
          0.38921453939149037,
          0.3528425208817143,
          0.2909769684869656
         ]
        },
        {
         "customdata": [
          [
           "DPoS"
          ],
          [
           "VeChainThor Authority"
          ],
          [
           "Quark"
          ],
          [
           "DPoS"
          ],
          [
           "Semux BFT consensus"
          ],
          [
           "DPoS"
          ],
          [
           "DPoS"
          ],
          [
           "SHA-256"
          ]
         ],
         "hovertemplate": "<b>%{hovertext}</b><br><br>Class=%{marker.color}<br>PC 1=%{x}<br>PC 2=%{y}<br>PC 3=%{z}<br>Algorithm=%{customdata[0]}<extra></extra>",
         "hovertext": [
          "ARK",
          "Vechain",
          "Castle",
          "Lamden Tau",
          "Semux",
          "ALAX",
          "Lisk",
          "ZEPHYR"
         ],
         "legendgroup": "4",
         "marker": {
          "color": [
           4,
           4,
           4,
           4,
           4,
           4,
           4,
           4
          ],
          "coloraxis": "coloraxis",
          "symbol": "square"
         },
         "mode": "markers",
         "name": "4",
         "scene": "scene",
         "showlegend": true,
         "type": "scatter3d",
         "x": [
          7.162887136424725,
          7.446500621252117,
          4.520159523511378,
          7.165322178482367,
          7.893228373052016,
          7.174958866907553,
          7.163047002048128,
          4.307136899524796
         ],
         "y": [
          0.26668912743975076,
          1.7059772620307725,
          0.6848637603579245,
          0.2663696087106266,
          0.07345251790869262,
          0.26510509909030094,
          0.26666815050047377,
          -0.23819340242300113
         ],
         "z": [
          -0.3510907232787118,
          6.854591847172294,
          -0.33720405836427825,
          -0.3511456088141242,
          -0.478246456828698,
          -0.35136281290897625,
          -0.3510943266882148,
          -0.1866107973166391
         ]
        },
        {
         "customdata": [
          [
           "SHA-256 + Hive"
          ],
          [
           "ECC 256K1"
          ],
          [
           "SHA3-256"
          ],
          [
           "Leased POS"
          ]
         ],
         "hovertemplate": "<b>%{hovertext}</b><br><br>Class=%{marker.color}<br>PC 1=%{x}<br>PC 2=%{y}<br>PC 3=%{z}<br>Algorithm=%{customdata[0]}<extra></extra>",
         "hovertext": [
          "LitecoinCash",
          "Acute Angle Cloud",
          "Fiii",
          "Waves"
         ],
         "legendgroup": "3",
         "marker": {
          "color": [
           3,
           3,
           3,
           3
          ],
          "coloraxis": "coloraxis",
          "symbol": "x"
         },
         "mode": "markers",
         "name": "3",
         "scene": "scene",
         "showlegend": true,
         "type": "scatter3d",
         "x": [
          -0.28206362695246656,
          0.16466202395618978,
          -0.4792811617593315,
          -0.234935832170146
         ],
         "y": [
          2.739042540455619,
          2.9312658675515695,
          3.600214055958524,
          2.6558039561525306
         ],
         "z": [
          16.99723148418011,
          18.570554028338478,
          17.123721901397605,
          13.01968894470528
         ]
        },
        {
         "customdata": [
          [
           "TRC10"
          ]
         ],
         "hovertemplate": "<b>%{hovertext}</b><br><br>Class=%{marker.color}<br>PC 1=%{x}<br>PC 2=%{y}<br>PC 3=%{z}<br>Algorithm=%{customdata[0]}<extra></extra>",
         "hovertext": [
          "BitTorrent"
         ],
         "legendgroup": "2",
         "marker": {
          "color": [
           2
          ],
          "coloraxis": "coloraxis",
          "symbol": "cross"
         },
         "mode": "markers",
         "name": "2",
         "scene": "scene",
         "showlegend": true,
         "type": "scatter3d",
         "x": [
          31.792966468303632
         ],
         "y": [
          -3.2951888742860627
         ],
         "z": [
          -0.8986048982952566
         ]
        }
       ],
       "layout": {
        "autosize": true,
        "coloraxis": {
         "colorbar": {
          "title": {
           "text": "Class"
          }
         },
         "colorscale": [
          [
           0,
           "#0d0887"
          ],
          [
           0.1111111111111111,
           "#46039f"
          ],
          [
           0.2222222222222222,
           "#7201a8"
          ],
          [
           0.3333333333333333,
           "#9c179e"
          ],
          [
           0.4444444444444444,
           "#bd3786"
          ],
          [
           0.5555555555555556,
           "#d8576b"
          ],
          [
           0.6666666666666666,
           "#ed7953"
          ],
          [
           0.7777777777777778,
           "#fb9f3a"
          ],
          [
           0.8888888888888888,
           "#fdca26"
          ],
          [
           1,
           "#f0f921"
          ]
         ]
        },
        "legend": {
         "title": {
          "text": "Class"
         },
         "tracegroupgap": 0
        },
        "scene": {
         "aspectmode": "auto",
         "aspectratio": {
          "x": 1,
          "y": 1,
          "z": 1
         },
         "camera": {
          "center": {
           "x": 0,
           "y": 0,
           "z": 0
          },
          "eye": {
           "x": 1.5203340264438436,
           "y": 1.5203340264438439,
           "z": 1.5203340264438436
          },
          "projection": {
           "type": "perspective"
          },
          "up": {
           "x": 0,
           "y": 0,
           "z": 1
          }
         },
         "domain": {
          "x": [
           0,
           1
          ],
          "y": [
           0,
           1
          ]
         },
         "xaxis": {
          "title": {
           "text": "PC 1"
          },
          "type": "linear"
         },
         "yaxis": {
          "title": {
           "text": "PC 2"
          },
          "type": "linear"
         },
         "zaxis": {
          "title": {
           "text": "PC 3"
          },
          "type": "linear"
         }
        },
        "template": {
         "data": {
          "bar": [
           {
            "error_x": {
             "color": "#2a3f5f"
            },
            "error_y": {
             "color": "#2a3f5f"
            },
            "marker": {
             "line": {
              "color": "#E5ECF6",
              "width": 0.5
             }
            },
            "type": "bar"
           }
          ],
          "barpolar": [
           {
            "marker": {
             "line": {
              "color": "#E5ECF6",
              "width": 0.5
             }
            },
            "type": "barpolar"
           }
          ],
          "carpet": [
           {
            "aaxis": {
             "endlinecolor": "#2a3f5f",
             "gridcolor": "white",
             "linecolor": "white",
             "minorgridcolor": "white",
             "startlinecolor": "#2a3f5f"
            },
            "baxis": {
             "endlinecolor": "#2a3f5f",
             "gridcolor": "white",
             "linecolor": "white",
             "minorgridcolor": "white",
             "startlinecolor": "#2a3f5f"
            },
            "type": "carpet"
           }
          ],
          "choropleth": [
           {
            "colorbar": {
             "outlinewidth": 0,
             "ticks": ""
            },
            "type": "choropleth"
           }
          ],
          "contour": [
           {
            "colorbar": {
             "outlinewidth": 0,
             "ticks": ""
            },
            "colorscale": [
             [
              0,
              "#0d0887"
             ],
             [
              0.1111111111111111,
              "#46039f"
             ],
             [
              0.2222222222222222,
              "#7201a8"
             ],
             [
              0.3333333333333333,
              "#9c179e"
             ],
             [
              0.4444444444444444,
              "#bd3786"
             ],
             [
              0.5555555555555556,
              "#d8576b"
             ],
             [
              0.6666666666666666,
              "#ed7953"
             ],
             [
              0.7777777777777778,
              "#fb9f3a"
             ],
             [
              0.8888888888888888,
              "#fdca26"
             ],
             [
              1,
              "#f0f921"
             ]
            ],
            "type": "contour"
           }
          ],
          "contourcarpet": [
           {
            "colorbar": {
             "outlinewidth": 0,
             "ticks": ""
            },
            "type": "contourcarpet"
           }
          ],
          "heatmap": [
           {
            "colorbar": {
             "outlinewidth": 0,
             "ticks": ""
            },
            "colorscale": [
             [
              0,
              "#0d0887"
             ],
             [
              0.1111111111111111,
              "#46039f"
             ],
             [
              0.2222222222222222,
              "#7201a8"
             ],
             [
              0.3333333333333333,
              "#9c179e"
             ],
             [
              0.4444444444444444,
              "#bd3786"
             ],
             [
              0.5555555555555556,
              "#d8576b"
             ],
             [
              0.6666666666666666,
              "#ed7953"
             ],
             [
              0.7777777777777778,
              "#fb9f3a"
             ],
             [
              0.8888888888888888,
              "#fdca26"
             ],
             [
              1,
              "#f0f921"
             ]
            ],
            "type": "heatmap"
           }
          ],
          "heatmapgl": [
           {
            "colorbar": {
             "outlinewidth": 0,
             "ticks": ""
            },
            "colorscale": [
             [
              0,
              "#0d0887"
             ],
             [
              0.1111111111111111,
              "#46039f"
             ],
             [
              0.2222222222222222,
              "#7201a8"
             ],
             [
              0.3333333333333333,
              "#9c179e"
             ],
             [
              0.4444444444444444,
              "#bd3786"
             ],
             [
              0.5555555555555556,
              "#d8576b"
             ],
             [
              0.6666666666666666,
              "#ed7953"
             ],
             [
              0.7777777777777778,
              "#fb9f3a"
             ],
             [
              0.8888888888888888,
              "#fdca26"
             ],
             [
              1,
              "#f0f921"
             ]
            ],
            "type": "heatmapgl"
           }
          ],
          "histogram": [
           {
            "marker": {
             "colorbar": {
              "outlinewidth": 0,
              "ticks": ""
             }
            },
            "type": "histogram"
           }
          ],
          "histogram2d": [
           {
            "colorbar": {
             "outlinewidth": 0,
             "ticks": ""
            },
            "colorscale": [
             [
              0,
              "#0d0887"
             ],
             [
              0.1111111111111111,
              "#46039f"
             ],
             [
              0.2222222222222222,
              "#7201a8"
             ],
             [
              0.3333333333333333,
              "#9c179e"
             ],
             [
              0.4444444444444444,
              "#bd3786"
             ],
             [
              0.5555555555555556,
              "#d8576b"
             ],
             [
              0.6666666666666666,
              "#ed7953"
             ],
             [
              0.7777777777777778,
              "#fb9f3a"
             ],
             [
              0.8888888888888888,
              "#fdca26"
             ],
             [
              1,
              "#f0f921"
             ]
            ],
            "type": "histogram2d"
           }
          ],
          "histogram2dcontour": [
           {
            "colorbar": {
             "outlinewidth": 0,
             "ticks": ""
            },
            "colorscale": [
             [
              0,
              "#0d0887"
             ],
             [
              0.1111111111111111,
              "#46039f"
             ],
             [
              0.2222222222222222,
              "#7201a8"
             ],
             [
              0.3333333333333333,
              "#9c179e"
             ],
             [
              0.4444444444444444,
              "#bd3786"
             ],
             [
              0.5555555555555556,
              "#d8576b"
             ],
             [
              0.6666666666666666,
              "#ed7953"
             ],
             [
              0.7777777777777778,
              "#fb9f3a"
             ],
             [
              0.8888888888888888,
              "#fdca26"
             ],
             [
              1,
              "#f0f921"
             ]
            ],
            "type": "histogram2dcontour"
           }
          ],
          "mesh3d": [
           {
            "colorbar": {
             "outlinewidth": 0,
             "ticks": ""
            },
            "type": "mesh3d"
           }
          ],
          "parcoords": [
           {
            "line": {
             "colorbar": {
              "outlinewidth": 0,
              "ticks": ""
             }
            },
            "type": "parcoords"
           }
          ],
          "pie": [
           {
            "automargin": true,
            "type": "pie"
           }
          ],
          "scatter": [
           {
            "marker": {
             "colorbar": {
              "outlinewidth": 0,
              "ticks": ""
             }
            },
            "type": "scatter"
           }
          ],
          "scatter3d": [
           {
            "line": {
             "colorbar": {
              "outlinewidth": 0,
              "ticks": ""
             }
            },
            "marker": {
             "colorbar": {
              "outlinewidth": 0,
              "ticks": ""
             }
            },
            "type": "scatter3d"
           }
          ],
          "scattercarpet": [
           {
            "marker": {
             "colorbar": {
              "outlinewidth": 0,
              "ticks": ""
             }
            },
            "type": "scattercarpet"
           }
          ],
          "scattergeo": [
           {
            "marker": {
             "colorbar": {
              "outlinewidth": 0,
              "ticks": ""
             }
            },
            "type": "scattergeo"
           }
          ],
          "scattergl": [
           {
            "marker": {
             "colorbar": {
              "outlinewidth": 0,
              "ticks": ""
             }
            },
            "type": "scattergl"
           }
          ],
          "scattermapbox": [
           {
            "marker": {
             "colorbar": {
              "outlinewidth": 0,
              "ticks": ""
             }
            },
            "type": "scattermapbox"
           }
          ],
          "scatterpolar": [
           {
            "marker": {
             "colorbar": {
              "outlinewidth": 0,
              "ticks": ""
             }
            },
            "type": "scatterpolar"
           }
          ],
          "scatterpolargl": [
           {
            "marker": {
             "colorbar": {
              "outlinewidth": 0,
              "ticks": ""
             }
            },
            "type": "scatterpolargl"
           }
          ],
          "scatterternary": [
           {
            "marker": {
             "colorbar": {
              "outlinewidth": 0,
              "ticks": ""
             }
            },
            "type": "scatterternary"
           }
          ],
          "surface": [
           {
            "colorbar": {
             "outlinewidth": 0,
             "ticks": ""
            },
            "colorscale": [
             [
              0,
              "#0d0887"
             ],
             [
              0.1111111111111111,
              "#46039f"
             ],
             [
              0.2222222222222222,
              "#7201a8"
             ],
             [
              0.3333333333333333,
              "#9c179e"
             ],
             [
              0.4444444444444444,
              "#bd3786"
             ],
             [
              0.5555555555555556,
              "#d8576b"
             ],
             [
              0.6666666666666666,
              "#ed7953"
             ],
             [
              0.7777777777777778,
              "#fb9f3a"
             ],
             [
              0.8888888888888888,
              "#fdca26"
             ],
             [
              1,
              "#f0f921"
             ]
            ],
            "type": "surface"
           }
          ],
          "table": [
           {
            "cells": {
             "fill": {
              "color": "#EBF0F8"
             },
             "line": {
              "color": "white"
             }
            },
            "header": {
             "fill": {
              "color": "#C8D4E3"
             },
             "line": {
              "color": "white"
             }
            },
            "type": "table"
           }
          ]
         },
         "layout": {
          "annotationdefaults": {
           "arrowcolor": "#2a3f5f",
           "arrowhead": 0,
           "arrowwidth": 1
          },
          "coloraxis": {
           "colorbar": {
            "outlinewidth": 0,
            "ticks": ""
           }
          },
          "colorscale": {
           "diverging": [
            [
             0,
             "#8e0152"
            ],
            [
             0.1,
             "#c51b7d"
            ],
            [
             0.2,
             "#de77ae"
            ],
            [
             0.3,
             "#f1b6da"
            ],
            [
             0.4,
             "#fde0ef"
            ],
            [
             0.5,
             "#f7f7f7"
            ],
            [
             0.6,
             "#e6f5d0"
            ],
            [
             0.7,
             "#b8e186"
            ],
            [
             0.8,
             "#7fbc41"
            ],
            [
             0.9,
             "#4d9221"
            ],
            [
             1,
             "#276419"
            ]
           ],
           "sequential": [
            [
             0,
             "#0d0887"
            ],
            [
             0.1111111111111111,
             "#46039f"
            ],
            [
             0.2222222222222222,
             "#7201a8"
            ],
            [
             0.3333333333333333,
             "#9c179e"
            ],
            [
             0.4444444444444444,
             "#bd3786"
            ],
            [
             0.5555555555555556,
             "#d8576b"
            ],
            [
             0.6666666666666666,
             "#ed7953"
            ],
            [
             0.7777777777777778,
             "#fb9f3a"
            ],
            [
             0.8888888888888888,
             "#fdca26"
            ],
            [
             1,
             "#f0f921"
            ]
           ],
           "sequentialminus": [
            [
             0,
             "#0d0887"
            ],
            [
             0.1111111111111111,
             "#46039f"
            ],
            [
             0.2222222222222222,
             "#7201a8"
            ],
            [
             0.3333333333333333,
             "#9c179e"
            ],
            [
             0.4444444444444444,
             "#bd3786"
            ],
            [
             0.5555555555555556,
             "#d8576b"
            ],
            [
             0.6666666666666666,
             "#ed7953"
            ],
            [
             0.7777777777777778,
             "#fb9f3a"
            ],
            [
             0.8888888888888888,
             "#fdca26"
            ],
            [
             1,
             "#f0f921"
            ]
           ]
          },
          "colorway": [
           "#636efa",
           "#EF553B",
           "#00cc96",
           "#ab63fa",
           "#FFA15A",
           "#19d3f3",
           "#FF6692",
           "#B6E880",
           "#FF97FF",
           "#FECB52"
          ],
          "font": {
           "color": "#2a3f5f"
          },
          "geo": {
           "bgcolor": "white",
           "lakecolor": "white",
           "landcolor": "#E5ECF6",
           "showlakes": true,
           "showland": true,
           "subunitcolor": "white"
          },
          "hoverlabel": {
           "align": "left"
          },
          "hovermode": "closest",
          "mapbox": {
           "style": "light"
          },
          "paper_bgcolor": "white",
          "plot_bgcolor": "#E5ECF6",
          "polar": {
           "angularaxis": {
            "gridcolor": "white",
            "linecolor": "white",
            "ticks": ""
           },
           "bgcolor": "#E5ECF6",
           "radialaxis": {
            "gridcolor": "white",
            "linecolor": "white",
            "ticks": ""
           }
          },
          "scene": {
           "xaxis": {
            "backgroundcolor": "#E5ECF6",
            "gridcolor": "white",
            "gridwidth": 2,
            "linecolor": "white",
            "showbackground": true,
            "ticks": "",
            "zerolinecolor": "white"
           },
           "yaxis": {
            "backgroundcolor": "#E5ECF6",
            "gridcolor": "white",
            "gridwidth": 2,
            "linecolor": "white",
            "showbackground": true,
            "ticks": "",
            "zerolinecolor": "white"
           },
           "zaxis": {
            "backgroundcolor": "#E5ECF6",
            "gridcolor": "white",
            "gridwidth": 2,
            "linecolor": "white",
            "showbackground": true,
            "ticks": "",
            "zerolinecolor": "white"
           }
          },
          "shapedefaults": {
           "line": {
            "color": "#2a3f5f"
           }
          },
          "ternary": {
           "aaxis": {
            "gridcolor": "white",
            "linecolor": "white",
            "ticks": ""
           },
           "baxis": {
            "gridcolor": "white",
            "linecolor": "white",
            "ticks": ""
           },
           "bgcolor": "#E5ECF6",
           "caxis": {
            "gridcolor": "white",
            "linecolor": "white",
            "ticks": ""
           }
          },
          "title": {
           "x": 0.05
          },
          "xaxis": {
           "automargin": true,
           "gridcolor": "white",
           "linecolor": "white",
           "ticks": "",
           "title": {
            "standoff": 15
           },
           "zerolinecolor": "white",
           "zerolinewidth": 2
          },
          "yaxis": {
           "automargin": true,
           "gridcolor": "white",
           "linecolor": "white",
           "ticks": "",
           "title": {
            "standoff": 15
           },
           "zerolinecolor": "white",
           "zerolinewidth": 2
          }
         }
        },
        "title": {
         "text": "K-Means Clusters for CryptoCurrencies using PCA"
        }
       }
      },
      "image/png": "[encoded data removed]",
      "text/html": [
       "<div>                            <div id=\"b1922ca1-1eb1-4261-aa40-ddf3388e16ab\" class=\"plotly-graph-div\" style=\"height:525px; width:800px;\"></div>            <script type=\"text/javascript\">                require([\"plotly\"], function(Plotly) {                    window.PLOTLYENV=window.PLOTLYENV || {};                                    if (document.getElementById(\"b1922ca1-1eb1-4261-aa40-ddf3388e16ab\")) {                    Plotly.newPlot(                        \"b1922ca1-1eb1-4261-aa40-ddf3388e16ab\",                        [{\"customdata\": [[\"Scrypt\"], [\"Scrypt\"], [\"X13\"], [\"X11\"], [\"SHA-512\"], [\"SHA-256\"], [\"X11\"], [\"SHA-256\"], [\"X15\"], [\"X13\"], [\"X13\"], [\"Scrypt\"], [\"Scrypt\"], [\"Scrypt\"], [\"Scrypt\"], [\"Scrypt\"], [\"Multiple\"], [\"Scrypt\"], [\"Scrypt\"], [\"Groestl\"], [\"X11\"], [\"X11\"], [\"NIST5\"], [\"X11\"], [\"Scrypt\"], [\"X11\"], [\"X11\"], [\"X13\"], [\"X11\"], [\"SHA3\"], [\"SHA-256\"], [\"Scrypt\"], [\"NeoScrypt\"], [\"Scrypt\"], [\"Scrypt\"], [\"X15\"], [\"Scrypt\"], [\"X11\"], [\"Multiple\"], [\"PHI1612\"], [\"X11\"], [\"Scrypt\"], [\"Scrypt\"], [\"Scrypt\"], [\"X11\"], [\"Scrypt\"], [\"Scrypt\"], [\"Shabal256\"], [\"Counterparty\"], [\"SHA-256\"], [\"Scrypt\"], [\"X13\"], [\"Scrypt\"], [\"SHA-256\"], [\"X13\"], [\"X13\"], [\"X11\"], [\"X11\"], [\"Scrypt\"], [\"SHA3\"], [\"QUAIT\"], [\"Scrypt\"], [\"X11\"], [\"X13\"], [\"SHA-256\"], [\"X13\"], [\"X15\"], [\"BLAKE256\"], [\"SHA-256\"], [\"X11\"], [\"SHA-256\"], [\"Quark\"], [\"Blake\"], [\"Scrypt\"], [\"Scrypt\"], [\"Scrypt\"], [\"SHA-256\"], [\"X11\"], [\"Scrypt\"], [\"SHA-256\"], [\"Scrypt\"], [\"PoS\"], [\"X11\"], [\"X11\"], [\"X11\"], [\"PoS\"], [\"SHA-256\"], [\"SHA-256\"], [\"NIST5\"], [\"X15\"], [\"X11\"], [\"NIST5\"], [\"Scrypt\"], [\"Scrypt\"], [\"POS 3.0\"], [\"Scrypt\"], [\"Scrypt\"], [\"Scrypt\"], [\"X13\"], [\"X11\"], [\"X11\"], [\"X11\"], [\"Scrypt\"], [\"SHA-256\"], [\"X11\"], [\"Scrypt\"], [\"X11\"], [\"Scrypt\"], [\"SHA-256D\"], [\"PoS\"], [\"X11\"], [\"PoS\"], [\"X13\"], [\"X14\"], [\"PoS\"], [\"SHA-256D\"], [\"X11\"], [\"Scrypt\"], [\"X13\"], [\"X11\"], [\"PoS\"], [\"SHA-256D\"], [\"Scrypt\"], [\"Scrypt\"], [\"Scrypt\"], [\"PoS\"], [\"X11\"], [\"SHA-256\"], [\"Scrypt\"], [\"X11\"], [\"Scrypt\"], [\"Scrypt\"], [\"X11\"], [\"Scrypt\"], [\"Scrypt\"], [\"Scrypt\"], [\"Scrypt\"], [\"Quark\"], [\"QuBit\"], [\"X11\"], [\"X13\"], [\"PoS\"], [\"Scrypt\"], [\"SHA-256\"], [\"X11\"], [\"X11\"], [\"Scrypt\"], [\"Scrypt\"], [\"Scrypt\"], [\"Scrypt\"], [\"X13\"], [\"Scrypt\"], [\"Scrypt\"], [\"X11\"], [\"Blake2S\"], [\"X11\"], [\"Scrypt\"], [\"PoS\"], [\"X11\"], [\"PoS\"], [\"X11\"], [\"Scrypt\"], [\"Scrypt\"], [\"Scrypt\"], [\"SHA-256\"], [\"X11\"], [\"Scrypt\"], [\"PoS\"], [\"Scrypt\"], [\"X11\"], [\"X15\"], [\"SHA-256\"], [\"POS 3.0\"], [\"536\"], [\"NIST5\"], [\"NIST5\"], [\"Skein\"], [\"X13\"], [\"X11\"], [\"Scrypt\"], [\"X13\"], [\"SkunkHash v2 Raptor\"], [\"Skein\"], [\"X11\"], [\"Scrypt\"], [\"PoS\"], [\"Scrypt\"], [\"Scrypt\"], [\"SHA-512\"], [\"Ouroboros\"], [\"X11\"], [\"NeoScrypt\"], [\"Scrypt\"], [\"Lyra2REv2\"], [\"Scrypt\"], [\"SHA-256\"], [\"NIST5\"], [\"PHI1612\"], [\"Scrypt\"], [\"Quark\"], [\"POS 2.0\"], [\"Scrypt\"], [\"SkunkHash\"], [\"X11\"], [\"Quark\"], [\"SHA-256\"], [\"X11\"], [\"NIST5\"], [\"X13\"], [\"Scrypt\"], [\"NIST5\"], [\"Quark\"], [\"Scrypt\"], [\"Scrypt\"], [\"X11\"], [\"SHA-256\"], [\"Scrypt\"], [\"Quark\"], [\"Scrypt\"], [\"Scrypt\"], [\"X11\"], [\"Scrypt\"], [\"Scrypt\"], [\"POS 3.0\"], [\"Scrypt\"], [\"Scrypt\"], [\"X13\"], [\"Proof-of-BibleHash\"], [\"C11\"], [\"Proof-of-Authority\"], [\"X11\"], [\"XEVAN\"], [\"Scrypt\"], [\"VBFT\"], [\"NIST5\"], [\"Scrypt\"], [\"Scrypt\"], [\"Scrypt\"], [\"Equihash\"], [\"Green Protocol\"], [\"PoS\"], [\"Scrypt\"], [\"Scrypt\"], [\"Scrypt\"], [\"Quark\"], [\"PoS\"], [\"X16R\"], [\"Scrypt\"], [\"XEVAN\"], [\"Scrypt\"], [\"Scrypt\"], [\"Scrypt\"], [\"SHA-256D\"], [\"Scrypt\"], [\"X15\"], [\"Scrypt\"], [\"Quark\"], [\"SHA-256\"], [\"DPoS\"], [\"X16R\"], [\"Quark\"], [\"Quark\"], [\"Scrypt\"], [\"Zhash\"], [\"Lyra2REv2\"], [\"Quark\"], [\"Scrypt\"], [\"Scrypt\"], [\"X11\"], [\"X11\"], [\"Scrypt\"], [\"PoS\"], [\"Scrypt\"], [\"Scrypt\"], [\"Keccak\"], [\"X11\"], [\"Quark\"], [\"Scrypt\"], [\"SHA-512\"], [\"NeoScrypt\"], [\"XEVAN\"], [\"XEVAN\"], [\"Quark\"], [\"Quark\"], [\"Equihash\"], [\"Scrypt\"], [\"Quark\"], [\"Quark\"], [\"Scrypt\"], [\"X11\"], [\"Scrypt\"], [\"XEVAN\"], [\"SHA-256D\"], [\"X11\"], [\"X11\"], [\"X11\"], [\"Scrypt\"], [\"Scrypt\"], [\"Scrypt\"], [\"SHA-256\"], [\"X11\"], [\"Scrypt\"], [\"SHA-256\"], [\"X11\"], [\"Scrypt\"], [\"SHA-256\"], [\"Scrypt\"], [\"X11\"], [\"Scrypt\"], [\"PoS\"], [\"X11\"], [\"SHA-256\"], [\"Scrypt\"], [\"Scrypt\"], [\"NeoScrypt\"], [\"Scrypt\"], [\"X13\"], [\"SHA-256\"], [\"PoS\"], [\"PoS\"], [\"Scrypt\"], [\"Scrypt\"]], \"hovertemplate\": \"<b>%{hovertext}</b><br><br>Class=%{marker.color}<br>PC 1=%{x}<br>PC 2=%{y}<br>PC 3=%{z}<br>Algorithm=%{customdata[0]}<extra></extra>\", \"hovertext\": [\"42 Coin\", \"404Coin\", \"EliteCoin\", \"Dash\", \"Bitshares\", \"BitcoinDark\", \"Bitstake\", \"PayCoin\", \"KoboCoin\", \"Aero Coin\", \"ApexCoin\", \"ArchCoin\", \"Aurora Coin\", \"BitBar\", \"CashCoin\", \"CryptoBullion\", \"CinderCoin\", \"CoolCoin\", \"CasinoCoin\", \"Diamond\", \"DarkCash\", \"Fuel2Coin\", \"FIBRE\", \"GlyphCoin\", \"HoboNickels\", \"IOCoin\", \"JumBucks Coin\", \"JudgeCoin\", \"LibrexCoin\", \"MaxCoin\", \"MazaCoin\", \"Nautilus Coin\", \"Orbitcoin\", \"PotCoin\", \"PhoenixCoin\", \"ShieldCoin\", \"SilkCoin\", \"SyncCoin\", \"TeslaCoin\", \"TittieCoin\", \"TorCoin\", \"UnitaryStatus Dollar\", \"UltraCoin\", \"SocialXbotCoin\", \"X11 Coin\", \"XXXCoin\", \"ZCC Coin\", \"BurstCoin\", \"StorjCoin\", \"Neutron\", \"KryptCoin\", \"Kore\", \"Dnotes\", \"MaieutiCoin\", \"Sativa Coin\", \"AeroMe\", \"MasterTraderCoin\", \"Ucoin\", \"Vtorrent\", \"Nexus\", \"Droidz\", \"Diggits\", \"MapCoin\", \"Paycon\", \"Emercoin\", \"BlitzCoin\", \"EverGreenCoin\", \"Decred\", \"EDRCoin\", \"Hitcoin\", \"DubaiCoin\", \"BiosCrypto\", \"TrumpCoin\", \"BillaryCoin\", \"EthereumScrypt\", \"GPU Coin\", \"Universal Currency\", \"EuropeCoin\", \"ZeitCoin\", \"SwingCoin\", \"SafeExchangeCoin\", \"Nebuchadnezzar\", \"GIZMOcoin\", \"SecretCoin\", \"Ratecoin\", \"Digital Bullion Gold\", \"Revenu\", \"Clockcoin\", \"VIP Tokens\", \"OrlyCoin\", \"BitSend\", \"16BitCoin\", \"ChessCoin\", \"ReeCoin\", \"Let it Ride\", \"PutinCoin\", \"iBankCoin\", \"Frankywillcoin\", \"MudraCoin\", \"Lutetium Coin\", \"GoldBlocks\", \"WayCoin\", \"CarterCoin\", \"BitTokens\", \"MustangCoin\", \"ZoneCoin\", \"PROUD Money\", \"Swiscoin\", \"BuzzCoin\", \"Opair\", \"Halloween Coin\", \"CoffeeCoin\", \"RoyalCoin\", \"GanjaCoin V2\", \"TeamUP\", \"LanaCoin\", \"InsaneCoin\", \"LuckChain\", \"EmberCoin\", \"XenixCoin\", \"FreeCoin\", \"NPCcoin\", \"PLNCoin\", \"Icobid\", \"AquariusCoin\", \"Creatio\", \"Eternity\", \"Eurocoin\", \"BitcoinFast\", \"Stakenet\", \"BitConnect Coin\", \"MoneyCoin\", \"Enigma\", \"Russiacoin\", \"PandaCoin\", \"GameUnits\", \"GAKHcoin\", \"Allsafe\", \"LiteCreed\", \"NeptuneClassic\", \"GoldenBird\", \"Ride My Car\", \"Klingon Empire Darsek\", \"Internet of People\", \"KushCoin\", \"Eryllium\", \"Printerium\", \"Impeach\", \"Zilbercoin\", \"FirstCoin\", \"FindCoin\", \"OpenChat\", \"RenosCoin\", \"VirtacoinPlus\", \"TajCoin\", \"Impact\", \"Universe\", \"Atmos\", \"HappyCoin\", \"MacronCoin\", \"Condensate\", \"Independent Money System\", \"ArgusCoin\", \"LomoCoin\", \"ProCurrency\", \"GoldReserve\", \"GrowthCoin\", \"Phreak\", \"Degas Coin\", \"ZSEcoin\", \"HTML5 Coin\", \"Ultimate Secure Cash\", \"QTUM\", \"Espers\", \"Denarius\", \"Virta Unique Coin\", \"Bitcoin Planet\", \"BritCoin\", \"Octanox\", \"Linda\", \"DeepOnion\", \"Signatum\", \"Cream\", \"Monoeci\", \"Draftcoin\", \"Stakecoin\", \"CoinonatX\", \"Ethereum Dark\", \"Obsidian\", \"Cardano\", \"Regalcoin\", \"TrezarCoin\", \"TerraNovaCoin\", \"Rupee\", \"WomenCoin\", \"Theresa May Coin\", \"NamoCoin\", \"LUXCoin\", \"Xios\", \"Bitcloud 2.0\", \"KekCoin\", \"BlackholeCoin\", \"AltCommunity Coin\", \"Pure\", \"Rupaya\", \"Infinity Economics\", \"Magnet\", \"Electra\", \"Bitcoin Diamond\", \"Cash & Back Coin\", \"Bulwark\", \"Kalkulus\", \"GermanCoin\", \"LiteCoin Ultra\", \"PhantomX\", \"HTML Coin\", \"Fantasy Cash\", \"Digiwage\", \"Trollcoin\", \"Litecoin Plus\", \"Monkey Project\", \"OP Coin\", \"Valorbit\", \"TokenPay\", \"My Big Coin\", \"Unified Society USDEX\", \"Tokyo Coin\", \"BiblePay\", \"Stipend\", \"Poa Network\", \"Pushi\", \"Ellerium\", \"Velox\", \"Ontology\", \"Bitspace\", \"Briacoin\", \"Ignition\", \"MedicCoin\", \"Zelcash\", \"Bitcoin Green\", \"Deviant Coin\", \"Abjcoin\", \"Profit Hunters Coin\", \"BitBlocks\", \"Carebit\", \"Zealium\", \"Proton\", \"iDealCash\", \"Bitcoin Incognito\", \"HollyWoodCoin\", \"Swisscoin\", \"Xt3ch\", \"TheVig\", \"EmaratCoin\", \"Dekado\", \"Lynx\", \"Poseidon Quark\", \"BitcoinWSpectrum\", \"Muse\", \"Trivechain\", \"Dystem\", \"Giant\", \"Peony Coin\", \"SafeCoin\", \"Absolute Coin\", \"Vitae\", \"TPCash\", \"MUSDcoin\", \"ARENON\", \"EUNO\", \"MMOCoin\", \"Ketan\", \"Safe Trade Coin\", \"Mont Blanc\", \"XDNA\", \"PAXEX\", \"Apollon\", \"ThunderStake\", \"Kcash\", \"Traid\", \"Bettex coin\", \"BitMoney\", \"Zenad\", \"HerbCoin\", \"PirateCash\", \"Oduwa\", \"Galilel\", \"Crypto Sports\", \"Credit\", \"Dash Platinum\", \"Nasdacoin\", \"Beetle Coin\", \"Titan Coin\", \"Award\", \"Insane Coin\", \"The Freedom Coin\", \"LiteDoge\", \"OrangeCoin\", \"BitstarCoin\", \"NeosCoin\", \"PinkCoin\", \"AudioCoin\", \"IncaKoin\", \"Piggy Coin\", \"Genstake\", \"ParkByte\", \"XiaoMiCoin\", \"CapriCoin\", \" ClubCoin\", \"Radium\", \"Creditbit \", \"OKCash\", \"HiCoin\", \"WhiteCoin\", \"FriendshipCoin\", \"The Hempcoin\", \"Triangles Coin\", \"TigerCash\", \"Particl\", \"Nxt\", \"Gapcoin\", \"BitcoinPlus\"], \"legendgroup\": \"1\", \"marker\": {\"color\": [1, 1, 1, 1, 1, 1, 1, 1, 1, 1, 1, 1, 1, 1, 1, 1, 1, 1, 1, 1, 1, 1, 1, 1, 1, 1, 1, 1, 1, 1, 1, 1, 1, 1, 1, 1, 1, 1, 1, 1, 1, 1, 1, 1, 1, 1, 1, 1, 1, 1, 1, 1, 1, 1, 1, 1, 1, 1, 1, 1, 1, 1, 1, 1, 1, 1, 1, 1, 1, 1, 1, 1, 1, 1, 1, 1, 1, 1, 1, 1, 1, 1, 1, 1, 1, 1, 1, 1, 1, 1, 1, 1, 1, 1, 1, 1, 1, 1, 1, 1, 1, 1, 1, 1, 1, 1, 1, 1, 1, 1, 1, 1, 1, 1, 1, 1, 1, 1, 1, 1, 1, 1, 1, 1, 1, 1, 1, 1, 1, 1, 1, 1, 1, 1, 1, 1, 1, 1, 1, 1, 1, 1, 1, 1, 1, 1, 1, 1, 1, 1, 1, 1, 1, 1, 1, 1, 1, 1, 1, 1, 1, 1, 1, 1, 1, 1, 1, 1, 1, 1, 1, 1, 1, 1, 1, 1, 1, 1, 1, 1, 1, 1, 1, 1, 1, 1, 1, 1, 1, 1, 1, 1, 1, 1, 1, 1, 1, 1, 1, 1, 1, 1, 1, 1, 1, 1, 1, 1, 1, 1, 1, 1, 1, 1, 1, 1, 1, 1, 1, 1, 1, 1, 1, 1, 1, 1, 1, 1, 1, 1, 1, 1, 1, 1, 1, 1, 1, 1, 1, 1, 1, 1, 1, 1, 1, 1, 1, 1, 1, 1, 1, 1, 1, 1, 1, 1, 1, 1, 1, 1, 1, 1, 1, 1, 1, 1, 1, 1, 1, 1, 1, 1, 1, 1, 1, 1, 1, 1, 1, 1, 1, 1, 1, 1, 1, 1, 1, 1, 1, 1, 1, 1, 1, 1, 1, 1, 1, 1, 1, 1, 1, 1, 1, 1, 1, 1, 1, 1, 1, 1, 1, 1, 1, 1, 1, 1, 1, 1, 1, 1, 1, 1], \"coloraxis\": \"coloraxis\", \"symbol\": \"circle\"}, \"mode\": \"markers\", \"name\": \"1\", \"scene\": \"scene\", \"showlegend\": true, \"type\": \"scatter3d\", \"x\": [-0.12305436638240921, -0.1087709657939288, 0.33334085773491173, -0.21121875913516114, -0.21480866602702992, -0.12881697572522569, -0.21134101032925973, -0.004865446991657809, -0.07537470618667219, 0.060809318739331986, -0.0629972829455515, 0.0007522347463617565, -0.1228088830417125, -0.1230537905778709, -0.12305436691270581, -0.12304030105560579, -0.21469871220584516, 0.000752234813738946, 0.7821051110474903, -0.16534311473462202, -0.21134101032730937, -0.08753440856563245, -0.12195426503400002, -0.21134101032466568, -0.12184601428668933, -0.21110208055057167, -0.21134101032765348, -0.06299728293297811, -0.2113410103295015, -0.23819514524396468, -0.10698889574821721, 0.0009712536340904051, -0.2496865570158356, -0.12004011949226531, -0.12205322483988054, -0.07572046034551631, -0.12305436695013028, -0.21134099439796872, -0.08980567310969814, 0.022665859921024604, -0.21132162822004275, -0.10817850814001972, -0.12237436315722608, -0.12305436694932433, -0.21124692112334564, -0.12305436691063747, -0.12105111167380016, 0.6419169474800567, 0.14747964217451284, -0.12830485549092716, 0.0007522347468428322, -0.06296990605503074, 0.003116314100995477, -0.005027820605349128, -0.06290121738668142, -0.06299728294071559, -0.21134101032215902, -0.08749799826960866, -0.12289728082190401, -0.37086781121658186, -0.23419123789543053, 0.002105874417623676, -0.0875344086444337, -0.06268536909657804, -0.128251547047621, 0.06080931873679498, -0.07553730535482575, -0.1133408182242071, -0.12878474786954291, -0.06249047217437849, -0.12876499391617266, 0.11126099529923472, -0.006616904838884751, -0.1229325563647207, -0.12305436694755115, 0.0013001481822978644, -0.12883442212017268, -0.21120013309527585, 0.5012096077002722, -0.1287751723470279, 0.2697184646682468, 0.07248836298818433, -0.21134101033022681, -0.21134101031338196, -0.20951962129745297, 0.07221763506337762, -0.12881823901004236, -0.1286088673356456, -0.12082464725735562, -0.07572046031730705, -0.21101088832094367, -0.12195426502160732, -0.12305436689075674, -0.123054366668844, 0.15901628540324025, -0.11204802542786714, -0.12299309680094055, -0.12170072726645384, 0.06087700087508006, -0.07864099591918004, -0.21113033154118221, -0.08753440856563245, -0.12247006157518338, -0.12882636230974567, -0.21133210830186738, -0.12301941636553038, -0.21134100227052527, 0.08684734286109125, 0.16633858875217872, 0.07321978603997056, -0.20775821668699399, 0.07423072480253938, 0.06084316140431545, -0.10318095284265459, 0.07245883603256863, -0.0840255212067647, -0.21109271472489366, -0.12305436614495806, 1.184961278052452, -0.2112888501698802, 0.0728944548935291, -0.09867410362765872, -0.12282303532612841, -0.12305436678974079, -0.1230212084670635, 0.07248836298818433, -0.21125885136880096, -0.1286663468809269, -0.12278033580291851, -0.39723161094520476, -0.12290437388187789, -0.12290662454193707, -0.2113299826169803, -0.12294096062798433, 0.45846036703029597, -0.12300735526713451, -0.12300948311517865, 0.23520996971637265, -0.2662590996307587, -0.21134101012881287, -0.062997282587697, 0.07221763513188556, -0.1227299617813369, -0.1288002282738365, -0.21126440654513234, -0.21134101024970967, -0.1228943433427452, -0.12305019530026373, 0.0007917964375588379, -0.13136327322076802, 0.06100593288747219, -0.10951797010611103, 0.0012402267788731657, -0.21116283406512423, -0.1819009732906465, -0.20984347349777477, 0.0007522348234107152, 0.07372201384241756, -0.21104968911170402, 0.07765143443608401, -0.20969409818962179, -0.12298169091690946, -0.12303882275944056, -0.12304759794693874, -0.0036667331326427216, -0.21110857167078215, 0.004747306902881916, 0.07237181768522692, -0.12276524617790434, -0.21134100864299216, 0.4746562094631264, -0.004887811970244697, 0.15984755812755883, 0.3300934665863043, -0.12189779954766193, -0.12110225608307887, -0.10705078832877703, -0.06270938960990526, -0.2113410103239359, -0.00061855926027174, -0.06270060549885018, 0.14619613244616803, -0.10650219284403382, -0.21117086780704244, 0.001004868531476529, 0.07227178068509138, -0.12278987131044246, -0.12299751408418808, -0.2515812362426046, 0.9104807597445519, -0.21124270355830352, -0.24725788651962616, -0.12303892549864635, 0.011107329045492513, 0.5329122641694694, -0.12758838612433768, -0.11436625831659794, -0.12298876718355799, -0.12302526790588285, 0.11167671915509025, 0.12700422190294508, -0.12283287704980224, -0.16525530515917122, -0.2113410103273361, 0.2350675970274874, 0.1167997508627139, -0.21082393890644346, 0.2624679035270413, -0.06051289353361971, -0.12155213846584365, 0.0020316557316400786, 0.23529711693201455, -0.05657031386038666, -0.1229403984658122, -0.210729514237101, -0.12883434975138763, -0.12305436694722889, 0.23543713634397018, -0.11505404824066018, -0.12302046523026017, -0.08747475032078965, -0.1230543653389798, -0.048715996733503186, 0.158770681742311, 0.016777731560643522, -0.11987539470207775, 0.06392673683459349, 1.2853266503919192, -0.1659016018691716, 0.5727644731294337, -0.21131166574398869, -0.4601667330754694, 0.001098360657593657, -0.008390950757307516, -0.12176762713343645, -0.12304292006016983, -0.1230383648489518, 0.004370482342959865, -0.07890075415142242, 0.27770589750977676, 0.07251376526583495, -0.12292062053358968, -0.12305436687033845, -0.12305436654794731, 0.11315256596478081, 0.07236755414140014, -0.03127008282131666, -0.1040471304030519, -1.0537260963716022, 0.001276185456435917, 0.015016880866282929, 0.0008555174705890819, -0.09822418397042751, -0.12276198966724548, 0.0484960802860638, 1.9303319910203696, 0.23510436592907547, -0.004245267919591365, 2.8765768374328573, -0.15463649007229774, 0.2351634670503284, 0.11134112384496266, 0.000766353431285123, 0.005039079987223934, -0.11284367052385799, 0.2359617284950787, -0.12298121813425776, -0.12305436687033845, -0.08727356888387909, -0.210924480142235, 0.00221096933750725, 0.07234389096774792, 0.0007522354101629741, 0.0007522347895596016, -0.1308872665564388, -0.08747343198811644, 0.11126099548445634, -0.10870639422757623, -0.8596210998229938, -0.2497301523532124, -0.33627392987245097, -0.9517073425454085, 0.41843175667971483, 0.111738995057709, 0.04508826283813521, -0.12285433217292892, 0.1115082377242193, 0.23509378586590807, 0.29421471207528765, -0.08752472118071156, -0.12277624094021442, -0.45747950268909593, -0.08654060547572352, -0.21113227559006567, -0.21101916949102262, -0.08753440862608074, 0.08430818366129496, -0.12300648652649193, -0.12277583482094905, -0.004968365241295912, -0.20543435445323113, -0.10977877456771501, 0.11400480090537439, -0.20465077213046304, -0.12224218317651579, -0.12883442226927877, -0.11758137869053081, -0.2086152628785092, -0.12165170006789428, 0.07226936095426033, -0.31579766007020055, -0.12782357741503006, 0.13611951524276833, -0.11964311958823906, -0.24971498653268073, -0.12305436670914292, -0.06299537732686755, 0.008508576239474618, 0.07234329528468608, -0.05420976915655831, -0.12285225419541795, 0.0007539718189921919], \"y\": [1.1865721880225173, 1.1846979420898125, 1.908691459458762, 1.4284395872870013, 1.328544147223348, 0.8177803622043024, 1.4284556286879238, 0.5035028495849909, 2.033768211967374, 1.6464358906756837, 1.9606943859796901, 0.8723136929950487, 1.1865399761755804, 1.1865721124726467, 1.186572188718989, 1.1865703423981786, 0.41897641921870826, 0.8723136940910424, 0.5533131903858883, 0.7826617601531928, 1.4284556287196506, 1.1141971346648096, 1.7201838873465876, 1.4284556287626529, 1.1864136309037157, 1.4284242768445403, 1.4284556287140524, 1.9606943861842139, 1.4284556286839902, 2.182679502698896, 0.8149161359431805, 0.8722849535615355, 0.649647404883985, 1.1861766672326428, 1.1864408205661507, 2.033813576855887, 1.1865721881102227, 1.4284556265802681, 0.10457536252976173, 1.6256084251269183, 1.4284530855026998, 1.184620214527832, 1.1864829600284497, 1.1865721881233335, 1.4284432824557292, 1.1865721887526355, 1.1863093362402037, 1.1128201207482853, 1.5577370600735039, 0.8177131629279522, 0.8723136930028738, 1.960690793691898, 0.8720034873532189, 0.5035241559164582, 1.9606817804098737, 1.9606943860583528, 1.4284556288034265, 1.1141923558863511, 1.1865515756830294, 2.337385047564068, 2.013283681819042, 0.8721360709106459, 1.1141971333829852, 1.9606534575504797, 0.8177061801670088, 1.646435890634414, 2.0337895437829214, 0.993081523871763, 0.8177761332986129, 1.4089239668197775, 0.8177735410534183, 1.737287376244997, 0.1987962752532832, 1.1865562047938116, 1.1865721881521765, 0.872241799068768, 0.8177826539867459, 1.4284371479817082, 0.8066455054178306, 0.8177748770464035, 0.6205475327319678, 1.5251881398851685, 1.4284556286721912, 1.4284556289461998, 1.4282166288883111, 1.525223664455696, 0.8177805306240494, 0.8177530610857147, 1.720035661258486, 2.033813577314753, 1.42841231224135, 1.7201838875481739, 1.186572189076027, 1.186572192685775, 1.550311590199679, 1.185127973846705, 1.186564148877699, 1.1863945662277628, 1.646427012046984, 1.1130301576721344, 1.4284279842801875, 1.1141971346648096, 1.18649551734312, 0.8177815938889411, 1.428454460595619, 1.1865676021952012, 1.4284557597755272, 0.6511723775749648, 2.0468706395698653, 1.5250921640270154, 1.4279855180411405, 1.5249595092450927, 1.6464314498169252, 2.123721351006366, 1.5251920180953222, 2.079722992458081, 1.4284230479763689, 1.1865722012075777, 1.7969385732271772, 1.4284487843198264, 1.525134853324364, 2.081645157514487, 1.186541833511353, 1.1865721907192053, 1.186567837630441, 1.5251881398851685, 1.4284448486504093, 0.817760596817647, 1.186536230451127, 0.8548187308713934, 1.1865525065327087, 1.186552810091192, 1.428454181691893, 1.186557308940547, 0.8122541376173407, 1.1865660194446894, 1.186566298530707, 1.423010198857385, 1.03861110086481, 1.4284556319484962, 1.9606943918007367, 1.5252236655700853, 1.186529626596405, 0.8177781646079408, 1.4284455769255178, 1.4284556299819264, 1.1865511902300703, 1.1865716409873277, 0.8723085022611977, 0.3466444770440498, 1.6464100912711865, 1.184795969403614, 0.8722496594264847, 1.4284322498883724, 2.0329403448583347, 1.428259124899646, 0.872313694248368, 1.52502626269695, 1.4284174031253094, 1.524510652043977, 1.4282395291814591, 1.1865626519038885, 1.1865701487824616, 1.186571313091675, 0.503346546651265, 1.428425128840472, 0.8717894899990962, 1.5252034329707234, 1.1865342513578012, 1.4284556561176374, 1.9615949123426224, 0.5035057867733662, 1.5502025123365906, 1.940020871438101, 1.7201764781281357, 1.7200720891962398, 1.4316258031765956, 1.9606566092329214, 1.4284556287745265, 1.1705069496143101, 1.9606554564442837, 1.4585964444923216, 1.4315538170478859, 1.4284333028716558, 0.872280542665877, 1.5252165601394274, 1.1865374818920764, 1.1865647279785996, 1.3333693592480411, 1.5826924111918925, 1.4284427293153814, 0.6493287225051031, 1.1865701620937448, 0.5631879496946702, 1.1004972596826517, 0.8176191489860543, 1.7191882128514682, 1.9427337660030917, 1.1865683700282381, 1.737232827769585, 1.5685683686747174, 1.1865431246181855, 0.8124510268400573, 1.4284556287192167, 1.423028881646459, 0.4875381876927068, 1.4283877809997756, 1.6697408068473678, 1.960368389682106, 1.186375070013734, 1.4059018623242205, 1.4229987635565036, 1.1778488806366487, 1.1865572352535094, 1.4283753894505855, 0.8177838311753748, 1.1865721881574205, 1.422980391676576, 1.1855224064946674, 1.1865677396014638, 1.114189305327912, 1.1865722143180422, 2.3957991218759784, 1.5503438179441849, 0.443621124970309, 1.186155049732416, 1.6460268367972788, 4.462569917933835, 1.2046427999904672, 3.9422022135990433, 1.4284517784352009, 1.5379817446314898, 0.8722682761351358, 1.4596172230563975, 1.7201593975680323, 1.1865706860876652, 1.186570088384021, 0.8718389167014363, 0.43926770024133643, 1.5808401942578696, 1.525184807523429, 1.1865546384278745, 1.186572189408159, 1.1865721946523444, 1.7370391686867956, 1.5252039930893193, 0.7202094037797727, 1.1840781459866712, 0.987344096608034, 0.8722449408548637, 1.1684547574234265, 0.8723001407081649, 2.0815860283332466, 1.1865338237643206, 1.719501290952854, 0.1907197775233906, 1.4230240644687788, 0.503421471492319, 1.0050141205576395, 1.0344101377376131, 1.4230163009681358, 1.7372768616618337, 0.8723120632289829, 2.179819184381263, 0.8774653931287125, 1.422911554976007, 1.1865626028017218, 1.186572189408159, 1.1141629069584364, 1.4284009726738003, 0.8721222825792031, 1.5252070998644538, 0.8723137037927866, 0.8723136936977284, 0.7420400404718862, 1.114189133381752, 1.7372873792579075, 1.1846896999370695, 1.1089995852887606, 0.6496531286994595, 1.2237119379085852, 1.0784430651088497, 1.6861972319974303, 1.7372246540608705, 0.12498526718992939, 1.1865459400192138, 1.737254933335983, 1.4230254443598143, 1.1318195622780718, 1.114195862434977, 1.186535693801531, 1.5376291348713191, 2.0800529860791186, 1.428428244266262, 1.4284133974473026, 1.1141971336815248, 1.1593627525287569, 1.1865659079208801, 1.186535640117882, 0.5035163545229628, 1.4276805700405184, 1.1848303174478372, 0.7859175435446571, 1.4275777557915323, 1.186465614385532, 0.8177826515613098, 1.1858540335585683, 1.4280979616752962, 1.1863881337227522, 1.5252168769588161, 0.8601442888299766, 0.8176500106085899, 0.8545510713565365, 1.1861245717323572, 0.6496511361209761, 1.1865721920302519, 1.9606941358486778, 0.5017479372229331, 1.5252071753680692, 1.539599981047733, 1.1865456703756818, 0.8723134648546145], \"z\": [-0.50463851622969, -0.5049604527125325, -0.5858537901548218, -0.4875617375064472, -0.09496367779897143, -0.3355924541382016, -0.4875589819695081, -0.08681106481868008, -0.6100604794478296, -0.3281342766621792, -0.57691893243117, -0.2558538605362162, -0.5046440492724288, -0.5046385292106027, -0.5046385164888866, -0.5046388332536861, -0.22444155501824317, -0.25585386101560503, -0.38210055566158585, -0.31932560415037403, -0.4875589819833854, -0.23877432676078095, -0.5729200831873955, -0.4875589820021947, -0.5046657519530393, -0.487564367324042, -0.487558981980937, -0.5769189325206288, -0.48755898196778763, -0.5941885807334039, -0.33608445074638166, -0.2558587969997478, -0.28021170481015834, -0.5047064567150267, -0.5046610815104215, -0.610052684502837, -0.5046385162226117, -0.4875589823211577, 0.024318613633122137, -0.24096460826394608, -0.48755941887243154, -0.5049738122155246, -0.5046538433881104, -0.5046385162283461, -0.48756110266931113, -0.5046385165036037, -0.5046836732865257, -0.4848722888678487, -0.054308421587688165, -0.33560399707466504, -0.2558538605396391, -0.5769195495129655, -0.2559071472646623, -0.08680740500976934, -0.5769210976748317, -0.5769189324655771, -0.4875589820200292, -0.23877514695481744, -0.5046420568941014, -0.4582158446051061, -0.6036878835842375, -0.25588437068687336, -0.23877432620010963, -0.5769259629062212, -0.3356052039208592, -0.32813427664412775, -0.6100568127761932, -0.39644510344568107, -0.33559318052156106, -0.49091407471750104, -0.33559362569000617, -0.48679552655417496, 0.01650498159302347, -0.5046412619447086, -0.5046385162409622, -0.2558662111222387, -0.3355920619887348, -0.48756215938791386, -0.2671342307425399, -0.33559339644707464, -0.37055166111286264, -0.12410811900590099, -0.48755898196262665, -0.48755898208247833, -0.4876000346623633, -0.12410201704297473, -0.3355924268124542, -0.3355971475667186, -0.5729455441435523, -0.6100526847035453, -0.4875664233737281, -0.5729200832755698, -0.5046385166450553, -0.5046385182239632, -0.260334108504025, -0.5048865994855483, -0.5046398974376809, -0.5046690264615985, -0.32813580325250735, -0.2389747784951476, -0.4875637307352685, -0.23877432676078095, -0.5046516863851361, -0.3355922425683387, -0.4875591826219439, -0.5046393040878612, -0.48755903930737754, -0.13940250071827337, -0.6722698725848913, -0.1241246048523928, -0.48763974309139335, -0.12414739019801976, -0.32813503941598826, -0.7169986024352959, -0.124107455104404, -0.6666268466660227, -0.4875645784660365, -0.5046385219514093, -0.605046664416782, -0.48756015762148275, -0.12411727207931737, -0.6662966795016596, -0.5046437304186671, -0.5046385173637834, -0.5046392638157443, -0.12410811900590099, -0.4875608340851542, -0.33559584914898194, -0.504644692791181, -0.07566222835144061, -0.5046418970694153, -0.5046418499011595, -0.4875592305441699, -0.5046410731041611, -0.26617032592548573, -0.5046395758871223, -0.5046395278722151, -0.23801407968757224, -0.3007599653494108, -0.4875589833956861, -0.5769189349773024, -0.12410201753040982, -0.5046458308403587, -0.3355928316031469, -0.48756070858757233, -0.4875589825355064, -0.5046421231019186, -0.5046386103670542, -0.2558547524374643, -0.24499644131347964, -0.32813870818977037, -0.5049436186640914, -0.2558648594874239, -0.4875629984469822, -0.5775627748204818, -0.4875927355605074, -0.2558538610844195, -0.12413592476791474, -0.48756554862010393, -0.12422449160061506, -0.4875961045586628, -0.5046401543826327, -0.504638866730762, -0.5046386744997657, -0.0868385112759669, -0.4875642211236346, -0.25594391677179973, -0.124105492249494, -0.5046450333076863, -0.48755899396729685, -0.622458133947899, -0.08681056180692244, -0.26035284493287264, -0.5911777926583492, -0.5729213559160982, -0.5729392872921331, -0.5220031924229899, -0.5769254213937529, -0.4875589820073882, -0.5073983816407199, -0.5769256193152936, -0.1541581273188537, -0.5220155572118531, -0.4875628168572533, -0.25585955465263555, -0.12410323769705432, -0.5046444779576456, -0.5046397976471554, -0.09413484109868546, -0.3174964637101748, -0.48756119785187474, -0.280266446858362, -0.5046388643415736, -0.11562762446924846, -0.5194234853242112, -0.33562014575441595, -0.5730911160609286, -0.48925681877892707, -0.5046391722000442, -0.4868048975784064, -0.28968083958867186, -0.5046435084603691, -0.3390112834565939, -0.48755898198319547, -0.23801087109375688, -0.08955332703163757, -0.4875706370535386, -0.5815847425912163, -0.5769749292286738, -0.5046723761320845, -0.3241394692387599, -0.23801604392649006, -0.5061372855300346, -0.5046410858090278, -0.487572764753002, -0.33559257689240546, -0.5046385162432558, -0.238019200394436, -0.5048188404754913, -0.50463928035033, -0.23877567094585003, -0.504638527685942, -1.033555778502474, -0.2603285727966567, -0.25473617400532766, -0.5047101683709644, -0.32820454465461524, 6.59403396055837, -0.41272955034791625, 4.249974918290981, -0.48755964350233827, -0.35014930851642506, -0.25586166248018455, -0.10165426257203371, -0.5729242900996655, -0.5046387742353976, -0.5046388769166965, -0.2559354149517685, -0.21676399219273484, -0.24905961979066824, -0.12410869193632935, -0.5046415308977062, -0.5046385167903304, -0.504638519084143, -0.4868381616768242, -0.12410539643933534, -0.09676692461699792, -0.5050669494351988, 0.14064497131686565, -0.25586566991157644, -0.5077505611784653, -0.2558561885823938, -0.6663067807939752, -0.504645106586108, -0.36127726884724337, -0.37458992195645374, -0.2380117031146208, -0.08682504353107699, -0.2518700743667275, -0.345561502144855, -0.23801303159868462, -0.4867973324847998, -0.25585427515563375, -0.78609413489654, -0.36440902582420853, -0.23803102405804352, -0.5046401706337869, -0.5046385167903304, -0.23878020556686474, -0.48756837041816053, -0.25588674033497805, -0.12410486383839761, -0.2558538652591591, -0.2558538608435692, -0.38810639310517464, -0.2387757011113316, -0.48679552787202535, -0.5049620079439959, 0.0740696348181003, -0.2802107236342018, -0.10136659557982215, 0.04985484902517689, -0.27761156704753426, -0.48680630037984507, 0.032016552725223836, -0.5046430249190438, -0.4868010991424438, -0.23801146101145876, -0.5140437679470053, -0.2387745446456413, -0.5046447853767904, -0.35020987849395147, -0.6665701448783276, -0.48756368903342334, -0.48756623610142374, -0.2387743263306911, -0.5093124590158786, -0.5046395965366207, -0.5046447943602821, -0.08680874519373522, -0.48769211488571806, -0.50493779470008, -0.3410654130117956, -0.4877097788990646, -0.504656822105656, -0.3355920609278464, -0.5047618741382621, -0.4876204187491854, -0.5046701318281828, -0.12410318285808158, -0.25141424532590534, -0.33561484480854076, -0.2589049596153273, -0.5047154040064494, -0.28021106435991766, -0.5046385179372367, -0.5769189753482805, -0.08711250745697227, -0.12410484926122127, 0.13315721513085613, -0.5046430730636087, -0.25585389960003124]}, {\"customdata\": [[\"SHA-256\"], [\"Scrypt\"], [\"Ethash\"], [\"Equihash\"], [\"Multiple\"], [\"Scrypt\"], [\"X11\"], [\"SHA-256\"], [\"Scrypt\"], [\"SHA-256\"], [\"Multiple\"], [\"Scrypt\"], [\"SHA-256\"], [\"Scrypt\"], [\"Scrypt\"], [\"Quark\"], [\"Groestl\"], [\"Scrypt\"], [\"X11\"], [\"Scrypt\"], [\"Scrypt\"], [\"Scrypt\"], [\"X11\"], [\"Multiple\"], [\"Scrypt\"], [\"SHA-256\"], [\"Scrypt\"], [\"Scrypt\"], [\"Scrypt\"], [\"Scrypt\"], [\"Scrypt\"], [\"Scrypt\"], [\"SHA-256\"], [\"Scrypt\"], [\"NeoScrypt\"], [\"Scrypt\"], [\"Scrypt\"], [\"Scrypt\"], [\"Multiple\"], [\"Scrypt\"], [\"SHA-256\"], [\"Scrypt\"], [\"Scrypt\"], [\"Scrypt\"], [\"Scrypt\"], [\"Scrypt\"], [\"HybridScryptHash256\"], [\"Scrypt\"], [\"SHA-256\"], [\"Scrypt\"], [\"SHA-256\"], [\"Scrypt\"], [\"Scrypt\"], [\"Scrypt\"], [\"Scrypt\"], [\"Scrypt\"], [\"Scrypt-n\"], [\"Scrypt\"], [\"SHA-256\"], [\"SHA-256\"], [\"SHA-256\"], [\"SHA-256\"], [\"SHA-256\"], [\"SHA-256\"], [\"Scrypt\"], [\"Lyra2REv2\"], [\"Scrypt\"], [\"SHA-256\"], [\"CryptoNight\"], [\"CryptoNight\"], [\"Scrypt\"], [\"SHA-256\"], [\"Scrypt\"], [\"Scrypt\"], [\"Scrypt\"], [\"Scrypt\"], [\"Scrypt\"], [\"Momentum\"], [\"Stanford Folding\"], [\"Scrypt\"], [\"Scrypt\"], [\"M7 POW\"], [\"Scrypt\"], [\"X11\"], [\"Scrypt\"], [\"SHA-256\"], [\"Scrypt\"], [\"X11\"], [\"X11\"], [\"Lyra2RE\"], [\"SHA-256\"], [\"X11\"], [\"Scrypt\"], [\"Scrypt\"], [\"Ethash\"], [\"X11\"], [\"SHA-256\"], [\"Scrypt\"], [\"Scrypt\"], [\"1GB AES Pattern Search\"], [\"Scrypt\"], [\"CryptoNight\"], [\"SHA-256\"], [\"SHA-256\"], [\"X11\"], [\"Scrypt-n\"], [\"X11\"], [\"Scrypt\"], [\"Dagger\"], [\"Scrypt\"], [\"CryptoNight-Lite\"], [\"X11GOST\"], [\"SHA-256\"], [\"Scrypt\"], [\"X11\"], [\"SHA-256\"], [\"Scrypt\"], [\"X11\"], [\"Equihash\"], [\"CryptoNight\"], [\"SHA-256\"], [\"Multiple\"], [\"Scrypt\"], [\"SHA-256\"], [\"Scrypt\"], [\"Scrypt\"], [\"Scrypt-n\"], [\"Lyra2Z\"], [\"SHA-256\"], [\"Quark\"], [\"Ethash\"], [\"SHA-256\"], [\"Equihash\"], [\"Scrypt\"], [\"Equihash\"], [\"X11\"], [\"X11\"], [\"CryptoNight\"], [\"Scrypt\"], [\"CryptoNight\"], [\"Lyra2RE\"], [\"X11\"], [\"X11\"], [\"Scrypt\"], [\"CryptoNight-V7\"], [\"Keccak\"], [\"Scrypt\"], [\"X11\"], [\"Equihash\"], [\"Scrypt\"], [\"Lyra2RE\"], [\"Ethash\"], [\"X11\"], [\"Dagger-Hashimoto\"], [\"Scrypt\"], [\"NIST5\"], [\"Scrypt\"], [\"Scrypt\"], [\"Scrypt\"], [\"SHA-256\"], [\"Scrypt\"], [\"CryptoNight-V7\"], [\"Blake2b\"], [\"Cloverhash\"], [\"CryptoNight\"], [\"X11\"], [\"Scrypt\"], [\"Scrypt\"], [\"X11\"], [\"X11\"], [\"CryptoNight\"], [\"Time Travel\"], [\"Scrypt\"], [\"Keccak\"], [\"X11\"], [\"SHA-256\"], [\"Scrypt\"], [\"Scrypt\"], [\"Scrypt\"], [\"Scrypt\"], [\"Scrypt\"], [\"Scrypt\"], [\"Scrypt\"], [\"CryptoNight\"], [\"Equihash\"], [\"X11\"], [\"NeoScrypt\"], [\"Equihash\"], [\"Dagger\"], [\"Scrypt\"], [\"X11\"], [\"NeoScrypt\"], [\"Scrypt\"], [\"Ethash\"], [\"Scrypt\"], [\"NeoScrypt\"], [\"Multiple\"], [\"CryptoNight\"], [\"CryptoNight\"], [\"Ethash\"], [\"X11\"], [\"SHA-256\"], [\"CryptoNight-V7\"], [\"Scrypt\"], [\"BLAKE256\"], [\"X11\"], [\"NeoScrypt\"], [\"NeoScrypt\"], [\"Scrypt\"], [\"X11\"], [\"SHA-256\"], [\"C11\"], [\"Ethash\"], [\"CryptoNight\"], [\"SkunkHash\"], [\"CryptoNight\"], [\"Equihash\"], [\"Skein\"], [\"Scrypt\"], [\"Dagger\"], [\"Lyra2REv2\"], [\"Scrypt\"], [\"Scrypt\"], [\"Scrypt\"], [\"NeoScrypt\"], [\"Equihash\"], [\"X11\"], [\"Ethash\"], [\"X11\"], [\"CryptoNight\"], [\"NeoScrypt\"], [\"Scrypt\"], [\"IMesh\"], [\"Equihash\"], [\"Equihash\"], [\"Equihash\"], [\"Lyra2Z\"], [\"X11\"], [\"CryptoNight\"], [\"NIST5\"], [\"Lyra2RE\"], [\"Tribus\"], [\"Lyra2Z\"], [\"CryptoNight\"], [\"CryptoNight Heavy\"], [\"CryptoNight\"], [\"Jump Consistent Hash\"], [\"CryptoNight\"], [\"X16R\"], [\"HMQ1725\"], [\"X11\"], [\"Scrypt\"], [\"CryptoNight-V7\"], [\"Cryptonight-GPU\"], [\"XEVAN\"], [\"CryptoNight Heavy\"], [\"Lyra2REv2\"], [\"SHA-256\"], [\"X11\"], [\"X16R\"], [\"Equihash\"], [\"Quark\"], [\"CryptoNight Heavy X\"], [\"Lyra2Z\"], [\"Ethash\"], [\"SHA-256\"], [\"Ethash\"], [\"CryptoNight\"], [\"SkunkHash\"], [\"Argon2\"], [\"Blake\"], [\"Blake\"], [\"SHA-256\"], [\"Exosis\"], [\"Scrypt\"], [\"Equihash\"], [\"Equihash\"], [\"QuBit\"], [\"Equihash1927\"], [\"SHA-256\"], [\"SHA-256\"], [\"X13\"], [\"SHA-256\"], [\"X11\"], [\"Scrypt\"], [\"NeoScrypt\"], [\"Blake\"], [\"CryptoNight\"], [\"Scrypt\"], [\"SHA-256\"], [\"CryptoNight\"], [\"Scrypt\"], [\"Groestl\"], [\"Scrypt\"], [\"Scrypt\"], [\"Scrypt\"], [\"Multiple\"], [\"Equihash+Scrypt\"], [\"Ethash\"], [\"Ethash\"], [\"CryptoNight\"], [\"Equihash\"]], \"hovertemplate\": \"<b>%{hovertext}</b><br><br>Class=%{marker.color}<br>PC 1=%{x}<br>PC 2=%{y}<br>PC 3=%{z}<br>Algorithm=%{customdata[0]}<extra></extra>\", \"hovertext\": [\"Bitcoin\", \"Litecoin\", \"Ethereum Classic\", \"ZCash\", \"DigiByte\", \"ProsperCoin\", \"Spreadcoin\", \"ACoin\", \"Argentum\", \"BetaCoin\", \"MyriadCoin\", \"MoonCoin\", \"ZetaCoin\", \"SexCoin\", \"Quatloo\", \"QuarkCoin\", \"Riecoin\", \"Digitalcoin \", \"LimeCoinX\", \"BitMark\", \"Catcoin\", \"CannaCoin\", \"CryptCoin\", \"Verge\", \"DarkShibe\", \"DevCoin\", \"EarthCoin\", \"E-Gulden\", \"Elacoin\", \"Einsteinium\", \"Emerald\", \"Flappy Coin\", \"FireRoosterCoin\", \"Franko\", \"FeatherCoin\", \"GrandCoin\", \"GlobalCoin\", \"GoldCoin\", \"HunterCoin\", \"Infinite Coin\", \"IXcoin\", \"KrugerCoin\", \"LuckyCoin\", \"Litebar \", \"LitecoinDark\", \"MegaCoin\", \"MediterraneanCoin\", \"MinCoin\", \"NoirBits\", \"NobleCoin\", \"Namecoin\", \"NyanCoin\", \"RipOffCoin\", \"RonPaulCoin\", \"StableCoin\", \"SmartCoin\", \"SpainCoin\", \"SecureCoin\", \"SysCoin\", \"TigerCoin\", \"TerraCoin\", \"Umbrella\", \"UnbreakableCoin\", \"Unobtanium\", \"ViaCoin\", \"Vertcoin\", \"WorldCoin\", \"JouleCoin\", \"ByteCoin\", \"DigitalNote \", \"MonaCoin\", \"Sling Coin\", \"Gulden\", \"PesetaCoin\", \"Wild Beast Coin\", \"Flo\", \"ArtByte\", \"BitCredit\", \"Folding Coin\", \"OmniCron\", \"GreenCoin\", \"Cryptonite\", \"Gridmaster\", \"ConSpiracy Coin \", \"MasterCoin\", \"SoonCoin\", \"1Credit\", \"Quicksilver coin\", \"MarsCoin \", \"Crypto\", \"Anarchists Prime\", \"BowsCoin\", \"Song Coin\", \"BitZeny\", \"Expanse\", \"MindCoin\", \"I0coin\", \"DogeCoinDark\", \"Revolution VR\", \"HOdlcoin\", \"Gamecredits\", \"Dashcoin\", \"CarpeDiemCoin\", \"Phalanx\", \"SunShotCoin\", \"HempCoin\", \"Adzcoin\", \"VirtaCoin\", \"SoilCoin\", \"YoCoin\", \"AEON\", \"SibCoin\", \"Anti Bitcoin\", \"Francs\", \"BolivarCoin\", \"Clinton\", \"Omni\", \"PizzaCoin\", \"Komodo\", \"Karbo\", \"ZayedCoin\", \"Circuits of Value\", \"DopeCoin\", \"DollarCoin\", \"Shilling\", \"GBR Coin\", \"FujiCoin\", \"ZCoin\", \"LeaCoin\", \"Zurcoin\", \"Elementrem\", \"CashOut\", \"ZClassic\", \"KiloCoin\", \"Hush\", \"ArtexCoin\", \"Kurrent\", \"Cannabis Industry Coin\", \"OsmiumCoin\", \"Bikercoins\", \"HexxCoin\", \"MarxCoin\", \"PacCoin\", \"Solarflarecoin\", \"Citadel\", \"CreativeChain\", \"BeaverCoin\", \"VaultCoin\", \"Zero\", \"Canada eCoin\", \"Zoin\", \"Musicoin\", \"BnrtxCoin\", \"DubaiCoin\", \"EB3coin\", \"Coinonat\", \"Bitcoin Scrypt\", \"BenjiRolls\", \"ParallelCoin\", \"ILCoin\", \"EquiTrader\", \"Quantum Resistant Ledger\", \"Nano\", \"ChanCoin\", \"Dinastycoin\", \"DigitalPrice\", \"Unify\", \"SocialCoin\", \"ArcticCoin\", \"DAS\", \"LeviarCoin\", \"Bitcore\", \"gCn Coin\", \"SmartCash\", \"Onix\", \"Bitcoin Cash\", \"CampusCoin\", \"Sojourn Coin\", \"LiteBitcoin\", \"FrazCoin\", \"Kronecoin\", \"AdCoin\", \"Linx\", \"Sumokoin\", \"BitcoinZ\", \"Elements\", \"VIVO Coin\", \"Bitcoin Gold\", \"Pirl\", \"eBoost\", \"Pura\", \"Innova\", \"Bitdeal\", \"Ellaism\", \"Sakuracoin\", \"GoByte\", \"SHIELD\", \"UltraNote\", \"BitCoal\", \"DaxxCoin\", \"AC3\", \"CHIPS\", \"Lethean\", \"PopularCoin\", \"Photon\", \"Sucre\", \"SparksPay\", \"GunCoin\", \"IrishCoin\", \"Pioneer Coin\", \"UnitedBitcoin\", \"Interzone\", \"1717 Masonic Commemorative Token\", \"TurtleCoin\", \"MUNcoin\", \"Niobio Cash\", \"Bitcoin Private\", \"Skeincoin\", \"ShareChain\", \"Travelflex\", \"KREDS\", \"BitFlip\", \"LottoCoin\", \"LeafCoin\", \"Cerberus\", \"Bitcoin Hush\", \"Crypto Improvement Fund\", \"Callisto Network\", \"Curium\", \"BitTube\", \"Dinero\", \"Poseidon\", \"Aidos Kuneen\", \"Snowgem\", \"Bitrolium\", \"Bitcoin Interest\", \"Alpenschillling\", \"FuturoCoin\", \"Monero Classic\", \"Jumpcoin\", \"Infinex\", \"KEYCO\", \"GINcoin\", \"PlatinCoin\", \"Loki\", \"Newton Coin\", \"MassGrid\", \"PluraCoin\", \"Motion\", \"PlusOneCoin\", \"Axe\", \"HexCoin\", \"Webchain\", \"Ryo\", \"Urals Coin\", \"Qwertycoin\", \"NIX\", \"Project Pai\", \"Azart\", \"Xchange\", \"CrypticCoin\", \"ZestCoin\", \"X-CASH\", \"Actinium\", \"ETHER-1\", \"Bitcoin SV\", \"Bitcoiin2Gen\", \"FREDEnergy\", \"C25 Coin\", \"Aquachain\", \"Universal Molecule\", \"Lithium\", \"Smart Bitcoin\", \"Exosis\", \"Block-Logic\", \"Beam\", \"Bithereum\", \"SLICE\", \"Vidulum\", \"BlockStamp\", \"BLAST\", \"Bitcoin Rhodium\", \"GlobalToken\", \"Boolberry\", \"SolarCoin\", \"UFO Coin\", \"BlakeCoin\", \"FantomCoin \", \"Crypto Escudo\", \"Crown Coin\", \"Quazar Coin\", \"SmileyCoin\", \"Groestlcoin\", \"Bata\", \"Pakcoin\", \"Dotcoin\", \"JoinCoin\", \"Vollar\", \"Reality Clash\", \"iOlite\", \"Beldex\", \"Horizen\"], \"legendgroup\": \"0\", \"marker\": {\"color\": [0, 0, 0, 0, 0, 0, 0, 0, 0, 0, 0, 0, 0, 0, 0, 0, 0, 0, 0, 0, 0, 0, 0, 0, 0, 0, 0, 0, 0, 0, 0, 0, 0, 0, 0, 0, 0, 0, 0, 0, 0, 0, 0, 0, 0, 0, 0, 0, 0, 0, 0, 0, 0, 0, 0, 0, 0, 0, 0, 0, 0, 0, 0, 0, 0, 0, 0, 0, 0, 0, 0, 0, 0, 0, 0, 0, 0, 0, 0, 0, 0, 0, 0, 0, 0, 0, 0, 0, 0, 0, 0, 0, 0, 0, 0, 0, 0, 0, 0, 0, 0, 0, 0, 0, 0, 0, 0, 0, 0, 0, 0, 0, 0, 0, 0, 0, 0, 0, 0, 0, 0, 0, 0, 0, 0, 0, 0, 0, 0, 0, 0, 0, 0, 0, 0, 0, 0, 0, 0, 0, 0, 0, 0, 0, 0, 0, 0, 0, 0, 0, 0, 0, 0, 0, 0, 0, 0, 0, 0, 0, 0, 0, 0, 0, 0, 0, 0, 0, 0, 0, 0, 0, 0, 0, 0, 0, 0, 0, 0, 0, 0, 0, 0, 0, 0, 0, 0, 0, 0, 0, 0, 0, 0, 0, 0, 0, 0, 0, 0, 0, 0, 0, 0, 0, 0, 0, 0, 0, 0, 0, 0, 0, 0, 0, 0, 0, 0, 0, 0, 0, 0, 0, 0, 0, 0, 0, 0, 0, 0, 0, 0, 0, 0, 0, 0, 0, 0, 0, 0, 0, 0, 0, 0, 0, 0, 0, 0, 0, 0, 0, 0, 0, 0, 0, 0, 0, 0, 0, 0, 0, 0, 0, 0, 0, 0, 0, 0, 0, 0, 0, 0, 0, 0, 0, 0, 0, 0, 0, 0, 0, 0, 0, 0, 0, 0, 0, 0, 0, 0, 0, 0, 0, 0, 0, 0, 0, 0, 0, 0, 0, 0, 0], \"coloraxis\": \"coloraxis\", \"symbol\": \"diamond\"}, \"mode\": \"markers\", \"name\": \"0\", \"scene\": \"scene\", \"showlegend\": true, \"type\": \"scatter3d\", \"x\": [-0.24983073786036514, -0.2434400276484646, -0.3900374988733476, -0.20003979925890011, -0.18153858070225412, -0.24421526973390242, -0.33242906802759487, -0.25007340721666504, -0.24412812934676809, -0.2500734071921635, -0.3130848174720298, -0.24429304119262032, -0.24776945305383116, -0.2425479558971289, -0.2441937537745812, -0.006464520867481499, -0.2859561211821932, -0.24384065430569465, -0.3325799952419083, -0.24429335185723386, -0.24419561966999007, -0.24422967829279427, -0.3325123540600448, -0.12030924803310476, -0.24429335187781542, 0.004056980004469663, -0.07456026549281476, -0.2440102993400539, -0.2442933518190144, -0.24133061496503908, -0.24402943563269128, -0.24429327128164, -0.2500734072158572, -0.24427788339547007, -0.36814450973001717, -0.23232547373044699, -0.24340437986980207, -0.2437294438634638, -0.3359376971924022, 0.9820467134399442, -0.2497879334207772, -0.242243296298694, -0.24403174315344028, -0.24427840303752266, -0.24429335181337, -0.24377691126403095, -0.3383699917508449, -0.2442147838553491, -0.2500734071776558, -0.21226532922078475, -0.24987392945444223, -0.2397625950009254, -0.24429335186979095, -0.24427840555038793, -0.24396556538798594, -0.2439469048762164, -0.4575417482314469, -0.24429335186253728, -0.24244785997605525, -0.24948407581299994, -0.24976294458053988, -0.25007340721583915, -0.25004256921284046, -0.2500706875961743, -0.24397997221588713, -0.23357042323132074, -0.2426743047431684, -0.249542838130645, 2.2472135631470813, -0.15089776473973068, -0.24337024166794177, -0.2500734072171487, -0.23867530731933828, -0.24243185831287856, -0.2442908893464163, -0.24223215572585402, -0.23356525298194566, -0.22342469979771756, -0.3747051299233643, -0.24415609221931323, -0.181885947030601, -0.3433090932636633, -0.24429335181176054, -0.3325799952322367, -0.24428496637941813, -0.24990470824102742, -0.2442920836433619, -0.3325799952322367, -0.3321438312344643, -0.3054517205121024, -0.2498737832349586, -0.33236525605481254, -0.24385253491209005, -0.24326980385968883, -0.3914299126240846, -0.33236520384219476, -0.24978917703836773, -0.244293338580822, -0.24145070854204945, -0.29352678488981776, -0.2433480227043521, -0.2443880779557836, 0.04420748011672085, -0.250073407205865, -0.33257999344538297, -0.4575417442418546, -0.331969363980027, -0.24429333495391997, -0.3515818083265941, -0.24428473633450157, -0.2632194839231874, -0.32674319197684776, -0.2500734071841036, -0.24420440680860597, -0.33239516817043374, -0.2500734072160033, -0.2442850073947007, -0.33256134320846387, 0.40530404246987023, -0.24428219041524693, -0.24998888811906445, -0.322401300220232, -0.2427116884368098, -0.24995013512206393, -0.24414283796044822, -0.2442933518089397, -0.457541748263686, -0.37581718357131544, -0.2500734056059983, -0.00997798954401151, -0.39121725230182003, -0.25007340713735693, -0.20006375199629509, -0.2416361767426024, -0.20013973923227887, -0.3214260045198349, -0.33174933666345313, -0.2443748373956224, -0.2442812499872702, -0.24426141670156354, -0.30561235144000587, -0.33257999517772036, -0.3253111126415857, -0.24429335186334328, -0.3040371411640067, -0.25218950068515955, -0.2442511825107036, -0.3321686837495615, -0.2000460449870712, -0.24294183188203328, -0.3053867049740671, -0.3915719805106186, -0.3325799950895786, -0.2877038735465806, -0.24342571911115132, -0.24305621827975893, -0.24429335186253728, -0.24401888654266385, -0.24429335187865683, -0.23223585316380832, -0.24410826317676157, -0.3032511274034782, -0.45036757963249935, -0.3822308793607381, -0.21989441249176553, -0.33210434009623707, -0.24404789375495647, -0.24422339876997476, -0.33222747545252695, -0.33254449081994025, -0.24419637815309644, -0.34369196756116904, 1.9628851852290228, -0.22185430937739914, -0.3309221156259037, -0.24982981177261593, -0.24429335106542474, -0.24428677536782387, -0.2442933510734846, -0.24416199410765355, -0.24405709094746175, -0.243851432717822, -0.24383695154987495, -0.24426697246077872, -0.1295940734456244, -0.2959930690386374, -0.37091274527610396, -0.19990688125977507, -0.35119893218330966, -0.24293984753872458, -0.33020820371703086, -0.37088283941736083, -0.24429335163766944, -0.39139930541585405, -0.24429335179475453, -0.3708901890435353, -0.3294168009612496, 0.016618361540854963, -0.24432716417840186, -0.3845209753900143, -0.3314928028292559, -0.2500734072010292, -0.29821268763613057, -0.1906323497671578, 0.172585674504182, -0.3325227492757501, -0.37086291171901087, -0.3669109532584127, -0.24367767525896206, -0.33246523226229574, -0.2498004322391819, -0.28713158176269094, -0.1465044919278567, 0.4749345829002449, -0.28642906713353716, -0.24257511477359212, -0.20013973923227887, -0.22838187986302325, -0.10892938343120871, -0.35020619614420934, -0.22554845377801402, -0.2441248765084469, -0.04813722683653602, -0.24429333495391997, -0.3709691374594571, -0.20013973923227887, -0.3297197863390292, -0.3882201954104398, -0.33257999524110243, -0.24330450107591484, -0.37096913740424775, -0.2442382558589221, -0.32917716515183093, -0.20013973918142475, -0.1991738431965732, -0.20013973923123113, -0.3755495387408423, -0.3321495180049979, -0.24417126734141706, -0.24290804693095375, -0.30556874334136397, -0.3083075519348112, -0.37582506015914496, -0.24438693636887793, 0.21812542716788044, 0.31459104751355693, -0.2633068645233052, -0.23680653189712897, -0.27626528610619083, -0.4369002119218432, -0.33251240760095474, -0.24427417534933146, -0.3039747251942465, -0.48030295587449573, -0.5812117835923317, 1.5654566355944464, -0.23426313095034104, -0.2216469738438212, -0.3325120982819337, -0.27624325029866764, -0.14281158653694825, -0.00997798962194959, -0.43917449729936514, -0.3757350640436583, -0.391571980866242, -0.2498298533970336, -0.391571980796659, -0.2191148772673158, -0.2864942900868111, -0.3762253118052165, -0.25164112713551695, -0.25144798394609275, -0.25007340720102944, -0.2604055130009518, -0.24381572387696018, -0.19965665863302906, -0.19979928820402199, -0.3877322907193134, -0.33099265294137076, -0.2500734071333271, -0.24936553708338755, -0.18422042633445984, -0.24892805065087595, -0.33257999524396376, -0.24354112193310415, -0.3191966832146576, -0.2513463190576542, -0.24438807795582146, -0.23373211004453837, -0.24976224700828642, -0.2443880779557836, 0.15616728430353766, -0.28563463692014923, -0.24422495847749387, -0.24335007534620512, -0.24429335116214218, -0.3358925814650698, -0.44257067809282624, -0.3912405023480617, -0.39157198007127847, -0.23111939558995595, -0.2000409704109664], \"y\": [-1.4104563197647235, -1.0417469115656592, -2.0252678841362894, -1.7889525447110648, -1.8294905246125461, -1.041645185938447, -0.7997713040342451, -1.4104244772006773, -1.0416566198410822, -1.4104244768021197, -1.8122294154021839, -1.0416299060959384, -1.4107267974458122, -1.0418639660987983, -1.041648008196161, -0.4913807829278946, -1.4456275074946918, -1.0416943422261276, -0.7997514995090024, -1.0416349399965035, -1.0416477643993884, -1.041643295366221, -0.7997603753541567, -1.8375250326840444, -1.0416349403312926, -1.4437709246764703, -1.0639069609320284, -1.0416720819402618, -1.041634939374805, -1.0420237036512285, -1.0416695707504744, -1.041633629311616, -1.410424477187535, -1.0416369699679697, -1.578924643333969, -1.0432053341014549, -1.0417515894151104, -1.041708934826403, -1.809230710180448, -1.2025528103656853, -1.4104619365187514, -1.04190394301051, -1.0416692681185975, -1.0416369019117335, -1.0416349392829898, -1.0417027066032227, -2.218306168283467, -1.0416452498403037, -1.4104244765661313, -1.0458374259237044, -1.4104506522086901, -1.0422294571076942, -1.0416349402007643, -1.0416369013222992, -1.0416779488563925, -1.0416804000967164, -2.1763279643003464, -1.0416349400827702, -1.4114250818605534, -1.4105018080541085, -1.4104652152508268, -1.4104244771872396, -1.4104285226953015, -1.4104248340842902, -1.0416760614075082, -1.3508089494892632, -1.0418473865308788, -1.4104940973505184, -2.58291531863013, -2.2682399511556817, -1.0417560685302851, -1.4104244772085441, -1.0423721121165888, -1.0418792014080684, -1.041635263454382, -1.0419054062581519, -1.0430426571169011, -2.1375483565422013, -2.1308650287241653, -1.0416529513833235, -1.049823842926896, -2.1570685625928694, -1.0416349392568107, -0.7997514993516769, -1.0416360406864937, -1.4104466134483393, -1.04163389088207, -0.7997514993516769, -0.7998087323376477, -2.1376550060901827, -1.4104506709624955, -0.799779677361703, -1.0416927811233112, -1.0417692459602146, -2.025085175604657, -0.7997796842790692, -1.4104617733325455, -1.0416347240354218, -1.0420079462837248, -2.0151310970485268, -1.0417589843586958, -2.255972381448063, -1.4490394232486328, -1.4104244770249974, -0.7997514702857765, -2.1763278994035464, -0.7998316250752193, -1.0416346650383301, -2.1997596795904832, -1.0416360686559671, -2.13724588194592, -2.216695105979046, -1.4104244766710146, -1.0416466113734182, -0.799775752272149, -1.4104244771899108, -1.0416360353045508, -0.7997539469565592, -0.5522597491448569, -2.2559862760125933, -1.4104355676011977, -1.8110069268024929, -1.0418424819461116, -1.410440652717218, -1.0416546902414507, -1.0416349392109243, -2.176327964824766, -2.1261949736109362, -1.4104244510007247, -0.4909197508229927, -2.0251130805479773, -1.4104244759106082, -1.7889494016577872, -1.0419834799525862, -1.7889394306917443, -0.8012151082355556, -0.7998604949276313, -2.2559741188268463, -1.041636528319919, -2.2559890017194446, -2.1376339290042763, -0.799751498464885, -0.8007039933758453, -1.0416349400958809, -2.105385823639846, -1.4861587918063484, -1.0416404737343758, -0.7998054584363861, -1.7889517252059794, -1.0418122840843103, -2.137663537953379, -2.0250665278158024, -0.7997514970311247, -2.145678112439098, -1.0417487373623018, -0.5080412216339875, -1.0416349400827702, -1.0416709549445653, -1.0416349403449796, -1.4127650694645861, -1.0416592265535105, -2.105488964604974, -2.117342335023347, -2.1041443934903112, -2.2591863885566026, -0.7998139134382293, -1.0416671488630287, -1.0416441185411158, -0.7997977562735452, -0.7997561583900659, -2.255997535626833, -2.160588616434329, -1.3312559682429859, -1.4901392794855504, -0.7999690304869297, -1.4104564412849963, -1.0416349271165206, -1.0416356645507485, -1.041634927247625, -1.041652176723908, -1.0416659411616012, -1.0416929272090532, -1.0416948274128437, -2.2559882718541306, -1.7981960822922403, -0.8045523743860248, -1.578561402429699, -1.7889699860726138, -2.1998099185303337, -1.0418125444677746, -0.8000627191769741, -1.5785653264074748, -1.0416349364249506, -2.025089188373571, -1.04163493898018, -1.5785643621716294, -1.8100863672314567, -2.2902202517333934, -2.2559803745691447, -2.025991627221144, -0.7998941527748138, -1.4104244769463345, -2.1061500916072173, -1.0486762151413227, -1.2885522457342535, -0.7997590112809783, -1.5785679416165073, -1.5790865071632303, -1.041715727957799, -0.7997665585613473, -1.4104602964478274, -1.023565510047696, -0.11112077462210694, -2.3503479365892397, -1.4157646599500193, -2.2562102723936355, -1.7889394306917443, -0.7965692402425852, -1.059397127293076, -2.1999401850646314, -1.3518615705465997, -1.0416570469923316, -1.0673740997203016, -1.0416346650383301, -1.5785540026466005, -1.7889394306917443, -0.8001268068146968, -2.0255062656757867, -0.7997514994958921, -2.2561145543063787, -1.5785540017485344, -1.0416421697230387, -2.1371822471057382, -1.7889394298645265, -1.7890661739169667, -1.7889394306747002, -2.126230090005074, -0.7998079852400485, -2.2560008311119124, -0.5080606648843778, -2.1376396509984468, -2.0186229649690737, -2.1261939401973335, -2.2559725235599637, -2.1631688775212927, -2.329318609147993, -2.120974585044602, -2.256967211061058, -1.193745840909128, -2.2057523455348, -0.7997603682889252, -1.041637456390273, -2.105393993115065, -2.1659440472842477, -0.6902508297129942, -2.339961840814847, -1.3507180519004403, -1.4141545364780017, -0.7997604088245807, -1.1937487313949986, -1.7964618710742677, -0.49091975209077454, -2.272587410905436, -2.1262057484225765, -2.025066533600561, -1.4104564358230836, -2.0250665324686854, -2.259288598003025, -1.4157561016007236, -2.203612069609172, -1.7151551600574209, -1.7151805051616367, -1.4104244769463374, -2.031885056203941, -1.0416976126216722, -1.7890028168296623, -1.7889841041907864, -1.18956529502204, -2.128412251656643, -1.410424475845056, -1.4105173623583542, -0.26751482123740133, -1.4105747674983484, -0.7997514995424343, -1.041732350677366, -1.585347477776178, -1.715193753342377, -2.255972381448675, -1.0430207623067578, -1.4104653067855317, -2.255972381448063, -1.0941823075583375, -1.4456696920475205, -1.0416439148030536, -1.0417587137179773, -1.0416349286897761, -1.8092366307373222, -2.171100493362885, -2.0251100297238005, -2.0250665206692675, -2.2577134658805416, -1.7889523910337104], \"z\": [0.1721456553184025, 0.0030854359810006584, 0.389179958249036, 0.29097694209037833, 0.27982151099173924, 0.0031029095157577686, 0.02018080192154501, 0.17215112495182053, 0.0031009452135256272, 0.17215112477749078, 0.28278653909006096, 0.0031024674412842, 0.17209919518749914, 0.003065328634632489, 0.003102424116144642, 0.02086846785288857, 0.18840347221642542, 0.0030944659065862343, 0.020184203663000406, 0.0031046693704432737, 0.0031024666231379543, 0.00310323431507199, 0.020182679116139482, 0.2784414890040706, 0.003104669516880461, 0.1664231623282025, -0.0007210202013563825, 0.0030982896898321213, 0.003104669098511656, 0.0030378907133114448, 0.0030987209396854723, 0.0031040960753545696, 0.1721511249460722, 0.003104320820347387, 0.22746879737526135, 0.0028349175062822047, 0.003084632596055847, 0.003091959197746748, 0.283301631140122, -0.02453631644897988, 0.1721446905495184, 0.0030584618264401023, 0.0030987730174719774, 0.0031043325890659354, 0.0031046690583516542, 0.0030930292379711993, 0.3415834011450649, 0.003102898627425279, 0.17215112467426924, 0.002382704458737887, 0.1721466288133738, 0.0030025489122752097, 0.003104669459787301, 0.003104332533376946, 0.003097280122627224, 0.0030968606699283132, 0.42999282384354415, 0.0031046694081765815, 0.17197924774184667, 0.17213784175684343, 0.1721441272062218, 0.17215112494594262, 0.1721504294461572, 0.17215106366203492, 0.0030976061356113756, 0.14332261454362574, 0.0030681763220244593, 0.1721391662117114, 0.2969823493832774, 0.35103435708166425, 0.00308386295466211, 0.17215112495526116, 0.002978034867588722, 0.0030627123901582507, 0.0031046140105681565, 0.0030582113317896365, 0.0028628632844161297, 0.37602803648143185, 0.43949525862820443, 0.0031015758150426307, 0.001698012409396881, 0.31787979726575055, 0.0031046690469009454, 0.020184203594186035, 0.0031044805243479706, 0.17214732253617712, 0.0031041150381179907, 0.020184203594186035, 0.02017437289763067, 0.2826096027660751, 0.17214662533046604, 0.020179363658328692, 0.003094732756996078, 0.0030815983595874424, 0.38921134295425625, 0.02017936251009074, 0.17214471857940447, 0.0031045749088158673, 0.0030405980146866046, 0.367293081973389, 0.00308336228236442, 0.35314159149698365, 0.16551820697505282, 0.1721511248749778, 0.020184190880727534, 0.4299927954576085, 0.020170440290164453, 0.003104549103419683, 0.31524815410411505, 0.003104474380550923, 0.37468094201243274, 0.28821969394926555, 0.17215112472014543, 0.003102664682095237, 0.020180037824377245, 0.1721511249471112, 0.0031044814488082988, 0.020183783242115252, 0.22065472133070643, 0.35313920494691264, 0.17214921993010587, 0.28299652778685114, 0.003069019286739783, 0.17214834647148544, 0.003101276925198055, 0.0031046690268301817, 0.4299928240729255, 0.3212720223048929, 0.17215111349193085, 0.020947658584535473, 0.38920654975194346, 0.1721511243875424, 0.29097748196091927, 0.003044722317618802, 0.2909791946365708, 0.019932801224909376, 0.020165480273231576, 0.35314129305351794, 0.0031043967486428627, 0.353138736642615, 0.28261322354407403, 0.0201842032063023, 0.02001979886463189, 0.0031046694139110743, 0.34221304210761966, 0.11963821964828542, 0.0031037190543588785, 0.02017492752052611, 0.2909770828856578, 0.0030742070594882757, 0.28260813763745946, 0.3892145425173934, 0.02018420257917372, 0.21051101003647968, 0.0030850910957106663, -0.06517998627008303, 0.0031046694081765815, 0.0030984831537132396, 0.0031046695228671333, 0.17174907019426952, 0.0031004974043616117, 0.3421953266076111, 0.4099217197821415, 0.34512275637276413, 0.35258951765666696, 0.020173482424212855, 0.003099137039873338, 0.0031030924273474842, 0.020176257999592787, 0.020183403441146584, 0.35313727057356153, 0.4151126946784301, -0.04664405161119386, 0.11895446711057586, 0.02014683056078349, 0.17214563444532657, 0.0031046637367239667, 0.003104461278814405, 0.003104663794069304, 0.003101708742597079, 0.0030993439653336946, 0.00309470854482134, 0.0030943821539027674, 0.35313886149861135, 0.28938904656482634, 0.019359561081846173, 0.22753119237853478, 0.2909739462527522, 0.31523952374003356, 0.003074162334391809, 0.02013074399374855, 0.22753051822774972, 0.003104667808241942, 0.38921065159471635, 0.003104668925902311, 0.2275306839563663, 0.2831546531839231, 0.3472582838397286, 0.35314021859587885, 0.389055565410957, 0.0201596964187019, 0.17215112484057057, 0.34208176014429703, 0.0018951760864985925, 0.10212046878440006, 0.02018291340352634, 0.2275300692147227, 0.22744099331918397, 0.0030907924327551826, 0.02018161700976754, 0.17214497226504516, 0.09501343241223825, 0.13025552148944133, 0.3369230680341091, 0.16873043216297795, 0.353100727320325, 0.2909791946365708, -0.014257930213067165, 5.364505645656371e-05, 0.31521714879294555, 0.14314180163600365, 0.003100872035023812, -0.0013165968900971622, 0.003104549103419683, 0.22753246337574146, 0.2909791946365708, 0.02011973470125549, 0.38913896210613247, 0.02018420365726585, 0.35311716315618713, 0.2275324629829261, 0.0031034275998298383, 0.38425449002394246, 0.2909791942747446, 0.2909574240341141, 0.29097919462911587, 0.321265988267805, 0.020174500688705844, 0.353136704804698, -0.06518332574704362, 0.2826122405684552, 0.3483267184747281, 0.32127219989754585, 0.3531415624423919, 0.34171888941674955, 0.34054171413982287, 0.3167270330890676, 0.352970705485337, 0.16219046989541352, 0.5075987476977933, 0.020182680305748293, 0.0031042371825938837, 0.34221162636850583, 0.45310519390361004, 0.15758950528557975, 0.31135034937827305, 0.14333822695669515, 0.17151040982184526, 0.020182673311144178, 0.16218997278509542, 0.289687032576837, 0.020947659139064764, 0.3315428775281184, 0.32127017105572814, 0.38921454504765346, 0.1721456353834989, 0.3892145445525696, 0.35257191296350904, 0.16873190228257676, 0.333265920621948, 0.27546302950133705, 0.2754586767053565, 0.1721511248405721, 0.34330944055076257, 0.003093903589240103, 0.29096830510492516, 0.29097152115729163, 0.2069884990456877, 0.30037567683944194, 0.1721511243588699, 0.17213516991633704, -0.06917610371572125, 0.17212530881893445, 0.02018420367762353, 0.0030871542488208363, 0.2263655417940438, 0.27545634541097086, 0.353141591497252, 0.002866624074299858, 0.17214411148364686, 0.35314159149698365, -0.005921595088466231, 0.1883962261653933, 0.0031031279817272076, 0.0030834079866373606, 0.0031046644248678254, 0.2833006145012173, 0.41449652197934556, 0.38920707379435204, 0.38921453939149037, 0.3528425208817143, 0.2909769684869656]}, {\"customdata\": [[\"DPoS\"], [\"VeChainThor Authority\"], [\"Quark\"], [\"DPoS\"], [\"Semux BFT consensus\"], [\"DPoS\"], [\"DPoS\"], [\"SHA-256\"]], \"hovertemplate\": \"<b>%{hovertext}</b><br><br>Class=%{marker.color}<br>PC 1=%{x}<br>PC 2=%{y}<br>PC 3=%{z}<br>Algorithm=%{customdata[0]}<extra></extra>\", \"hovertext\": [\"ARK\", \"Vechain\", \"Castle\", \"Lamden Tau\", \"Semux\", \"ALAX\", \"Lisk\", \"ZEPHYR\"], \"legendgroup\": \"4\", \"marker\": {\"color\": [4, 4, 4, 4, 4, 4, 4, 4], \"coloraxis\": \"coloraxis\", \"symbol\": \"square\"}, \"mode\": \"markers\", \"name\": \"4\", \"scene\": \"scene\", \"showlegend\": true, \"type\": \"scatter3d\", \"x\": [7.162887136424725, 7.446500621252117, 4.520159523511378, 7.165322178482367, 7.893228373052016, 7.174958866907553, 7.163047002048128, 4.307136899524796], \"y\": [0.26668912743975076, 1.7059772620307725, 0.6848637603579245, 0.2663696087106266, 0.07345251790869262, 0.26510509909030094, 0.26666815050047377, -0.23819340242300113], \"z\": [-0.3510907232787118, 6.854591847172294, -0.33720405836427825, -0.3511456088141242, -0.478246456828698, -0.35136281290897625, -0.3510943266882148, -0.1866107973166391]}, {\"customdata\": [[\"SHA-256 + Hive\"], [\"ECC 256K1\"], [\"SHA3-256\"], [\"Leased POS\"]], \"hovertemplate\": \"<b>%{hovertext}</b><br><br>Class=%{marker.color}<br>PC 1=%{x}<br>PC 2=%{y}<br>PC 3=%{z}<br>Algorithm=%{customdata[0]}<extra></extra>\", \"hovertext\": [\"LitecoinCash\", \"Acute Angle Cloud\", \"Fiii\", \"Waves\"], \"legendgroup\": \"3\", \"marker\": {\"color\": [3, 3, 3, 3], \"coloraxis\": \"coloraxis\", \"symbol\": \"x\"}, \"mode\": \"markers\", \"name\": \"3\", \"scene\": \"scene\", \"showlegend\": true, \"type\": \"scatter3d\", \"x\": [-0.28206362695246656, 0.16466202395618978, -0.4792811617593315, -0.234935832170146], \"y\": [2.739042540455619, 2.9312658675515695, 3.600214055958524, 2.6558039561525306], \"z\": [16.99723148418011, 18.570554028338478, 17.123721901397605, 13.01968894470528]}, {\"customdata\": [[\"TRC10\"]], \"hovertemplate\": \"<b>%{hovertext}</b><br><br>Class=%{marker.color}<br>PC 1=%{x}<br>PC 2=%{y}<br>PC 3=%{z}<br>Algorithm=%{customdata[0]}<extra></extra>\", \"hovertext\": [\"BitTorrent\"], \"legendgroup\": \"2\", \"marker\": {\"color\": [2], \"coloraxis\": \"coloraxis\", \"symbol\": \"cross\"}, \"mode\": \"markers\", \"name\": \"2\", \"scene\": \"scene\", \"showlegend\": true, \"type\": \"scatter3d\", \"x\": [31.792966468303632], \"y\": [-3.2951888742860627], \"z\": [-0.8986048982952566]}],                        {\"coloraxis\": {\"colorbar\": {\"title\": {\"text\": \"Class\"}}, \"colorscale\": [[0.0, \"#0d0887\"], [0.1111111111111111, \"#46039f\"], [0.2222222222222222, \"#7201a8\"], [0.3333333333333333, \"#9c179e\"], [0.4444444444444444, \"#bd3786\"], [0.5555555555555556, \"#d8576b\"], [0.6666666666666666, \"#ed7953\"], [0.7777777777777778, \"#fb9f3a\"], [0.8888888888888888, \"#fdca26\"], [1.0, \"#f0f921\"]]}, \"legend\": {\"title\": {\"text\": \"Class\"}, \"tracegroupgap\": 0}, \"scene\": {\"domain\": {\"x\": [0.0, 1.0], \"y\": [0.0, 1.0]}, \"xaxis\": {\"title\": {\"text\": \"PC 1\"}}, \"yaxis\": {\"title\": {\"text\": \"PC 2\"}}, \"zaxis\": {\"title\": {\"text\": \"PC 3\"}}}, \"template\": {\"data\": {\"bar\": [{\"error_x\": {\"color\": \"#2a3f5f\"}, \"error_y\": {\"color\": \"#2a3f5f\"}, \"marker\": {\"line\": {\"color\": \"#E5ECF6\", \"width\": 0.5}}, \"type\": \"bar\"}], \"barpolar\": [{\"marker\": {\"line\": {\"color\": \"#E5ECF6\", \"width\": 0.5}}, \"type\": \"barpolar\"}], \"carpet\": [{\"aaxis\": {\"endlinecolor\": \"#2a3f5f\", \"gridcolor\": \"white\", \"linecolor\": \"white\", \"minorgridcolor\": \"white\", \"startlinecolor\": \"#2a3f5f\"}, \"baxis\": {\"endlinecolor\": \"#2a3f5f\", \"gridcolor\": \"white\", \"linecolor\": \"white\", \"minorgridcolor\": \"white\", \"startlinecolor\": \"#2a3f5f\"}, \"type\": \"carpet\"}], \"choropleth\": [{\"colorbar\": {\"outlinewidth\": 0, \"ticks\": \"\"}, \"type\": \"choropleth\"}], \"contour\": [{\"colorbar\": {\"outlinewidth\": 0, \"ticks\": \"\"}, \"colorscale\": [[0.0, \"#0d0887\"], [0.1111111111111111, \"#46039f\"], [0.2222222222222222, \"#7201a8\"], [0.3333333333333333, \"#9c179e\"], [0.4444444444444444, \"#bd3786\"], [0.5555555555555556, \"#d8576b\"], [0.6666666666666666, \"#ed7953\"], [0.7777777777777778, \"#fb9f3a\"], [0.8888888888888888, \"#fdca26\"], [1.0, \"#f0f921\"]], \"type\": \"contour\"}], \"contourcarpet\": [{\"colorbar\": {\"outlinewidth\": 0, \"ticks\": \"\"}, \"type\": \"contourcarpet\"}], \"heatmap\": [{\"colorbar\": {\"outlinewidth\": 0, \"ticks\": \"\"}, \"colorscale\": [[0.0, \"#0d0887\"], [0.1111111111111111, \"#46039f\"], [0.2222222222222222, \"#7201a8\"], [0.3333333333333333, \"#9c179e\"], [0.4444444444444444, \"#bd3786\"], [0.5555555555555556, \"#d8576b\"], [0.6666666666666666, \"#ed7953\"], [0.7777777777777778, \"#fb9f3a\"], [0.8888888888888888, \"#fdca26\"], [1.0, \"#f0f921\"]], \"type\": \"heatmap\"}], \"heatmapgl\": [{\"colorbar\": {\"outlinewidth\": 0, \"ticks\": \"\"}, \"colorscale\": [[0.0, \"#0d0887\"], [0.1111111111111111, \"#46039f\"], [0.2222222222222222, \"#7201a8\"], [0.3333333333333333, \"#9c179e\"], [0.4444444444444444, \"#bd3786\"], [0.5555555555555556, \"#d8576b\"], [0.6666666666666666, \"#ed7953\"], [0.7777777777777778, \"#fb9f3a\"], [0.8888888888888888, \"#fdca26\"], [1.0, \"#f0f921\"]], \"type\": \"heatmapgl\"}], \"histogram\": [{\"marker\": {\"colorbar\": {\"outlinewidth\": 0, \"ticks\": \"\"}}, \"type\": \"histogram\"}], \"histogram2d\": [{\"colorbar\": {\"outlinewidth\": 0, \"ticks\": \"\"}, \"colorscale\": [[0.0, \"#0d0887\"], [0.1111111111111111, \"#46039f\"], [0.2222222222222222, \"#7201a8\"], [0.3333333333333333, \"#9c179e\"], [0.4444444444444444, \"#bd3786\"], [0.5555555555555556, \"#d8576b\"], [0.6666666666666666, \"#ed7953\"], [0.7777777777777778, \"#fb9f3a\"], [0.8888888888888888, \"#fdca26\"], [1.0, \"#f0f921\"]], \"type\": \"histogram2d\"}], \"histogram2dcontour\": [{\"colorbar\": {\"outlinewidth\": 0, \"ticks\": \"\"}, \"colorscale\": [[0.0, \"#0d0887\"], [0.1111111111111111, \"#46039f\"], [0.2222222222222222, \"#7201a8\"], [0.3333333333333333, \"#9c179e\"], [0.4444444444444444, \"#bd3786\"], [0.5555555555555556, \"#d8576b\"], [0.6666666666666666, \"#ed7953\"], [0.7777777777777778, \"#fb9f3a\"], [0.8888888888888888, \"#fdca26\"], [1.0, \"#f0f921\"]], \"type\": \"histogram2dcontour\"}], \"mesh3d\": [{\"colorbar\": {\"outlinewidth\": 0, \"ticks\": \"\"}, \"type\": \"mesh3d\"}], \"parcoords\": [{\"line\": {\"colorbar\": {\"outlinewidth\": 0, \"ticks\": \"\"}}, \"type\": \"parcoords\"}], \"pie\": [{\"automargin\": true, \"type\": \"pie\"}], \"scatter\": [{\"marker\": {\"colorbar\": {\"outlinewidth\": 0, \"ticks\": \"\"}}, \"type\": \"scatter\"}], \"scatter3d\": [{\"line\": {\"colorbar\": {\"outlinewidth\": 0, \"ticks\": \"\"}}, \"marker\": {\"colorbar\": {\"outlinewidth\": 0, \"ticks\": \"\"}}, \"type\": \"scatter3d\"}], \"scattercarpet\": [{\"marker\": {\"colorbar\": {\"outlinewidth\": 0, \"ticks\": \"\"}}, \"type\": \"scattercarpet\"}], \"scattergeo\": [{\"marker\": {\"colorbar\": {\"outlinewidth\": 0, \"ticks\": \"\"}}, \"type\": \"scattergeo\"}], \"scattergl\": [{\"marker\": {\"colorbar\": {\"outlinewidth\": 0, \"ticks\": \"\"}}, \"type\": \"scattergl\"}], \"scattermapbox\": [{\"marker\": {\"colorbar\": {\"outlinewidth\": 0, \"ticks\": \"\"}}, \"type\": \"scattermapbox\"}], \"scatterpolar\": [{\"marker\": {\"colorbar\": {\"outlinewidth\": 0, \"ticks\": \"\"}}, \"type\": \"scatterpolar\"}], \"scatterpolargl\": [{\"marker\": {\"colorbar\": {\"outlinewidth\": 0, \"ticks\": \"\"}}, \"type\": \"scatterpolargl\"}], \"scatterternary\": [{\"marker\": {\"colorbar\": {\"outlinewidth\": 0, \"ticks\": \"\"}}, \"type\": \"scatterternary\"}], \"surface\": [{\"colorbar\": {\"outlinewidth\": 0, \"ticks\": \"\"}, \"colorscale\": [[0.0, \"#0d0887\"], [0.1111111111111111, \"#46039f\"], [0.2222222222222222, \"#7201a8\"], [0.3333333333333333, \"#9c179e\"], [0.4444444444444444, \"#bd3786\"], [0.5555555555555556, \"#d8576b\"], [0.6666666666666666, \"#ed7953\"], [0.7777777777777778, \"#fb9f3a\"], [0.8888888888888888, \"#fdca26\"], [1.0, \"#f0f921\"]], \"type\": \"surface\"}], \"table\": [{\"cells\": {\"fill\": {\"color\": \"#EBF0F8\"}, \"line\": {\"color\": \"white\"}}, \"header\": {\"fill\": {\"color\": \"#C8D4E3\"}, \"line\": {\"color\": \"white\"}}, \"type\": \"table\"}]}, \"layout\": {\"annotationdefaults\": {\"arrowcolor\": \"#2a3f5f\", \"arrowhead\": 0, \"arrowwidth\": 1}, \"coloraxis\": {\"colorbar\": {\"outlinewidth\": 0, \"ticks\": \"\"}}, \"colorscale\": {\"diverging\": [[0, \"#8e0152\"], [0.1, \"#c51b7d\"], [0.2, \"#de77ae\"], [0.3, \"#f1b6da\"], [0.4, \"#fde0ef\"], [0.5, \"#f7f7f7\"], [0.6, \"#e6f5d0\"], [0.7, \"#b8e186\"], [0.8, \"#7fbc41\"], [0.9, \"#4d9221\"], [1, \"#276419\"]], \"sequential\": [[0.0, \"#0d0887\"], [0.1111111111111111, \"#46039f\"], [0.2222222222222222, \"#7201a8\"], [0.3333333333333333, \"#9c179e\"], [0.4444444444444444, \"#bd3786\"], [0.5555555555555556, \"#d8576b\"], [0.6666666666666666, \"#ed7953\"], [0.7777777777777778, \"#fb9f3a\"], [0.8888888888888888, \"#fdca26\"], [1.0, \"#f0f921\"]], \"sequentialminus\": [[0.0, \"#0d0887\"], [0.1111111111111111, \"#46039f\"], [0.2222222222222222, \"#7201a8\"], [0.3333333333333333, \"#9c179e\"], [0.4444444444444444, \"#bd3786\"], [0.5555555555555556, \"#d8576b\"], [0.6666666666666666, \"#ed7953\"], [0.7777777777777778, \"#fb9f3a\"], [0.8888888888888888, \"#fdca26\"], [1.0, \"#f0f921\"]]}, \"colorway\": [\"#636efa\", \"#EF553B\", \"#00cc96\", \"#ab63fa\", \"#FFA15A\", \"#19d3f3\", \"#FF6692\", \"#B6E880\", \"#FF97FF\", \"#FECB52\"], \"font\": {\"color\": \"#2a3f5f\"}, \"geo\": {\"bgcolor\": \"white\", \"lakecolor\": \"white\", \"landcolor\": \"#E5ECF6\", \"showlakes\": true, \"showland\": true, \"subunitcolor\": \"white\"}, \"hoverlabel\": {\"align\": \"left\"}, \"hovermode\": \"closest\", \"mapbox\": {\"style\": \"light\"}, \"paper_bgcolor\": \"white\", \"plot_bgcolor\": \"#E5ECF6\", \"polar\": {\"angularaxis\": {\"gridcolor\": \"white\", \"linecolor\": \"white\", \"ticks\": \"\"}, \"bgcolor\": \"#E5ECF6\", \"radialaxis\": {\"gridcolor\": \"white\", \"linecolor\": \"white\", \"ticks\": \"\"}}, \"scene\": {\"xaxis\": {\"backgroundcolor\": \"#E5ECF6\", \"gridcolor\": \"white\", \"gridwidth\": 2, \"linecolor\": \"white\", \"showbackground\": true, \"ticks\": \"\", \"zerolinecolor\": \"white\"}, \"yaxis\": {\"backgroundcolor\": \"#E5ECF6\", \"gridcolor\": \"white\", \"gridwidth\": 2, \"linecolor\": \"white\", \"showbackground\": true, \"ticks\": \"\", \"zerolinecolor\": \"white\"}, \"zaxis\": {\"backgroundcolor\": \"#E5ECF6\", \"gridcolor\": \"white\", \"gridwidth\": 2, \"linecolor\": \"white\", \"showbackground\": true, \"ticks\": \"\", \"zerolinecolor\": \"white\"}}, \"shapedefaults\": {\"line\": {\"color\": \"#2a3f5f\"}}, \"ternary\": {\"aaxis\": {\"gridcolor\": \"white\", \"linecolor\": \"white\", \"ticks\": \"\"}, \"baxis\": {\"gridcolor\": \"white\", \"linecolor\": \"white\", \"ticks\": \"\"}, \"bgcolor\": \"#E5ECF6\", \"caxis\": {\"gridcolor\": \"white\", \"linecolor\": \"white\", \"ticks\": \"\"}}, \"title\": {\"x\": 0.05}, \"xaxis\": {\"automargin\": true, \"gridcolor\": \"white\", \"linecolor\": \"white\", \"ticks\": \"\", \"title\": {\"standoff\": 15}, \"zerolinecolor\": \"white\", \"zerolinewidth\": 2}, \"yaxis\": {\"automargin\": true, \"gridcolor\": \"white\", \"linecolor\": \"white\", \"ticks\": \"\", \"title\": {\"standoff\": 15}, \"zerolinecolor\": \"white\", \"zerolinewidth\": 2}}}, \"title\": {\"text\": \"K-Means Clusters for CryptoCurrencies using PCA\"}, \"width\": 800},                        {\"responsive\": true}                    ).then(function(){\n",
       "                            \n",
       "var gd = document.getElementById('b1922ca1-1eb1-4261-aa40-ddf3388e16ab');\n",
       "var x = new MutationObserver(function (mutations, observer) {{\n",
       "        var display = window.getComputedStyle(gd).display;\n",
       "        if (!display || display === 'none') {{\n",
       "            console.log([gd, 'removed!']);\n",
       "            Plotly.purge(gd);\n",
       "            observer.disconnect();\n",
       "        }}\n",
       "}});\n",
       "\n",
       "// Listen for the removal of the full notebook cells\n",
       "var notebookContainer = gd.closest('#notebook-container');\n",
       "if (notebookContainer) {{\n",
       "    x.observe(notebookContainer, {childList: true});\n",
       "}}\n",
       "\n",
       "// Listen for the clearing of the current output cell\n",
       "var outputEl = gd.closest('.output');\n",
       "if (outputEl) {{\n",
       "    x.observe(outputEl, {childList: true});\n",
       "}}\n",
       "\n",
       "                        })                };                });            </script>        </div>"
      ]
     },
     "metadata": {},
     "output_type": "display_data"
    }
   ],
   "source": [
    "\n",
    "# Create a 3D-Scatter with the PCA data and the clusters\n",
    "fig = px.scatter_3d(\n",
    "    coin_df,\n",
    "    x=\"PC 1\",\n",
    "    y=\"PC 2\",\n",
    "    z=\"PC 3\",\n",
    "    color=\"Class\",\n",
    "    symbol=\"Class\",\n",
    "    width=800,\n",
    "    hover_name=\"CoinName\",\n",
    "    hover_data=[\"Algorithm\"],\n",
    "    title=\"K-Means Clusters for CryptoCurrencies using PCA\",\n",
    ")\n",
    "#fig.update_layout(legend=dict(x=0, y=1))\n",
    "fig.show()\n",
    "\n",
    "\n",
    "\n"
   ]
  },
  {
   "cell_type": "markdown",
   "metadata": {},
   "source": [
    "#### Table of Tradable Cryptocurrencies"
   ]
  },
  {
   "cell_type": "code",
   "execution_count": 237,
   "metadata": {},
   "outputs": [
    {
     "data": {
      "application/vnd.holoviews_exec.v0+json": "",
      "text/html": [
       "<div id='3049'>\n",
       "\n",
       "\n",
       "\n",
       "\n",
       "\n",
       "  <div class=\"bk-root\" id=\"06bccbef-1ebf-4570-b19f-c784543b693c\" data-root-id=\"3049\"></div>\n",
       "</div>\n",
       "<script type=\"application/javascript\">(function(root) {\n",
       "  function embed_document(root) {\n",
       "  var docs_json = {\"f6735e86-0eee-44bd-a99d-b3368e9e4f97\":{\"roots\":{\"references\":[{\"attributes\":{},\"id\":\"3054\",\"type\":\"StringEditor\"},{\"attributes\":{\"format\":\"0,0.0[00000]\"},\"id\":\"3073\",\"type\":\"NumberFormatter\"},{\"attributes\":{\"children\":[{\"id\":\"3050\"},{\"id\":\"3083\"},{\"id\":\"3089\"}],\"margin\":[0,0,0,0],\"name\":\"Row06001\",\"tags\":[\"embedded\"]},\"id\":\"3049\",\"type\":\"Row\"},{\"attributes\":{\"margin\":[5,5,5,5],\"name\":\"HSpacer06005\",\"sizing_mode\":\"stretch_width\"},\"id\":\"3050\",\"type\":\"Spacer\"},{\"attributes\":{\"editor\":{\"id\":\"3064\"},\"field\":\"ProofType\",\"formatter\":{\"id\":\"3063\"},\"title\":\"ProofType\"},\"id\":\"3065\",\"type\":\"TableColumn\"},{\"attributes\":{},\"id\":\"3069\",\"type\":\"NumberEditor\"},{\"attributes\":{\"columns\":[{\"id\":\"3055\"},{\"id\":\"3060\"},{\"id\":\"3065\"},{\"id\":\"3070\"},{\"id\":\"3075\"},{\"id\":\"3080\"}],\"height\":300,\"reorderable\":false,\"source\":{\"id\":\"3051\"},\"view\":{\"id\":\"3084\"},\"width\":700},\"id\":\"3083\",\"type\":\"DataTable\"},{\"attributes\":{},\"id\":\"3074\",\"type\":\"NumberEditor\"},{\"attributes\":{},\"id\":\"3079\",\"type\":\"IntEditor\"},{\"attributes\":{},\"id\":\"3085\",\"type\":\"UnionRenderers\"},{\"attributes\":{\"data\":{\"Algorithm\":[\"Scrypt\",\"Scrypt\",\"X13\",\"SHA-256\",\"Scrypt\",\"X11\",\"Ethash\",\"Equihash\",\"SHA-512\",\"Multiple\",\"SHA-256\",\"X11\",\"SHA-256\",\"Scrypt\",\"X15\",\"X11\",\"SHA-256\",\"X13\",\"X13\",\"Scrypt\",\"Scrypt\",\"Scrypt\",\"SHA-256\",\"Multiple\",\"Scrypt\",\"SHA-256\",\"Scrypt\",\"Scrypt\",\"Quark\",\"Groestl\",\"Scrypt\",\"X11\",\"Scrypt\",\"Scrypt\",\"Scrypt\",\"Scrypt\",\"Scrypt\",\"Scrypt\",\"Multiple\",\"Scrypt\",\"X11\",\"Scrypt\",\"Groestl\",\"Multiple\",\"X11\",\"Scrypt\",\"SHA-256\",\"Scrypt\",\"Scrypt\",\"Scrypt\",\"Scrypt\",\"Scrypt\",\"Scrypt\",\"X11\",\"NIST5\",\"SHA-256\",\"Scrypt\",\"NeoScrypt\",\"Scrypt\",\"Scrypt\",\"Scrypt\",\"X11\",\"Scrypt\",\"Multiple\",\"Scrypt\",\"X11\",\"SHA-256\",\"X11\",\"X13\",\"Scrypt\",\"Scrypt\",\"Scrypt\",\"Scrypt\",\"X11\",\"SHA3\",\"Scrypt\",\"HybridScryptHash256\",\"Scrypt\",\"SHA-256\",\"Scrypt\",\"SHA-256\",\"Scrypt\",\"SHA-256\",\"Scrypt\",\"NeoScrypt\",\"Scrypt\",\"Scrypt\",\"Scrypt\",\"Scrypt\",\"Scrypt\",\"X15\",\"Scrypt\",\"Scrypt\",\"Scrypt-n\",\"Scrypt\",\"X11\",\"SHA-256\",\"Multiple\",\"SHA-256\",\"PHI1612\",\"X11\",\"SHA-256\",\"SHA-256\",\"SHA-256\",\"SHA-256\",\"Scrypt\",\"Scrypt\",\"Scrypt\",\"Lyra2REv2\",\"Scrypt\",\"Scrypt\",\"X11\",\"SHA-256\",\"Scrypt\",\"Scrypt\",\"CryptoNight\",\"CryptoNight\",\"Shabal256\",\"Counterparty\",\"Scrypt\",\"SHA-256\",\"SHA-256\",\"Scrypt\",\"Scrypt\",\"Scrypt\",\"X13\",\"Scrypt\",\"Scrypt\",\"Scrypt\",\"SHA-256\",\"X13\",\"X13\",\"Scrypt\",\"X11\",\"Momentum\",\"Stanford Folding\",\"X11\",\"Scrypt\",\"Scrypt\",\"Scrypt\",\"M7 POW\",\"Scrypt\",\"X11\",\"Scrypt\",\"SHA-256\",\"Scrypt\",\"X11\",\"SHA3\",\"X11\",\"Lyra2RE\",\"SHA-256\",\"QUAIT\",\"X11\",\"Scrypt\",\"Scrypt\",\"Scrypt\",\"Ethash\",\"X11\",\"X13\",\"SHA-256\",\"X13\",\"X15\",\"X11\",\"SHA-256\",\"BLAKE256\",\"Scrypt\",\"Scrypt\",\"1GB AES Pattern Search\",\"SHA-256\",\"X11\",\"Scrypt\",\"CryptoNight\",\"SHA-256\",\"Quark\",\"SHA-256\",\"Blake\",\"Scrypt\",\"Scrypt\",\"SHA-256\",\"X11\",\"Scrypt\",\"Scrypt-n\",\"X11\",\"Scrypt\",\"Dagger\",\"Scrypt\",\"SHA-256\",\"CryptoNight-Lite\",\"X11GOST\",\"X11\",\"SHA-256\",\"Scrypt\",\"SHA-256\",\"Scrypt\",\"PoS\",\"Scrypt\",\"X11\",\"X11\",\"X11\",\"X11\",\"PoS\",\"SHA-256\",\"SHA-256\",\"SHA-256\",\"NIST5\",\"X15\",\"X11\",\"NIST5\",\"Scrypt\",\"Scrypt\",\"Scrypt\",\"POS 3.0\",\"Scrypt\",\"Scrypt\",\"Scrypt\",\"X13\",\"X11\",\"X11\",\"Equihash\",\"X11\",\"X11\",\"Scrypt\",\"CryptoNight\",\"SHA-256\",\"SHA-256\",\"X11\",\"Scrypt\",\"Multiple\",\"Scrypt\",\"X11\",\"SHA-256\",\"Scrypt\",\"Scrypt\",\"SHA-256D\",\"PoS\",\"Scrypt\",\"X11\",\"Scrypt-n\",\"Lyra2Z\",\"SHA-256\",\"PoS\",\"X13\",\"Quark\",\"X14\",\"PoS\",\"SHA-256D\",\"Ethash\",\"SHA-256\",\"Equihash\",\"DPoS\",\"X11\",\"Scrypt\",\"Scrypt\",\"Equihash\",\"X11\",\"X13\",\"X11\",\"PoS\",\"SHA-256D\",\"Scrypt\",\"Scrypt\",\"Scrypt\",\"X11\",\"PoS\",\"X11\",\"SHA-256\",\"Scrypt\",\"X11\",\"Scrypt\",\"Scrypt\",\"X11\",\"CryptoNight\",\"Scrypt\",\"Scrypt\",\"Scrypt\",\"Scrypt\",\"Quark\",\"QuBit\",\"Scrypt\",\"CryptoNight\",\"X11\",\"Lyra2RE\",\"X13\",\"PoS\",\"Scrypt\",\"SHA-256\",\"X11\",\"X11\",\"X11\",\"Scrypt\",\"X11\",\"Scrypt\",\"Scrypt\",\"CryptoNight-V7\",\"Scrypt\",\"Scrypt\",\"Keccak\",\"Scrypt\",\"X13\",\"X11\",\"Equihash\",\"Scrypt\",\"Scrypt\",\"Lyra2RE\",\"Ethash\",\"X11\",\"Scrypt\",\"Dagger-Hashimoto\",\"X11\",\"Blake2S\",\"X11\",\"Scrypt\",\"Scrypt\",\"PoS\",\"X11\",\"NIST5\",\"PoS\",\"X11\",\"Scrypt\",\"Scrypt\",\"Scrypt\",\"Scrypt\",\"SHA-256\",\"X11\",\"Scrypt\",\"Scrypt\",\"Scrypt\",\"SHA-256\",\"PoS\",\"Scrypt\",\"X11\",\"X15\",\"SHA-256\",\"Scrypt\",\"POS 3.0\",\"CryptoNight-V7\",\"536\",\"Blake2b\",\"Cloverhash\",\"CryptoNight\",\"NIST5\",\"X11\",\"NIST5\",\"Skein\",\"Scrypt\",\"X13\",\"Scrypt\",\"X11\",\"X11\",\"X11\",\"Scrypt\",\"CryptoNight\",\"X13\",\"Time Travel\",\"Scrypt\",\"Keccak\",\"SkunkHash v2 Raptor\",\"X11\",\"Skein\",\"SHA-256\",\"X11\",\"Scrypt\",\"Scrypt\",\"VeChainThor Authority\",\"Scrypt\",\"PoS\",\"Scrypt\",\"Scrypt\",\"Scrypt\",\"Scrypt\",\"Scrypt\",\"Scrypt\",\"Scrypt\",\"CryptoNight\",\"SHA-512\",\"Ouroboros\",\"X11\",\"Equihash\",\"NeoScrypt\",\"X11\",\"Scrypt\",\"NeoScrypt\",\"Lyra2REv2\",\"Equihash\",\"Scrypt\",\"SHA-256\",\"NIST5\",\"PHI1612\",\"Dagger\",\"Scrypt\",\"Quark\",\"Scrypt\",\"POS 2.0\",\"Scrypt\",\"SkunkHash\",\"X11\",\"Quark\",\"SHA-256\",\"X11\",\"NeoScrypt\",\"Scrypt\",\"Ethash\",\"Scrypt\",\"NeoScrypt\",\"Quark\",\"X11\",\"DPoS\",\"NIST5\",\"X13\",\"Multiple\",\"Scrypt\",\"CryptoNight\",\"CryptoNight\",\"Ethash\",\"NIST5\",\"Quark\",\"X11\",\"SHA-256\",\"CryptoNight-V7\",\"Scrypt\",\"Scrypt\",\"Scrypt\",\"X11\",\"SHA-256\",\"BLAKE256\",\"X11\",\"Scrypt\",\"NeoScrypt\",\"Quark\",\"NeoScrypt\",\"Scrypt\",\"Scrypt\",\"Scrypt\",\"X11\",\"X11\",\"SHA-256\",\"C11\",\"Scrypt\",\"Scrypt\",\"POS 3.0\",\"Ethash\",\"Scrypt\",\"CryptoNight\",\"SkunkHash\",\"Scrypt\",\"CryptoNight\",\"Equihash\",\"Skein\",\"Scrypt\",\"Dagger\",\"Lyra2REv2\",\"X13\",\"Proof-of-BibleHash\",\"SHA-256 + Hive\",\"Scrypt\",\"Scrypt\",\"Scrypt\",\"NeoScrypt\",\"Equihash\",\"X11\",\"C11\",\"Proof-of-Authority\",\"X11\",\"XEVAN\",\"Scrypt\",\"VBFT\",\"Ethash\",\"X11\",\"CryptoNight\",\"NeoScrypt\",\"Scrypt\",\"IMesh\",\"NIST5\",\"Equihash\",\"Scrypt\",\"Scrypt\",\"Equihash\",\"Equihash\",\"Scrypt\",\"Lyra2Z\",\"Equihash\",\"Green Protocol\",\"PoS\",\"Scrypt\",\"Scrypt\",\"Semux BFT consensus\",\"Scrypt\",\"X11\",\"Quark\",\"PoS\",\"CryptoNight\",\"X16R\",\"Scrypt\",\"NIST5\",\"Lyra2RE\",\"XEVAN\",\"Tribus\",\"Scrypt\",\"Lyra2Z\",\"CryptoNight\",\"CryptoNight Heavy\",\"CryptoNight\",\"Scrypt\",\"Scrypt\",\"Jump Consistent Hash\",\"SHA-256D\",\"CryptoNight\",\"Scrypt\",\"X15\",\"Scrypt\",\"Quark\",\"SHA-256\",\"DPoS\",\"X16R\",\"HMQ1725\",\"X11\",\"X16R\",\"Quark\",\"Quark\",\"Scrypt\",\"Zhash\",\"Lyra2REv2\",\"Quark\",\"Scrypt\",\"Scrypt\",\"CryptoNight-V7\",\"Cryptonight-GPU\",\"Scrypt\",\"XEVAN\",\"CryptoNight Heavy\",\"X11\",\"X11\",\"Scrypt\",\"PoS\",\"Lyra2REv2\",\"Scrypt\",\"SHA-256\",\"Scrypt\",\"Keccak\",\"X11\",\"X11\",\"Quark\",\"Scrypt\",\"SHA-512\",\"X16R\",\"ECC 256K1\",\"NeoScrypt\",\"Equihash\",\"XEVAN\",\"Quark\",\"CryptoNight Heavy X\",\"Lyra2Z\",\"Ethash\",\"SHA-256\",\"XEVAN\",\"Ethash\",\"CryptoNight\",\"Quark\",\"SkunkHash\",\"Quark\",\"Argon2\",\"Blake\",\"Blake\",\"SHA-256\",\"Equihash\",\"Exosis\",\"Scrypt\",\"Scrypt\",\"Equihash\",\"Quark\",\"Equihash\",\"Quark\",\"Scrypt\",\"QuBit\",\"X11\",\"Scrypt\",\"Equihash1927\",\"XEVAN\",\"SHA-256D\",\"X11\",\"SHA-256\",\"SHA-256\",\"X13\",\"SHA-256\",\"X11\",\"DPoS\",\"X11\",\"Scrypt\",\"X11\",\"Scrypt\",\"NeoScrypt\",\"Scrypt\",\"Blake\",\"Scrypt\",\"SHA-256\",\"X11\",\"CryptoNight\",\"Scrypt\",\"Scrypt\",\"SHA-256\",\"X11\",\"SHA-256\",\"Scrypt\",\"CryptoNight\",\"Scrypt\",\"SHA-256\",\"Scrypt\",\"Groestl\",\"X11\",\"Scrypt\",\"PoS\",\"Scrypt\",\"Scrypt\",\"X11\",\"SHA-256\",\"DPoS\",\"Scrypt\",\"Scrypt\",\"Scrypt\",\"NeoScrypt\",\"Scrypt\",\"SHA3-256\",\"Multiple\",\"X13\",\"Equihash+Scrypt\",\"Ethash\",\"Ethash\",\"SHA-256\",\"Leased POS\",\"PoS\",\"TRC10\",\"PoS\",\"SHA-256\",\"Scrypt\",\"CryptoNight\",\"Equihash\",\"Scrypt\"],\"Class\":{\"__ndarray__\":\"AQAAAAEAAAABAAAAAAAAAAAAAAABAAAAAAAAAAAAAAABAAAAAAAAAAEAAAABAAAAAQAAAAAAAAABAAAAAAAAAAAAAAABAAAAAQAAAAEAAAAAAAAAAQAAAAAAAAAAAAAAAAAAAAAAAAAAAAAAAAAAAAAAAAAAAAAAAAAAAAAAAAABAAAAAAAAAAEAAAAAAAAAAQAAAAAAAAABAAAAAQAAAAAAAAABAAAAAQAAAAAAAAABAAAAAAAAAAAAAAAAAAAAAAAAAAAAAAAAAAAAAAAAAAAAAAABAAAAAQAAAAAAAAAAAAAAAAAAAAAAAAAAAAAAAAAAAAEAAAABAAAAAAAAAAAAAAABAAAAAAAAAAEAAAABAAAAAAAAAAAAAAAAAAAAAAAAAAEAAAABAAAAAAAAAAAAAAAAAAAAAQAAAAEAAAAAAAAAAAAAAAAAAAAAAAAAAQAAAAEAAAABAAAAAAAAAAAAAAAAAAAAAQAAAAEAAAAAAAAAAAAAAAAAAAABAAAAAAAAAAEAAAAAAAAAAQAAAAEAAAAAAAAAAAAAAAAAAAAAAAAAAQAAAAEAAAAAAAAAAAAAAAAAAAABAAAAAQAAAAAAAAABAAAAAQAAAAAAAAAAAAAAAQAAAAEAAAAAAAAAAQAAAAAAAAABAAAAAAAAAAAAAAABAAAAAAAAAAEAAAAAAAAAAQAAAAEAAAABAAAAAAAAAAEAAAAAAAAAAAAAAAEAAAAAAAAAAQAAAAAAAAAAAAAAAAAAAAAAAAAAAAAAAAAAAAAAAAAAAAAAAQAAAAAAAAAAAAAAAAAAAAEAAAAAAAAAAAAAAAAAAAABAAAAAAAAAAEAAAABAAAAAQAAAAEAAAABAAAAAAAAAAAAAAABAAAAAAAAAAAAAAAAAAAAAQAAAAEAAAAAAAAAAAAAAAEAAAABAAAAAAAAAAEAAAABAAAAAQAAAAAAAAAAAAAAAQAAAAAAAAAAAAAAAAAAAAAAAAAAAAAAAQAAAAAAAAAAAAAAAQAAAAAAAAABAAAAAQAAAAEAAAABAAAAAAAAAAAAAAABAAAAAQAAAAEAAAABAAAAAQAAAAAAAAABAAAAAQAAAAEAAAABAAAAAQAAAAEAAAABAAAAAAAAAAEAAAABAAAAAQAAAAEAAAABAAAAAAAAAAEAAAAAAAAAAQAAAAEAAAABAAAAAAAAAAEAAAAAAAAAAQAAAAEAAAAAAAAAAAAAAAEAAAAAAAAAAQAAAAAAAAABAAAAAQAAAAAAAAABAAAAAAAAAAAAAAAAAAAAAQAAAAEAAAAAAAAAAQAAAAEAAAABAAAAAAAAAAAAAAAAAAAABAAAAAEAAAABAAAAAAAAAAAAAAAAAAAAAQAAAAEAAAABAAAAAQAAAAEAAAABAAAAAQAAAAAAAAABAAAAAQAAAAEAAAABAAAAAQAAAAEAAAABAAAAAQAAAAAAAAABAAAAAQAAAAEAAAABAAAAAQAAAAEAAAAAAAAAAAAAAAEAAAAAAAAAAQAAAAEAAAABAAAAAQAAAAEAAAABAAAAAAAAAAEAAAAAAAAAAQAAAAAAAAAAAAAAAQAAAAEAAAAAAAAAAAAAAAEAAAAAAAAAAAAAAAEAAAAAAAAAAAAAAAAAAAAAAAAAAQAAAAAAAAABAAAAAQAAAAEAAAAAAAAAAQAAAAEAAAABAAAAAAAAAAEAAAABAAAAAQAAAAEAAAABAAAAAAAAAAEAAAABAAAAAAAAAAAAAAABAAAAAAAAAAEAAAABAAAAAQAAAAEAAAABAAAAAAAAAAEAAAAAAAAAAQAAAAAAAAAAAAAAAAAAAAEAAAAAAAAAAQAAAAEAAAAAAAAAAQAAAAAAAAABAAAAAAAAAAAAAAABAAAAAAAAAAEAAAAAAAAAAAAAAAAAAAABAAAAAAAAAAEAAAAAAAAAAQAAAAAAAAABAAAABAAAAAAAAAABAAAAAAAAAAAAAAAAAAAAAAAAAAAAAAABAAAAAQAAAAAAAAABAAAAAQAAAAEAAAAAAAAAAQAAAAAAAAABAAAAAAAAAAEAAAAAAAAAAQAAAAEAAAABAAAAAQAAAAAAAAABAAAAAQAAAAAAAAABAAAAAQAAAAEAAAABAAAAAQAAAAEAAAAAAAAAAAAAAAAAAAAAAAAAAAAAAAAAAAAEAAAAAQAAAAQAAAABAAAAAQAAAAAAAAABAAAAAAAAAAAAAAAAAAAAAQAAAAEAAAAAAAAAAAAAAAAAAAABAAAAAQAAAAAAAAABAAAAAQAAAAAAAAAAAAAAAQAAAAAAAAABAAAAAAAAAAAAAAABAAAAAQAAAAEAAAAAAAAAAAAAAAAAAAABAAAAAQAAAAEAAAAAAAAAAQAAAAAAAAAAAAAAAQAAAAAAAAAAAAAAAAAAAAAAAAAAAAAAAAAAAAEAAAABAAAAAwAAAAAAAAAAAAAAAAAAAAAAAAAAAAAAAAAAAAEAAAABAAAAAQAAAAEAAAABAAAAAQAAAAAAAAAAAAAAAAAAAAAAAAAAAAAAAAAAAAEAAAAAAAAAAQAAAAEAAAAAAAAAAAAAAAEAAAAAAAAAAQAAAAEAAAABAAAAAQAAAAEAAAAEAAAAAQAAAAAAAAABAAAAAQAAAAAAAAABAAAAAQAAAAAAAAAAAAAAAQAAAAAAAAABAAAAAAAAAAAAAAAAAAAAAAAAAAEAAAABAAAAAAAAAAEAAAAAAAAAAQAAAAEAAAABAAAAAQAAAAEAAAABAAAAAAAAAAAAAAAAAAAAAQAAAAEAAAABAAAAAQAAAAEAAAABAAAAAQAAAAAAAAABAAAAAAAAAAAAAAABAAAAAAAAAAAAAAABAAAAAQAAAAEAAAABAAAAAAAAAAEAAAAAAAAAAQAAAAEAAAABAAAAAAAAAAEAAAABAAAAAQAAAAAAAAADAAAAAQAAAAAAAAABAAAAAAAAAAAAAAAAAAAAAAAAAAAAAAABAAAAAAAAAAAAAAABAAAAAAAAAAEAAAAAAAAAAAAAAAAAAAAAAAAAAQAAAAAAAAAAAAAAAQAAAAAAAAABAAAAAAAAAAEAAAABAAAAAAAAAAEAAAABAAAAAAAAAAEAAAABAAAAAQAAAAAAAAAAAAAAAAAAAAAAAAABAAAABAAAAAEAAAABAAAAAAAAAAAAAAAAAAAAAQAAAAAAAAABAAAAAQAAAAEAAAAAAAAAAAAAAAEAAAABAAAAAQAAAAAAAAABAAAAAAAAAAAAAAABAAAAAQAAAAAAAAABAAAAAQAAAAEAAAAAAAAAAAAAAAEAAAABAAAABAAAAAEAAAABAAAAAAAAAAEAAAABAAAAAwAAAAAAAAABAAAAAAAAAAAAAAAAAAAAAQAAAAMAAAABAAAAAgAAAAEAAAAEAAAAAQAAAAAAAAAAAAAAAQAAAA==\",\"dtype\":\"int32\",\"order\":\"little\",\"shape\":[637]},\"CoinName\":[\"42 Coin\",\"404Coin\",\"EliteCoin\",\"Bitcoin\",\"Litecoin\",\"Dash\",\"Ethereum Classic\",\"ZCash\",\"Bitshares\",\"DigiByte\",\"BitcoinDark\",\"Bitstake\",\"PayCoin\",\"ProsperCoin\",\"KoboCoin\",\"Spreadcoin\",\"ACoin\",\"Aero Coin\",\"ApexCoin\",\"ArchCoin\",\"Argentum\",\"Aurora Coin\",\"BetaCoin\",\"MyriadCoin\",\"MoonCoin\",\"ZetaCoin\",\"SexCoin\",\"Quatloo\",\"QuarkCoin\",\"Riecoin\",\"Digitalcoin \",\"LimeCoinX\",\"BitBar\",\"BitMark\",\"CashCoin\",\"Catcoin\",\"CryptoBullion\",\"CannaCoin\",\"CinderCoin\",\"CoolCoin\",\"CryptCoin\",\"CasinoCoin\",\"Diamond\",\"Verge\",\"DarkCash\",\"DarkShibe\",\"DevCoin\",\"EarthCoin\",\"E-Gulden\",\"Elacoin\",\"Einsteinium\",\"Emerald\",\"Flappy Coin\",\"Fuel2Coin\",\"FIBRE\",\"FireRoosterCoin\",\"Franko\",\"FeatherCoin\",\"GrandCoin\",\"GlobalCoin\",\"GoldCoin\",\"GlyphCoin\",\"HoboNickels\",\"HunterCoin\",\"Infinite Coin\",\"IOCoin\",\"IXcoin\",\"JumBucks Coin\",\"JudgeCoin\",\"KrugerCoin\",\"LuckyCoin\",\"Litebar \",\"LitecoinDark\",\"LibrexCoin\",\"MaxCoin\",\"MegaCoin\",\"MediterraneanCoin\",\"MinCoin\",\"MazaCoin\",\"Nautilus Coin\",\"NoirBits\",\"NobleCoin\",\"Namecoin\",\"NyanCoin\",\"Orbitcoin\",\"PotCoin\",\"PhoenixCoin\",\"RipOffCoin\",\"RonPaulCoin\",\"StableCoin\",\"ShieldCoin\",\"SilkCoin\",\"SmartCoin\",\"SpainCoin\",\"SecureCoin\",\"SyncCoin\",\"SysCoin\",\"TeslaCoin\",\"TigerCoin\",\"TittieCoin\",\"TorCoin\",\"TerraCoin\",\"Umbrella\",\"UnbreakableCoin\",\"Unobtanium\",\"UnitaryStatus Dollar\",\"UltraCoin\",\"ViaCoin\",\"Vertcoin\",\"WorldCoin\",\"SocialXbotCoin\",\"X11 Coin\",\"JouleCoin\",\"XXXCoin\",\"ZCC Coin\",\"ByteCoin\",\"DigitalNote \",\"BurstCoin\",\"StorjCoin\",\"MonaCoin\",\"Neutron\",\"Sling Coin\",\"KryptCoin\",\"Gulden\",\"PesetaCoin\",\"Kore\",\"Wild Beast Coin\",\"Dnotes\",\"Flo\",\"MaieutiCoin\",\"Sativa Coin\",\"AeroMe\",\"ArtByte\",\"MasterTraderCoin\",\"BitCredit\",\"Folding Coin\",\"Ucoin\",\"OmniCron\",\"Vtorrent\",\"GreenCoin\",\"Cryptonite\",\"Gridmaster\",\"ConSpiracy Coin \",\"MasterCoin\",\"SoonCoin\",\"1Credit\",\"Quicksilver coin\",\"Nexus\",\"MarsCoin \",\"Crypto\",\"Anarchists Prime\",\"Droidz\",\"BowsCoin\",\"Song Coin\",\"BitZeny\",\"Diggits\",\"Expanse\",\"MapCoin\",\"Paycon\",\"Emercoin\",\"BlitzCoin\",\"EverGreenCoin\",\"MindCoin\",\"I0coin\",\"Decred\",\"DogeCoinDark\",\"Revolution VR\",\"HOdlcoin\",\"EDRCoin\",\"Hitcoin\",\"Gamecredits\",\"Dashcoin\",\"DubaiCoin\",\"BiosCrypto\",\"CarpeDiemCoin\",\"TrumpCoin\",\"BillaryCoin\",\"EthereumScrypt\",\"Phalanx\",\"SunShotCoin\",\"GPU Coin\",\"HempCoin\",\"Adzcoin\",\"VirtaCoin\",\"SoilCoin\",\"YoCoin\",\"Universal Currency\",\"AEON\",\"SibCoin\",\"EuropeCoin\",\"Anti Bitcoin\",\"ZeitCoin\",\"SwingCoin\",\"SafeExchangeCoin\",\"Nebuchadnezzar\",\"Francs\",\"BolivarCoin\",\"GIZMOcoin\",\"SecretCoin\",\"Ratecoin\",\"Digital Bullion Gold\",\"Revenu\",\"Clinton\",\"Clockcoin\",\"VIP Tokens\",\"OrlyCoin\",\"BitSend\",\"16BitCoin\",\"ChessCoin\",\"ReeCoin\",\"Omni\",\"Let it Ride\",\"PutinCoin\",\"iBankCoin\",\"Frankywillcoin\",\"MudraCoin\",\"PizzaCoin\",\"Lutetium Coin\",\"Komodo\",\"GoldBlocks\",\"WayCoin\",\"CarterCoin\",\"Karbo\",\"BitTokens\",\"ZayedCoin\",\"MustangCoin\",\"ZoneCoin\",\"Circuits of Value\",\"DopeCoin\",\"PROUD Money\",\"DollarCoin\",\"Swiscoin\",\"Shilling\",\"BuzzCoin\",\"Opair\",\"GBR Coin\",\"Halloween Coin\",\"FujiCoin\",\"ZCoin\",\"LeaCoin\",\"CoffeeCoin\",\"RoyalCoin\",\"Zurcoin\",\"GanjaCoin V2\",\"TeamUP\",\"LanaCoin\",\"Elementrem\",\"CashOut\",\"ZClassic\",\"ARK\",\"InsaneCoin\",\"LuckChain\",\"KiloCoin\",\"Hush\",\"ArtexCoin\",\"EmberCoin\",\"XenixCoin\",\"FreeCoin\",\"NPCcoin\",\"PLNCoin\",\"Icobid\",\"AquariusCoin\",\"Kurrent\",\"Creatio\",\"Eternity\",\"Eurocoin\",\"BitcoinFast\",\"Stakenet\",\"BitConnect Coin\",\"MoneyCoin\",\"Enigma\",\"Cannabis Industry Coin\",\"Russiacoin\",\"PandaCoin\",\"GameUnits\",\"GAKHcoin\",\"Allsafe\",\"LiteCreed\",\"OsmiumCoin\",\"Bikercoins\",\"NeptuneClassic\",\"HexxCoin\",\"GoldenBird\",\"Ride My Car\",\"Klingon Empire Darsek\",\"Internet of People\",\"KushCoin\",\"Eryllium\",\"MarxCoin\",\"Printerium\",\"PacCoin\",\"Impeach\",\"Solarflarecoin\",\"Citadel\",\"Zilbercoin\",\"FirstCoin\",\"CreativeChain\",\"BeaverCoin\",\"FindCoin\",\"VaultCoin\",\"Zero\",\"OpenChat\",\"Canada eCoin\",\"Zoin\",\"Musicoin\",\"BnrtxCoin\",\"RenosCoin\",\"DubaiCoin\",\"VirtacoinPlus\",\"TajCoin\",\"Impact\",\"EB3coin\",\"Universe\",\"Atmos\",\"HappyCoin\",\"Coinonat\",\"MacronCoin\",\"Condensate\",\"Independent Money System\",\"ArgusCoin\",\"LomoCoin\",\"Bitcoin Scrypt\",\"ProCurrency\",\"GoldReserve\",\"BenjiRolls\",\"ParallelCoin\",\"GrowthCoin\",\"ILCoin\",\"Phreak\",\"Degas Coin\",\"ZSEcoin\",\"HTML5 Coin\",\"Ultimate Secure Cash\",\"EquiTrader\",\"QTUM\",\"Quantum Resistant Ledger\",\"Espers\",\"Nano\",\"ChanCoin\",\"Dinastycoin\",\"Denarius\",\"DigitalPrice\",\"Virta Unique Coin\",\"Bitcoin Planet\",\"Unify\",\"BritCoin\",\"SocialCoin\",\"Octanox\",\"ArcticCoin\",\"DAS\",\"Linda\",\"LeviarCoin\",\"DeepOnion\",\"Bitcore\",\"gCn Coin\",\"SmartCash\",\"Signatum\",\"Onix\",\"Cream\",\"Bitcoin Cash\",\"Monoeci\",\"CampusCoin\",\"Draftcoin\",\"Vechain\",\"Sojourn Coin\",\"Stakecoin\",\"LiteBitcoin\",\"FrazCoin\",\"Kronecoin\",\"AdCoin\",\"Linx\",\"CoinonatX\",\"Ethereum Dark\",\"Sumokoin\",\"Obsidian\",\"Cardano\",\"Regalcoin\",\"BitcoinZ\",\"TrezarCoin\",\"Elements\",\"TerraNovaCoin\",\"VIVO Coin\",\"Rupee\",\"Bitcoin Gold\",\"WomenCoin\",\"Theresa May Coin\",\"NamoCoin\",\"LUXCoin\",\"Pirl\",\"Xios\",\"Bitcloud 2.0\",\"eBoost\",\"KekCoin\",\"BlackholeCoin\",\"AltCommunity Coin\",\"Pure\",\"Rupaya\",\"Infinity Economics\",\"Pura\",\"Innova\",\"Bitdeal\",\"Ellaism\",\"Sakuracoin\",\"GoByte\",\"Castle\",\"Magnet\",\"Lamden Tau\",\"Electra\",\"Bitcoin Diamond\",\"SHIELD\",\"Cash & Back Coin\",\"UltraNote\",\"BitCoal\",\"DaxxCoin\",\"Bulwark\",\"Kalkulus\",\"AC3\",\"CHIPS\",\"Lethean\",\"GermanCoin\",\"LiteCoin Ultra\",\"PopularCoin\",\"PhantomX\",\"HTML Coin\",\"Photon\",\"Sucre\",\"Fantasy Cash\",\"SparksPay\",\"Digiwage\",\"GunCoin\",\"IrishCoin\",\"Trollcoin\",\"Litecoin Plus\",\"Monkey Project\",\"Pioneer Coin\",\"UnitedBitcoin\",\"Interzone\",\"OP Coin\",\"Valorbit\",\"TokenPay\",\"1717 Masonic Commemorative Token\",\"My Big Coin\",\"TurtleCoin\",\"MUNcoin\",\"Unified Society USDEX\",\"Niobio Cash\",\"Bitcoin Private\",\"Skeincoin\",\"ShareChain\",\"Travelflex\",\"KREDS\",\"Tokyo Coin\",\"BiblePay\",\"LitecoinCash\",\"BitFlip\",\"LottoCoin\",\"LeafCoin\",\"Cerberus\",\"Bitcoin Hush\",\"Crypto Improvement Fund\",\"Stipend\",\"Poa Network\",\"Pushi\",\"Ellerium\",\"Velox\",\"Ontology\",\"Callisto Network\",\"Curium\",\"BitTube\",\"Dinero\",\"Poseidon\",\"Aidos Kuneen\",\"Bitspace\",\"Snowgem\",\"Briacoin\",\"Ignition\",\"Bitrolium\",\"Bitcoin Interest\",\"MedicCoin\",\"Alpenschillling\",\"Zelcash\",\"Bitcoin Green\",\"Deviant Coin\",\"Abjcoin\",\"Profit Hunters Coin\",\"Semux\",\"BitBlocks\",\"FuturoCoin\",\"Carebit\",\"Zealium\",\"Monero Classic\",\"Proton\",\"iDealCash\",\"Jumpcoin\",\"Infinex\",\"Bitcoin Incognito\",\"KEYCO\",\"HollyWoodCoin\",\"GINcoin\",\"PlatinCoin\",\"Loki\",\"Newton Coin\",\"Swisscoin\",\"Xt3ch\",\"MassGrid\",\"TheVig\",\"PluraCoin\",\"EmaratCoin\",\"Dekado\",\"Lynx\",\"Poseidon Quark\",\"BitcoinWSpectrum\",\"Muse\",\"Motion\",\"PlusOneCoin\",\"Axe\",\"Trivechain\",\"Dystem\",\"Giant\",\"Peony Coin\",\"SafeCoin\",\"Absolute Coin\",\"Vitae\",\"HexCoin\",\"TPCash\",\"Webchain\",\"Ryo\",\"MUSDcoin\",\"Urals Coin\",\"Qwertycoin\",\"ARENON\",\"EUNO\",\"MMOCoin\",\"Ketan\",\"NIX\",\"Safe Trade Coin\",\"Project Pai\",\"Mont Blanc\",\"XDNA\",\"PAXEX\",\"Azart\",\"Apollon\",\"ThunderStake\",\"Kcash\",\"Xchange\",\"Acute Angle Cloud\",\"Traid\",\"CrypticCoin\",\"Bettex coin\",\"ZestCoin\",\"X-CASH\",\"Actinium\",\"ETHER-1\",\"Bitcoin SV\",\"BitMoney\",\"Bitcoiin2Gen\",\"FREDEnergy\",\"Zenad\",\"C25 Coin\",\"HerbCoin\",\"Aquachain\",\"Universal Molecule\",\"Lithium\",\"Smart Bitcoin\",\"PirateCash\",\"Exosis\",\"Block-Logic\",\"Oduwa\",\"Beam\",\"Galilel\",\"Bithereum\",\"Crypto Sports\",\"Credit\",\"SLICE\",\"Dash Platinum\",\"Nasdacoin\",\"Vidulum\",\"Beetle Coin\",\"Titan Coin\",\"Award\",\"BlockStamp\",\"BLAST\",\"Bitcoin Rhodium\",\"GlobalToken\",\"Insane Coin\",\"ALAX\",\"The Freedom Coin\",\"LiteDoge\",\"Boolberry\",\"SolarCoin\",\"UFO Coin\",\"OrangeCoin\",\"BlakeCoin\",\"BitstarCoin\",\"NeosCoin\",\"PinkCoin\",\"FantomCoin \",\"Crypto Escudo\",\"AudioCoin\",\"IncaKoin\",\"Piggy Coin\",\"Crown Coin\",\"Genstake\",\"Quazar Coin\",\"SmileyCoin\",\"ParkByte\",\"XiaoMiCoin\",\"Groestlcoin\",\"CapriCoin\",\" ClubCoin\",\"Radium\",\"Bata\",\"Pakcoin\",\"Creditbit \",\"OKCash\",\"Lisk\",\"HiCoin\",\"WhiteCoin\",\"Dotcoin\",\"FriendshipCoin\",\"The Hempcoin\",\"Fiii\",\"JoinCoin\",\"Triangles Coin\",\"Vollar\",\"Reality Clash\",\"iOlite\",\"TigerCash\",\"Waves\",\"Particl\",\"BitTorrent\",\"Nxt\",\"ZEPHYR\",\"Gapcoin\",\"Beldex\",\"Horizen\",\"BitcoinPlus\"],\"ProofType\":[\"PoW/PoS\",\"PoW/PoS\",\"PoW/PoS\",\"PoW\",\"PoW\",\"PoW/PoS\",\"PoW\",\"PoW\",\"PoS\",\"PoW\",\"PoW/PoS\",\"PoW/PoS\",\"PoS\",\"PoW\",\"PoW/PoS\",\"PoW\",\"PoW\",\"PoS\",\"PoW/PoS\",\"PoS\",\"PoW\",\"PoW/PoS\",\"PoW\",\"PoW\",\"PoW\",\"PoW\",\"PoW\",\"PoW\",\"PoW\",\"PoW\",\"PoW\",\"PoW\",\"PoW/PoS\",\"PoW\",\"PoW/PoS\",\"PoW\",\"PoW/PoS\",\"PoW\",\"PoW/PoS\",\"PoS\",\"PoW\",\"PoC\",\"PoW/PoS\",\"PoW\",\"PoW/PoS\",\"PoW\",\"PoW\",\"PoW\",\"PoW\",\"PoW\",\"PoW\",\"PoW\",\"PoW\",\"PoS\",\"PoW/PoS\",\"PoW\",\"PoW\",\"PoW\",\"PoW\",\"PoW\",\"PoW\",\"PoW/PoS\",\"PoW/PoS\",\"PoW\",\"PoW\",\"PoW/PoS\",\"PoW\",\"PoW/PoS\",\"PoW/PoS\",\"PoW\",\"PoW\",\"PoW\",\"PoW\",\"PoW/PoS\",\"PoW/PoS\",\"PoW\",\"PoW\",\"PoW\",\"PoW/PoS\",\"PoS\",\"PoW\",\"PoW\",\"PoW\",\"PoW\",\"PoW/PoS\",\"PoW/PoS\",\"PoW/PoS\",\"PoW\",\"PoW\",\"PoW\",\"PoW/PoS\",\"PoW/PoS\",\"PoW\",\"PoW\",\"PoW\",\"PoW/PoS\",\"PoW\",\"PoS\",\"PoW\",\"PoS\",\"PoW/PoS\",\"PoW\",\"PoW\",\"PoW\",\"PoW\",\"PoW/PoS\",\"PoW/PoS\",\"PoW\",\"PoW\",\"PoW\",\"PoW/PoS\",\"PoW/PoS\",\"PoW\",\"PoW/PoS\",\"PoW/PoS\",\"PoW\",\"PoW\",\"PoC\",\"PoS\",\"PoW\",\"PoW/PoS\",\"PoW\",\"PoS\",\"PoW\",\"PoW\",\"PoW/PoS\",\"PoW\",\"PoS\",\"PoW\",\"PoS\",\"PoW/PoS\",\"PoW/PoS\",\"PoW\",\"PoW/PoS\",\"PoW\",\"PoW\",\"PoS\",\"PoW\",\"PoW/PoS\",\"PoW\",\"PoW\",\"PoW\",\"PoW\",\"PoW\",\"PoW\",\"PoW\",\"PoW\",\"PoW/nPoS\",\"PoW\",\"PoW\",\"PoW\",\"PoW/PoS\",\"PoW\",\"PoW\",\"PoW\",\"PoS\",\"PoW\",\"PoS\",\"PoW/PoS\",\"PoW/PoS\",\"PoS\",\"PoW/PoS\",\"PoW\",\"PoW\",\"PoW/PoS\",\"PoW\",\"PoW\",\"PoW\",\"PoW/PoS\",\"PoW/PoS\",\"PoW\",\"PoW\",\"PoW/PoS\",\"PoW/PoS\",\"PoW\",\"PoS\",\"PoW/PoS\",\"PoW/PoS\",\"PoW\",\"PoW\",\"PoS\",\"PoW\",\"PoW\",\"PoW\",\"PoW\",\"PoW\",\"PoW/PoS\",\"PoW\",\"PoW\",\"PoW/PoS\",\"PoW\",\"PoS\",\"PoW/PoS\",\"PoC\",\"PoS\",\"PoW\",\"PoW\",\"PoW/PoS\",\"PoW/PoS\",\"PoW/PoS\",\"PoS\",\"PoW/PoS\",\"PoW\",\"PoW/PoS\",\"PoW/PoS\",\"PoW/PoS\",\"PoW/PoS\",\"PoW/PoS\",\"PoW/PoS\",\"PoW/PoS\",\"PoW\",\"PoS\",\"PoW/PoS\",\"PoW/PoS\",\"PoW/PoS\",\"PoS\",\"PoW\",\"PoS\",\"dPoW/PoW\",\"PoW/PoS\",\"PoS\",\"PoW/PoS\",\"PoW\",\"PoW/PoS\",\"PoW\",\"PoW/PoS\",\"PoW/PoS\",\"PoW\",\"PoW\",\"PoW/PoS\",\"PoW\",\"PoW/PoW\",\"PoW\",\"PoW/PoS\",\"PoS\",\"PoW\",\"PoW/PoS\",\"PoW\",\"PoW\",\"PoW\",\"PoS\",\"PoS\",\"PoW\",\"PoW/PoS\",\"PoS\",\"PoW/PoS\",\"PoW\",\"PoW\",\"PoW\",\"DPoS\",\"PoW/PoS\",\"PoW/PoS\",\"PoW\",\"PoW\",\"PoW\",\"PoW/PoS\",\"PoW/PoS\",\"PoS\",\"PoW/PoS\",\"PoW/PoS\",\"PoW/PoS\",\"PoW/PoS\",\"PoW\",\"PoS\",\"PoW/PoS\",\"PoW/PoS\",\"PoW/PoS\",\"TPoS\",\"PoW/PoS\",\"PoW/PoS\",\"PoW/PoS\",\"PoW\",\"PoW/PoS\",\"PoS\",\"PoW/PoS\",\"PoW/PoS\",\"PoS\",\"PoW/PoS\",\"PoW\",\"PoW\",\"PoW/PoS\",\"PoW\",\"PoW/PoS\",\"PoS\",\"PoW/PoS\",\"PoW/PoS\",\"PoW/PoS\",\"PoW/PoS\",\"PoW\",\"PoW/PoS\",\"PoW\",\"PoW/PoS\",\"PoW\",\"PoW\",\"PoS\",\"PoW/PoS \",\"PoW\",\"PoW\",\"PoS\",\"PoW\",\"PoW\",\"PoW/PoS\",\"PoW\",\"PoW\",\"PoW\",\"PoW\",\"PoS\",\"PoW\",\"PoW/PoS\",\"PoW/PoS\",\"PoW/PoS\",\"PoW\",\"PoS\",\"PoS\",\"PoW/PoS\",\"PoW\",\"PoS\",\"PoW/PoS\",\"PoW/PoS\",\"PoW/PoS\",\"PoW/PoS\",\"PoW\",\"PoS\",\"PoW/PoS\",\"PoW\",\"PoW\",\"PoS\",\"PoW\",\"PoS\",\"PoW/PoS\",\"PoW/PoS\",\"PoW/PoS\",\"PoS\",\"PoW\",\"PoS\",\"PoW\",\"PoW/PoS\",\"PoW\",\"PoW\",\"PoW\",\"PoW/PoS\",\"PoW\",\"PoW/PoS\",\"PoW/PoS\",\"PoW\",\"PoW/PoS\",\"PoW\",\"PoW/PoS\",\"PoW\",\"PoW\",\"PoW/PoS\",\"PoW\",\"PoW/PoS\",\"PoW\",\"PoW\",\"PoW\",\"PoS\",\"PoW\",\"PoW/PoS\",\"PoW\",\"PoW/PoS\",\"PoW\",\"PoS\",\"Proof of Authority\",\"PoW\",\"PoS\",\"PoW\",\"PoW\",\"PoW\",\"PoW\",\"PoW\",\"PoW/PoS\",\"PoW/PoS\",\"PoW\",\"PoS\",\"PoS\",\"PoW/PoS\",\"PoW\",\"PoW/PoS\",\"PoW\",\"PoW/PoS\",\"PoW\",\"PoS\",\"PoW\",\"PoW/PoS\",\"PoW/PoS\",\"PoW/PoS\",\"PoW/PoS\",\"PoW\",\"PoW/PoS\",\"PoW/PoS\",\"PoW\",\"PoS\",\"PoW/PoS\",\"PoW/PoS\",\"PoW/PoS\",\"PoS\",\"PoS\",\"PoW\",\"PoW\",\"PoW\",\"PoW\",\"PoW\",\"PoW\",\"DPoS\",\"PoW/PoS\",\"DPoS\",\"PoW/PoS\",\"PoW/PoS\",\"PoW\",\"PoW/PoS\",\"PoW\",\"PoW\",\"PoW\",\"PoS\",\"PoS\",\"PoW\",\"PoW\",\"PoW\",\"PoW/PoS\",\"PoW/PoS\",\"PoW\",\"PoW/PoS\",\"PoW/PoS\",\"PoW\",\"PoW\",\"PoW/PoS\",\"PoW\",\"PoS\",\"PoW\",\"PoW\",\"PoW/PoS\",\"PoW/PoS\",\"PoS\",\"PoW\",\"PoW\",\"PoW\",\"PoW/PoS\",\"PoW/PoS\",\"PoS\",\"PoS\",\"PoW and PoS\",\"PoW\",\"PoW\",\"PoW/PoS\",\"PoW\",\"PoW\",\"PoW\",\"PoW\",\"PoW\",\"PoW\",\"PoS\",\"POBh\",\"PoW + Hive\",\"PoW\",\"PoW\",\"PoW\",\"PoW\",\"PoW\",\"PoW\",\"PoW/PoS\",\"PoA\",\"PoW/PoS\",\"PoW/PoS\",\"PoS\",\"PoS\",\"PoW\",\"PoW\",\"PoW\",\"PoW\",\"PoW\",\"PoW\",\"PoW/PoS\",\"PoW\",\"PoW/PoS\",\"PoW/PoS\",\"PoW\",\"PoW\",\"PoS\",\"PoW\",\"PoW/PoS\",\"PoS\",\"PoS\",\"PoW/PoS\",\"PoW/PoS\",\"DPoS\",\"PoW/PoS\",\"PoW\",\"PoW/PoS\",\"PoS\",\"PoW\",\"PoS\",\"PoW/PoS\",\"PoW\",\"PoW\",\"PoS/PoW\",\"PoW\",\"PoS\",\"PoW\",\"PoW\",\"PoW\",\"PoW\",\"PoW/PoS\",\"PoS\",\"PoW\",\"PoW/PoS\",\"PoW\",\"PoW/PoS\",\"PoS\",\"HPoW\",\"PoS\",\"PoS\",\"PoS\",\"PoW\",\"PoW\",\"PoW\",\"PoW/PoS\",\"PoS\",\"PoW/PoS\",\"PoS\",\"PoW/PoS\",\"PoW/PoS\",\"PoS\",\"PoW\",\"PoW/PoS\",\"PoW\",\"PoW\",\"PoW/PoS\",\"PoW\",\"PoW\",\"PoS\",\"PoW/PoS\",\"PoS\",\"PoS\",\"PoW\",\"PoS\",\"PoW\",\"PoS\",\"PoW/PoS\",\"PoS\",\"PoW\",\"PoW/PoS\",\"PoW/PoS\",\"Zero-Knowledge Proof\",\"PoW\",\"DPOS\",\"PoW/PoS\",\"PoW\",\"PoS\",\"PoW\",\"PoW\",\"PoW\",\"PoW\",\"PoW\",\"Pos\",\"PoW\",\"PoW\",\"POS / MN\",\"PoW\",\"PoW/PoS\",\"PoW\",\"PoW\",\"PoW\",\"PoW\",\"PoS\",\"PoW\",\"PoW\",\"PoW/PoS\",\"PoW\",\"PoW/PoS\",\"PoW\",\"PoS\",\"PoW/PoS\",\"PoW\",\"PoS\",\"PoW/PoS\",\"PoW\",\"PoW/PoS\",\"PoW/PoS\",\"PoW/PoS\",\"PoW\",\"PoW\",\"PoW\",\"PoW\",\"PoW/PoS\",\"DPoS\",\"PoS\",\"PoW/PoS\",\"PoW\",\"PoW\",\"PoW\",\"PoW/PoS\",\"PoW\",\"PoW/PoS\",\"PoS\",\"PoW/PoS\",\"PoW\",\"PoW\",\"PoW/PoS\",\"PoW/PoS\",\"PoW/PoS\",\"PoW\",\"PoW/PoS\",\"PoW\",\"PoW\",\"PoW/PoS\",\"PoW/PoS\",\"PoW\",\"PoW/PoS\",\"PoW/PoS\",\"PoS\",\"PoW\",\"PoW\",\"Proof of Trust\",\"PoW/PoS\",\"DPoS\",\"PoS\",\"PoW/PoS\",\"PoW\",\"PoW/PoS\",\"PoW/PoS\",\"DPoC\",\"PoW\",\"PoW/PoS\",\"PoW\",\"PoW\",\"PoW\",\"PoS\",\"LPoS\",\"PoS\",\"DPoS\",\"PoS/LPoS\",\"DPoS\",\"PoW/PoS\",\"PoW\",\"PoW\",\"PoS\"],\"TotalCoinSupply\":{\"__ndarray__\":\"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\",\"dtype\":\"float64\",\"order\":\"little\",\"shape\":[637]},\"TotalCoinsMined\":{\"__ndarray__\":\"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\",\"dtype\":\"float64\",\"order\":\"little\",\"shape\":[637]}},\"selected\":{\"id\":\"3052\"},\"selection_policy\":{\"id\":\"3085\"}},\"id\":\"3051\",\"type\":\"ColumnDataSource\"},{\"attributes\":{},\"id\":\"3058\",\"type\":\"StringFormatter\"},{\"attributes\":{\"format\":\"0,0.0[00000]\"},\"id\":\"3068\",\"type\":\"NumberFormatter\"},{\"attributes\":{\"editor\":{\"id\":\"3074\"},\"field\":\"TotalCoinsMined\",\"formatter\":{\"id\":\"3073\"},\"title\":\"TotalCoinsMined\"},\"id\":\"3075\",\"type\":\"TableColumn\"},{\"attributes\":{\"editor\":{\"id\":\"3059\"},\"field\":\"Algorithm\",\"formatter\":{\"id\":\"3058\"},\"title\":\"Algorithm\"},\"id\":\"3060\",\"type\":\"TableColumn\"},{\"attributes\":{},\"id\":\"3053\",\"type\":\"StringFormatter\"},{\"attributes\":{},\"id\":\"3078\",\"type\":\"NumberFormatter\"},{\"attributes\":{\"margin\":[5,5,5,5],\"name\":\"HSpacer06006\",\"sizing_mode\":\"stretch_width\"},\"id\":\"3089\",\"type\":\"Spacer\"},{\"attributes\":{\"source\":{\"id\":\"3051\"}},\"id\":\"3084\",\"type\":\"CDSView\"},{\"attributes\":{\"editor\":{\"id\":\"3069\"},\"field\":\"TotalCoinSupply\",\"formatter\":{\"id\":\"3068\"},\"title\":\"TotalCoinSupply\"},\"id\":\"3070\",\"type\":\"TableColumn\"},{\"attributes\":{},\"id\":\"3059\",\"type\":\"StringEditor\"},{\"attributes\":{\"editor\":{\"id\":\"3054\"},\"field\":\"CoinName\",\"formatter\":{\"id\":\"3053\"},\"title\":\"CoinName\"},\"id\":\"3055\",\"type\":\"TableColumn\"},{\"attributes\":{\"editor\":{\"id\":\"3079\"},\"field\":\"Class\",\"formatter\":{\"id\":\"3078\"},\"title\":\"Class\"},\"id\":\"3080\",\"type\":\"TableColumn\"},{\"attributes\":{},\"id\":\"3063\",\"type\":\"StringFormatter\"},{\"attributes\":{},\"id\":\"3052\",\"type\":\"Selection\"},{\"attributes\":{},\"id\":\"3064\",\"type\":\"StringEditor\"}],\"root_ids\":[\"3049\"]},\"title\":\"Bokeh Application\",\"version\":\"2.1.1\"}};\n",
       "  var render_items = [{\"docid\":\"f6735e86-0eee-44bd-a99d-b3368e9e4f97\",\"root_ids\":[\"3049\"],\"roots\":{\"3049\":\"06bccbef-1ebf-4570-b19f-c784543b693c\"}}];\n",
       "  root.Bokeh.embed.embed_items_notebook(docs_json, render_items);\n",
       "  }\n",
       "if (root.Bokeh !== undefined) {\n",
       "    embed_document(root);\n",
       "  } else {\n",
       "    var attempts = 0;\n",
       "    var timer = setInterval(function(root) {\n",
       "      if (root.Bokeh !== undefined) {\n",
       "        clearInterval(timer);\n",
       "        embed_document(root);\n",
       "      } else if (document.readyState == \"complete\") {\n",
       "        attempts++;\n",
       "        if (attempts > 100) {\n",
       "          clearInterval(timer);\n",
       "          console.log(\"Bokeh: ERROR: Unable to run BokehJS code because BokehJS library is missing\");\n",
       "        }\n",
       "      }\n",
       "    }, 10, root)\n",
       "  }\n",
       "})(window);</script>"
      ],
      "text/plain": [
       ":Table   [CoinName,Algorithm,ProofType,TotalCoinSupply,TotalCoinsMined,Class]"
      ]
     },
     "execution_count": 237,
     "metadata": {
      "application/vnd.holoviews_exec.v0+json": {
       "id": "3049"
      }
     },
     "output_type": "execute_result"
    }
   ],
   "source": [
    "# Table with tradable cryptos\n",
    "coin_df.hvplot.table(columns=[\"CoinName\", \"Algorithm\", \"ProofType\", \"TotalCoinSupply\", \"TotalCoinsMined\", \"Class\"])\n"
   ]
  },
  {
   "cell_type": "code",
   "execution_count": 238,
   "metadata": {},
   "outputs": [
    {
     "name": "stdout",
     "output_type": "stream",
     "text": [
      "The total number of tradable cryptocurrencies is: 637\n"
     ]
    }
   ],
   "source": [
    "# Print the total number of tradable cryptocurrencies\n",
    "crypto_total=coin_df['CoinName'].count()\n",
    "print(\"The total number of tradable cryptocurrencies is: \"+str(crypto_total))\n"
   ]
  },
  {
   "cell_type": "markdown",
   "metadata": {},
   "source": [
    "#### Scatter Plot with Tradable Cryptocurrencies"
   ]
  },
  {
   "cell_type": "code",
   "execution_count": 239,
   "metadata": {},
   "outputs": [],
   "source": [
    "# Scale data to create the scatter plot\n",
    "mm_scale=MinMaxScaler()\n",
    "coin_df[[\"TotalCoinsMined\",\"TotalCoinSupply\"]]=mm_scale.fit_transform(coin_df[[\"TotalCoinsMined\",\"TotalCoinSupply\"]])\n"
   ]
  },
  {
   "cell_type": "code",
   "execution_count": 242,
   "metadata": {},
   "outputs": [
    {
     "data": {
      "application/vnd.holoviews_exec.v0+json": "",
      "text/html": [
       "<div id='3851'>\n",
       "\n",
       "\n",
       "\n",
       "\n",
       "\n",
       "  <div class=\"bk-root\" id=\"63ba227a-94ca-4d7d-af59-2f27d8613478\" data-root-id=\"3851\"></div>\n",
       "</div>\n",
       "<script type=\"application/javascript\">(function(root) {\n",
       "  function embed_document(root) {\n",
       "  var docs_json = {\"2c92afbb-3f46-46ca-8277-c53976711002\":{\"roots\":{\"references\":[{\"attributes\":{\"end\":1.042857142857143,\"reset_end\":1.042857142857143,\"reset_start\":-0.04285714285714286,\"start\":-0.04285714285714286,\"tags\":[[[\"TotalCoinsMined\",\"TotalCoinsMined\",null]]]},\"id\":\"3853\",\"type\":\"Range1d\"},{\"attributes\":{\"click_policy\":\"mute\",\"items\":[{\"id\":\"3911\"},{\"id\":\"3930\"},{\"id\":\"3951\"},{\"id\":\"3974\"},{\"id\":\"3999\"}],\"location\":[0,0],\"title\":\"Class\"},\"id\":\"3910\",\"type\":\"Legend\"},{\"attributes\":{},\"id\":\"3953\",\"type\":\"Selection\"},{\"attributes\":{},\"id\":\"3997\",\"type\":\"UnionRenderers\"},{\"attributes\":{\"axis\":{\"id\":\"3869\"},\"grid_line_color\":null,\"ticker\":null},\"id\":\"3872\",\"type\":\"Grid\"},{\"attributes\":{\"label\":{\"value\":\"3\"},\"renderers\":[{\"id\":\"3958\"}]},\"id\":\"3974\",\"type\":\"LegendItem\"},{\"attributes\":{\"source\":{\"id\":\"3894\"}},\"id\":\"3901\",\"type\":\"CDSView\"},{\"attributes\":{\"fill_color\":{\"value\":\"#9367bc\"},\"line_color\":{\"value\":\"#9367bc\"},\"size\":{\"units\":\"screen\",\"value\":5.477225575051661},\"x\":{\"field\":\"TotalCoinsMined\"},\"y\":{\"field\":\"TotalCoinSupply\"}},\"id\":\"3978\",\"type\":\"Scatter\"},{\"attributes\":{\"axis_label\":\"TotalCoinsMined\",\"bounds\":\"auto\",\"formatter\":{\"id\":\"3891\"},\"major_label_orientation\":\"horizontal\",\"ticker\":{\"id\":\"3870\"}},\"id\":\"3869\",\"type\":\"LinearAxis\"},{\"attributes\":{},\"id\":\"3913\",\"type\":\"Selection\"},{\"attributes\":{\"callback\":null,\"renderers\":[{\"id\":\"3900\"},{\"id\":\"3918\"},{\"id\":\"3937\"},{\"id\":\"3958\"},{\"id\":\"3981\"}],\"tags\":[\"hv_created\"],\"tooltips\":[[\"Class\",\"@{Class}\"],[\"TotalCoinsMined\",\"@{TotalCoinsMined}\"],[\"TotalCoinSupply\",\"@{TotalCoinSupply}\"],[\"CoinName\",\"@{CoinName}\"]]},\"id\":\"3855\",\"type\":\"HoverTool\"},{\"attributes\":{},\"id\":\"3895\",\"type\":\"Selection\"},{\"attributes\":{\"axis_label\":\"TotalCoinSupply\",\"bounds\":\"auto\",\"formatter\":{\"id\":\"3893\"},\"major_label_orientation\":\"horizontal\",\"ticker\":{\"id\":\"3874\"}},\"id\":\"3873\",\"type\":\"LinearAxis\"},{\"attributes\":{\"fill_alpha\":{\"value\":0.1},\"fill_color\":{\"value\":\"#1f77b3\"},\"line_alpha\":{\"value\":0.1},\"line_color\":{\"value\":\"#1f77b3\"},\"size\":{\"units\":\"screen\",\"value\":5.477225575051661},\"x\":{\"field\":\"TotalCoinsMined\"},\"y\":{\"field\":\"TotalCoinSupply\"}},\"id\":\"3898\",\"type\":\"Scatter\"},{\"attributes\":{\"fill_alpha\":{\"value\":0.2},\"fill_color\":{\"value\":\"#1f77b3\"},\"line_alpha\":{\"value\":0.2},\"line_color\":{\"value\":\"#1f77b3\"},\"size\":{\"units\":\"screen\",\"value\":5.477225575051661},\"x\":{\"field\":\"TotalCoinsMined\"},\"y\":{\"field\":\"TotalCoinSupply\"}},\"id\":\"3899\",\"type\":\"Scatter\"},{\"attributes\":{},\"id\":\"3870\",\"type\":\"BasicTicker\"},{\"attributes\":{\"fill_alpha\":{\"value\":0.2},\"fill_color\":{\"value\":\"#9367bc\"},\"line_alpha\":{\"value\":0.2},\"line_color\":{\"value\":\"#9367bc\"},\"size\":{\"units\":\"screen\",\"value\":5.477225575051661},\"x\":{\"field\":\"TotalCoinsMined\"},\"y\":{\"field\":\"TotalCoinSupply\"}},\"id\":\"3980\",\"type\":\"Scatter\"},{\"attributes\":{},\"id\":\"3877\",\"type\":\"SaveTool\"},{\"attributes\":{},\"id\":\"3879\",\"type\":\"WheelZoomTool\"},{\"attributes\":{\"fill_alpha\":{\"value\":0.1},\"fill_color\":{\"value\":\"#9367bc\"},\"line_alpha\":{\"value\":0.1},\"line_color\":{\"value\":\"#9367bc\"},\"size\":{\"units\":\"screen\",\"value\":5.477225575051661},\"x\":{\"field\":\"TotalCoinsMined\"},\"y\":{\"field\":\"TotalCoinSupply\"}},\"id\":\"3979\",\"type\":\"Scatter\"},{\"attributes\":{\"label\":{\"value\":\"1\"},\"renderers\":[{\"id\":\"3918\"}]},\"id\":\"3930\",\"type\":\"LegendItem\"},{\"attributes\":{},\"id\":\"3972\",\"type\":\"UnionRenderers\"},{\"attributes\":{\"label\":{\"value\":\"0\"},\"renderers\":[{\"id\":\"3900\"}]},\"id\":\"3911\",\"type\":\"LegendItem\"},{\"attributes\":{\"fill_color\":{\"value\":\"#1f77b3\"},\"line_color\":{\"value\":\"#1f77b3\"},\"size\":{\"units\":\"screen\",\"value\":5.477225575051661},\"x\":{\"field\":\"TotalCoinsMined\"},\"y\":{\"field\":\"TotalCoinSupply\"}},\"id\":\"3897\",\"type\":\"Scatter\"},{\"attributes\":{\"fill_alpha\":{\"value\":0.2},\"fill_color\":{\"value\":\"#d62628\"},\"line_alpha\":{\"value\":0.2},\"line_color\":{\"value\":\"#d62628\"},\"size\":{\"units\":\"screen\",\"value\":5.477225575051661},\"x\":{\"field\":\"TotalCoinsMined\"},\"y\":{\"field\":\"TotalCoinSupply\"}},\"id\":\"3957\",\"type\":\"Scatter\"},{\"attributes\":{\"margin\":[5,5,5,5],\"name\":\"HSpacer08093\",\"sizing_mode\":\"stretch_width\"},\"id\":\"4144\",\"type\":\"Spacer\"},{\"attributes\":{},\"id\":\"3891\",\"type\":\"BasicTickFormatter\"},{\"attributes\":{\"label\":{\"value\":\"4\"},\"renderers\":[{\"id\":\"3981\"}]},\"id\":\"3999\",\"type\":\"LegendItem\"},{\"attributes\":{\"fill_alpha\":{\"value\":0.2},\"fill_color\":{\"value\":\"#ff7e0e\"},\"line_alpha\":{\"value\":0.2},\"line_color\":{\"value\":\"#ff7e0e\"},\"size\":{\"units\":\"screen\",\"value\":5.477225575051661},\"x\":{\"field\":\"TotalCoinsMined\"},\"y\":{\"field\":\"TotalCoinSupply\"}},\"id\":\"3917\",\"type\":\"Scatter\"},{\"attributes\":{\"fill_alpha\":{\"value\":0.2},\"fill_color\":{\"value\":\"#2ba02b\"},\"line_alpha\":{\"value\":0.2},\"line_color\":{\"value\":\"#2ba02b\"},\"size\":{\"units\":\"screen\",\"value\":5.477225575051661},\"x\":{\"field\":\"TotalCoinsMined\"},\"y\":{\"field\":\"TotalCoinSupply\"}},\"id\":\"3936\",\"type\":\"Scatter\"},{\"attributes\":{\"source\":{\"id\":\"3952\"}},\"id\":\"3959\",\"type\":\"CDSView\"},{\"attributes\":{\"fill_color\":{\"value\":\"#d62628\"},\"line_color\":{\"value\":\"#d62628\"},\"size\":{\"units\":\"screen\",\"value\":5.477225575051661},\"x\":{\"field\":\"TotalCoinsMined\"},\"y\":{\"field\":\"TotalCoinSupply\"}},\"id\":\"3955\",\"type\":\"Scatter\"},{\"attributes\":{\"align\":null,\"below\":[{\"id\":\"3869\"}],\"center\":[{\"id\":\"3872\"},{\"id\":\"3876\"}],\"left\":[{\"id\":\"3873\"}],\"margin\":null,\"min_border_bottom\":10,\"min_border_left\":10,\"min_border_right\":10,\"min_border_top\":10,\"plot_height\":300,\"plot_width\":700,\"renderers\":[{\"id\":\"3900\"},{\"id\":\"3918\"},{\"id\":\"3937\"},{\"id\":\"3958\"},{\"id\":\"3981\"}],\"right\":[{\"id\":\"3910\"}],\"sizing_mode\":\"fixed\",\"title\":{\"id\":\"3861\"},\"toolbar\":{\"id\":\"3883\"},\"x_range\":{\"id\":\"3853\"},\"x_scale\":{\"id\":\"3865\"},\"y_range\":{\"id\":\"3854\"},\"y_scale\":{\"id\":\"3867\"}},\"id\":\"3860\",\"subtype\":\"Figure\",\"type\":\"Plot\"},{\"attributes\":{},\"id\":\"3949\",\"type\":\"UnionRenderers\"},{\"attributes\":{\"active_drag\":\"auto\",\"active_inspect\":\"auto\",\"active_multi\":null,\"active_scroll\":\"auto\",\"active_tap\":\"auto\",\"tools\":[{\"id\":\"3855\"},{\"id\":\"3877\"},{\"id\":\"3878\"},{\"id\":\"3879\"},{\"id\":\"3880\"},{\"id\":\"3881\"}]},\"id\":\"3883\",\"type\":\"Toolbar\"},{\"attributes\":{\"label\":{\"value\":\"2\"},\"renderers\":[{\"id\":\"3937\"}]},\"id\":\"3951\",\"type\":\"LegendItem\"},{\"attributes\":{\"end\":1.1,\"reset_end\":1.1,\"reset_start\":-0.1,\"start\":-0.1,\"tags\":[[[\"TotalCoinSupply\",\"TotalCoinSupply\",null]]]},\"id\":\"3854\",\"type\":\"Range1d\"},{\"attributes\":{\"fill_alpha\":{\"value\":0.1},\"fill_color\":{\"value\":\"#d62628\"},\"line_alpha\":{\"value\":0.1},\"line_color\":{\"value\":\"#d62628\"},\"size\":{\"units\":\"screen\",\"value\":5.477225575051661},\"x\":{\"field\":\"TotalCoinsMined\"},\"y\":{\"field\":\"TotalCoinSupply\"}},\"id\":\"3956\",\"type\":\"Scatter\"},{\"attributes\":{},\"id\":\"3908\",\"type\":\"UnionRenderers\"},{\"attributes\":{\"axis\":{\"id\":\"3873\"},\"dimension\":1,\"grid_line_color\":null,\"ticker\":null},\"id\":\"3876\",\"type\":\"Grid\"},{\"attributes\":{\"overlay\":{\"id\":\"3882\"}},\"id\":\"3880\",\"type\":\"BoxZoomTool\"},{\"attributes\":{},\"id\":\"3976\",\"type\":\"Selection\"},{\"attributes\":{\"data_source\":{\"id\":\"3894\"},\"glyph\":{\"id\":\"3897\"},\"hover_glyph\":null,\"muted_glyph\":{\"id\":\"3899\"},\"nonselection_glyph\":{\"id\":\"3898\"},\"selection_glyph\":null,\"view\":{\"id\":\"3901\"}},\"id\":\"3900\",\"type\":\"GlyphRenderer\"},{\"attributes\":{},\"id\":\"3865\",\"type\":\"LinearScale\"},{\"attributes\":{\"data_source\":{\"id\":\"3975\"},\"glyph\":{\"id\":\"3978\"},\"hover_glyph\":null,\"muted_glyph\":{\"id\":\"3980\"},\"nonselection_glyph\":{\"id\":\"3979\"},\"selection_glyph\":null,\"view\":{\"id\":\"3982\"}},\"id\":\"3981\",\"type\":\"GlyphRenderer\"},{\"attributes\":{\"fill_color\":{\"value\":\"#ff7e0e\"},\"line_color\":{\"value\":\"#ff7e0e\"},\"size\":{\"units\":\"screen\",\"value\":5.477225575051661},\"x\":{\"field\":\"TotalCoinsMined\"},\"y\":{\"field\":\"TotalCoinSupply\"}},\"id\":\"3915\",\"type\":\"Scatter\"},{\"attributes\":{\"source\":{\"id\":\"3975\"}},\"id\":\"3982\",\"type\":\"CDSView\"},{\"attributes\":{\"data_source\":{\"id\":\"3931\"},\"glyph\":{\"id\":\"3934\"},\"hover_glyph\":null,\"muted_glyph\":{\"id\":\"3936\"},\"nonselection_glyph\":{\"id\":\"3935\"},\"selection_glyph\":null,\"view\":{\"id\":\"3938\"}},\"id\":\"3937\",\"type\":\"GlyphRenderer\"},{\"attributes\":{\"text\":\"Total Coin Supply vs Total Coins Mined Scatter Plot\",\"text_color\":{\"value\":\"black\"},\"text_font_size\":{\"value\":\"12pt\"}},\"id\":\"3861\",\"type\":\"Title\"},{\"attributes\":{\"fill_alpha\":{\"value\":0.1},\"fill_color\":{\"value\":\"#ff7e0e\"},\"line_alpha\":{\"value\":0.1},\"line_color\":{\"value\":\"#ff7e0e\"},\"size\":{\"units\":\"screen\",\"value\":5.477225575051661},\"x\":{\"field\":\"TotalCoinsMined\"},\"y\":{\"field\":\"TotalCoinSupply\"}},\"id\":\"3916\",\"type\":\"Scatter\"},{\"attributes\":{\"source\":{\"id\":\"3931\"}},\"id\":\"3938\",\"type\":\"CDSView\"},{\"attributes\":{},\"id\":\"3893\",\"type\":\"BasicTickFormatter\"},{\"attributes\":{\"fill_alpha\":{\"value\":0.1},\"fill_color\":{\"value\":\"#2ba02b\"},\"line_alpha\":{\"value\":0.1},\"line_color\":{\"value\":\"#2ba02b\"},\"size\":{\"units\":\"screen\",\"value\":5.477225575051661},\"x\":{\"field\":\"TotalCoinsMined\"},\"y\":{\"field\":\"TotalCoinSupply\"}},\"id\":\"3935\",\"type\":\"Scatter\"},{\"attributes\":{\"data\":{\"Class\":[3,3,3,3],\"CoinName\":[\"LitecoinCash\",\"Acute Angle Cloud\",\"Fiii\",\"Waves\"],\"TotalCoinSupply\":{\"__ndarray__\":\"wKXnOMqOQz6PlCfZdkhHPrV52Z+UGm0+BKr/nV6gEj4=\",\"dtype\":\"float64\",\"order\":\"little\",\"shape\":[4]},\"TotalCoinsMined\":{\"__ndarray__\":\"cI0lHxn3ej//4pYZ13N8PwAAAAAAAAAAuQv0Nj7AeD8=\",\"dtype\":\"float64\",\"order\":\"little\",\"shape\":[4]}},\"selected\":{\"id\":\"3953\"},\"selection_policy\":{\"id\":\"3972\"}},\"id\":\"3952\",\"type\":\"ColumnDataSource\"},{\"attributes\":{\"data\":{\"Class\":[4,4,4,4,4,4,4,4],\"CoinName\":[\"ARK\",\"Vechain\",\"Castle\",\"Lamden Tau\",\"Semux\",\"ALAX\",\"Lisk\",\"ZEPHYR\"],\"TotalCoinSupply\":{\"__ndarray__\":\"h5RPZnZIFz6n4jRRvouvPvupvxpeoAI+jpS/yHZINz4Eqv+dXqASPo+UJ9l2SEc+rDO/ZoDJHT6PlFvhdkhXPg==\",\"dtype\":\"float64\",\"order\":\"little\",\"shape\":[8]},\"TotalCoinsMined\":{\"__ndarray__\":\"0XWF/uDIeD9dGOybTo2vPz8QqVb0Vng/d5HL6UeGeT9duisuQFh4P//ilhnXc3w/32AYQ1DVeD+U5BjuXEiAPw==\",\"dtype\":\"float64\",\"order\":\"little\",\"shape\":[8]}},\"selected\":{\"id\":\"3976\"},\"selection_policy\":{\"id\":\"3997\"}},\"id\":\"3975\",\"type\":\"ColumnDataSource\"},{\"attributes\":{\"fill_color\":{\"value\":\"#2ba02b\"},\"line_color\":{\"value\":\"#2ba02b\"},\"size\":{\"units\":\"screen\",\"value\":5.477225575051661},\"x\":{\"field\":\"TotalCoinsMined\"},\"y\":{\"field\":\"TotalCoinSupply\"}},\"id\":\"3934\",\"type\":\"Scatter\"},{\"attributes\":{\"data_source\":{\"id\":\"3952\"},\"glyph\":{\"id\":\"3955\"},\"hover_glyph\":null,\"muted_glyph\":{\"id\":\"3957\"},\"nonselection_glyph\":{\"id\":\"3956\"},\"selection_glyph\":null,\"view\":{\"id\":\"3959\"}},\"id\":\"3958\",\"type\":\"GlyphRenderer\"},{\"attributes\":{},\"id\":\"3881\",\"type\":\"ResetTool\"},{\"attributes\":{\"source\":{\"id\":\"3912\"}},\"id\":\"3919\",\"type\":\"CDSView\"},{\"attributes\":{},\"id\":\"3932\",\"type\":\"Selection\"},{\"attributes\":{\"data_source\":{\"id\":\"3912\"},\"glyph\":{\"id\":\"3915\"},\"hover_glyph\":null,\"muted_glyph\":{\"id\":\"3917\"},\"nonselection_glyph\":{\"id\":\"3916\"},\"selection_glyph\":null,\"view\":{\"id\":\"3919\"}},\"id\":\"3918\",\"type\":\"GlyphRenderer\"},{\"attributes\":{},\"id\":\"3878\",\"type\":\"PanTool\"},{\"attributes\":{},\"id\":\"3874\",\"type\":\"BasicTicker\"},{\"attributes\":{\"children\":[{\"id\":\"3852\"},{\"id\":\"3860\"},{\"id\":\"4144\"}],\"margin\":[0,0,0,0],\"name\":\"Row08088\",\"tags\":[\"embedded\"]},\"id\":\"3851\",\"type\":\"Row\"},{\"attributes\":{\"data\":{\"Class\":[1,1,1,1,1,1,1,1,1,1,1,1,1,1,1,1,1,1,1,1,1,1,1,1,1,1,1,1,1,1,1,1,1,1,1,1,1,1,1,1,1,1,1,1,1,1,1,1,1,1,1,1,1,1,1,1,1,1,1,1,1,1,1,1,1,1,1,1,1,1,1,1,1,1,1,1,1,1,1,1,1,1,1,1,1,1,1,1,1,1,1,1,1,1,1,1,1,1,1,1,1,1,1,1,1,1,1,1,1,1,1,1,1,1,1,1,1,1,1,1,1,1,1,1,1,1,1,1,1,1,1,1,1,1,1,1,1,1,1,1,1,1,1,1,1,1,1,1,1,1,1,1,1,1,1,1,1,1,1,1,1,1,1,1,1,1,1,1,1,1,1,1,1,1,1,1,1,1,1,1,1,1,1,1,1,1,1,1,1,1,1,1,1,1,1,1,1,1,1,1,1,1,1,1,1,1,1,1,1,1,1,1,1,1,1,1,1,1,1,1,1,1,1,1,1,1,1,1,1,1,1,1,1,1,1,1,1,1,1,1,1,1,1,1,1,1,1,1,1,1,1,1,1,1,1,1,1,1,1,1,1,1,1,1,1,1,1,1,1,1,1,1,1,1,1,1,1,1,1,1,1,1,1,1,1,1,1,1,1,1,1,1,1,1,1,1,1,1,1,1,1,1,1,1,1,1,1,1,1,1,1,1,1,1,1,1,1,1,1,1,1,1],\"CoinName\":[\"42 Coin\",\"404Coin\",\"EliteCoin\",\"Dash\",\"Bitshares\",\"BitcoinDark\",\"Bitstake\",\"PayCoin\",\"KoboCoin\",\"Aero Coin\",\"ApexCoin\",\"ArchCoin\",\"Aurora Coin\",\"BitBar\",\"CashCoin\",\"CryptoBullion\",\"CinderCoin\",\"CoolCoin\",\"CasinoCoin\",\"Diamond\",\"DarkCash\",\"Fuel2Coin\",\"FIBRE\",\"GlyphCoin\",\"HoboNickels\",\"IOCoin\",\"JumBucks Coin\",\"JudgeCoin\",\"LibrexCoin\",\"MaxCoin\",\"MazaCoin\",\"Nautilus Coin\",\"Orbitcoin\",\"PotCoin\",\"PhoenixCoin\",\"ShieldCoin\",\"SilkCoin\",\"SyncCoin\",\"TeslaCoin\",\"TittieCoin\",\"TorCoin\",\"UnitaryStatus Dollar\",\"UltraCoin\",\"SocialXbotCoin\",\"X11 Coin\",\"XXXCoin\",\"ZCC Coin\",\"BurstCoin\",\"StorjCoin\",\"Neutron\",\"KryptCoin\",\"Kore\",\"Dnotes\",\"MaieutiCoin\",\"Sativa Coin\",\"AeroMe\",\"MasterTraderCoin\",\"Ucoin\",\"Vtorrent\",\"Nexus\",\"Droidz\",\"Diggits\",\"MapCoin\",\"Paycon\",\"Emercoin\",\"BlitzCoin\",\"EverGreenCoin\",\"Decred\",\"EDRCoin\",\"Hitcoin\",\"DubaiCoin\",\"BiosCrypto\",\"TrumpCoin\",\"BillaryCoin\",\"EthereumScrypt\",\"GPU Coin\",\"Universal Currency\",\"EuropeCoin\",\"ZeitCoin\",\"SwingCoin\",\"SafeExchangeCoin\",\"Nebuchadnezzar\",\"GIZMOcoin\",\"SecretCoin\",\"Ratecoin\",\"Digital Bullion Gold\",\"Revenu\",\"Clockcoin\",\"VIP Tokens\",\"OrlyCoin\",\"BitSend\",\"16BitCoin\",\"ChessCoin\",\"ReeCoin\",\"Let it Ride\",\"PutinCoin\",\"iBankCoin\",\"Frankywillcoin\",\"MudraCoin\",\"Lutetium Coin\",\"GoldBlocks\",\"WayCoin\",\"CarterCoin\",\"BitTokens\",\"MustangCoin\",\"ZoneCoin\",\"PROUD Money\",\"Swiscoin\",\"BuzzCoin\",\"Opair\",\"Halloween Coin\",\"CoffeeCoin\",\"RoyalCoin\",\"GanjaCoin V2\",\"TeamUP\",\"LanaCoin\",\"InsaneCoin\",\"LuckChain\",\"EmberCoin\",\"XenixCoin\",\"FreeCoin\",\"NPCcoin\",\"PLNCoin\",\"Icobid\",\"AquariusCoin\",\"Creatio\",\"Eternity\",\"Eurocoin\",\"BitcoinFast\",\"Stakenet\",\"BitConnect Coin\",\"MoneyCoin\",\"Enigma\",\"Russiacoin\",\"PandaCoin\",\"GameUnits\",\"GAKHcoin\",\"Allsafe\",\"LiteCreed\",\"NeptuneClassic\",\"GoldenBird\",\"Ride My Car\",\"Klingon Empire Darsek\",\"Internet of People\",\"KushCoin\",\"Eryllium\",\"Printerium\",\"Impeach\",\"Zilbercoin\",\"FirstCoin\",\"FindCoin\",\"OpenChat\",\"RenosCoin\",\"VirtacoinPlus\",\"TajCoin\",\"Impact\",\"Universe\",\"Atmos\",\"HappyCoin\",\"MacronCoin\",\"Condensate\",\"Independent Money System\",\"ArgusCoin\",\"LomoCoin\",\"ProCurrency\",\"GoldReserve\",\"GrowthCoin\",\"Phreak\",\"Degas Coin\",\"ZSEcoin\",\"HTML5 Coin\",\"Ultimate Secure Cash\",\"QTUM\",\"Espers\",\"Denarius\",\"Virta Unique Coin\",\"Bitcoin Planet\",\"BritCoin\",\"Octanox\",\"Linda\",\"DeepOnion\",\"Signatum\",\"Cream\",\"Monoeci\",\"Draftcoin\",\"Stakecoin\",\"CoinonatX\",\"Ethereum Dark\",\"Obsidian\",\"Cardano\",\"Regalcoin\",\"TrezarCoin\",\"TerraNovaCoin\",\"Rupee\",\"WomenCoin\",\"Theresa May Coin\",\"NamoCoin\",\"LUXCoin\",\"Xios\",\"Bitcloud 2.0\",\"KekCoin\",\"BlackholeCoin\",\"AltCommunity Coin\",\"Pure\",\"Rupaya\",\"Infinity Economics\",\"Magnet\",\"Electra\",\"Bitcoin Diamond\",\"Cash & Back Coin\",\"Bulwark\",\"Kalkulus\",\"GermanCoin\",\"LiteCoin Ultra\",\"PhantomX\",\"HTML Coin\",\"Fantasy Cash\",\"Digiwage\",\"Trollcoin\",\"Litecoin Plus\",\"Monkey Project\",\"OP Coin\",\"Valorbit\",\"TokenPay\",\"My Big Coin\",\"Unified Society USDEX\",\"Tokyo Coin\",\"BiblePay\",\"Stipend\",\"Poa Network\",\"Pushi\",\"Ellerium\",\"Velox\",\"Ontology\",\"Bitspace\",\"Briacoin\",\"Ignition\",\"MedicCoin\",\"Zelcash\",\"Bitcoin Green\",\"Deviant Coin\",\"Abjcoin\",\"Profit Hunters Coin\",\"BitBlocks\",\"Carebit\",\"Zealium\",\"Proton\",\"iDealCash\",\"Bitcoin Incognito\",\"HollyWoodCoin\",\"Swisscoin\",\"Xt3ch\",\"TheVig\",\"EmaratCoin\",\"Dekado\",\"Lynx\",\"Poseidon Quark\",\"BitcoinWSpectrum\",\"Muse\",\"Trivechain\",\"Dystem\",\"Giant\",\"Peony Coin\",\"SafeCoin\",\"Absolute Coin\",\"Vitae\",\"TPCash\",\"MUSDcoin\",\"ARENON\",\"EUNO\",\"MMOCoin\",\"Ketan\",\"Safe Trade Coin\",\"Mont Blanc\",\"XDNA\",\"PAXEX\",\"Apollon\",\"ThunderStake\",\"Kcash\",\"Traid\",\"Bettex coin\",\"BitMoney\",\"Zenad\",\"HerbCoin\",\"PirateCash\",\"Oduwa\",\"Galilel\",\"Crypto Sports\",\"Credit\",\"Dash Platinum\",\"Nasdacoin\",\"Beetle Coin\",\"Titan Coin\",\"Award\",\"Insane Coin\",\"The Freedom Coin\",\"LiteDoge\",\"OrangeCoin\",\"BitstarCoin\",\"NeosCoin\",\"PinkCoin\",\"AudioCoin\",\"IncaKoin\",\"Piggy Coin\",\"Genstake\",\"ParkByte\",\"XiaoMiCoin\",\"CapriCoin\",\" ClubCoin\",\"Radium\",\"Creditbit \",\"OKCash\",\"HiCoin\",\"WhiteCoin\",\"FriendshipCoin\",\"The Hempcoin\",\"Triangles Coin\",\"TigerCash\",\"Particl\",\"Nxt\",\"Gapcoin\",\"BitcoinPlus\"],\"TotalCoinSupply\":{\"__ndarray__\":\"AAAAAAAAAABIJ9kI78U4Pt3PECaXksw+1E0ZtChk8D3mrWOiRPVkPtRNGbQoZPA9d+cTYlD+rj3HqT8HW6DiPcq0RxxTTDA+lgVmTYvc1D0k4DLNmuHRPYd6o45Iceg9BdOs77D86D3KIpnBANeXPZpBr9qdqwE+MCeZYULXpz3JaiwO8TsVPgSq/51eoBI+tTlwo5QanT6BCcAZSRvKPSeGfJk0LMY9BKr/nV6gEj4xnP7BrMCdPZYFZk2L3NQ91Jg/PgtaFj7UTRm0KGTwPZzYUKGroMM9fDAUdN0X8D0wJ5lhQtenPQSq/51eoBI+FVWvGccpXD65xZ0HKhzoPYCjgdl/eMY9v6V/KMqOMz5WRfmNAEESPjAnmWFC16c9MCeZYULXpz2LZJEBgGMHPQSq/51eoBI+coSXt4jGWj7vdf/NXM3dPQyqCxlfoFI+BKr/nV6gEj5jKZkxY9e3PWpNGY0iZNA9+6m/Gl6gAj6PlCfZdkhHPj9Pe27DIVk+jpS/yHZINz49vjI7+1QJPgm+sif4VOk9a+Ay557h4T2OlL/Idkg3Pt4fnQGAEhg973X/zVzN3T1r4DLnnuHhPTYWBS5JId49Nnb/52DN7T02dv/nYM3tPQ2tctunDg0+mJgFGuIozj0Eqv+dXqASPqjLlN7/kbo9+6m/Gl6gAj6PlCfZdkhHPukKignc9cY9vUJQ/O+X8z3vCBko2UrvPdRNGbQoZPA93UZ4qFJRkz6oCBkO1UrfPRpdwtwIFu49a+Ay557h4T0SCRk120r/Pd2frZmgCMk9JlBB8U2WJD69pa8Hyo4jPq/gYuCi4TE+6DyE+AsCsj5Zdv/0Ys39Pc0LR/n//1g+Nnb/52DN7T3gMkcBwxBzPe8IGSjZSu89An9fq43wCz6XmH+nB1rmPW78Q0QtviQ+L4/TunxyOD6cst9NiMMQPuZQzHRy0vo9TFV81gjkGT5QK5nnf9fnPXJdHajD0As+yrRHHFNMMD5+WawknPX4PY+UW+F2SFc+dG/bvfODAD4Eqv+dXqASPgmqn99eoCI+bAw9wwyYPj77qb8aXqACPgSq/51eoBI+nLLfTYjDED7vCBko2UrvPZffMpmS4cE97wgZKNlK7z21eeahlBp9Pr2sGyRcC2I+tfnsopQajT5TGlmbL5ELPmuv9yZZdlE+A3b/+V3N/T3Hev8Rpc29PQSq/51eoBI+OxhB9GUILD4A6KnhZ9h1PrqYf7QJWvY9j5Qn2XZIRz6tpOsCZcpDPhk8P1+l98Y9+6m/Gl6gAj7+oVAKaF90Pj3L7OTptvw9Caqf316gIj4SCRk120r/PTZ2/+dgze09y5j/ugpaBj42dv/nYM3tPdD0pRQ+lvg9BxZpw5p/DD4ABmZ0kdz0PVH7vxt4TD4+YnX/mVTNzT0AUYz+c9IaPpICvQ9gqJc+JHNMJxdf4z0fLVOtbcPDPZeYf6cHWuY9AgR4e05eDT6MlO+ndkgnPk2fl+Rq9DQ+BKr/nV6gEj6OlL/Idkg3Pu8IGSjZSu89kGve7YDg2z0Eqv+dXqASPjZ2/+dgze09mnOYenFX8D1jod9qNH0EPmyhH+40fRQ+mrmEbsak5T2PlCfZdkhHPgMyOKRPpvk9BKr/nV6gEj7s0tfEG377PWyhH+40fRQ+GgYm/pLcFD7EjuBVCYsUPgSq/51eoBI+C6pvAF+gMj6OlL/Idkg3PqF1HhnEm+89BbJtVAJP9T2PlCfZdkhHPhmiclnrSKs+WXb/9GLN/T2PlFvhdkhXPrqYf7QJWvY9uKUPxsmOEz69Qi64HV9YPnYkGJzzXrA+fcwfymCiIj4Eqv+dXqASPhGMNuacMKI+73X/zVzN3T3UmD8+C1oWPgSq/51eoBI+uph/tAla9j11V5TxfI/XPRGMNuacMKI+6OVtChIp7D3JiXdKgpwZPgSq/51eoBI+aULmq3BV3D2vYKr3ze/pPW3TSWCg8gY+EH20Uqr5AT7dn62ZoAjJPT4jJDbDBRE+dlT3m/NeoD6kPFlU1R30PQuqbwBfoDI+hFmSNMZx5z2O4DL0oOHxPRHs9OWcMJI+BKr/nV6gEj4Tf3ehjvBLPsuY/7oKWgY+7wgZKNlK7z0Jqp/fXqAiPu8IGSjZSu895JRAe0MJ5j1idf+ZVM3NPVIieUmj+cU9An9fq43wCz4jh7TEhTF6PgBRjP5z0ho+R1tzeu/TlT69pa8Hyo4jPr2lrwfKjiM+w2TiLGym9D02dv/nYM3tPRGMNuacMKI+C3+fLo7wGz77qb8aXqACPnYkGJzzXrA+n4rWmfpqyz3UmD8+C1oWPk6f//Rq9EQ+fCqZmXPXxz3vCBko2UrvPY+UW+F2SFc+AAAAAAAA8D/qqT8UXaDyPbqYf7QJWvY9fM/SX0+bJT4MqtcQX6BCPlV07ZGaRG4+Q5nuydXR7D1vg/MvIoMnPuqpPxRdoPI9y5j/ugpaBj4wYkxexxgXPo+UJ9l2SEc++6m/Gl6gAj6X3zKZkuHBPWJ1/5lUzc09jpS/yHZINz69pa8Hyo4jPu8IGSjZSu897k3ZPSpkED66mH+0CVr2PQSq/51eoBI+jpS/yHZINz4Jqp/fXqAiPmp2f/tjzQ0+k7KfyofDAD5iqLlSTdBtPu8IGSjZSu89R3NMNBlf8z0Fd/Cal699PuVNmbopZAA+BKr/nV6gEj4jCZk73EoPPpyy302IwxA+yGK+dxW8sD5TdDd1mkQ+PpeAoFzfrBI+UmjORaXx6j1Tvo/0P8AOPu8IGSjZSu89mucO+ryzzj2oDp8/SpCIPuZQzHRy0vo9r6XPQsmOAz4Eqv+dXqASPo+UJ9l2SEc+BKr/nV6gEj5jod9qNH0EPvupvxpeoAI+QJD/z+E2KD69pa8Hyo4jPsCl5zjKjkM+moc/W7cTCj4mflQ8DwsxPgSq/51eoBI+jJTvp3ZIJz4jB7vFhTGKPo+UJ9l2SEc+5MbyryV4Jz77qb8aXqACPn5qMw9Cd6k+Qhem2uUiAT61PNla1h0EPrilD8bJjhM+7wgZKNlK7z0pz+YupF3sPW7pVfc77OM9b2JR+ko2qz4xyvcH8FrtPSMJmTvcSg8+jpS/yHZINz61edmflBptPr+lfyjKjjM+uph/tAla9j3qqT8UXaDyPX7K8Q5Cd5k+Caqf316gIj7k35pCQzYEPu8IGSjZSu89jpS/yHZINz7+cn8QHI9+PlWuj7fzsSE+j5Qn2XZIRz6XmH+nB1rmPeqpPxRdoPI9C6pvAF+gMj5mc6z/Gl8jPnN2v35kzR0+fFDMTWzS2j0LEaYs45foPbilD8bJjhM+r2pk5SkhfT4Qfz9wjvArPv6rQNUTagY+EH8/cI7wKz59qogBU+F2PY+UJ9l2SEc+HZq5RUu72T2PlCfZdkhHPoyU76d2SCc+MCeZYULXpz0=\",\"dtype\":\"float64\",\"order\":\"little\",\"shape\":[322]},\"TotalCoinsMined\":{\"__ndarray__\":\"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\",\"dtype\":\"float64\",\"order\":\"little\",\"shape\":[322]}},\"selected\":{\"id\":\"3913\"},\"selection_policy\":{\"id\":\"3928\"}},\"id\":\"3912\",\"type\":\"ColumnDataSource\"},{\"attributes\":{\"data\":{\"Class\":[2],\"CoinName\":[\"BitTorrent\"],\"TotalCoinSupply\":{\"__ndarray__\":\"IjbK9o6C5j4=\",\"dtype\":\"float64\",\"order\":\"little\",\"shape\":[1]},\"TotalCoinsMined\":{\"__ndarray__\":\"AAAAAAAA8D8=\",\"dtype\":\"float64\",\"order\":\"little\",\"shape\":[1]}},\"selected\":{\"id\":\"3932\"},\"selection_policy\":{\"id\":\"3949\"}},\"id\":\"3931\",\"type\":\"ColumnDataSource\"},{\"attributes\":{\"margin\":[5,5,5,5],\"name\":\"HSpacer08092\",\"sizing_mode\":\"stretch_width\"},\"id\":\"3852\",\"type\":\"Spacer\"},{\"attributes\":{},\"id\":\"3928\",\"type\":\"UnionRenderers\"},{\"attributes\":{},\"id\":\"3867\",\"type\":\"LinearScale\"},{\"attributes\":{\"data\":{\"Class\":[0,0,0,0,0,0,0,0,0,0,0,0,0,0,0,0,0,0,0,0,0,0,0,0,0,0,0,0,0,0,0,0,0,0,0,0,0,0,0,0,0,0,0,0,0,0,0,0,0,0,0,0,0,0,0,0,0,0,0,0,0,0,0,0,0,0,0,0,0,0,0,0,0,0,0,0,0,0,0,0,0,0,0,0,0,0,0,0,0,0,0,0,0,0,0,0,0,0,0,0,0,0,0,0,0,0,0,0,0,0,0,0,0,0,0,0,0,0,0,0,0,0,0,0,0,0,0,0,0,0,0,0,0,0,0,0,0,0,0,0,0,0,0,0,0,0,0,0,0,0,0,0,0,0,0,0,0,0,0,0,0,0,0,0,0,0,0,0,0,0,0,0,0,0,0,0,0,0,0,0,0,0,0,0,0,0,0,0,0,0,0,0,0,0,0,0,0,0,0,0,0,0,0,0,0,0,0,0,0,0,0,0,0,0,0,0,0,0,0,0,0,0,0,0,0,0,0,0,0,0,0,0,0,0,0,0,0,0,0,0,0,0,0,0,0,0,0,0,0,0,0,0,0,0,0,0,0,0,0,0,0,0,0,0,0,0,0,0,0,0,0,0,0,0,0,0,0,0,0,0,0,0,0,0,0,0,0,0,0,0,0,0,0,0,0,0,0,0,0,0,0,0],\"CoinName\":[\"Bitcoin\",\"Litecoin\",\"Ethereum Classic\",\"ZCash\",\"DigiByte\",\"ProsperCoin\",\"Spreadcoin\",\"ACoin\",\"Argentum\",\"BetaCoin\",\"MyriadCoin\",\"MoonCoin\",\"ZetaCoin\",\"SexCoin\",\"Quatloo\",\"QuarkCoin\",\"Riecoin\",\"Digitalcoin \",\"LimeCoinX\",\"BitMark\",\"Catcoin\",\"CannaCoin\",\"CryptCoin\",\"Verge\",\"DarkShibe\",\"DevCoin\",\"EarthCoin\",\"E-Gulden\",\"Elacoin\",\"Einsteinium\",\"Emerald\",\"Flappy Coin\",\"FireRoosterCoin\",\"Franko\",\"FeatherCoin\",\"GrandCoin\",\"GlobalCoin\",\"GoldCoin\",\"HunterCoin\",\"Infinite Coin\",\"IXcoin\",\"KrugerCoin\",\"LuckyCoin\",\"Litebar \",\"LitecoinDark\",\"MegaCoin\",\"MediterraneanCoin\",\"MinCoin\",\"NoirBits\",\"NobleCoin\",\"Namecoin\",\"NyanCoin\",\"RipOffCoin\",\"RonPaulCoin\",\"StableCoin\",\"SmartCoin\",\"SpainCoin\",\"SecureCoin\",\"SysCoin\",\"TigerCoin\",\"TerraCoin\",\"Umbrella\",\"UnbreakableCoin\",\"Unobtanium\",\"ViaCoin\",\"Vertcoin\",\"WorldCoin\",\"JouleCoin\",\"ByteCoin\",\"DigitalNote \",\"MonaCoin\",\"Sling Coin\",\"Gulden\",\"PesetaCoin\",\"Wild Beast Coin\",\"Flo\",\"ArtByte\",\"BitCredit\",\"Folding Coin\",\"OmniCron\",\"GreenCoin\",\"Cryptonite\",\"Gridmaster\",\"ConSpiracy Coin \",\"MasterCoin\",\"SoonCoin\",\"1Credit\",\"Quicksilver coin\",\"MarsCoin \",\"Crypto\",\"Anarchists Prime\",\"BowsCoin\",\"Song Coin\",\"BitZeny\",\"Expanse\",\"MindCoin\",\"I0coin\",\"DogeCoinDark\",\"Revolution VR\",\"HOdlcoin\",\"Gamecredits\",\"Dashcoin\",\"CarpeDiemCoin\",\"Phalanx\",\"SunShotCoin\",\"HempCoin\",\"Adzcoin\",\"VirtaCoin\",\"SoilCoin\",\"YoCoin\",\"AEON\",\"SibCoin\",\"Anti Bitcoin\",\"Francs\",\"BolivarCoin\",\"Clinton\",\"Omni\",\"PizzaCoin\",\"Komodo\",\"Karbo\",\"ZayedCoin\",\"Circuits of Value\",\"DopeCoin\",\"DollarCoin\",\"Shilling\",\"GBR Coin\",\"FujiCoin\",\"ZCoin\",\"LeaCoin\",\"Zurcoin\",\"Elementrem\",\"CashOut\",\"ZClassic\",\"KiloCoin\",\"Hush\",\"ArtexCoin\",\"Kurrent\",\"Cannabis Industry Coin\",\"OsmiumCoin\",\"Bikercoins\",\"HexxCoin\",\"MarxCoin\",\"PacCoin\",\"Solarflarecoin\",\"Citadel\",\"CreativeChain\",\"BeaverCoin\",\"VaultCoin\",\"Zero\",\"Canada eCoin\",\"Zoin\",\"Musicoin\",\"BnrtxCoin\",\"DubaiCoin\",\"EB3coin\",\"Coinonat\",\"Bitcoin Scrypt\",\"BenjiRolls\",\"ParallelCoin\",\"ILCoin\",\"EquiTrader\",\"Quantum Resistant Ledger\",\"Nano\",\"ChanCoin\",\"Dinastycoin\",\"DigitalPrice\",\"Unify\",\"SocialCoin\",\"ArcticCoin\",\"DAS\",\"LeviarCoin\",\"Bitcore\",\"gCn Coin\",\"SmartCash\",\"Onix\",\"Bitcoin Cash\",\"CampusCoin\",\"Sojourn Coin\",\"LiteBitcoin\",\"FrazCoin\",\"Kronecoin\",\"AdCoin\",\"Linx\",\"Sumokoin\",\"BitcoinZ\",\"Elements\",\"VIVO Coin\",\"Bitcoin Gold\",\"Pirl\",\"eBoost\",\"Pura\",\"Innova\",\"Bitdeal\",\"Ellaism\",\"Sakuracoin\",\"GoByte\",\"SHIELD\",\"UltraNote\",\"BitCoal\",\"DaxxCoin\",\"AC3\",\"CHIPS\",\"Lethean\",\"PopularCoin\",\"Photon\",\"Sucre\",\"SparksPay\",\"GunCoin\",\"IrishCoin\",\"Pioneer Coin\",\"UnitedBitcoin\",\"Interzone\",\"1717 Masonic Commemorative Token\",\"TurtleCoin\",\"MUNcoin\",\"Niobio Cash\",\"Bitcoin Private\",\"Skeincoin\",\"ShareChain\",\"Travelflex\",\"KREDS\",\"BitFlip\",\"LottoCoin\",\"LeafCoin\",\"Cerberus\",\"Bitcoin Hush\",\"Crypto Improvement Fund\",\"Callisto Network\",\"Curium\",\"BitTube\",\"Dinero\",\"Poseidon\",\"Aidos Kuneen\",\"Snowgem\",\"Bitrolium\",\"Bitcoin Interest\",\"Alpenschillling\",\"FuturoCoin\",\"Monero Classic\",\"Jumpcoin\",\"Infinex\",\"KEYCO\",\"GINcoin\",\"PlatinCoin\",\"Loki\",\"Newton Coin\",\"MassGrid\",\"PluraCoin\",\"Motion\",\"PlusOneCoin\",\"Axe\",\"HexCoin\",\"Webchain\",\"Ryo\",\"Urals Coin\",\"Qwertycoin\",\"NIX\",\"Project Pai\",\"Azart\",\"Xchange\",\"CrypticCoin\",\"ZestCoin\",\"X-CASH\",\"Actinium\",\"ETHER-1\",\"Bitcoin SV\",\"Bitcoiin2Gen\",\"FREDEnergy\",\"C25 Coin\",\"Aquachain\",\"Universal Molecule\",\"Lithium\",\"Smart Bitcoin\",\"Exosis\",\"Block-Logic\",\"Beam\",\"Bithereum\",\"SLICE\",\"Vidulum\",\"BlockStamp\",\"BLAST\",\"Bitcoin Rhodium\",\"GlobalToken\",\"Boolberry\",\"SolarCoin\",\"UFO Coin\",\"BlakeCoin\",\"FantomCoin \",\"Crypto Escudo\",\"Crown Coin\",\"Quazar Coin\",\"SmileyCoin\",\"Groestlcoin\",\"Bata\",\"Pakcoin\",\"Dotcoin\",\"JoinCoin\",\"Vollar\",\"Reality Clash\",\"iOlite\",\"Beldex\",\"Horizen\"],\"TotalCoinSupply\":{\"__ndarray__\":\"7wgZKNlK7z0jCZk73EoPPr2lrwfKjiM+7wgZKNlK7z3+8oURHI+OPu8IGSjZSu89Nnb/52DN7T3fU0cxrxKzPYQrGfuC1wc+cyuZ9IHX9z2PlFvhdkhXPmx7Iy9ZdtE+k8Zei3ugHz6MlO+ndkgnPgSq/51eoBI+CsnqG/AAJz4jCZk73EoPPk/ws7Z28QE+7wgZKNlK7z0wp2CkdYz0Pe8IGSjZSu89rgdQB3+U4z3DUMxncNLqPdbwRtU3F4g+2CeigYxduD3+8oURHI+OPlqlClQkpYM+7wgZKNlK7z0Cf1+rjfALPiQq37Ob6ys+cyuZ9IHX9z0RXFfmnDCyPuJnFALMBb89f1UfRBu+4D0xCXkA3UovPuXSIxi/iVA+moc/W7cTCj4Z400E4ukKPhIJGTXbSv899QPKKuR6sD7vCBko2UrvPUg6CMAfuCg+Nnb/52DN7T1sLhSxvhewPQNFjDtujA4+EgkZNdtK/z0Jqp/fXqAiPu91/81czd09+6m/Gl6gAj5HG/B579OFPu8IGSjZSu89XKJ6hLRiLz5r4DLnnuHhPe8IGSjZSu89jJTvp3ZIJz4AVsf6zhIDPvupvxpeoAI+7wgZKNlK7z3L0/po5KxEPoePrBpogwE+EgkZNdtK/z0CBxlyvEq/PWp2f/tjzQ0+/RmZgX3Whz0xFybU5CLxPSMJmTvcSg8+SDoIwB+4KD6Tsp/Kh8MAPpChxKH3xsA+tXnmoZQafT7rBxCegpQTPjAnmWFC16c9wKUbQcqOUz5f4NOY5v0ePiGkGTLkU789c3a/fmTNHT6PlCfZdkhHPr2lrwfKjiM+j5Qn2XZIRz7A21gdMBjEPbV55qGUGn0+KJ07kaBrVT4jCZk73EoPPtD0pRQ+lvg92uj6gXmJnT3vCBko2UrvPchivncVvLA+0PSlFD6W+D3Q9KUUPpb4PbSbJC4iggg+57PX+vIGBD7vCBko2UrvPfAHsN+ClCM+jJTvp3ZIJz4+WbA8QzHpPVArmed/1+c97wgZKNlK7z01kdWfugKIPr2lrwfKjiM+vgGM0IKIDj4jCZk73EoPPni917/bfOs9+palyGp4jz6XmH+nB1rmPSKHjb6FMVo+tXnZn5QabT4jCZk73EoPPv7yhREcj44+uph/tAla9j2oKFoTnVsfPnOL1ucGa+s9juAy9KDh8T0SCRk120r/PTZ2/+dgze096qk/FF2g8j2kVu/J3ty8PRVu+MF8ZJ096qk/FF2g8j0Jqp/fXqAiPu91/81czd09Q/XxTfID3T0Tf3ehjvBLPgmqn99eoCI+dBsgYli03z26mH+0CVr2PcO017lSTBA+73X/zVzN3T2fQyOob+PvPY+UW+F2SFc+38ZSbiV4Fz4VFM9JTYbzPQSq/51eoBI+7wgZKNlK7z21eeahlBp9Pu8IGSjZSu89jpS/yHZINz7OasxP8TslPu8IGSjZSu89oKUVkZstwD3qqT8UXaDyPet1/5tczd09wbUBHuO+Ej4RXFfmnDCyPjZ2/+dgze09e7CHI746IT4gnS8WoGsVPt+yV5njBsQ9j5Qn2XZIRz4JvrIn+FTpPQSq/51eoBI+7wgZKNlK7z1wieuazy41Pr2lrwfKjiM+TM/IGSWeuj2QlHXldkhnPhB9tFKq+QE+7wgZKNlK7z3+LsZ8+Hb6PTAnmWFC16c9tHm/m5QaXT73UEx7c9IKPrilD8bJjhM+aOHvfvawLz66mH+0CVr2PY+UW+F2SFc+BKr/nV6gEj6e9+znf7nsPQJ/X6uN8As+y5j/ugpaBj7QVOMHwynsPbU82VrWHQQ+7wgZKNlK7z0RxGfmnDDCPrV52Z+UGm0+0YlPvYKcST7vCBko2UrvPXyTK6MRhEc+/nJ/EByPfj6PlCfZdkhHPjZ2/+dgze09IwmZO9xKDz4Eqv+dXqASPgSq/51eoBI+WCXc7IyOED7+8oURHI+OPk6fM/1q9FQ+pDxZVNUd9D3vCBko2UrvPRmoa6pIHR0+BKr/nV6gEj7KtEccU0wwPpOyn8qHwwA+EH8/cI7wKz6ohx8guBMqPo73D3qOkxM+x5yWVFyx9z0tcj8J0Ls+PlAR8e097K4+x6k/B1ug4j21eeahlBp9PtCJ56yCnDk+7wgZKNlK7z2GX1e0X0VHPrV5wJ+UGm0+diQYnPNesD7dWPqnFYHtPe8IGSjZSu89jpS/yHZINz6EKxn7gtcHPjEXJtTkIvE997QD2LMM7j0xFybU5CLxPVMES3m3SbM9FR0SIMS85j5Zg6inYbzoPTEJeQDdSi8+7wgZKNlK7z0JvrIn+FTpPbV55qGUGn0+BKr/nV6gEj7RiU+9gpxJPll2//Rizf09EzEFZSLJij7+8oURHI+OPsXGkuQjePc97wgZKNlK7z2OlL/Idkg3PrWot5vg6nI+1E0ZtChk8D2PlCfZdkhHPgSq/51eoBI+7wgZKNlK7z3qqT8UXaDyPUKmmfsDVA8+moc/W7cTCj7WIx0kYZ3wPRB/P3CO8Cs+BKr/nV6gEj5zi9bnBmvrPe8IGSjZSu890QdQFIGU8z3DUMxncNLqPagIGQ7VSt89LX+/JZDwOz4Lf58ujvAbPsjKzncVvMA+LAnZvtxKHz6PlCfZdkhHPp9FGv6YcvA97wgZKNlK7z3vCBko2UrvPWSmmn88ePA9/aEpBGhfVD6B6NkALG0QPr2lrwfKjiM+lYbl4gbHwD7ItHf7UkwgPjCPb9N8clg+6qk/FF2g8j0Eqv+dXqASPvCZbvVwHnY+X6V2BIbU9T0RXFfmnDCyPiMJmTvcSg8+z3xdXD1d5D3vCBko2UrvPQSq/51eoBI+fZOGsRGEdz58/TcN5i3SPRIJGTXbSv897AeQooKUEz7clkL0AMzyPWMHGRzCSu897wgZKNlK7z3UmD8+C1oWPu4JBKijeSg+7eyKbAcD9z0Eqv+dXqASPgSq/51eoBI+uKUPxsmOEz6EKxn7gtcHPsSerTGQCLk9LAnZvtxKHz7J0te3GX7rPalteSIj2LE+kJR15XZIZz7+oVAKaF90PnOL1ucGa+s9j5Qn2XZIRz4SCRk120r/PXi917/bfOs9EYw25pwwoj64pQ/GyY4TPmJ1/5lUzc09+eSClzfzID5hoPsq0LhEPjVqHpllsMA9MI9v03xyWD7FHTlYsj7yPY+UJ9l2SEc+LcBnC/1MUD7vCBko2UrvPQ==\",\"dtype\":\"float64\",\"order\":\"little\",\"shape\":[302]},\"TotalCoinsMined\":{\"__ndarray__\":\"T0U1aNRpeD8rCKvbU5l4P5pqJixPzng/iB69W7peeD++Si+hGdCRP+l3JB8HXXg/NBO/n7FieD8/EKlW9FZ4PxFZBEbOY3g/PxCpVvRWeD9Ir01Mfkh/P+6Ju1z0Vng/kC3YBCkKeT8CgDzstt54P2xMpoyzXng/FEcmDj1oeT/CRVCaH4t4P4AlKoUqeng/PxCpVvRWeD8/EKlW9FZ4PwhujWWOXng/oXNkN+hbeD90RFE4N1x4PwXqi5O7dpY/PxCpVvRWeD/nJL2oa2OZPx/4i71G+pI/dkvohfhseD8/EKlW9FZ4P4feZMxmPXk/lSBoentreD8/EKlW9FZ4Pz8QqVb0Vng/OUdgWShYeD8Vc1W/qDJ5PzILHIPW+Xs/1CiorhmceD9YoXr10IJ4Pz8QqVb0Vng/5Vdi9h7PuD+Rbku8KG14Pww9uFlp9ng/sC7Yh01reD+lKokAHlh4Pz8QqVb0Vng/FgUGyB9/eD9luohKhoF4P2lw9csQXXg/PxCpVvRWeD9UkcR1EwmBP9DymF54Zng/fuuzcl23eT8/EKlW9FZ4P8FNpfMdWHg/BHXDRHNweD932bzX5nF4Pz8QqVb0Vng/PxCpVvRWeD9qKkRfFah6P8YdlDHLhHg/KmkWURpveD8/EKlW9FZ4P8IgZGNaWXg/B9r1fSpXeD/XzbxmVG94PynXAaTVjHg/ccaVC+PUeD/6CAwcOYB4P8EmMmsCa8g/yMNTtGZfij8XK1xywZ54Pz8QqVb0Vng/J+G3qe8Lej9bbECtvud4P78icF8lV3g/TGpXL0f3eD9FPOfYZ5l7Pz8QqVb0Vng/rrJbGmtMez82vjl5oWF4P42oHuyOpoU/C7nyTu5Aez8/EKlW9FZ4Pz8QqVb0Vng/4mfVT5tXeD8Yt2d/E2R4P4nrhh0MV3g/PxCpVvRWeD8VaUhN4Xh4Pw07AopsZXg/8nfRR3tmeD+z8/NBqGd4P40t+/I9eXg/zsyPYJGmeD8DKgY5AWJ4Pxu7IEypZ3g/2tTw+A9teD8/EKlW9FZ4P/K5eXoPNHk/6ysoRgJjeD8Gq9nfe6B4Pz8QqVb0Vng/usOLXCpwnD8/EKlW9FZ4Pz8QqVb0Vng/PxCpVvRWeD+TpsJRc4Z4Pz8QqVb0Vng/suHvQvVceD8cCM3jn1d4Pz8QqVb0Vng/HgNaeyFpeD8/EKlW9FZ4P4IfBm3fXXg/ptCbpFRleD8/EKlW9FZ4P4X+wX6aV3g/KEKVvWdYeD8uM5Bg+9B4P210j8kwX3g/PHqgS4ddeD//4pYZ13N8P8/VE6j60Xg/tR5w84pgeD+VgtdkqWJ4Pz8QqVb0Vng/PxCpVvRWeD8ysZ5I7F54Pz8QqVb0Vng/PxCpVvRWeD/QJz6/i3J4Pz8QqVb0Vng/DaVnaN1ceD/9XyBAoiV5Pz8QqVb0Vng/12UnR4i6ez/t8MGIkJd4P8/ai/z7V3g/820sUOVXeD8gtblvzmB4P9ZpXwjuWHg/PxCpVvRWeD8mRVjSVYx6Pz8QqVb0Vng/QlG7/oBieD8/EKlW9FZ4P0jscwU8Wng/BIJZa/J2eD/83hb+PV54P5pz0wEUwHg/aw+XI3tqeD8/EKlW9FZ4Pz8QqVb0Vng/aoQfMU5ZeD/GJIC1cJp4P5c17e6cYXg/PxCpVvRWeD8Ms32ITWx4Pz8QqVb0Vng/cmQYXmTCfT8BS//ZWWV4P3DEkjikn3g/F2Nh6z/jeD9F8e7OVWp4PwsWAd8dyH8/C1KBp/N7eD/Z9/vvC2p4P2iaEkFlXHg/YTrhw19yeD/8iNZOt1l4PwivTH7dZXg/lZSWobJpeD+1SOzKqrfFP+oNoZU9x4A/CKQ4RejXeD+uRfPY5ml4Pz8QqVb0Vng/AwRcH3dXeD8/EKlW9FZ4P2D1N/QrYXg/lH7uzFRpeD+8j+HlU3l4P6z0yT90eng/oNLrzl9geD+ihXT5D+OGP0b7mlpguoE/nBZvOldbeD/viqcKEWl4P1CMoiW9eng/IYEJhTvAeD9e69vNbw95P/oXy7eqXXg/PxCpVvRWeD90U4OsYmR4Pz8QqVb0Vng/q8UMXxhdeD8rTxZmKVJ6P/zzcKYg6Zk/FUdQQ7FbeD+2SR7dZHt6P6nBYquEq3g/PxCpVvRWeD/zm0Fhiid6P/zi2h1nUoQ/IDBSJP6Coj+fWpY6aFt4P+Pji4U3X3g/PlfogZuSeT/giIbI14Z4P4WiKYThX3g/PS1w2y9seD9bWCdSgGN4P/p7DHaoWHg/TkyRNqRcrj+Z5VARB1x4P9C8elT443g/PxCpVvRWeD8/EKlW9FZ4P/DS/PzzXZA//yplqPTHeD+qzodKzPx6Px5afgsPZHg/xK25mhX8lD8/EKlW9FZ4Pz8QqVb0Vng/PxCpVvRWeD+2/AY+bTV5P3L+Dn6pW3k/PxCpVvRWeD8OQk+rPKt4Pz8QqVb0Vng/gRwgaz1beD8dz7vORnF4Pz8QqVb0Vng/hPDIZxWieD8/EKlW9FZ4P5sj2am9c3g/012iEHB4eD/WYBOB0Wd4PxUREVgjbXg/qo0NXVJceD8ucgi+yld4P1GirHFPXng/BsOFDwtXeD9tdxn8Hmt4P3ptyMOrRag/svWehgDmeD9zwGE2qaR6P4Hp+JKCX3g/v3tPnA5geD9XOGEnNlx4P37XIi9yWHg/r1BfzltneD/+T/WfGlx4P0ZxlP96Zng/Ll8rJ5Acuz8/EKlW9FZ4P5zYZ94BfYA/T84eUDxceD9uZmpaOWF4P82nIIYF4YQ/PxCpVvRWeD8/EKlW9FZ4Pxl9h3VPZXg/PxCpVvRWeD9v9cQE5ml4Pz8QqVb0Vng/EcOQ/18CgD8/EKlW9FZ4Pz8QqVb0Vng/sx8bv51YeD8/Duako2d4Pz8QqVb0Vng/xLvIy2FXeD9W0/7vGnx4P407KoKHfHg/629cc29xeD8IEQ5XkGR4Pz8QqVb0Vng/PxCpVvRWeD8/7/GNA454PxbiF8cvWHg/bfBD2QqweD8/EKlW9FZ4P8Fcx0d1kXg/7AWLmfQIhD8TGxjmi294Pz8QqVb0Vng//gtAXW2Mez8uM/g0KG94Pz8QqVb0Vng/4kq7hXBAoj8WBq0LIaR4P0kNvDJGXHg/u3wVAFOgeD8/EKlW9FZ4P/bMuLB2Wng/uQv0Nj7AeD95P+TJvHB4Pz8QqVb0Vng/pCWdUgRffD8lVMcJo154Pw==\",\"dtype\":\"float64\",\"order\":\"little\",\"shape\":[302]}},\"selected\":{\"id\":\"3895\"},\"selection_policy\":{\"id\":\"3908\"}},\"id\":\"3894\",\"type\":\"ColumnDataSource\"},{\"attributes\":{\"bottom_units\":\"screen\",\"fill_alpha\":0.5,\"fill_color\":\"lightgrey\",\"left_units\":\"screen\",\"level\":\"overlay\",\"line_alpha\":1.0,\"line_color\":\"black\",\"line_dash\":[4,4],\"line_width\":2,\"right_units\":\"screen\",\"top_units\":\"screen\"},\"id\":\"3882\",\"type\":\"BoxAnnotation\"}],\"root_ids\":[\"3851\"]},\"title\":\"Bokeh Application\",\"version\":\"2.1.1\"}};\n",
       "  var render_items = [{\"docid\":\"2c92afbb-3f46-46ca-8277-c53976711002\",\"root_ids\":[\"3851\"],\"roots\":{\"3851\":\"63ba227a-94ca-4d7d-af59-2f27d8613478\"}}];\n",
       "  root.Bokeh.embed.embed_items_notebook(docs_json, render_items);\n",
       "  }\n",
       "if (root.Bokeh !== undefined) {\n",
       "    embed_document(root);\n",
       "  } else {\n",
       "    var attempts = 0;\n",
       "    var timer = setInterval(function(root) {\n",
       "      if (root.Bokeh !== undefined) {\n",
       "        clearInterval(timer);\n",
       "        embed_document(root);\n",
       "      } else if (document.readyState == \"complete\") {\n",
       "        attempts++;\n",
       "        if (attempts > 100) {\n",
       "          clearInterval(timer);\n",
       "          console.log(\"Bokeh: ERROR: Unable to run BokehJS code because BokehJS library is missing\");\n",
       "        }\n",
       "      }\n",
       "    }, 10, root)\n",
       "  }\n",
       "})(window);</script>"
      ],
      "text/plain": [
       ":NdOverlay   [Class]\n",
       "   :Scatter   [TotalCoinsMined]   (TotalCoinSupply,CoinName)"
      ]
     },
     "execution_count": 242,
     "metadata": {
      "application/vnd.holoviews_exec.v0+json": {
       "id": "3851"
      }
     },
     "output_type": "execute_result"
    }
   ],
   "source": [
    "# Plot the scatter with x=\"TotalCoinsMined\" and y=\"TotalCoinSupply\"\n",
    "coin_df.hvplot.scatter(x=\"TotalCoinsMined\",y=\"TotalCoinSupply\",by=\"Class\",hover_cols=[\"CoinName\"],title=\"Total Coin Supply vs Total Coins Mined Scatter Plot\")"
   ]
  },
  {
   "cell_type": "code",
   "execution_count": null,
   "metadata": {},
   "outputs": [],
   "source": []
  }
 ],
 "metadata": {
  "file_extension": ".py",
  "kernelspec": {
   "display_name": "Python [conda env:pyvizenv]",
   "language": "python",
   "name": "conda-env-pyvizenv-py"
  },
  "language_info": {
   "codemirror_mode": {
    "name": "ipython",
    "version": 3
   },
   "file_extension": ".py",
   "mimetype": "text/x-python",
   "name": "python",
   "nbconvert_exporter": "python",
   "pygments_lexer": "ipython3",
   "version": "3.7.7"
  },
  "mimetype": "text/x-python",
  "name": "python",
  "npconvert_exporter": "python",
  "pygments_lexer": "ipython3",
  "version": 3
 },
 "nbformat": 4,
 "nbformat_minor": 4
}
