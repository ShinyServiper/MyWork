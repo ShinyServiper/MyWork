{
 "cells": [
  {
   "cell_type": "markdown",
   "metadata": {},
   "source": [
    "<h1> PyRamen </h1> <h3> <em>Written by: Lee R. Redfearn</em></h3>"
   ]
  },
  {
   "cell_type": "code",
   "execution_count": 2,
   "metadata": {},
   "outputs": [],
   "source": [
    "\"\"\"PyRamen.\n",
    "This script will read in menu and sales data to analyze\n",
    "ramen business data. Afterwards, the results are stored in \n",
    "a .txt file.\n",
    "\"\"\"\n",
    "# Necessary Imports #\n",
    "import sys              #used for changing standard output to specific file\n",
    "from pathlib import Path\n",
    "import csv               "
   ]
  },
  {
   "cell_type": "markdown",
   "metadata": {},
   "source": [
    "#### 1. Necessary variables for analysis are predefined. ####"
   ]
  },
  {
   "cell_type": "code",
   "execution_count": 3,
   "metadata": {},
   "outputs": [],
   "source": [
    "########                             ##########\n",
    "########   PREDEFINED VARIABLES      ##########\n",
    "\n",
    "menu_path=Path(\"menu_data.csv\")  #defining path to menu data\n",
    "sales_path=Path(\"sales_data.csv\") #defining path to sales data\n",
    "menu=[] #empy list for menu items\n",
    "sales=[] #empty list for sales items\n",
    "report={} #empty dictionary for data"
   ]
  },
  {
   "cell_type": "markdown",
   "metadata": {},
   "source": [
    "#### 2. Read in sales and menu data and structure dictionary. ####"
   ]
  },
  {
   "cell_type": "code",
   "execution_count": 4,
   "metadata": {},
   "outputs": [],
   "source": [
    "#######                                                                ##############\n",
    "####### READING IN SALES DATA, MENU DATA AND BUILDING THE DICTIONARY  ##############\n",
    "\n",
    "#Opens and Initializes reading of menu data\n",
    "with open(menu_path,'r') as menu_file:       \n",
    "    menu_reader=csv.reader(menu_file,delimiter=\",\")\n",
    "    head1=next(menu_reader)   #extracts the header from csv\n",
    "    for line in menu_reader:\n",
    "        menu.append(line)  #appending each item to menu list\n",
    "\n",
    "        \n",
    "#Opens and Initializes reading of sales data\n",
    "with open(sales_path,'r') as sales_file:        #open and initialize read of sales data\n",
    "    sales_reader=csv.reader(sales_file,delimiter=\",\")\n",
    "    head2=next(sales_reader)  #extracts the header from csv\n",
    "    for line in sales_reader:\n",
    "        sales.append(line) #appending each item to sales list\n",
    "        \n",
    "        \n",
    "#Adding Sales Items to the Dictionary\n",
    "for sales_item in sales:\n",
    "    if(sales_item[4] not in report):\n",
    "        report[sales_item[4]]={\"01-count\": 0,\"02-revenue\": 0,\"03-cogs\": 0,\"04-profit\": 0,}"
   ]
  },
  {
   "cell_type": "markdown",
   "metadata": {},
   "source": [
    "<h4>3. Information Extraction.</h4> <p>Idea: For each item in menu(outer loop), go through each entry of sales(inner loop) and extract information</p>"
   ]
  },
  {
   "cell_type": "code",
   "execution_count": 5,
   "metadata": {},
   "outputs": [],
   "source": [
    "### Looping Through the Menu  \n",
    "# Idea: for each item in menu(outer loop), go through each entry of sales(inner loop)\n",
    "# and extract information\n",
    "\n",
    "for menu_item in menu: #outer loop for menu items\n",
    "    item=menu_item[0]\n",
    "    price=float(menu_item[3])\n",
    "    cost=float(menu_item[4])\n",
    "    for sale in sales:  #inner loop for sales items\n",
    "        sales_item=sale[4]\n",
    "        if (item==sales_item):\n",
    "            quantity=float(sale[3])     #extracting the quantity\n",
    "            report[sales_item][\"01-count\"] += quantity\n",
    "            report[sales_item][\"02-revenue\"] += price * quantity\n",
    "            report[sales_item][\"03-cogs\"] += cost * quantity\n",
    "            report[sales_item][\"04-profit\"] += (price-cost) * quantity"
   ]
  },
  {
   "cell_type": "markdown",
   "metadata": {},
   "source": [
    "#### 4. Display and Restore the Results. ####"
   ]
  },
  {
   "cell_type": "code",
   "execution_count": 6,
   "metadata": {},
   "outputs": [
    {
     "name": "stdout",
     "output_type": "stream",
     "text": [
      "{'spicy miso ramen': {'01-count': 9238.0, '02-revenue': 110856.0, '03-cogs': 46190.0, '04-profit': 64666.0}, 'tori paitan ramen': {'01-count': 9156.0, '02-revenue': 119028.0, '03-cogs': 54936.0, '04-profit': 64092.0}, 'truffle butter ramen': {'01-count': 8982.0, '02-revenue': 125748.0, '03-cogs': 62874.0, '04-profit': 62874.0}, 'tonkotsu ramen': {'01-count': 9288.0, '02-revenue': 120744.0, '03-cogs': 55728.0, '04-profit': 65016.0}, 'vegetarian spicy miso': {'01-count': 9216.0, '02-revenue': 110592.0, '03-cogs': 46080.0, '04-profit': 64512.0}, 'shio ramen': {'01-count': 9180.0, '02-revenue': 100980.0, '03-cogs': 45900.0, '04-profit': 55080.0}, 'miso crab ramen': {'01-count': 8890.0, '02-revenue': 106680.0, '03-cogs': 53340.0, '04-profit': 53340.0}, 'nagomi shoyu': {'01-count': 9132.0, '02-revenue': 100452.0, '03-cogs': 45660.0, '04-profit': 54792.0}, 'soft-shell miso crab ramen': {'01-count': 9130.0, '02-revenue': 127820.0, '03-cogs': 63910.0, '04-profit': 63910.0}, 'burnt garlic tonkotsu ramen': {'01-count': 9070.0, '02-revenue': 126980.0, '03-cogs': 54420.0, '04-profit': 72560.0}, 'vegetarian curry + king trumpet mushroom ramen': {'01-count': 8824.0, '02-revenue': 114712.0, '03-cogs': 61768.0, '04-profit': 52944.0}}\n"
     ]
    }
   ],
   "source": [
    "#Printing the Dictionary\n",
    "print(report)\n",
    "\n",
    "#Outputting the Results into a txt File\n",
    "PyRamenoutput_path=Path('PyRamenoutput.txt') #creating the path for the output file\n",
    "original_stdout = sys.stdout                  #storing the original standard output setting\n",
    "with open(PyRamenoutput_path, 'w') as file:  #opening file for writing\n",
    "    sys.stdout = file                         #Changing the standard output to created file\n",
    "    print(report)                                #printing to store dictionary in a file\n",
    "    sys.stdout = original_stdout  #Returns standard output to its original setting"
   ]
  },
  {
   "cell_type": "code",
   "execution_count": null,
   "metadata": {},
   "outputs": [],
   "source": []
  }
 ],
 "metadata": {
  "kernelspec": {
   "display_name": "Python 3",
   "language": "python",
   "name": "python3"
  },
  "language_info": {
   "codemirror_mode": {
    "name": "ipython",
    "version": 3
   },
   "file_extension": ".py",
   "mimetype": "text/x-python",
   "name": "python",
   "nbconvert_exporter": "python",
   "pygments_lexer": "ipython3",
   "version": "3.8.3"
  }
 },
 "nbformat": 4,
 "nbformat_minor": 4
}
