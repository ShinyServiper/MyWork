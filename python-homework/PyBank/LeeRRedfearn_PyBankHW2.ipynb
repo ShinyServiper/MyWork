{
 "cells": [
  {
   "cell_type": "markdown",
   "metadata": {},
   "source": [
    "<h1>PyBank Script</h1>  <h3><em>Written by: Lee R. Redfearn</em></h3>"
   ]
  },
  {
   "cell_type": "code",
   "execution_count": 32,
   "metadata": {},
   "outputs": [],
   "source": [
    "\"\"\"This script will read in a csv file of profits and\n",
    "losses throughout the years, and perform a basic final\n",
    "analysis. Afterwards, results are stored in a .txt file\n",
    "\"\"\"\n",
    "# Necessary Imports #\n",
    "import sys              #used for changing standard output to specific file\n",
    "from pathlib import Path\n",
    "import csv               \n",
    "open_path=Path(\"budget_data.csv\")  #defining the path where the data is"
   ]
  },
  {
   "cell_type": "markdown",
   "metadata": {},
   "source": [
    "#### 1. Necessary variables for analysis are predefined. ####"
   ]
  },
  {
   "cell_type": "code",
   "execution_count": 33,
   "metadata": {},
   "outputs": [],
   "source": [
    "########                             ##########\n",
    "########   PREDEFINED VARIABLES      ##########\n",
    "\n",
    "month_count=0                #variable to count total number of months\n",
    "total=0.0                    #variable to count total profit and loss\n",
    "max_profit=0.0               #identifying the max profit value\n",
    "greatest_profit_inc=0.0      #identifyig the max profit index\n",
    "\n",
    "min_profit=0.0               #identifying the min profit value\n",
    "greatest_profit_dec=0.0      #identifying the min profit index\n",
    "\n",
    "\n",
    "intial_obs=0.0  #storing the initial observation\n",
    "final_obs=0.0   #storing the final observation\n",
    "diff=0.0        #storing differnece between final and first observation"
   ]
  },
  {
   "cell_type": "markdown",
   "metadata": {},
   "source": [
    "#### 2. The .csv file is open, read, and analyzed. ####"
   ]
  },
  {
   "cell_type": "code",
   "execution_count": 34,
   "metadata": {},
   "outputs": [],
   "source": [
    "#########                                                  ###########\n",
    "#########    READING THE CSV FILE AND ANALYZING DATA       ###########\n",
    "\n",
    "with open(open_path,'r') as file:\n",
    "    file_reader=csv.reader(file,delimiter=',')    #initiate opening of file\n",
    "    header=next(file_reader)              #extracts the header\n",
    "    for line in file_reader: \n",
    "        total+=round(float(line[1]),2)    #update of total profit/loss\n",
    "                                    \n",
    "        if(month_count==0):\n",
    "            last_obs=float(line[1])\n",
    "            first_obs=float(line[1])\n",
    "        else:\n",
    "            diff+=float(line[1])-last_obs\n",
    "        last_obs=float(line[1])              #updating the initial profit\n",
    "        month_count+=1                        #updating the month count\n",
    "                                        # Condition for finding max and min\n",
    "        if(float(line[1]) > max_profit):\n",
    "            max_profit=float(line[1])\n",
    "            max_month=line[0]\n",
    "            greatest_profit_inc=line[1]\n",
    "        elif(float(line[1]) < min_profit):\n",
    "            min_profit=int(line[1])\n",
    "            min_month=line[0]\n",
    "            greatest_profit_dec=line[1]"
   ]
  },
  {
   "cell_type": "markdown",
   "metadata": {},
   "source": [
    "#### 3. Results are formatted displayed. ####"
   ]
  },
  {
   "cell_type": "code",
   "execution_count": 35,
   "metadata": {},
   "outputs": [
    {
     "name": "stdout",
     "output_type": "stream",
     "text": [
      "======================================================\n",
      "                  Financial Analysis   \n",
      "======================================================\n",
      "\n",
      "Total Months: 86\n",
      "------------------------------------------------------\n",
      "\n",
      "Total: $38382578.0\n",
      "------------------------------------------------------\n",
      "\n",
      "Average Change: $-2288.2\n",
      "------------------------------------------------------\n",
      "\n",
      "Greatest Increase in Profits: Feb-2012 ($1170593)\n",
      "------------------------------------------------------\n",
      "\n",
      "Greatest Decrease in Profits: Sep-2013 ($-1196225)\n",
      "------------------------------------------------------\n",
      "\n"
     ]
    }
   ],
   "source": [
    "########                                         #############\n",
    "########     CONSTRUCTING THE PRINTING FORMAT    #############\n",
    "\n",
    "print(\"======================================================\")\n",
    "print(\"                  Financial Analysis   \")\n",
    "print(\"======================================================\\n\")\n",
    "print(f\"Total Months: {month_count}\")\n",
    "print(\"------------------------------------------------------\\n\")\n",
    "print(f\"Total: ${total}\")\n",
    "print(\"------------------------------------------------------\\n\")\n",
    "print(f\"Average Change: ${round((last_obs-first_obs)/month_count,2)}\")\n",
    "print(\"------------------------------------------------------\\n\")\n",
    "print(f\"Greatest Increase in Profits: {max_month} (${greatest_profit_inc})\")\n",
    "print(\"------------------------------------------------------\\n\")\n",
    "print(f\"Greatest Decrease in Profits: {min_month} (${greatest_profit_dec})\")\n",
    "print(\"------------------------------------------------------\\n\")"
   ]
  },
  {
   "cell_type": "markdown",
   "metadata": {},
   "source": [
    "#### 4. File is formatted and written to a .txt file. ####"
   ]
  },
  {
   "cell_type": "code",
   "execution_count": 36,
   "metadata": {},
   "outputs": [],
   "source": [
    "#Outputting the Results into a txt File\n",
    "\n",
    "PyBankoutput_path=Path('PyBankoutput.txt') #creating the path for the output file\n",
    "original_stdout = sys.stdout     #storing the original standard output setting\n",
    "\n",
    "with open(PyBankoutput_path, 'w') as file:  #opening file for writing\n",
    "    sys.stdout = file   #Changing the standard output to created file\n",
    "\n",
    "    print(f\"======================================================\")\n",
    "    print(f\"                  Financial Analysis   \")\n",
    "    print(f\"======================================================\\n\")\n",
    "    print(f\"Total Months: {month_count}\")\n",
    "    print(f\"------------------------------------------------------\\n\")\n",
    "    print(f\"Total: ${total}\")\n",
    "    print(\"------------------------------------------------------\\n\")\n",
    "    print(f\"Average Change: ${round((last_obs-first_obs)/month_count,2)}\")\n",
    "    print(\"------------------------------------------------------\\n\")\n",
    "    print(f\"Greatest Increase in Profits: {max_month} (${greatest_profit_inc})\")\n",
    "    print(\"------------------------------------------------------\\n\")\n",
    "    print(f\"Greatest Decrease in Profits: {min_month} (${greatest_profit_dec})\")\n",
    "    print(\"------------------------------------------------------\\n\")\n",
    "    sys.stdout = original_stdout  #Returns standard output to its original setting"
   ]
  },
  {
   "cell_type": "code",
   "execution_count": null,
   "metadata": {},
   "outputs": [],
   "source": []
  }
 ],
 "metadata": {
  "kernelspec": {
   "display_name": "Python 3",
   "language": "python",
   "name": "python3"
  },
  "language_info": {
   "codemirror_mode": {
    "name": "ipython",
    "version": 3
   },
   "file_extension": ".py",
   "mimetype": "text/x-python",
   "name": "python",
   "nbconvert_exporter": "python",
   "pygments_lexer": "ipython3",
   "version": "3.8.3"
  }
 },
 "nbformat": 4,
 "nbformat_minor": 4
}
